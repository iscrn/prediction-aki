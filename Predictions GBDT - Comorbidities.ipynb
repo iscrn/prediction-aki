{
 "cells": [
  {
   "cell_type": "code",
   "execution_count": 2,
   "id": "4233c5fc",
   "metadata": {},
   "outputs": [],
   "source": [
    "import numpy as np  # for handling multi-dimensional array operation\n",
    "import pandas as pd  # for reading data from csv \n",
    "import statsmodels.api as sm  # for finding the p-value\n",
    "from sklearn.preprocessing import MinMaxScaler  # for normalization\n",
    "from sklearn.model_selection import train_test_split as tts\n",
    "from sklearn.metrics import accuracy_score \n",
    "from sklearn.metrics import confusion_matrix\n",
    "from sklearn.metrics import roc_curve\n",
    "from sklearn.metrics import f1_score\n",
    "from sklearn.metrics import roc_auc_score\n",
    "from sklearn.metrics import precision_score\n",
    "from sklearn.metrics import recall_score\n",
    "from sklearn.metrics import classification_report\n",
    "from sklearn.metrics import precision_recall_curve\n",
    "from sklearn.utils import shuffle\n",
    "from sklearn.ensemble import GradientBoostingClassifier\n",
    "from numpy import mean\n",
    "from sklearn.model_selection import GridSearchCV\n",
    "from imblearn.pipeline import Pipeline\n",
    "from imblearn.pipeline import make_pipeline\n",
    "from imblearn.combine import SMOTETomek\n",
    "from imblearn.under_sampling import TomekLinks\n",
    "from sklearn.model_selection import cross_val_score\n",
    "from sklearn.model_selection import cross_validate\n",
    "from sklearn.model_selection import cross_val_predict\n",
    "from sklearn.metrics import plot_confusion_matrix\n",
    "from sklearn.model_selection import RepeatedStratifiedKFold"
   ]
  },
  {
   "cell_type": "markdown",
   "id": "4717c9b5",
   "metadata": {},
   "source": [
    "## COMORBIDITIES DATA"
   ]
  },
  {
   "cell_type": "code",
   "execution_count": 3,
   "id": "9f54e400",
   "metadata": {},
   "outputs": [],
   "source": [
    "com24 = pd.read_csv('./com24.csv')\n",
    "\n",
    "#EXTRACT FEATURES AND LABELS\n",
    "Y24 = com24['aki_flag'] \n",
    "X24 = com24.iloc[:,2:] \n",
    "\n",
    "#SPLIT DATASET INTO TRAINING AND TESTING SETS\n",
    "X_train24, X_test24, y_train24, y_test24 = tts(X24, Y24, test_size=0.3, random_state=42)"
   ]
  },
  {
   "cell_type": "code",
   "execution_count": 4,
   "id": "a58a127a",
   "metadata": {},
   "outputs": [],
   "source": [
    "com48 = pd.read_csv('./com48.csv')\n",
    "\n",
    "Y48 = com48['aki_flag'] #all rows of 'aki_flag' as LABELS\n",
    "X48 = com48.iloc[:,2:]  #features\n",
    "\n",
    "#SPLIT DATASET INTO TRAINING AND TESTING SETS\n",
    "X_train48, X_test48, y_train48, y_test48 = tts(X48, Y48, test_size=0.3, random_state=42)"
   ]
  },
  {
   "cell_type": "code",
   "execution_count": 5,
   "id": "89495dfb",
   "metadata": {},
   "outputs": [],
   "source": [
    "#APPLY THE SMOTE TOMEK-LINKS TECHNIQUE TO COPE WITH CLASS IMBALANCE PROBLEM \n",
    "resample = SMOTETomek(tomek=TomekLinks(sampling_strategy='majority'))\n",
    "\n",
    "#DEFINE THE PARAMETERS TO BE TESTED IN THE GRID SEARCH\n",
    "params = [\n",
    "  {'learning_rate':[0.1,0.05,0.01,1,0.5,0.25, 0.75], 'max_depth' :[1,2,3,4,5], 'n_estimators':[100,250,500]}\n",
    "] "
   ]
  },
  {
   "cell_type": "code",
   "execution_count": 6,
   "id": "8ed9994c",
   "metadata": {},
   "outputs": [],
   "source": [
    "gs24 = GridSearchCV(GradientBoostingClassifier(), params, refit = True, verbose = 3)\n",
    "p24 = Pipeline(steps=[('r', resample), ('gs', gs24)])\n",
    "\n",
    "gs48 = GridSearchCV(GradientBoostingClassifier(), params, refit = True, verbose = 3)\n",
    "p48 = Pipeline(steps=[('r', resample), ('gs', gs48)])"
   ]
  },
  {
   "cell_type": "markdown",
   "id": "a8933df6",
   "metadata": {},
   "source": [
    "Now fit the grid search and extract the best parameters/estimator to be used fro the prediction "
   ]
  },
  {
   "cell_type": "code",
   "execution_count": 7,
   "id": "b7f0f15a",
   "metadata": {},
   "outputs": [
    {
     "name": "stdout",
     "output_type": "stream",
     "text": [
      "Fitting 5 folds for each of 105 candidates, totalling 525 fits\n",
      "[CV 1/5] END learning_rate=0.1, max_depth=1, n_estimators=100;, score=0.709 total time=   2.9s\n",
      "[CV 2/5] END learning_rate=0.1, max_depth=1, n_estimators=100;, score=0.706 total time=   2.7s\n",
      "[CV 3/5] END learning_rate=0.1, max_depth=1, n_estimators=100;, score=0.709 total time=   3.3s\n",
      "[CV 4/5] END learning_rate=0.1, max_depth=1, n_estimators=100;, score=0.704 total time=   4.6s\n",
      "[CV 5/5] END learning_rate=0.1, max_depth=1, n_estimators=100;, score=0.706 total time=   4.7s\n",
      "[CV 1/5] END learning_rate=0.1, max_depth=1, n_estimators=250;, score=0.708 total time=   9.3s\n",
      "[CV 2/5] END learning_rate=0.1, max_depth=1, n_estimators=250;, score=0.706 total time=   7.5s\n",
      "[CV 3/5] END learning_rate=0.1, max_depth=1, n_estimators=250;, score=0.710 total time=   8.8s\n",
      "[CV 4/5] END learning_rate=0.1, max_depth=1, n_estimators=250;, score=0.706 total time=   8.3s\n",
      "[CV 5/5] END learning_rate=0.1, max_depth=1, n_estimators=250;, score=0.706 total time=   7.1s\n",
      "[CV 1/5] END learning_rate=0.1, max_depth=1, n_estimators=500;, score=0.708 total time=  19.2s\n",
      "[CV 2/5] END learning_rate=0.1, max_depth=1, n_estimators=500;, score=0.706 total time=  20.9s\n",
      "[CV 3/5] END learning_rate=0.1, max_depth=1, n_estimators=500;, score=0.710 total time=  18.4s\n",
      "[CV 4/5] END learning_rate=0.1, max_depth=1, n_estimators=500;, score=0.705 total time=  19.1s\n",
      "[CV 5/5] END learning_rate=0.1, max_depth=1, n_estimators=500;, score=0.706 total time=  14.0s\n",
      "[CV 1/5] END learning_rate=0.1, max_depth=2, n_estimators=100;, score=0.704 total time=   3.3s\n",
      "[CV 2/5] END learning_rate=0.1, max_depth=2, n_estimators=100;, score=0.706 total time=   3.5s\n",
      "[CV 3/5] END learning_rate=0.1, max_depth=2, n_estimators=100;, score=0.710 total time=   4.1s\n",
      "[CV 4/5] END learning_rate=0.1, max_depth=2, n_estimators=100;, score=0.704 total time=   5.0s\n",
      "[CV 5/5] END learning_rate=0.1, max_depth=2, n_estimators=100;, score=0.705 total time=   5.3s\n",
      "[CV 1/5] END learning_rate=0.1, max_depth=2, n_estimators=250;, score=0.703 total time=   8.7s\n",
      "[CV 2/5] END learning_rate=0.1, max_depth=2, n_estimators=250;, score=0.706 total time=   8.8s\n",
      "[CV 3/5] END learning_rate=0.1, max_depth=2, n_estimators=250;, score=0.710 total time=   9.7s\n",
      "[CV 4/5] END learning_rate=0.1, max_depth=2, n_estimators=250;, score=0.703 total time=  10.6s\n",
      "[CV 5/5] END learning_rate=0.1, max_depth=2, n_estimators=250;, score=0.705 total time=  16.3s\n",
      "[CV 1/5] END learning_rate=0.1, max_depth=2, n_estimators=500;, score=0.703 total time=  32.5s\n",
      "[CV 2/5] END learning_rate=0.1, max_depth=2, n_estimators=500;, score=0.707 total time=  23.5s\n",
      "[CV 3/5] END learning_rate=0.1, max_depth=2, n_estimators=500;, score=0.710 total time=  18.8s\n",
      "[CV 4/5] END learning_rate=0.1, max_depth=2, n_estimators=500;, score=0.703 total time=  26.6s\n",
      "[CV 5/5] END learning_rate=0.1, max_depth=2, n_estimators=500;, score=0.705 total time=  25.1s\n",
      "[CV 1/5] END learning_rate=0.1, max_depth=3, n_estimators=100;, score=0.703 total time=   6.9s\n",
      "[CV 2/5] END learning_rate=0.1, max_depth=3, n_estimators=100;, score=0.704 total time=   6.9s\n",
      "[CV 3/5] END learning_rate=0.1, max_depth=3, n_estimators=100;, score=0.708 total time=   6.7s\n",
      "[CV 4/5] END learning_rate=0.1, max_depth=3, n_estimators=100;, score=0.704 total time=   7.1s\n",
      "[CV 5/5] END learning_rate=0.1, max_depth=3, n_estimators=100;, score=0.705 total time=   7.0s\n",
      "[CV 1/5] END learning_rate=0.1, max_depth=3, n_estimators=250;, score=0.701 total time=  18.0s\n",
      "[CV 2/5] END learning_rate=0.1, max_depth=3, n_estimators=250;, score=0.705 total time=  17.2s\n",
      "[CV 3/5] END learning_rate=0.1, max_depth=3, n_estimators=250;, score=0.708 total time=  16.8s\n",
      "[CV 4/5] END learning_rate=0.1, max_depth=3, n_estimators=250;, score=0.705 total time=  16.9s\n",
      "[CV 5/5] END learning_rate=0.1, max_depth=3, n_estimators=250;, score=0.705 total time=  17.1s\n",
      "[CV 1/5] END learning_rate=0.1, max_depth=3, n_estimators=500;, score=0.702 total time=  49.5s\n",
      "[CV 2/5] END learning_rate=0.1, max_depth=3, n_estimators=500;, score=0.705 total time=  41.9s\n",
      "[CV 3/5] END learning_rate=0.1, max_depth=3, n_estimators=500;, score=0.707 total time=  35.8s\n",
      "[CV 4/5] END learning_rate=0.1, max_depth=3, n_estimators=500;, score=0.700 total time=  32.9s\n",
      "[CV 5/5] END learning_rate=0.1, max_depth=3, n_estimators=500;, score=0.705 total time=  31.7s\n",
      "[CV 1/5] END learning_rate=0.1, max_depth=4, n_estimators=100;, score=0.703 total time=   8.1s\n",
      "[CV 2/5] END learning_rate=0.1, max_depth=4, n_estimators=100;, score=0.706 total time=   7.9s\n",
      "[CV 3/5] END learning_rate=0.1, max_depth=4, n_estimators=100;, score=0.708 total time=   7.6s\n",
      "[CV 4/5] END learning_rate=0.1, max_depth=4, n_estimators=100;, score=0.699 total time=   7.8s\n",
      "[CV 5/5] END learning_rate=0.1, max_depth=4, n_estimators=100;, score=0.704 total time=   7.5s\n",
      "[CV 1/5] END learning_rate=0.1, max_depth=4, n_estimators=250;, score=0.703 total time=  19.2s\n",
      "[CV 2/5] END learning_rate=0.1, max_depth=4, n_estimators=250;, score=0.704 total time=  20.0s\n",
      "[CV 3/5] END learning_rate=0.1, max_depth=4, n_estimators=250;, score=0.709 total time=  20.5s\n",
      "[CV 4/5] END learning_rate=0.1, max_depth=4, n_estimators=250;, score=0.700 total time=  20.8s\n",
      "[CV 5/5] END learning_rate=0.1, max_depth=4, n_estimators=250;, score=0.705 total time=  19.0s\n",
      "[CV 1/5] END learning_rate=0.1, max_depth=4, n_estimators=500;, score=0.702 total time=  47.7s\n",
      "[CV 2/5] END learning_rate=0.1, max_depth=4, n_estimators=500;, score=0.703 total time=  46.4s\n",
      "[CV 3/5] END learning_rate=0.1, max_depth=4, n_estimators=500;, score=0.710 total time=  37.6s\n",
      "[CV 4/5] END learning_rate=0.1, max_depth=4, n_estimators=500;, score=0.701 total time=  46.5s\n",
      "[CV 5/5] END learning_rate=0.1, max_depth=4, n_estimators=500;, score=0.705 total time=  35.8s\n",
      "[CV 1/5] END learning_rate=0.1, max_depth=5, n_estimators=100;, score=0.704 total time=  10.3s\n",
      "[CV 2/5] END learning_rate=0.1, max_depth=5, n_estimators=100;, score=0.704 total time=   8.2s\n",
      "[CV 3/5] END learning_rate=0.1, max_depth=5, n_estimators=100;, score=0.711 total time=   8.3s\n",
      "[CV 4/5] END learning_rate=0.1, max_depth=5, n_estimators=100;, score=0.700 total time=   8.2s\n",
      "[CV 5/5] END learning_rate=0.1, max_depth=5, n_estimators=100;, score=0.705 total time=   8.2s\n",
      "[CV 1/5] END learning_rate=0.1, max_depth=5, n_estimators=250;, score=0.701 total time=  20.3s\n",
      "[CV 2/5] END learning_rate=0.1, max_depth=5, n_estimators=250;, score=0.703 total time=  20.8s\n",
      "[CV 3/5] END learning_rate=0.1, max_depth=5, n_estimators=250;, score=0.711 total time=  20.4s\n",
      "[CV 4/5] END learning_rate=0.1, max_depth=5, n_estimators=250;, score=0.698 total time=  20.2s\n",
      "[CV 5/5] END learning_rate=0.1, max_depth=5, n_estimators=250;, score=0.706 total time=  20.4s\n",
      "[CV 1/5] END learning_rate=0.1, max_depth=5, n_estimators=500;, score=0.700 total time=  41.0s\n",
      "[CV 2/5] END learning_rate=0.1, max_depth=5, n_estimators=500;, score=0.703 total time=  43.0s\n",
      "[CV 3/5] END learning_rate=0.1, max_depth=5, n_estimators=500;, score=0.712 total time=  40.6s\n",
      "[CV 4/5] END learning_rate=0.1, max_depth=5, n_estimators=500;, score=0.697 total time=  40.2s\n",
      "[CV 5/5] END learning_rate=0.1, max_depth=5, n_estimators=500;, score=0.706 total time=  47.0s\n",
      "[CV 1/5] END learning_rate=0.05, max_depth=1, n_estimators=100;, score=0.708 total time=   4.3s\n",
      "[CV 2/5] END learning_rate=0.05, max_depth=1, n_estimators=100;, score=0.706 total time=   4.5s\n",
      "[CV 3/5] END learning_rate=0.05, max_depth=1, n_estimators=100;, score=0.706 total time=   4.2s\n",
      "[CV 4/5] END learning_rate=0.05, max_depth=1, n_estimators=100;, score=0.705 total time=   4.0s\n",
      "[CV 5/5] END learning_rate=0.05, max_depth=1, n_estimators=100;, score=0.706 total time=   3.9s\n",
      "[CV 1/5] END learning_rate=0.05, max_depth=1, n_estimators=250;, score=0.709 total time=  10.8s\n",
      "[CV 2/5] END learning_rate=0.05, max_depth=1, n_estimators=250;, score=0.706 total time=  10.1s\n",
      "[CV 3/5] END learning_rate=0.05, max_depth=1, n_estimators=250;, score=0.710 total time=  10.3s\n",
      "[CV 4/5] END learning_rate=0.05, max_depth=1, n_estimators=250;, score=0.704 total time=  10.4s\n",
      "[CV 5/5] END learning_rate=0.05, max_depth=1, n_estimators=250;, score=0.706 total time=  10.5s\n",
      "[CV 1/5] END learning_rate=0.05, max_depth=1, n_estimators=500;, score=0.708 total time=  22.8s\n"
     ]
    },
    {
     "name": "stdout",
     "output_type": "stream",
     "text": [
      "[CV 2/5] END learning_rate=0.05, max_depth=1, n_estimators=500;, score=0.706 total time=  21.4s\n",
      "[CV 3/5] END learning_rate=0.05, max_depth=1, n_estimators=500;, score=0.710 total time=  20.3s\n",
      "[CV 4/5] END learning_rate=0.05, max_depth=1, n_estimators=500;, score=0.706 total time=  19.9s\n",
      "[CV 5/5] END learning_rate=0.05, max_depth=1, n_estimators=500;, score=0.706 total time=  19.8s\n",
      "[CV 1/5] END learning_rate=0.05, max_depth=2, n_estimators=100;, score=0.706 total time=   5.0s\n",
      "[CV 2/5] END learning_rate=0.05, max_depth=2, n_estimators=100;, score=0.706 total time=   5.1s\n",
      "[CV 3/5] END learning_rate=0.05, max_depth=2, n_estimators=100;, score=0.709 total time=   5.2s\n",
      "[CV 4/5] END learning_rate=0.05, max_depth=2, n_estimators=100;, score=0.705 total time=   5.1s\n",
      "[CV 5/5] END learning_rate=0.05, max_depth=2, n_estimators=100;, score=0.706 total time=   5.4s\n",
      "[CV 1/5] END learning_rate=0.05, max_depth=2, n_estimators=250;, score=0.704 total time=  13.0s\n",
      "[CV 2/5] END learning_rate=0.05, max_depth=2, n_estimators=250;, score=0.706 total time=  13.2s\n",
      "[CV 3/5] END learning_rate=0.05, max_depth=2, n_estimators=250;, score=0.709 total time=  13.2s\n",
      "[CV 4/5] END learning_rate=0.05, max_depth=2, n_estimators=250;, score=0.702 total time=  12.8s\n",
      "[CV 5/5] END learning_rate=0.05, max_depth=2, n_estimators=250;, score=0.704 total time=  12.7s\n",
      "[CV 1/5] END learning_rate=0.05, max_depth=2, n_estimators=500;, score=0.703 total time=  25.9s\n",
      "[CV 2/5] END learning_rate=0.05, max_depth=2, n_estimators=500;, score=0.706 total time=  26.5s\n",
      "[CV 3/5] END learning_rate=0.05, max_depth=2, n_estimators=500;, score=0.710 total time=  27.0s\n",
      "[CV 4/5] END learning_rate=0.05, max_depth=2, n_estimators=500;, score=0.702 total time=  27.0s\n",
      "[CV 5/5] END learning_rate=0.05, max_depth=2, n_estimators=500;, score=0.705 total time=  25.9s\n",
      "[CV 1/5] END learning_rate=0.05, max_depth=3, n_estimators=100;, score=0.705 total time=   6.3s\n",
      "[CV 2/5] END learning_rate=0.05, max_depth=3, n_estimators=100;, score=0.706 total time=   6.3s\n",
      "[CV 3/5] END learning_rate=0.05, max_depth=3, n_estimators=100;, score=0.708 total time=   6.3s\n",
      "[CV 4/5] END learning_rate=0.05, max_depth=3, n_estimators=100;, score=0.702 total time=   6.3s\n",
      "[CV 5/5] END learning_rate=0.05, max_depth=3, n_estimators=100;, score=0.706 total time=   6.7s\n",
      "[CV 1/5] END learning_rate=0.05, max_depth=3, n_estimators=250;, score=0.702 total time=  16.0s\n",
      "[CV 2/5] END learning_rate=0.05, max_depth=3, n_estimators=250;, score=0.704 total time=  15.9s\n",
      "[CV 3/5] END learning_rate=0.05, max_depth=3, n_estimators=250;, score=0.707 total time=  15.8s\n",
      "[CV 4/5] END learning_rate=0.05, max_depth=3, n_estimators=250;, score=0.704 total time=  16.5s\n",
      "[CV 5/5] END learning_rate=0.05, max_depth=3, n_estimators=250;, score=0.703 total time=  17.7s\n",
      "[CV 1/5] END learning_rate=0.05, max_depth=3, n_estimators=500;, score=0.703 total time=  32.9s\n",
      "[CV 2/5] END learning_rate=0.05, max_depth=3, n_estimators=500;, score=0.705 total time=  34.2s\n",
      "[CV 3/5] END learning_rate=0.05, max_depth=3, n_estimators=500;, score=0.708 total time=  35.0s\n",
      "[CV 4/5] END learning_rate=0.05, max_depth=3, n_estimators=500;, score=0.701 total time=  31.8s\n",
      "[CV 5/5] END learning_rate=0.05, max_depth=3, n_estimators=500;, score=0.705 total time=  45.2s\n",
      "[CV 1/5] END learning_rate=0.05, max_depth=4, n_estimators=100;, score=0.704 total time=  10.6s\n",
      "[CV 2/5] END learning_rate=0.05, max_depth=4, n_estimators=100;, score=0.705 total time=  11.8s\n",
      "[CV 3/5] END learning_rate=0.05, max_depth=4, n_estimators=100;, score=0.708 total time=   8.4s\n",
      "[CV 4/5] END learning_rate=0.05, max_depth=4, n_estimators=100;, score=0.701 total time=   8.5s\n",
      "[CV 5/5] END learning_rate=0.05, max_depth=4, n_estimators=100;, score=0.706 total time=   7.9s\n",
      "[CV 1/5] END learning_rate=0.05, max_depth=4, n_estimators=250;, score=0.701 total time=  19.2s\n",
      "[CV 2/5] END learning_rate=0.05, max_depth=4, n_estimators=250;, score=0.706 total time=  25.6s\n",
      "[CV 3/5] END learning_rate=0.05, max_depth=4, n_estimators=250;, score=0.709 total time=  28.3s\n",
      "[CV 4/5] END learning_rate=0.05, max_depth=4, n_estimators=250;, score=0.700 total time=  24.1s\n",
      "[CV 5/5] END learning_rate=0.05, max_depth=4, n_estimators=250;, score=0.705 total time=  19.7s\n",
      "[CV 1/5] END learning_rate=0.05, max_depth=4, n_estimators=500;, score=0.703 total time=  42.8s\n",
      "[CV 2/5] END learning_rate=0.05, max_depth=4, n_estimators=500;, score=0.704 total time=  40.7s\n",
      "[CV 3/5] END learning_rate=0.05, max_depth=4, n_estimators=500;, score=0.708 total time=  36.7s\n",
      "[CV 4/5] END learning_rate=0.05, max_depth=4, n_estimators=500;, score=0.700 total time=  35.8s\n",
      "[CV 5/5] END learning_rate=0.05, max_depth=4, n_estimators=500;, score=0.705 total time=  34.6s\n",
      "[CV 1/5] END learning_rate=0.05, max_depth=5, n_estimators=100;, score=0.704 total time=   8.3s\n",
      "[CV 2/5] END learning_rate=0.05, max_depth=5, n_estimators=100;, score=0.706 total time=   8.1s\n",
      "[CV 3/5] END learning_rate=0.05, max_depth=5, n_estimators=100;, score=0.710 total time=   8.2s\n",
      "[CV 4/5] END learning_rate=0.05, max_depth=5, n_estimators=100;, score=0.698 total time=   8.0s\n",
      "[CV 5/5] END learning_rate=0.05, max_depth=5, n_estimators=100;, score=0.705 total time=   8.0s\n",
      "[CV 1/5] END learning_rate=0.05, max_depth=5, n_estimators=250;, score=0.704 total time=  20.2s\n",
      "[CV 2/5] END learning_rate=0.05, max_depth=5, n_estimators=250;, score=0.703 total time=  19.8s\n",
      "[CV 3/5] END learning_rate=0.05, max_depth=5, n_estimators=250;, score=0.710 total time=  19.8s\n",
      "[CV 4/5] END learning_rate=0.05, max_depth=5, n_estimators=250;, score=0.700 total time=  19.9s\n",
      "[CV 5/5] END learning_rate=0.05, max_depth=5, n_estimators=250;, score=0.705 total time=  20.0s\n",
      "[CV 1/5] END learning_rate=0.05, max_depth=5, n_estimators=500;, score=0.700 total time=  40.3s\n",
      "[CV 2/5] END learning_rate=0.05, max_depth=5, n_estimators=500;, score=0.703 total time=  40.0s\n",
      "[CV 3/5] END learning_rate=0.05, max_depth=5, n_estimators=500;, score=0.709 total time=  40.0s\n",
      "[CV 4/5] END learning_rate=0.05, max_depth=5, n_estimators=500;, score=0.698 total time=  40.2s\n",
      "[CV 5/5] END learning_rate=0.05, max_depth=5, n_estimators=500;, score=0.705 total time=  40.3s\n",
      "[CV 1/5] END learning_rate=0.01, max_depth=1, n_estimators=100;, score=0.706 total time=   3.8s\n",
      "[CV 2/5] END learning_rate=0.01, max_depth=1, n_estimators=100;, score=0.706 total time=   3.8s\n",
      "[CV 3/5] END learning_rate=0.01, max_depth=1, n_estimators=100;, score=0.705 total time=   3.8s\n",
      "[CV 4/5] END learning_rate=0.01, max_depth=1, n_estimators=100;, score=0.705 total time=   4.0s\n",
      "[CV 5/5] END learning_rate=0.01, max_depth=1, n_estimators=100;, score=0.705 total time=   3.8s\n",
      "[CV 1/5] END learning_rate=0.01, max_depth=1, n_estimators=250;, score=0.706 total time=   9.5s\n",
      "[CV 2/5] END learning_rate=0.01, max_depth=1, n_estimators=250;, score=0.706 total time=   9.3s\n",
      "[CV 3/5] END learning_rate=0.01, max_depth=1, n_estimators=250;, score=0.705 total time=   9.5s\n",
      "[CV 4/5] END learning_rate=0.01, max_depth=1, n_estimators=250;, score=0.705 total time=   9.4s\n",
      "[CV 5/5] END learning_rate=0.01, max_depth=1, n_estimators=250;, score=0.705 total time=   9.4s\n",
      "[CV 1/5] END learning_rate=0.01, max_depth=1, n_estimators=500;, score=0.707 total time=  18.8s\n",
      "[CV 2/5] END learning_rate=0.01, max_depth=1, n_estimators=500;, score=0.706 total time=  18.7s\n",
      "[CV 3/5] END learning_rate=0.01, max_depth=1, n_estimators=500;, score=0.706 total time=  18.9s\n",
      "[CV 4/5] END learning_rate=0.01, max_depth=1, n_estimators=500;, score=0.705 total time=  19.1s\n",
      "[CV 5/5] END learning_rate=0.01, max_depth=1, n_estimators=500;, score=0.706 total time=  19.0s\n",
      "[CV 1/5] END learning_rate=0.01, max_depth=2, n_estimators=100;, score=0.706 total time=   4.8s\n",
      "[CV 2/5] END learning_rate=0.01, max_depth=2, n_estimators=100;, score=0.706 total time=   4.9s\n",
      "[CV 3/5] END learning_rate=0.01, max_depth=2, n_estimators=100;, score=0.705 total time=   4.8s\n",
      "[CV 4/5] END learning_rate=0.01, max_depth=2, n_estimators=100;, score=0.705 total time=   4.9s\n",
      "[CV 5/5] END learning_rate=0.01, max_depth=2, n_estimators=100;, score=0.705 total time=   4.9s\n",
      "[CV 1/5] END learning_rate=0.01, max_depth=2, n_estimators=250;, score=0.707 total time=  12.1s\n",
      "[CV 2/5] END learning_rate=0.01, max_depth=2, n_estimators=250;, score=0.706 total time=  12.0s\n"
     ]
    },
    {
     "name": "stdout",
     "output_type": "stream",
     "text": [
      "[CV 3/5] END learning_rate=0.01, max_depth=2, n_estimators=250;, score=0.707 total time=  12.2s\n",
      "[CV 4/5] END learning_rate=0.01, max_depth=2, n_estimators=250;, score=0.704 total time=  12.7s\n",
      "[CV 5/5] END learning_rate=0.01, max_depth=2, n_estimators=250;, score=0.706 total time=  12.2s\n",
      "[CV 1/5] END learning_rate=0.01, max_depth=2, n_estimators=500;, score=0.706 total time=  24.4s\n",
      "[CV 2/5] END learning_rate=0.01, max_depth=2, n_estimators=500;, score=0.706 total time=  24.3s\n",
      "[CV 3/5] END learning_rate=0.01, max_depth=2, n_estimators=500;, score=0.709 total time=  24.5s\n",
      "[CV 4/5] END learning_rate=0.01, max_depth=2, n_estimators=500;, score=0.705 total time=  24.1s\n",
      "[CV 5/5] END learning_rate=0.01, max_depth=2, n_estimators=500;, score=0.706 total time=  24.2s\n",
      "[CV 1/5] END learning_rate=0.01, max_depth=3, n_estimators=100;, score=0.707 total time=   6.1s\n",
      "[CV 2/5] END learning_rate=0.01, max_depth=3, n_estimators=100;, score=0.707 total time=   6.3s\n",
      "[CV 3/5] END learning_rate=0.01, max_depth=3, n_estimators=100;, score=0.707 total time=   6.2s\n",
      "[CV 4/5] END learning_rate=0.01, max_depth=3, n_estimators=100;, score=0.705 total time=   6.3s\n",
      "[CV 5/5] END learning_rate=0.01, max_depth=3, n_estimators=100;, score=0.705 total time=   6.1s\n",
      "[CV 1/5] END learning_rate=0.01, max_depth=3, n_estimators=250;, score=0.706 total time=  15.0s\n",
      "[CV 2/5] END learning_rate=0.01, max_depth=3, n_estimators=250;, score=0.706 total time=  14.8s\n",
      "[CV 3/5] END learning_rate=0.01, max_depth=3, n_estimators=250;, score=0.709 total time=  16.3s\n",
      "[CV 4/5] END learning_rate=0.01, max_depth=3, n_estimators=250;, score=0.704 total time=  17.0s\n",
      "[CV 5/5] END learning_rate=0.01, max_depth=3, n_estimators=250;, score=0.707 total time=  18.6s\n",
      "[CV 1/5] END learning_rate=0.01, max_depth=3, n_estimators=500;, score=0.705 total time=  29.4s\n",
      "[CV 2/5] END learning_rate=0.01, max_depth=3, n_estimators=500;, score=0.706 total time=  31.6s\n",
      "[CV 3/5] END learning_rate=0.01, max_depth=3, n_estimators=500;, score=0.708 total time=  34.9s\n",
      "[CV 4/5] END learning_rate=0.01, max_depth=3, n_estimators=500;, score=0.703 total time=  28.4s\n",
      "[CV 5/5] END learning_rate=0.01, max_depth=3, n_estimators=500;, score=0.706 total time=  26.4s\n",
      "[CV 1/5] END learning_rate=0.01, max_depth=4, n_estimators=100;, score=0.706 total time=   4.2s\n",
      "[CV 2/5] END learning_rate=0.01, max_depth=4, n_estimators=100;, score=0.706 total time=   4.7s\n",
      "[CV 3/5] END learning_rate=0.01, max_depth=4, n_estimators=100;, score=0.706 total time=   4.8s\n",
      "[CV 4/5] END learning_rate=0.01, max_depth=4, n_estimators=100;, score=0.704 total time=   4.5s\n",
      "[CV 5/5] END learning_rate=0.01, max_depth=4, n_estimators=100;, score=0.706 total time=   4.5s\n",
      "[CV 1/5] END learning_rate=0.01, max_depth=4, n_estimators=250;, score=0.704 total time=  13.2s\n",
      "[CV 2/5] END learning_rate=0.01, max_depth=4, n_estimators=250;, score=0.706 total time=  14.3s\n",
      "[CV 3/5] END learning_rate=0.01, max_depth=4, n_estimators=250;, score=0.710 total time=  16.3s\n",
      "[CV 4/5] END learning_rate=0.01, max_depth=4, n_estimators=250;, score=0.703 total time=  14.2s\n",
      "[CV 5/5] END learning_rate=0.01, max_depth=4, n_estimators=250;, score=0.706 total time=  20.8s\n",
      "[CV 1/5] END learning_rate=0.01, max_depth=4, n_estimators=500;, score=0.703 total time=  34.6s\n",
      "[CV 2/5] END learning_rate=0.01, max_depth=4, n_estimators=500;, score=0.704 total time=  41.0s\n",
      "[CV 3/5] END learning_rate=0.01, max_depth=4, n_estimators=500;, score=0.708 total time=  30.8s\n",
      "[CV 4/5] END learning_rate=0.01, max_depth=4, n_estimators=500;, score=0.702 total time=  30.6s\n",
      "[CV 5/5] END learning_rate=0.01, max_depth=4, n_estimators=500;, score=0.706 total time=  28.5s\n",
      "[CV 1/5] END learning_rate=0.01, max_depth=5, n_estimators=100;, score=0.706 total time=   6.5s\n",
      "[CV 2/5] END learning_rate=0.01, max_depth=5, n_estimators=100;, score=0.706 total time=   7.4s\n",
      "[CV 3/5] END learning_rate=0.01, max_depth=5, n_estimators=100;, score=0.708 total time=   6.3s\n",
      "[CV 4/5] END learning_rate=0.01, max_depth=5, n_estimators=100;, score=0.703 total time=   7.1s\n",
      "[CV 5/5] END learning_rate=0.01, max_depth=5, n_estimators=100;, score=0.705 total time=   7.8s\n",
      "[CV 1/5] END learning_rate=0.01, max_depth=5, n_estimators=250;, score=0.703 total time=  18.0s\n",
      "[CV 2/5] END learning_rate=0.01, max_depth=5, n_estimators=250;, score=0.706 total time=  15.9s\n",
      "[CV 3/5] END learning_rate=0.01, max_depth=5, n_estimators=250;, score=0.710 total time=  17.9s\n",
      "[CV 4/5] END learning_rate=0.01, max_depth=5, n_estimators=250;, score=0.700 total time=  18.3s\n",
      "[CV 5/5] END learning_rate=0.01, max_depth=5, n_estimators=250;, score=0.705 total time=  17.8s\n",
      "[CV 1/5] END learning_rate=0.01, max_depth=5, n_estimators=500;, score=0.702 total time=  36.6s\n",
      "[CV 2/5] END learning_rate=0.01, max_depth=5, n_estimators=500;, score=0.705 total time=  34.1s\n",
      "[CV 3/5] END learning_rate=0.01, max_depth=5, n_estimators=500;, score=0.710 total time=  35.3s\n",
      "[CV 4/5] END learning_rate=0.01, max_depth=5, n_estimators=500;, score=0.698 total time=  36.9s\n",
      "[CV 5/5] END learning_rate=0.01, max_depth=5, n_estimators=500;, score=0.705 total time=  35.8s\n",
      "[CV 1/5] END learning_rate=1, max_depth=1, n_estimators=100;, score=0.708 total time=   3.6s\n",
      "[CV 2/5] END learning_rate=1, max_depth=1, n_estimators=100;, score=0.706 total time=   3.8s\n",
      "[CV 3/5] END learning_rate=1, max_depth=1, n_estimators=100;, score=0.710 total time=   4.1s\n",
      "[CV 4/5] END learning_rate=1, max_depth=1, n_estimators=100;, score=0.705 total time=   3.7s\n",
      "[CV 5/5] END learning_rate=1, max_depth=1, n_estimators=100;, score=0.706 total time=   4.0s\n",
      "[CV 1/5] END learning_rate=1, max_depth=1, n_estimators=250;, score=0.708 total time=   8.2s\n",
      "[CV 2/5] END learning_rate=1, max_depth=1, n_estimators=250;, score=0.706 total time=   8.5s\n",
      "[CV 3/5] END learning_rate=1, max_depth=1, n_estimators=250;, score=0.710 total time=   9.1s\n",
      "[CV 4/5] END learning_rate=1, max_depth=1, n_estimators=250;, score=0.705 total time=   8.6s\n",
      "[CV 5/5] END learning_rate=1, max_depth=1, n_estimators=250;, score=0.706 total time=   8.7s\n",
      "[CV 1/5] END learning_rate=1, max_depth=1, n_estimators=500;, score=0.708 total time=  18.0s\n",
      "[CV 2/5] END learning_rate=1, max_depth=1, n_estimators=500;, score=0.706 total time=  15.9s\n",
      "[CV 3/5] END learning_rate=1, max_depth=1, n_estimators=500;, score=0.710 total time=  15.1s\n",
      "[CV 4/5] END learning_rate=1, max_depth=1, n_estimators=500;, score=0.705 total time=  16.2s\n",
      "[CV 5/5] END learning_rate=1, max_depth=1, n_estimators=500;, score=0.706 total time=  19.6s\n",
      "[CV 1/5] END learning_rate=1, max_depth=2, n_estimators=100;, score=0.703 total time=   3.9s\n",
      "[CV 2/5] END learning_rate=1, max_depth=2, n_estimators=100;, score=0.705 total time=   4.1s\n",
      "[CV 3/5] END learning_rate=1, max_depth=2, n_estimators=100;, score=0.707 total time=   4.8s\n",
      "[CV 4/5] END learning_rate=1, max_depth=2, n_estimators=100;, score=0.704 total time=   4.0s\n",
      "[CV 5/5] END learning_rate=1, max_depth=2, n_estimators=100;, score=0.705 total time=   4.3s\n",
      "[CV 1/5] END learning_rate=1, max_depth=2, n_estimators=250;, score=0.703 total time=   9.9s\n",
      "[CV 2/5] END learning_rate=1, max_depth=2, n_estimators=250;, score=0.705 total time=  10.8s\n",
      "[CV 3/5] END learning_rate=1, max_depth=2, n_estimators=250;, score=0.707 total time=   9.5s\n",
      "[CV 4/5] END learning_rate=1, max_depth=2, n_estimators=250;, score=0.704 total time=  10.4s\n",
      "[CV 5/5] END learning_rate=1, max_depth=2, n_estimators=250;, score=0.705 total time=  10.5s\n",
      "[CV 1/5] END learning_rate=1, max_depth=2, n_estimators=500;, score=0.703 total time=  21.7s\n",
      "[CV 2/5] END learning_rate=1, max_depth=2, n_estimators=500;, score=0.705 total time=  20.1s\n",
      "[CV 3/5] END learning_rate=1, max_depth=2, n_estimators=500;, score=0.707 total time=  25.0s\n",
      "[CV 4/5] END learning_rate=1, max_depth=2, n_estimators=500;, score=0.704 total time=  22.9s\n",
      "[CV 5/5] END learning_rate=1, max_depth=2, n_estimators=500;, score=0.705 total time=  19.9s\n",
      "[CV 1/5] END learning_rate=1, max_depth=3, n_estimators=100;, score=0.700 total time=   4.7s\n",
      "[CV 2/5] END learning_rate=1, max_depth=3, n_estimators=100;, score=0.706 total time=   4.7s\n",
      "[CV 3/5] END learning_rate=1, max_depth=3, n_estimators=100;, score=0.707 total time=   4.5s\n",
      "[CV 4/5] END learning_rate=1, max_depth=3, n_estimators=100;, score=0.700 total time=   4.9s\n"
     ]
    },
    {
     "name": "stdout",
     "output_type": "stream",
     "text": [
      "[CV 5/5] END learning_rate=1, max_depth=3, n_estimators=100;, score=0.705 total time=   4.1s\n",
      "[CV 1/5] END learning_rate=1, max_depth=3, n_estimators=250;, score=0.701 total time=  11.9s\n",
      "[CV 2/5] END learning_rate=1, max_depth=3, n_estimators=250;, score=0.706 total time=  13.6s\n",
      "[CV 3/5] END learning_rate=1, max_depth=3, n_estimators=250;, score=0.707 total time=  13.2s\n",
      "[CV 4/5] END learning_rate=1, max_depth=3, n_estimators=250;, score=0.700 total time=  13.9s\n",
      "[CV 5/5] END learning_rate=1, max_depth=3, n_estimators=250;, score=0.705 total time=  13.8s\n",
      "[CV 1/5] END learning_rate=1, max_depth=3, n_estimators=500;, score=0.701 total time=  26.6s\n",
      "[CV 2/5] END learning_rate=1, max_depth=3, n_estimators=500;, score=0.706 total time=  41.3s\n",
      "[CV 3/5] END learning_rate=1, max_depth=3, n_estimators=500;, score=0.706 total time=  26.6s\n",
      "[CV 4/5] END learning_rate=1, max_depth=3, n_estimators=500;, score=0.700 total time=  35.6s\n",
      "[CV 5/5] END learning_rate=1, max_depth=3, n_estimators=500;, score=0.705 total time=  32.7s\n",
      "[CV 1/5] END learning_rate=1, max_depth=4, n_estimators=100;, score=0.702 total time=   6.5s\n",
      "[CV 2/5] END learning_rate=1, max_depth=4, n_estimators=100;, score=0.703 total time=   7.9s\n",
      "[CV 3/5] END learning_rate=1, max_depth=4, n_estimators=100;, score=0.711 total time=   7.3s\n",
      "[CV 4/5] END learning_rate=1, max_depth=4, n_estimators=100;, score=0.700 total time=   7.5s\n",
      "[CV 5/5] END learning_rate=1, max_depth=4, n_estimators=100;, score=0.702 total time=   6.7s\n",
      "[CV 1/5] END learning_rate=1, max_depth=4, n_estimators=250;, score=0.702 total time=  15.3s\n",
      "[CV 2/5] END learning_rate=1, max_depth=4, n_estimators=250;, score=0.703 total time=  17.6s\n",
      "[CV 3/5] END learning_rate=1, max_depth=4, n_estimators=250;, score=0.712 total time=  16.5s\n",
      "[CV 4/5] END learning_rate=1, max_depth=4, n_estimators=250;, score=0.700 total time=  16.9s\n",
      "[CV 5/5] END learning_rate=1, max_depth=4, n_estimators=250;, score=0.702 total time=  16.0s\n",
      "[CV 1/5] END learning_rate=1, max_depth=4, n_estimators=500;, score=0.702 total time=  34.3s\n",
      "[CV 2/5] END learning_rate=1, max_depth=4, n_estimators=500;, score=0.703 total time=  28.3s\n",
      "[CV 3/5] END learning_rate=1, max_depth=4, n_estimators=500;, score=0.712 total time=  29.8s\n",
      "[CV 4/5] END learning_rate=1, max_depth=4, n_estimators=500;, score=0.700 total time=  34.0s\n",
      "[CV 5/5] END learning_rate=1, max_depth=4, n_estimators=500;, score=0.702 total time=  31.7s\n",
      "[CV 1/5] END learning_rate=1, max_depth=5, n_estimators=100;, score=0.699 total time=   8.9s\n",
      "[CV 2/5] END learning_rate=1, max_depth=5, n_estimators=100;, score=0.704 total time=   7.7s\n",
      "[CV 3/5] END learning_rate=1, max_depth=5, n_estimators=100;, score=0.709 total time=   7.3s\n",
      "[CV 4/5] END learning_rate=1, max_depth=5, n_estimators=100;, score=0.697 total time=   7.3s\n",
      "[CV 5/5] END learning_rate=1, max_depth=5, n_estimators=100;, score=0.706 total time=   7.8s\n",
      "[CV 1/5] END learning_rate=1, max_depth=5, n_estimators=250;, score=0.700 total time=  18.9s\n",
      "[CV 2/5] END learning_rate=1, max_depth=5, n_estimators=250;, score=0.703 total time=  20.8s\n",
      "[CV 3/5] END learning_rate=1, max_depth=5, n_estimators=250;, score=0.709 total time=  19.8s\n",
      "[CV 4/5] END learning_rate=1, max_depth=5, n_estimators=250;, score=0.697 total time=  20.6s\n",
      "[CV 5/5] END learning_rate=1, max_depth=5, n_estimators=250;, score=0.705 total time=  20.2s\n",
      "[CV 1/5] END learning_rate=1, max_depth=5, n_estimators=500;, score=0.701 total time=  39.2s\n",
      "[CV 2/5] END learning_rate=1, max_depth=5, n_estimators=500;, score=0.703 total time=  43.8s\n",
      "[CV 3/5] END learning_rate=1, max_depth=5, n_estimators=500;, score=0.707 total time=  38.5s\n",
      "[CV 4/5] END learning_rate=1, max_depth=5, n_estimators=500;, score=0.698 total time=  36.9s\n",
      "[CV 5/5] END learning_rate=1, max_depth=5, n_estimators=500;, score=0.705 total time=  36.8s\n",
      "[CV 1/5] END learning_rate=0.5, max_depth=1, n_estimators=100;, score=0.708 total time=   3.9s\n",
      "[CV 2/5] END learning_rate=0.5, max_depth=1, n_estimators=100;, score=0.706 total time=   3.5s\n",
      "[CV 3/5] END learning_rate=0.5, max_depth=1, n_estimators=100;, score=0.710 total time=   4.1s\n",
      "[CV 4/5] END learning_rate=0.5, max_depth=1, n_estimators=100;, score=0.705 total time=   3.5s\n",
      "[CV 5/5] END learning_rate=0.5, max_depth=1, n_estimators=100;, score=0.706 total time=   4.2s\n",
      "[CV 1/5] END learning_rate=0.5, max_depth=1, n_estimators=250;, score=0.708 total time=   8.9s\n",
      "[CV 2/5] END learning_rate=0.5, max_depth=1, n_estimators=250;, score=0.706 total time=  10.2s\n",
      "[CV 3/5] END learning_rate=0.5, max_depth=1, n_estimators=250;, score=0.710 total time=   9.6s\n",
      "[CV 4/5] END learning_rate=0.5, max_depth=1, n_estimators=250;, score=0.705 total time=  10.0s\n",
      "[CV 5/5] END learning_rate=0.5, max_depth=1, n_estimators=250;, score=0.706 total time=   9.0s\n",
      "[CV 1/5] END learning_rate=0.5, max_depth=1, n_estimators=500;, score=0.708 total time=  18.9s\n",
      "[CV 2/5] END learning_rate=0.5, max_depth=1, n_estimators=500;, score=0.706 total time=  16.2s\n",
      "[CV 3/5] END learning_rate=0.5, max_depth=1, n_estimators=500;, score=0.710 total time=  18.1s\n",
      "[CV 4/5] END learning_rate=0.5, max_depth=1, n_estimators=500;, score=0.705 total time=  16.7s\n",
      "[CV 5/5] END learning_rate=0.5, max_depth=1, n_estimators=500;, score=0.706 total time=  19.3s\n",
      "[CV 1/5] END learning_rate=0.5, max_depth=2, n_estimators=100;, score=0.703 total time=   3.8s\n",
      "[CV 2/5] END learning_rate=0.5, max_depth=2, n_estimators=100;, score=0.705 total time=   4.7s\n",
      "[CV 3/5] END learning_rate=0.5, max_depth=2, n_estimators=100;, score=0.710 total time=   4.0s\n",
      "[CV 4/5] END learning_rate=0.5, max_depth=2, n_estimators=100;, score=0.703 total time=   4.2s\n",
      "[CV 5/5] END learning_rate=0.5, max_depth=2, n_estimators=100;, score=0.705 total time=   4.2s\n",
      "[CV 1/5] END learning_rate=0.5, max_depth=2, n_estimators=250;, score=0.703 total time=   9.7s\n",
      "[CV 2/5] END learning_rate=0.5, max_depth=2, n_estimators=250;, score=0.705 total time=  11.7s\n",
      "[CV 3/5] END learning_rate=0.5, max_depth=2, n_estimators=250;, score=0.707 total time=   9.9s\n",
      "[CV 4/5] END learning_rate=0.5, max_depth=2, n_estimators=250;, score=0.704 total time=  10.6s\n",
      "[CV 5/5] END learning_rate=0.5, max_depth=2, n_estimators=250;, score=0.705 total time=  12.2s\n",
      "[CV 1/5] END learning_rate=0.5, max_depth=2, n_estimators=500;, score=0.703 total time=  24.0s\n",
      "[CV 2/5] END learning_rate=0.5, max_depth=2, n_estimators=500;, score=0.705 total time=  30.0s\n",
      "[CV 3/5] END learning_rate=0.5, max_depth=2, n_estimators=500;, score=0.707 total time=  22.1s\n",
      "[CV 4/5] END learning_rate=0.5, max_depth=2, n_estimators=500;, score=0.704 total time=  28.7s\n",
      "[CV 5/5] END learning_rate=0.5, max_depth=2, n_estimators=500;, score=0.705 total time=  27.3s\n",
      "[CV 1/5] END learning_rate=0.5, max_depth=3, n_estimators=100;, score=0.700 total time=   5.1s\n",
      "[CV 2/5] END learning_rate=0.5, max_depth=3, n_estimators=100;, score=0.705 total time=   4.6s\n",
      "[CV 3/5] END learning_rate=0.5, max_depth=3, n_estimators=100;, score=0.706 total time=   6.1s\n",
      "[CV 4/5] END learning_rate=0.5, max_depth=3, n_estimators=100;, score=0.702 total time=   5.6s\n",
      "[CV 5/5] END learning_rate=0.5, max_depth=3, n_estimators=100;, score=0.703 total time=   6.8s\n",
      "[CV 1/5] END learning_rate=0.5, max_depth=3, n_estimators=250;, score=0.702 total time=  14.8s\n",
      "[CV 2/5] END learning_rate=0.5, max_depth=3, n_estimators=250;, score=0.706 total time=  13.4s\n",
      "[CV 3/5] END learning_rate=0.5, max_depth=3, n_estimators=250;, score=0.707 total time=  14.7s\n",
      "[CV 4/5] END learning_rate=0.5, max_depth=3, n_estimators=250;, score=0.700 total time=  13.4s\n",
      "[CV 5/5] END learning_rate=0.5, max_depth=3, n_estimators=250;, score=0.705 total time=  13.5s\n",
      "[CV 1/5] END learning_rate=0.5, max_depth=3, n_estimators=500;, score=0.700 total time=  32.0s\n",
      "[CV 2/5] END learning_rate=0.5, max_depth=3, n_estimators=500;, score=0.706 total time= 8.6min\n",
      "[CV 3/5] END learning_rate=0.5, max_depth=3, n_estimators=500;, score=0.706 total time= 5.0min\n",
      "[CV 4/5] END learning_rate=0.5, max_depth=3, n_estimators=500;, score=0.701 total time=  20.9s\n",
      "[CV 5/5] END learning_rate=0.5, max_depth=3, n_estimators=500;, score=0.704 total time= 8.1min\n",
      "[CV 1/5] END learning_rate=0.5, max_depth=4, n_estimators=100;, score=0.704 total time=   5.7s\n",
      "[CV 2/5] END learning_rate=0.5, max_depth=4, n_estimators=100;, score=0.703 total time=   5.9s\n"
     ]
    },
    {
     "name": "stdout",
     "output_type": "stream",
     "text": [
      "[CV 3/5] END learning_rate=0.5, max_depth=4, n_estimators=100;, score=0.712 total time= 9.0min\n",
      "[CV 4/5] END learning_rate=0.5, max_depth=4, n_estimators=100;, score=0.700 total time=   5.7s\n",
      "[CV 5/5] END learning_rate=0.5, max_depth=4, n_estimators=100;, score=0.704 total time=   5.9s\n",
      "[CV 1/5] END learning_rate=0.5, max_depth=4, n_estimators=250;, score=0.702 total time=  15.0s\n",
      "[CV 2/5] END learning_rate=0.5, max_depth=4, n_estimators=250;, score=0.703 total time=  14.2s\n",
      "[CV 3/5] END learning_rate=0.5, max_depth=4, n_estimators=250;, score=0.712 total time=  14.3s\n",
      "[CV 4/5] END learning_rate=0.5, max_depth=4, n_estimators=250;, score=0.700 total time=  24.3s\n",
      "[CV 5/5] END learning_rate=0.5, max_depth=4, n_estimators=250;, score=0.702 total time=  12.8s\n",
      "[CV 1/5] END learning_rate=0.5, max_depth=4, n_estimators=500;, score=0.702 total time=  23.3s\n",
      "[CV 2/5] END learning_rate=0.5, max_depth=4, n_estimators=500;, score=0.703 total time=  27.3s\n",
      "[CV 3/5] END learning_rate=0.5, max_depth=4, n_estimators=500;, score=0.712 total time=  27.6s\n",
      "[CV 4/5] END learning_rate=0.5, max_depth=4, n_estimators=500;, score=0.700 total time=  26.2s\n",
      "[CV 5/5] END learning_rate=0.5, max_depth=4, n_estimators=500;, score=0.702 total time=  28.1s\n",
      "[CV 1/5] END learning_rate=0.5, max_depth=5, n_estimators=100;, score=0.701 total time=   7.0s\n",
      "[CV 2/5] END learning_rate=0.5, max_depth=5, n_estimators=100;, score=0.703 total time=   7.4s\n",
      "[CV 3/5] END learning_rate=0.5, max_depth=5, n_estimators=100;, score=0.711 total time=   7.3s\n",
      "[CV 4/5] END learning_rate=0.5, max_depth=5, n_estimators=100;, score=0.698 total time=   6.0s\n",
      "[CV 5/5] END learning_rate=0.5, max_depth=5, n_estimators=100;, score=0.705 total time=   6.4s\n",
      "[CV 1/5] END learning_rate=0.5, max_depth=5, n_estimators=250;, score=0.701 total time=  16.5s\n",
      "[CV 2/5] END learning_rate=0.5, max_depth=5, n_estimators=250;, score=0.703 total time=  18.7s\n",
      "[CV 3/5] END learning_rate=0.5, max_depth=5, n_estimators=250;, score=0.707 total time=  17.0s\n",
      "[CV 4/5] END learning_rate=0.5, max_depth=5, n_estimators=250;, score=0.696 total time=  17.6s\n",
      "[CV 5/5] END learning_rate=0.5, max_depth=5, n_estimators=250;, score=0.706 total time=  15.7s\n",
      "[CV 1/5] END learning_rate=0.5, max_depth=5, n_estimators=500;, score=0.701 total time=  33.7s\n",
      "[CV 2/5] END learning_rate=0.5, max_depth=5, n_estimators=500;, score=0.702 total time=  37.7s\n",
      "[CV 3/5] END learning_rate=0.5, max_depth=5, n_estimators=500;, score=0.712 total time=  34.6s\n",
      "[CV 4/5] END learning_rate=0.5, max_depth=5, n_estimators=500;, score=0.696 total time=  33.9s\n",
      "[CV 5/5] END learning_rate=0.5, max_depth=5, n_estimators=500;, score=0.705 total time=  31.3s\n",
      "[CV 1/5] END learning_rate=0.25, max_depth=1, n_estimators=100;, score=0.708 total time=   3.7s\n",
      "[CV 2/5] END learning_rate=0.25, max_depth=1, n_estimators=100;, score=0.706 total time=   3.7s\n",
      "[CV 3/5] END learning_rate=0.25, max_depth=1, n_estimators=100;, score=0.710 total time=   3.8s\n",
      "[CV 4/5] END learning_rate=0.25, max_depth=1, n_estimators=100;, score=0.706 total time=   3.8s\n",
      "[CV 5/5] END learning_rate=0.25, max_depth=1, n_estimators=100;, score=0.706 total time=   3.7s\n",
      "[CV 1/5] END learning_rate=0.25, max_depth=1, n_estimators=250;, score=0.708 total time=   9.4s\n",
      "[CV 2/5] END learning_rate=0.25, max_depth=1, n_estimators=250;, score=0.706 total time=   8.8s\n",
      "[CV 3/5] END learning_rate=0.25, max_depth=1, n_estimators=250;, score=0.710 total time=  10.6s\n",
      "[CV 4/5] END learning_rate=0.25, max_depth=1, n_estimators=250;, score=0.705 total time=  13.0s\n",
      "[CV 5/5] END learning_rate=0.25, max_depth=1, n_estimators=250;, score=0.706 total time=  10.9s\n",
      "[CV 1/5] END learning_rate=0.25, max_depth=1, n_estimators=500;, score=0.708 total time=  17.2s\n",
      "[CV 2/5] END learning_rate=0.25, max_depth=1, n_estimators=500;, score=0.706 total time=  19.5s\n",
      "[CV 3/5] END learning_rate=0.25, max_depth=1, n_estimators=500;, score=0.710 total time=  22.1s\n",
      "[CV 4/5] END learning_rate=0.25, max_depth=1, n_estimators=500;, score=0.705 total time=  16.9s\n",
      "[CV 5/5] END learning_rate=0.25, max_depth=1, n_estimators=500;, score=0.706 total time=  17.2s\n",
      "[CV 1/5] END learning_rate=0.25, max_depth=2, n_estimators=100;, score=0.703 total time=   5.7s\n",
      "[CV 2/5] END learning_rate=0.25, max_depth=2, n_estimators=100;, score=0.706 total time=   5.3s\n",
      "[CV 3/5] END learning_rate=0.25, max_depth=2, n_estimators=100;, score=0.710 total time=   4.5s\n",
      "[CV 4/5] END learning_rate=0.25, max_depth=2, n_estimators=100;, score=0.703 total time=   4.5s\n",
      "[CV 5/5] END learning_rate=0.25, max_depth=2, n_estimators=100;, score=0.705 total time=   3.7s\n",
      "[CV 1/5] END learning_rate=0.25, max_depth=2, n_estimators=250;, score=0.703 total time=   9.3s\n",
      "[CV 2/5] END learning_rate=0.25, max_depth=2, n_estimators=250;, score=0.705 total time=   9.9s\n",
      "[CV 3/5] END learning_rate=0.25, max_depth=2, n_estimators=250;, score=0.710 total time=   9.0s\n",
      "[CV 4/5] END learning_rate=0.25, max_depth=2, n_estimators=250;, score=0.703 total time=   9.8s\n",
      "[CV 5/5] END learning_rate=0.25, max_depth=2, n_estimators=250;, score=0.705 total time=   9.8s\n",
      "[CV 1/5] END learning_rate=0.25, max_depth=2, n_estimators=500;, score=0.703 total time=  17.2s\n",
      "[CV 2/5] END learning_rate=0.25, max_depth=2, n_estimators=500;, score=0.705 total time=  18.6s\n",
      "[CV 3/5] END learning_rate=0.25, max_depth=2, n_estimators=500;, score=0.707 total time=  20.8s\n",
      "[CV 4/5] END learning_rate=0.25, max_depth=2, n_estimators=500;, score=0.704 total time=  19.1s\n",
      "[CV 5/5] END learning_rate=0.25, max_depth=2, n_estimators=500;, score=0.705 total time=  21.1s\n",
      "[CV 1/5] END learning_rate=0.25, max_depth=3, n_estimators=100;, score=0.701 total time=   4.3s\n",
      "[CV 2/5] END learning_rate=0.25, max_depth=3, n_estimators=100;, score=0.705 total time=   4.5s\n",
      "[CV 3/5] END learning_rate=0.25, max_depth=3, n_estimators=100;, score=0.708 total time=   4.8s\n",
      "[CV 4/5] END learning_rate=0.25, max_depth=3, n_estimators=100;, score=0.699 total time=   5.2s\n",
      "[CV 5/5] END learning_rate=0.25, max_depth=3, n_estimators=100;, score=0.705 total time=   5.7s\n",
      "[CV 1/5] END learning_rate=0.25, max_depth=3, n_estimators=250;, score=0.702 total time=  13.3s\n",
      "[CV 2/5] END learning_rate=0.25, max_depth=3, n_estimators=250;, score=0.706 total time=  10.6s\n",
      "[CV 3/5] END learning_rate=0.25, max_depth=3, n_estimators=250;, score=0.706 total time=  13.8s\n",
      "[CV 4/5] END learning_rate=0.25, max_depth=3, n_estimators=250;, score=0.701 total time=  12.3s\n",
      "[CV 5/5] END learning_rate=0.25, max_depth=3, n_estimators=250;, score=0.705 total time=   9.8s\n",
      "[CV 1/5] END learning_rate=0.25, max_depth=3, n_estimators=500;, score=0.701 total time=  26.9s\n",
      "[CV 2/5] END learning_rate=0.25, max_depth=3, n_estimators=500;, score=0.705 total time=  25.8s\n",
      "[CV 3/5] END learning_rate=0.25, max_depth=3, n_estimators=500;, score=0.707 total time=  25.4s\n",
      "[CV 4/5] END learning_rate=0.25, max_depth=3, n_estimators=500;, score=0.701 total time=  24.7s\n",
      "[CV 5/5] END learning_rate=0.25, max_depth=3, n_estimators=500;, score=0.705 total time=  25.0s\n",
      "[CV 1/5] END learning_rate=0.25, max_depth=4, n_estimators=100;, score=0.702 total time=   6.0s\n",
      "[CV 2/5] END learning_rate=0.25, max_depth=4, n_estimators=100;, score=0.705 total time=   5.4s\n",
      "[CV 3/5] END learning_rate=0.25, max_depth=4, n_estimators=100;, score=0.709 total time=   4.3s\n",
      "[CV 4/5] END learning_rate=0.25, max_depth=4, n_estimators=100;, score=0.700 total time=   7.5s\n",
      "[CV 5/5] END learning_rate=0.25, max_depth=4, n_estimators=100;, score=0.705 total time=   6.3s\n",
      "[CV 1/5] END learning_rate=0.25, max_depth=4, n_estimators=250;, score=0.702 total time=  14.2s\n",
      "[CV 2/5] END learning_rate=0.25, max_depth=4, n_estimators=250;, score=0.703 total time=  14.1s\n",
      "[CV 3/5] END learning_rate=0.25, max_depth=4, n_estimators=250;, score=0.709 total time=  14.9s\n",
      "[CV 4/5] END learning_rate=0.25, max_depth=4, n_estimators=250;, score=0.701 total time=  14.9s\n",
      "[CV 5/5] END learning_rate=0.25, max_depth=4, n_estimators=250;, score=0.705 total time=  15.3s\n",
      "[CV 1/5] END learning_rate=0.25, max_depth=4, n_estimators=500;, score=0.702 total time=  28.3s\n",
      "[CV 2/5] END learning_rate=0.25, max_depth=4, n_estimators=500;, score=0.704 total time=  29.3s\n",
      "[CV 3/5] END learning_rate=0.25, max_depth=4, n_estimators=500;, score=0.709 total time=  29.2s\n"
     ]
    },
    {
     "name": "stdout",
     "output_type": "stream",
     "text": [
      "[CV 4/5] END learning_rate=0.25, max_depth=4, n_estimators=500;, score=0.700 total time=  26.8s\n",
      "[CV 5/5] END learning_rate=0.25, max_depth=4, n_estimators=500;, score=0.702 total time=  28.1s\n",
      "[CV 1/5] END learning_rate=0.25, max_depth=5, n_estimators=100;, score=0.700 total time=   7.4s\n",
      "[CV 2/5] END learning_rate=0.25, max_depth=5, n_estimators=100;, score=0.703 total time=   6.9s\n",
      "[CV 3/5] END learning_rate=0.25, max_depth=5, n_estimators=100;, score=0.709 total time=   7.2s\n",
      "[CV 4/5] END learning_rate=0.25, max_depth=5, n_estimators=100;, score=0.698 total time=   7.2s\n",
      "[CV 5/5] END learning_rate=0.25, max_depth=5, n_estimators=100;, score=0.706 total time=   7.7s\n",
      "[CV 1/5] END learning_rate=0.25, max_depth=5, n_estimators=250;, score=0.700 total time=  18.2s\n",
      "[CV 2/5] END learning_rate=0.25, max_depth=5, n_estimators=250;, score=0.703 total time=  18.0s\n",
      "[CV 3/5] END learning_rate=0.25, max_depth=5, n_estimators=250;, score=0.711 total time=  18.1s\n",
      "[CV 4/5] END learning_rate=0.25, max_depth=5, n_estimators=250;, score=0.697 total time=  18.4s\n",
      "[CV 5/5] END learning_rate=0.25, max_depth=5, n_estimators=250;, score=0.705 total time=  16.9s\n",
      "[CV 1/5] END learning_rate=0.25, max_depth=5, n_estimators=500;, score=0.700 total time=  43.3s\n",
      "[CV 2/5] END learning_rate=0.25, max_depth=5, n_estimators=500;, score=0.703 total time=  42.6s\n",
      "[CV 3/5] END learning_rate=0.25, max_depth=5, n_estimators=500;, score=0.712 total time=  43.3s\n",
      "[CV 4/5] END learning_rate=0.25, max_depth=5, n_estimators=500;, score=0.696 total time=  38.1s\n",
      "[CV 5/5] END learning_rate=0.25, max_depth=5, n_estimators=500;, score=0.705 total time=  36.0s\n",
      "[CV 1/5] END learning_rate=0.75, max_depth=1, n_estimators=100;, score=0.708 total time=   3.1s\n",
      "[CV 2/5] END learning_rate=0.75, max_depth=1, n_estimators=100;, score=0.706 total time=   3.6s\n",
      "[CV 3/5] END learning_rate=0.75, max_depth=1, n_estimators=100;, score=0.710 total time=   3.0s\n",
      "[CV 4/5] END learning_rate=0.75, max_depth=1, n_estimators=100;, score=0.705 total time=   3.5s\n",
      "[CV 5/5] END learning_rate=0.75, max_depth=1, n_estimators=100;, score=0.706 total time=   3.4s\n",
      "[CV 1/5] END learning_rate=0.75, max_depth=1, n_estimators=250;, score=0.708 total time=   8.4s\n",
      "[CV 2/5] END learning_rate=0.75, max_depth=1, n_estimators=250;, score=0.706 total time=   8.3s\n",
      "[CV 3/5] END learning_rate=0.75, max_depth=1, n_estimators=250;, score=0.710 total time=   9.2s\n",
      "[CV 4/5] END learning_rate=0.75, max_depth=1, n_estimators=250;, score=0.705 total time=   9.6s\n",
      "[CV 5/5] END learning_rate=0.75, max_depth=1, n_estimators=250;, score=0.706 total time=   9.4s\n",
      "[CV 1/5] END learning_rate=0.75, max_depth=1, n_estimators=500;, score=0.708 total time=  20.1s\n",
      "[CV 2/5] END learning_rate=0.75, max_depth=1, n_estimators=500;, score=0.706 total time=  16.4s\n",
      "[CV 3/5] END learning_rate=0.75, max_depth=1, n_estimators=500;, score=0.710 total time=  17.2s\n",
      "[CV 4/5] END learning_rate=0.75, max_depth=1, n_estimators=500;, score=0.705 total time=  14.5s\n",
      "[CV 5/5] END learning_rate=0.75, max_depth=1, n_estimators=500;, score=0.706 total time=  17.3s\n",
      "[CV 1/5] END learning_rate=0.75, max_depth=2, n_estimators=100;, score=0.703 total time=   3.9s\n",
      "[CV 2/5] END learning_rate=0.75, max_depth=2, n_estimators=100;, score=0.705 total time=   4.1s\n",
      "[CV 3/5] END learning_rate=0.75, max_depth=2, n_estimators=100;, score=0.708 total time=   4.4s\n",
      "[CV 4/5] END learning_rate=0.75, max_depth=2, n_estimators=100;, score=0.703 total time=   4.1s\n",
      "[CV 5/5] END learning_rate=0.75, max_depth=2, n_estimators=100;, score=0.705 total time=   4.2s\n",
      "[CV 1/5] END learning_rate=0.75, max_depth=2, n_estimators=250;, score=0.703 total time=  10.4s\n",
      "[CV 2/5] END learning_rate=0.75, max_depth=2, n_estimators=250;, score=0.705 total time=  10.6s\n",
      "[CV 3/5] END learning_rate=0.75, max_depth=2, n_estimators=250;, score=0.707 total time=  12.0s\n",
      "[CV 4/5] END learning_rate=0.75, max_depth=2, n_estimators=250;, score=0.704 total time=  10.4s\n",
      "[CV 5/5] END learning_rate=0.75, max_depth=2, n_estimators=250;, score=0.705 total time=  12.2s\n",
      "[CV 1/5] END learning_rate=0.75, max_depth=2, n_estimators=500;, score=0.703 total time=  20.4s\n",
      "[CV 2/5] END learning_rate=0.75, max_depth=2, n_estimators=500;, score=0.705 total time=  21.4s\n",
      "[CV 3/5] END learning_rate=0.75, max_depth=2, n_estimators=500;, score=0.707 total time=  21.3s\n",
      "[CV 4/5] END learning_rate=0.75, max_depth=2, n_estimators=500;, score=0.704 total time=  21.7s\n",
      "[CV 5/5] END learning_rate=0.75, max_depth=2, n_estimators=500;, score=0.705 total time=  22.1s\n",
      "[CV 1/5] END learning_rate=0.75, max_depth=3, n_estimators=100;, score=0.700 total time=   5.1s\n",
      "[CV 2/5] END learning_rate=0.75, max_depth=3, n_estimators=100;, score=0.706 total time=   5.0s\n",
      "[CV 3/5] END learning_rate=0.75, max_depth=3, n_estimators=100;, score=0.707 total time=   4.6s\n",
      "[CV 4/5] END learning_rate=0.75, max_depth=3, n_estimators=100;, score=0.701 total time=   5.0s\n",
      "[CV 5/5] END learning_rate=0.75, max_depth=3, n_estimators=100;, score=0.705 total time=   4.7s\n",
      "[CV 1/5] END learning_rate=0.75, max_depth=3, n_estimators=250;, score=0.700 total time=  12.6s\n",
      "[CV 2/5] END learning_rate=0.75, max_depth=3, n_estimators=250;, score=0.706 total time=  14.1s\n",
      "[CV 3/5] END learning_rate=0.75, max_depth=3, n_estimators=250;, score=0.706 total time=  12.5s\n",
      "[CV 4/5] END learning_rate=0.75, max_depth=3, n_estimators=250;, score=0.700 total time=  13.3s\n",
      "[CV 5/5] END learning_rate=0.75, max_depth=3, n_estimators=250;, score=0.705 total time=  13.0s\n",
      "[CV 1/5] END learning_rate=0.75, max_depth=3, n_estimators=500;, score=0.700 total time=  28.7s\n",
      "[CV 2/5] END learning_rate=0.75, max_depth=3, n_estimators=500;, score=0.706 total time=  26.1s\n",
      "[CV 3/5] END learning_rate=0.75, max_depth=3, n_estimators=500;, score=0.706 total time=  26.2s\n",
      "[CV 4/5] END learning_rate=0.75, max_depth=3, n_estimators=500;, score=0.700 total time=  25.4s\n",
      "[CV 5/5] END learning_rate=0.75, max_depth=3, n_estimators=500;, score=0.705 total time=  25.7s\n",
      "[CV 1/5] END learning_rate=0.75, max_depth=4, n_estimators=100;, score=0.702 total time=   7.0s\n",
      "[CV 2/5] END learning_rate=0.75, max_depth=4, n_estimators=100;, score=0.703 total time=   7.0s\n",
      "[CV 3/5] END learning_rate=0.75, max_depth=4, n_estimators=100;, score=0.709 total time=   6.8s\n",
      "[CV 4/5] END learning_rate=0.75, max_depth=4, n_estimators=100;, score=0.701 total time=   7.2s\n",
      "[CV 5/5] END learning_rate=0.75, max_depth=4, n_estimators=100;, score=0.705 total time=   5.7s\n",
      "[CV 1/5] END learning_rate=0.75, max_depth=4, n_estimators=250;, score=0.702 total time=  13.7s\n",
      "[CV 2/5] END learning_rate=0.75, max_depth=4, n_estimators=250;, score=0.704 total time=  15.2s\n",
      "[CV 3/5] END learning_rate=0.75, max_depth=4, n_estimators=250;, score=0.711 total time=  14.0s\n",
      "[CV 4/5] END learning_rate=0.75, max_depth=4, n_estimators=250;, score=0.701 total time=  13.3s\n",
      "[CV 5/5] END learning_rate=0.75, max_depth=4, n_estimators=250;, score=0.702 total time=  14.2s\n",
      "[CV 1/5] END learning_rate=0.75, max_depth=4, n_estimators=500;, score=0.702 total time=  30.8s\n",
      "[CV 2/5] END learning_rate=0.75, max_depth=4, n_estimators=500;, score=0.703 total time=  34.7s\n",
      "[CV 3/5] END learning_rate=0.75, max_depth=4, n_estimators=500;, score=0.712 total time=  34.0s\n",
      "[CV 4/5] END learning_rate=0.75, max_depth=4, n_estimators=500;, score=0.701 total time=  34.5s\n",
      "[CV 5/5] END learning_rate=0.75, max_depth=4, n_estimators=500;, score=0.702 total time=  30.7s\n",
      "[CV 1/5] END learning_rate=0.75, max_depth=5, n_estimators=100;, score=0.700 total time=   6.0s\n",
      "[CV 2/5] END learning_rate=0.75, max_depth=5, n_estimators=100;, score=0.703 total time=   7.0s\n",
      "[CV 3/5] END learning_rate=0.75, max_depth=5, n_estimators=100;, score=0.712 total time=   7.8s\n",
      "[CV 4/5] END learning_rate=0.75, max_depth=5, n_estimators=100;, score=0.696 total time=   8.5s\n",
      "[CV 5/5] END learning_rate=0.75, max_depth=5, n_estimators=100;, score=0.706 total time=   8.8s\n",
      "[CV 1/5] END learning_rate=0.75, max_depth=5, n_estimators=250;, score=0.701 total time=  18.5s\n",
      "[CV 2/5] END learning_rate=0.75, max_depth=5, n_estimators=250;, score=0.703 total time=  17.4s\n",
      "[CV 3/5] END learning_rate=0.75, max_depth=5, n_estimators=250;, score=0.712 total time=  17.7s\n",
      "[CV 4/5] END learning_rate=0.75, max_depth=5, n_estimators=250;, score=0.697 total time=  16.6s\n"
     ]
    },
    {
     "name": "stdout",
     "output_type": "stream",
     "text": [
      "[CV 5/5] END learning_rate=0.75, max_depth=5, n_estimators=250;, score=0.706 total time=  19.3s\n",
      "[CV 1/5] END learning_rate=0.75, max_depth=5, n_estimators=500;, score=0.701 total time=  42.1s\n",
      "[CV 2/5] END learning_rate=0.75, max_depth=5, n_estimators=500;, score=0.703 total time=  37.2s\n",
      "[CV 3/5] END learning_rate=0.75, max_depth=5, n_estimators=500;, score=0.711 total time=  38.9s\n",
      "[CV 4/5] END learning_rate=0.75, max_depth=5, n_estimators=500;, score=0.698 total time=  35.5s\n",
      "[CV 5/5] END learning_rate=0.75, max_depth=5, n_estimators=500;, score=0.705 total time=  38.0s\n"
     ]
    },
    {
     "data": {
      "text/plain": [
       "GridSearchCV(estimator=GradientBoostingClassifier(),\n",
       "             param_grid=[{'learning_rate': [0.1, 0.05, 0.01, 1, 0.5, 0.25,\n",
       "                                            0.75],\n",
       "                          'max_depth': [1, 2, 3, 4, 5],\n",
       "                          'n_estimators': [100, 250, 500]}],\n",
       "             verbose=3)"
      ]
     },
     "execution_count": 7,
     "metadata": {},
     "output_type": "execute_result"
    }
   ],
   "source": [
    "gs24.fit(X_train24, y_train24)"
   ]
  },
  {
   "cell_type": "code",
   "execution_count": 8,
   "id": "de2f7ec9",
   "metadata": {},
   "outputs": [
    {
     "name": "stdout",
     "output_type": "stream",
     "text": [
      "The best parameters found for the 24h DCW:\n",
      "{'learning_rate': 0.1, 'max_depth': 1, 'n_estimators': 250}\n",
      "The best estimator found for the 24h DCW:\n",
      "GradientBoostingClassifier(max_depth=1, n_estimators=250)\n"
     ]
    }
   ],
   "source": [
    "print(\"The best parameters found for the 24h DCW:\")\n",
    "print(gs24.best_params_)\n",
    "  \n",
    "#PRINT HOW OUR MODEL LOOKS AFTER HYPER-PARAMETER TUNING\n",
    "print(\"The best estimator found for the 24h DCW:\")\n",
    "print(gs24.best_estimator_)"
   ]
  },
  {
   "cell_type": "code",
   "execution_count": 9,
   "id": "3c8a9bd4",
   "metadata": {},
   "outputs": [
    {
     "name": "stdout",
     "output_type": "stream",
     "text": [
      "Fitting 5 folds for each of 105 candidates, totalling 525 fits\n",
      "[CV 1/5] END learning_rate=0.1, max_depth=1, n_estimators=100;, score=0.764 total time=   2.4s\n",
      "[CV 2/5] END learning_rate=0.1, max_depth=1, n_estimators=100;, score=0.764 total time=   1.7s\n",
      "[CV 3/5] END learning_rate=0.1, max_depth=1, n_estimators=100;, score=0.763 total time=   2.1s\n",
      "[CV 4/5] END learning_rate=0.1, max_depth=1, n_estimators=100;, score=0.764 total time=   1.7s\n",
      "[CV 5/5] END learning_rate=0.1, max_depth=1, n_estimators=100;, score=0.764 total time=   2.3s\n",
      "[CV 1/5] END learning_rate=0.1, max_depth=1, n_estimators=250;, score=0.764 total time=   5.6s\n",
      "[CV 2/5] END learning_rate=0.1, max_depth=1, n_estimators=250;, score=0.764 total time=   5.6s\n",
      "[CV 3/5] END learning_rate=0.1, max_depth=1, n_estimators=250;, score=0.763 total time=   4.3s\n",
      "[CV 4/5] END learning_rate=0.1, max_depth=1, n_estimators=250;, score=0.764 total time=   5.1s\n",
      "[CV 5/5] END learning_rate=0.1, max_depth=1, n_estimators=250;, score=0.764 total time=   4.4s\n",
      "[CV 1/5] END learning_rate=0.1, max_depth=1, n_estimators=500;, score=0.764 total time=   8.4s\n",
      "[CV 2/5] END learning_rate=0.1, max_depth=1, n_estimators=500;, score=0.764 total time=  10.5s\n",
      "[CV 3/5] END learning_rate=0.1, max_depth=1, n_estimators=500;, score=0.763 total time=  10.8s\n",
      "[CV 4/5] END learning_rate=0.1, max_depth=1, n_estimators=500;, score=0.764 total time=  12.0s\n",
      "[CV 5/5] END learning_rate=0.1, max_depth=1, n_estimators=500;, score=0.764 total time=  10.0s\n",
      "[CV 1/5] END learning_rate=0.1, max_depth=2, n_estimators=100;, score=0.761 total time=   2.4s\n",
      "[CV 2/5] END learning_rate=0.1, max_depth=2, n_estimators=100;, score=0.765 total time=   2.2s\n",
      "[CV 3/5] END learning_rate=0.1, max_depth=2, n_estimators=100;, score=0.763 total time=   2.5s\n",
      "[CV 4/5] END learning_rate=0.1, max_depth=2, n_estimators=100;, score=0.763 total time=   2.3s\n",
      "[CV 5/5] END learning_rate=0.1, max_depth=2, n_estimators=100;, score=0.764 total time=   2.9s\n",
      "[CV 1/5] END learning_rate=0.1, max_depth=2, n_estimators=250;, score=0.761 total time=   5.7s\n",
      "[CV 2/5] END learning_rate=0.1, max_depth=2, n_estimators=250;, score=0.764 total time=   7.1s\n",
      "[CV 3/5] END learning_rate=0.1, max_depth=2, n_estimators=250;, score=0.763 total time=   6.5s\n",
      "[CV 4/5] END learning_rate=0.1, max_depth=2, n_estimators=250;, score=0.765 total time=   6.4s\n",
      "[CV 5/5] END learning_rate=0.1, max_depth=2, n_estimators=250;, score=0.763 total time=   5.9s\n",
      "[CV 1/5] END learning_rate=0.1, max_depth=2, n_estimators=500;, score=0.761 total time=  13.0s\n",
      "[CV 2/5] END learning_rate=0.1, max_depth=2, n_estimators=500;, score=0.764 total time=  10.6s\n",
      "[CV 3/5] END learning_rate=0.1, max_depth=2, n_estimators=500;, score=0.763 total time=  11.7s\n",
      "[CV 4/5] END learning_rate=0.1, max_depth=2, n_estimators=500;, score=0.766 total time=  11.8s\n",
      "[CV 5/5] END learning_rate=0.1, max_depth=2, n_estimators=500;, score=0.763 total time=  13.2s\n",
      "[CV 1/5] END learning_rate=0.1, max_depth=3, n_estimators=100;, score=0.761 total time=   3.2s\n",
      "[CV 2/5] END learning_rate=0.1, max_depth=3, n_estimators=100;, score=0.765 total time=   2.8s\n",
      "[CV 3/5] END learning_rate=0.1, max_depth=3, n_estimators=100;, score=0.762 total time=   3.4s\n",
      "[CV 4/5] END learning_rate=0.1, max_depth=3, n_estimators=100;, score=0.764 total time=   3.1s\n",
      "[CV 5/5] END learning_rate=0.1, max_depth=3, n_estimators=100;, score=0.762 total time=   3.1s\n",
      "[CV 1/5] END learning_rate=0.1, max_depth=3, n_estimators=250;, score=0.761 total time=   7.2s\n",
      "[CV 2/5] END learning_rate=0.1, max_depth=3, n_estimators=250;, score=0.763 total time=   6.4s\n",
      "[CV 3/5] END learning_rate=0.1, max_depth=3, n_estimators=250;, score=0.764 total time=   8.1s\n",
      "[CV 4/5] END learning_rate=0.1, max_depth=3, n_estimators=250;, score=0.764 total time=   7.5s\n",
      "[CV 5/5] END learning_rate=0.1, max_depth=3, n_estimators=250;, score=0.762 total time=   8.5s\n",
      "[CV 1/5] END learning_rate=0.1, max_depth=3, n_estimators=500;, score=0.759 total time=  15.4s\n",
      "[CV 2/5] END learning_rate=0.1, max_depth=3, n_estimators=500;, score=0.760 total time=  14.6s\n",
      "[CV 3/5] END learning_rate=0.1, max_depth=3, n_estimators=500;, score=0.764 total time=  16.2s\n",
      "[CV 4/5] END learning_rate=0.1, max_depth=3, n_estimators=500;, score=0.764 total time=  16.2s\n",
      "[CV 5/5] END learning_rate=0.1, max_depth=3, n_estimators=500;, score=0.761 total time=  14.0s\n",
      "[CV 1/5] END learning_rate=0.1, max_depth=4, n_estimators=100;, score=0.762 total time=   3.6s\n",
      "[CV 2/5] END learning_rate=0.1, max_depth=4, n_estimators=100;, score=0.759 total time=   3.0s\n",
      "[CV 3/5] END learning_rate=0.1, max_depth=4, n_estimators=100;, score=0.764 total time=   3.5s\n",
      "[CV 4/5] END learning_rate=0.1, max_depth=4, n_estimators=100;, score=0.764 total time=   4.0s\n",
      "[CV 5/5] END learning_rate=0.1, max_depth=4, n_estimators=100;, score=0.760 total time=   4.1s\n",
      "[CV 1/5] END learning_rate=0.1, max_depth=4, n_estimators=250;, score=0.761 total time=  10.3s\n",
      "[CV 2/5] END learning_rate=0.1, max_depth=4, n_estimators=250;, score=0.759 total time=   8.4s\n",
      "[CV 3/5] END learning_rate=0.1, max_depth=4, n_estimators=250;, score=0.764 total time=   9.7s\n",
      "[CV 4/5] END learning_rate=0.1, max_depth=4, n_estimators=250;, score=0.760 total time=   7.5s\n",
      "[CV 5/5] END learning_rate=0.1, max_depth=4, n_estimators=250;, score=0.759 total time=   7.6s\n",
      "[CV 1/5] END learning_rate=0.1, max_depth=4, n_estimators=500;, score=0.762 total time=  15.7s\n",
      "[CV 2/5] END learning_rate=0.1, max_depth=4, n_estimators=500;, score=0.760 total time=  17.5s\n",
      "[CV 3/5] END learning_rate=0.1, max_depth=4, n_estimators=500;, score=0.764 total time=  19.8s\n",
      "[CV 4/5] END learning_rate=0.1, max_depth=4, n_estimators=500;, score=0.760 total time=  16.8s\n",
      "[CV 5/5] END learning_rate=0.1, max_depth=4, n_estimators=500;, score=0.758 total time=  19.4s\n",
      "[CV 1/5] END learning_rate=0.1, max_depth=5, n_estimators=100;, score=0.763 total time=   4.8s\n",
      "[CV 2/5] END learning_rate=0.1, max_depth=5, n_estimators=100;, score=0.760 total time=   5.2s\n",
      "[CV 3/5] END learning_rate=0.1, max_depth=5, n_estimators=100;, score=0.764 total time=   5.0s\n",
      "[CV 4/5] END learning_rate=0.1, max_depth=5, n_estimators=100;, score=0.760 total time=   4.1s\n",
      "[CV 5/5] END learning_rate=0.1, max_depth=5, n_estimators=100;, score=0.760 total time=   4.7s\n",
      "[CV 1/5] END learning_rate=0.1, max_depth=5, n_estimators=250;, score=0.763 total time=  11.8s\n",
      "[CV 2/5] END learning_rate=0.1, max_depth=5, n_estimators=250;, score=0.759 total time=  11.7s\n",
      "[CV 3/5] END learning_rate=0.1, max_depth=5, n_estimators=250;, score=0.764 total time=  14.3s\n",
      "[CV 4/5] END learning_rate=0.1, max_depth=5, n_estimators=250;, score=0.760 total time=  13.0s\n",
      "[CV 5/5] END learning_rate=0.1, max_depth=5, n_estimators=250;, score=0.760 total time=  10.5s\n",
      "[CV 1/5] END learning_rate=0.1, max_depth=5, n_estimators=500;, score=0.762 total time=  23.8s\n",
      "[CV 2/5] END learning_rate=0.1, max_depth=5, n_estimators=500;, score=0.760 total time=  20.5s\n",
      "[CV 3/5] END learning_rate=0.1, max_depth=5, n_estimators=500;, score=0.765 total time=  23.6s\n",
      "[CV 4/5] END learning_rate=0.1, max_depth=5, n_estimators=500;, score=0.760 total time=  25.6s\n",
      "[CV 5/5] END learning_rate=0.1, max_depth=5, n_estimators=500;, score=0.761 total time=  24.4s\n",
      "[CV 1/5] END learning_rate=0.05, max_depth=1, n_estimators=100;, score=0.764 total time=   2.0s\n",
      "[CV 2/5] END learning_rate=0.05, max_depth=1, n_estimators=100;, score=0.764 total time=   2.3s\n",
      "[CV 3/5] END learning_rate=0.05, max_depth=1, n_estimators=100;, score=0.763 total time=   1.8s\n",
      "[CV 4/5] END learning_rate=0.05, max_depth=1, n_estimators=100;, score=0.764 total time=   2.3s\n",
      "[CV 5/5] END learning_rate=0.05, max_depth=1, n_estimators=100;, score=0.764 total time=   1.6s\n",
      "[CV 1/5] END learning_rate=0.05, max_depth=1, n_estimators=250;, score=0.764 total time=   5.0s\n",
      "[CV 2/5] END learning_rate=0.05, max_depth=1, n_estimators=250;, score=0.764 total time=   4.6s\n",
      "[CV 3/5] END learning_rate=0.05, max_depth=1, n_estimators=250;, score=0.763 total time=   4.4s\n",
      "[CV 4/5] END learning_rate=0.05, max_depth=1, n_estimators=250;, score=0.764 total time=   4.5s\n",
      "[CV 5/5] END learning_rate=0.05, max_depth=1, n_estimators=250;, score=0.764 total time=   5.7s\n",
      "[CV 1/5] END learning_rate=0.05, max_depth=1, n_estimators=500;, score=0.764 total time=  10.3s\n"
     ]
    },
    {
     "name": "stdout",
     "output_type": "stream",
     "text": [
      "[CV 2/5] END learning_rate=0.05, max_depth=1, n_estimators=500;, score=0.764 total time=  10.2s\n",
      "[CV 3/5] END learning_rate=0.05, max_depth=1, n_estimators=500;, score=0.763 total time=   9.8s\n",
      "[CV 4/5] END learning_rate=0.05, max_depth=1, n_estimators=500;, score=0.764 total time=  10.4s\n",
      "[CV 5/5] END learning_rate=0.05, max_depth=1, n_estimators=500;, score=0.764 total time=  11.2s\n",
      "[CV 1/5] END learning_rate=0.05, max_depth=2, n_estimators=100;, score=0.763 total time=   2.8s\n",
      "[CV 2/5] END learning_rate=0.05, max_depth=2, n_estimators=100;, score=0.764 total time=   2.1s\n",
      "[CV 3/5] END learning_rate=0.05, max_depth=2, n_estimators=100;, score=0.763 total time=   1.8s\n",
      "[CV 4/5] END learning_rate=0.05, max_depth=2, n_estimators=100;, score=0.763 total time=   1.9s\n",
      "[CV 5/5] END learning_rate=0.05, max_depth=2, n_estimators=100;, score=0.763 total time=   2.1s\n",
      "[CV 1/5] END learning_rate=0.05, max_depth=2, n_estimators=250;, score=0.762 total time=   4.6s\n",
      "[CV 2/5] END learning_rate=0.05, max_depth=2, n_estimators=250;, score=0.765 total time=   5.0s\n",
      "[CV 3/5] END learning_rate=0.05, max_depth=2, n_estimators=250;, score=0.763 total time=   6.2s\n",
      "[CV 4/5] END learning_rate=0.05, max_depth=2, n_estimators=250;, score=0.765 total time=   4.6s\n",
      "[CV 5/5] END learning_rate=0.05, max_depth=2, n_estimators=250;, score=0.763 total time=   4.5s\n",
      "[CV 1/5] END learning_rate=0.05, max_depth=2, n_estimators=500;, score=0.761 total time=   9.3s\n",
      "[CV 2/5] END learning_rate=0.05, max_depth=2, n_estimators=500;, score=0.764 total time=   9.7s\n",
      "[CV 3/5] END learning_rate=0.05, max_depth=2, n_estimators=500;, score=0.763 total time=   9.2s\n",
      "[CV 4/5] END learning_rate=0.05, max_depth=2, n_estimators=500;, score=0.765 total time=   9.8s\n",
      "[CV 5/5] END learning_rate=0.05, max_depth=2, n_estimators=500;, score=0.763 total time=  10.2s\n",
      "[CV 1/5] END learning_rate=0.05, max_depth=3, n_estimators=100;, score=0.763 total time=   2.5s\n",
      "[CV 2/5] END learning_rate=0.05, max_depth=3, n_estimators=100;, score=0.764 total time=   3.5s\n",
      "[CV 3/5] END learning_rate=0.05, max_depth=3, n_estimators=100;, score=0.763 total time=   3.4s\n",
      "[CV 4/5] END learning_rate=0.05, max_depth=3, n_estimators=100;, score=0.765 total time=   3.4s\n",
      "[CV 5/5] END learning_rate=0.05, max_depth=3, n_estimators=100;, score=0.762 total time=   3.5s\n",
      "[CV 1/5] END learning_rate=0.05, max_depth=3, n_estimators=250;, score=0.762 total time=   6.8s\n",
      "[CV 2/5] END learning_rate=0.05, max_depth=3, n_estimators=250;, score=0.765 total time=   5.9s\n",
      "[CV 3/5] END learning_rate=0.05, max_depth=3, n_estimators=250;, score=0.762 total time=   5.4s\n",
      "[CV 4/5] END learning_rate=0.05, max_depth=3, n_estimators=250;, score=0.762 total time=   5.6s\n",
      "[CV 5/5] END learning_rate=0.05, max_depth=3, n_estimators=250;, score=0.762 total time=   5.9s\n",
      "[CV 1/5] END learning_rate=0.05, max_depth=3, n_estimators=500;, score=0.761 total time=  12.1s\n",
      "[CV 2/5] END learning_rate=0.05, max_depth=3, n_estimators=500;, score=0.764 total time=  11.8s\n",
      "[CV 3/5] END learning_rate=0.05, max_depth=3, n_estimators=500;, score=0.763 total time=  14.8s\n",
      "[CV 4/5] END learning_rate=0.05, max_depth=3, n_estimators=500;, score=0.763 total time=  15.2s\n",
      "[CV 5/5] END learning_rate=0.05, max_depth=3, n_estimators=500;, score=0.761 total time=  22.0s\n",
      "[CV 1/5] END learning_rate=0.05, max_depth=4, n_estimators=100;, score=0.762 total time=   5.1s\n",
      "[CV 2/5] END learning_rate=0.05, max_depth=4, n_estimators=100;, score=0.762 total time=   5.0s\n",
      "[CV 3/5] END learning_rate=0.05, max_depth=4, n_estimators=100;, score=0.762 total time=   4.9s\n",
      "[CV 4/5] END learning_rate=0.05, max_depth=4, n_estimators=100;, score=0.761 total time=   4.9s\n",
      "[CV 5/5] END learning_rate=0.05, max_depth=4, n_estimators=100;, score=0.762 total time=   5.0s\n",
      "[CV 1/5] END learning_rate=0.05, max_depth=4, n_estimators=250;, score=0.762 total time=  12.5s\n",
      "[CV 2/5] END learning_rate=0.05, max_depth=4, n_estimators=250;, score=0.764 total time=  11.1s\n",
      "[CV 3/5] END learning_rate=0.05, max_depth=4, n_estimators=250;, score=0.764 total time=   9.8s\n",
      "[CV 4/5] END learning_rate=0.05, max_depth=4, n_estimators=250;, score=0.764 total time=  10.5s\n",
      "[CV 5/5] END learning_rate=0.05, max_depth=4, n_estimators=250;, score=0.760 total time=  10.8s\n",
      "[CV 1/5] END learning_rate=0.05, max_depth=4, n_estimators=500;, score=0.763 total time=  20.4s\n",
      "[CV 2/5] END learning_rate=0.05, max_depth=4, n_estimators=500;, score=0.760 total time=  21.4s\n",
      "[CV 3/5] END learning_rate=0.05, max_depth=4, n_estimators=500;, score=0.763 total time=  18.6s\n",
      "[CV 4/5] END learning_rate=0.05, max_depth=4, n_estimators=500;, score=0.762 total time=  15.3s\n",
      "[CV 5/5] END learning_rate=0.05, max_depth=4, n_estimators=500;, score=0.758 total time=  13.2s\n",
      "[CV 1/5] END learning_rate=0.05, max_depth=5, n_estimators=100;, score=0.764 total time=   3.3s\n",
      "[CV 2/5] END learning_rate=0.05, max_depth=5, n_estimators=100;, score=0.759 total time=   3.5s\n",
      "[CV 3/5] END learning_rate=0.05, max_depth=5, n_estimators=100;, score=0.765 total time=   3.3s\n",
      "[CV 4/5] END learning_rate=0.05, max_depth=5, n_estimators=100;, score=0.764 total time=   3.2s\n",
      "[CV 5/5] END learning_rate=0.05, max_depth=5, n_estimators=100;, score=0.762 total time=   3.3s\n",
      "[CV 1/5] END learning_rate=0.05, max_depth=5, n_estimators=250;, score=0.763 total time=   8.1s\n",
      "[CV 2/5] END learning_rate=0.05, max_depth=5, n_estimators=250;, score=0.761 total time=   8.1s\n",
      "[CV 3/5] END learning_rate=0.05, max_depth=5, n_estimators=250;, score=0.763 total time=  12.9s\n",
      "[CV 4/5] END learning_rate=0.05, max_depth=5, n_estimators=250;, score=0.760 total time=  12.8s\n",
      "[CV 5/5] END learning_rate=0.05, max_depth=5, n_estimators=250;, score=0.759 total time=  11.1s\n",
      "[CV 1/5] END learning_rate=0.05, max_depth=5, n_estimators=500;, score=0.763 total time=  16.7s\n",
      "[CV 2/5] END learning_rate=0.05, max_depth=5, n_estimators=500;, score=0.759 total time=  17.3s\n",
      "[CV 3/5] END learning_rate=0.05, max_depth=5, n_estimators=500;, score=0.764 total time=  17.3s\n",
      "[CV 4/5] END learning_rate=0.05, max_depth=5, n_estimators=500;, score=0.760 total time=  18.7s\n",
      "[CV 5/5] END learning_rate=0.05, max_depth=5, n_estimators=500;, score=0.759 total time=  25.8s\n",
      "[CV 1/5] END learning_rate=0.01, max_depth=1, n_estimators=100;, score=0.764 total time=   2.3s\n",
      "[CV 2/5] END learning_rate=0.01, max_depth=1, n_estimators=100;, score=0.764 total time=   2.3s\n",
      "[CV 3/5] END learning_rate=0.01, max_depth=1, n_estimators=100;, score=0.763 total time=   2.3s\n",
      "[CV 4/5] END learning_rate=0.01, max_depth=1, n_estimators=100;, score=0.764 total time=   2.3s\n",
      "[CV 5/5] END learning_rate=0.01, max_depth=1, n_estimators=100;, score=0.764 total time=   2.3s\n",
      "[CV 1/5] END learning_rate=0.01, max_depth=1, n_estimators=250;, score=0.764 total time=   5.6s\n",
      "[CV 2/5] END learning_rate=0.01, max_depth=1, n_estimators=250;, score=0.764 total time=   3.9s\n",
      "[CV 3/5] END learning_rate=0.01, max_depth=1, n_estimators=250;, score=0.763 total time=   4.7s\n",
      "[CV 4/5] END learning_rate=0.01, max_depth=1, n_estimators=250;, score=0.764 total time=   3.8s\n",
      "[CV 5/5] END learning_rate=0.01, max_depth=1, n_estimators=250;, score=0.764 total time=   3.9s\n",
      "[CV 1/5] END learning_rate=0.01, max_depth=1, n_estimators=500;, score=0.764 total time=   7.7s\n",
      "[CV 2/5] END learning_rate=0.01, max_depth=1, n_estimators=500;, score=0.764 total time=  10.6s\n",
      "[CV 3/5] END learning_rate=0.01, max_depth=1, n_estimators=500;, score=0.763 total time=   7.1s\n",
      "[CV 4/5] END learning_rate=0.01, max_depth=1, n_estimators=500;, score=0.764 total time=   7.4s\n",
      "[CV 5/5] END learning_rate=0.01, max_depth=1, n_estimators=500;, score=0.764 total time=   7.4s\n",
      "[CV 1/5] END learning_rate=0.01, max_depth=2, n_estimators=100;, score=0.764 total time=   1.9s\n",
      "[CV 2/5] END learning_rate=0.01, max_depth=2, n_estimators=100;, score=0.764 total time=   1.8s\n",
      "[CV 3/5] END learning_rate=0.01, max_depth=2, n_estimators=100;, score=0.763 total time=   1.9s\n",
      "[CV 4/5] END learning_rate=0.01, max_depth=2, n_estimators=100;, score=0.764 total time=   2.9s\n",
      "[CV 5/5] END learning_rate=0.01, max_depth=2, n_estimators=100;, score=0.764 total time=   2.8s\n",
      "[CV 1/5] END learning_rate=0.01, max_depth=2, n_estimators=250;, score=0.764 total time=   7.0s\n",
      "[CV 2/5] END learning_rate=0.01, max_depth=2, n_estimators=250;, score=0.764 total time=   6.5s\n"
     ]
    },
    {
     "name": "stdout",
     "output_type": "stream",
     "text": [
      "[CV 3/5] END learning_rate=0.01, max_depth=2, n_estimators=250;, score=0.763 total time=   4.2s\n",
      "[CV 4/5] END learning_rate=0.01, max_depth=2, n_estimators=250;, score=0.764 total time=   4.3s\n",
      "[CV 5/5] END learning_rate=0.01, max_depth=2, n_estimators=250;, score=0.763 total time=   4.4s\n",
      "[CV 1/5] END learning_rate=0.01, max_depth=2, n_estimators=500;, score=0.763 total time=   8.5s\n",
      "[CV 2/5] END learning_rate=0.01, max_depth=2, n_estimators=500;, score=0.764 total time=   8.5s\n",
      "[CV 3/5] END learning_rate=0.01, max_depth=2, n_estimators=500;, score=0.763 total time=   8.6s\n",
      "[CV 4/5] END learning_rate=0.01, max_depth=2, n_estimators=500;, score=0.764 total time=   8.4s\n",
      "[CV 5/5] END learning_rate=0.01, max_depth=2, n_estimators=500;, score=0.763 total time=   8.9s\n",
      "[CV 1/5] END learning_rate=0.01, max_depth=3, n_estimators=100;, score=0.764 total time=   2.3s\n",
      "[CV 2/5] END learning_rate=0.01, max_depth=3, n_estimators=100;, score=0.764 total time=   2.3s\n",
      "[CV 3/5] END learning_rate=0.01, max_depth=3, n_estimators=100;, score=0.763 total time=   2.2s\n",
      "[CV 4/5] END learning_rate=0.01, max_depth=3, n_estimators=100;, score=0.764 total time=   2.1s\n",
      "[CV 5/5] END learning_rate=0.01, max_depth=3, n_estimators=100;, score=0.763 total time=   1.9s\n",
      "[CV 1/5] END learning_rate=0.01, max_depth=3, n_estimators=250;, score=0.762 total time=   5.3s\n",
      "[CV 2/5] END learning_rate=0.01, max_depth=3, n_estimators=250;, score=0.763 total time=   5.3s\n",
      "[CV 3/5] END learning_rate=0.01, max_depth=3, n_estimators=250;, score=0.763 total time=   4.9s\n",
      "[CV 4/5] END learning_rate=0.01, max_depth=3, n_estimators=250;, score=0.764 total time=   5.1s\n",
      "[CV 5/5] END learning_rate=0.01, max_depth=3, n_estimators=250;, score=0.764 total time=   5.6s\n",
      "[CV 1/5] END learning_rate=0.01, max_depth=3, n_estimators=500;, score=0.763 total time=  10.3s\n",
      "[CV 2/5] END learning_rate=0.01, max_depth=3, n_estimators=500;, score=0.764 total time=  11.0s\n",
      "[CV 3/5] END learning_rate=0.01, max_depth=3, n_estimators=500;, score=0.762 total time=  10.3s\n",
      "[CV 4/5] END learning_rate=0.01, max_depth=3, n_estimators=500;, score=0.765 total time=  10.4s\n",
      "[CV 5/5] END learning_rate=0.01, max_depth=3, n_estimators=500;, score=0.762 total time=  10.1s\n",
      "[CV 1/5] END learning_rate=0.01, max_depth=4, n_estimators=100;, score=0.765 total time=   2.7s\n",
      "[CV 2/5] END learning_rate=0.01, max_depth=4, n_estimators=100;, score=0.765 total time=   2.6s\n",
      "[CV 3/5] END learning_rate=0.01, max_depth=4, n_estimators=100;, score=0.763 total time=   2.7s\n",
      "[CV 4/5] END learning_rate=0.01, max_depth=4, n_estimators=100;, score=0.765 total time=   2.9s\n",
      "[CV 5/5] END learning_rate=0.01, max_depth=4, n_estimators=100;, score=0.764 total time=   2.5s\n",
      "[CV 1/5] END learning_rate=0.01, max_depth=4, n_estimators=250;, score=0.764 total time=   6.8s\n",
      "[CV 2/5] END learning_rate=0.01, max_depth=4, n_estimators=250;, score=0.763 total time=   6.2s\n",
      "[CV 3/5] END learning_rate=0.01, max_depth=4, n_estimators=250;, score=0.762 total time=   6.3s\n",
      "[CV 4/5] END learning_rate=0.01, max_depth=4, n_estimators=250;, score=0.765 total time=   6.3s\n",
      "[CV 5/5] END learning_rate=0.01, max_depth=4, n_estimators=250;, score=0.763 total time=   6.1s\n",
      "[CV 1/5] END learning_rate=0.01, max_depth=4, n_estimators=500;, score=0.764 total time=  12.6s\n",
      "[CV 2/5] END learning_rate=0.01, max_depth=4, n_estimators=500;, score=0.763 total time=  12.3s\n",
      "[CV 3/5] END learning_rate=0.01, max_depth=4, n_estimators=500;, score=0.762 total time=  12.9s\n",
      "[CV 4/5] END learning_rate=0.01, max_depth=4, n_estimators=500;, score=0.763 total time=  12.1s\n",
      "[CV 5/5] END learning_rate=0.01, max_depth=4, n_estimators=500;, score=0.762 total time=  12.0s\n",
      "[CV 1/5] END learning_rate=0.01, max_depth=5, n_estimators=100;, score=0.765 total time=   2.9s\n",
      "[CV 2/5] END learning_rate=0.01, max_depth=5, n_estimators=100;, score=0.766 total time=   3.0s\n",
      "[CV 3/5] END learning_rate=0.01, max_depth=5, n_estimators=100;, score=0.763 total time=   3.0s\n",
      "[CV 4/5] END learning_rate=0.01, max_depth=5, n_estimators=100;, score=0.765 total time=   3.2s\n",
      "[CV 5/5] END learning_rate=0.01, max_depth=5, n_estimators=100;, score=0.764 total time=   3.3s\n",
      "[CV 1/5] END learning_rate=0.01, max_depth=5, n_estimators=250;, score=0.765 total time=   7.4s\n",
      "[CV 2/5] END learning_rate=0.01, max_depth=5, n_estimators=250;, score=0.762 total time=   8.1s\n",
      "[CV 3/5] END learning_rate=0.01, max_depth=5, n_estimators=250;, score=0.764 total time=   7.5s\n",
      "[CV 4/5] END learning_rate=0.01, max_depth=5, n_estimators=250;, score=0.765 total time=   7.3s\n",
      "[CV 5/5] END learning_rate=0.01, max_depth=5, n_estimators=250;, score=0.763 total time=   7.6s\n",
      "[CV 1/5] END learning_rate=0.01, max_depth=5, n_estimators=500;, score=0.765 total time=  15.0s\n",
      "[CV 2/5] END learning_rate=0.01, max_depth=5, n_estimators=500;, score=0.760 total time=  15.5s\n",
      "[CV 3/5] END learning_rate=0.01, max_depth=5, n_estimators=500;, score=0.765 total time=  15.1s\n",
      "[CV 4/5] END learning_rate=0.01, max_depth=5, n_estimators=500;, score=0.763 total time=  15.4s\n",
      "[CV 5/5] END learning_rate=0.01, max_depth=5, n_estimators=500;, score=0.761 total time=  15.5s\n",
      "[CV 1/5] END learning_rate=1, max_depth=1, n_estimators=100;, score=0.764 total time=   1.3s\n",
      "[CV 2/5] END learning_rate=1, max_depth=1, n_estimators=100;, score=0.764 total time=   1.4s\n",
      "[CV 3/5] END learning_rate=1, max_depth=1, n_estimators=100;, score=0.763 total time=   1.5s\n",
      "[CV 4/5] END learning_rate=1, max_depth=1, n_estimators=100;, score=0.764 total time=   1.3s\n",
      "[CV 5/5] END learning_rate=1, max_depth=1, n_estimators=100;, score=0.764 total time=   1.5s\n",
      "[CV 1/5] END learning_rate=1, max_depth=1, n_estimators=250;, score=0.764 total time=   3.6s\n",
      "[CV 2/5] END learning_rate=1, max_depth=1, n_estimators=250;, score=0.764 total time=   3.5s\n",
      "[CV 3/5] END learning_rate=1, max_depth=1, n_estimators=250;, score=0.763 total time=   3.5s\n",
      "[CV 4/5] END learning_rate=1, max_depth=1, n_estimators=250;, score=0.764 total time=   3.4s\n",
      "[CV 5/5] END learning_rate=1, max_depth=1, n_estimators=250;, score=0.764 total time=   3.5s\n",
      "[CV 1/5] END learning_rate=1, max_depth=1, n_estimators=500;, score=0.764 total time=   7.0s\n",
      "[CV 2/5] END learning_rate=1, max_depth=1, n_estimators=500;, score=0.764 total time=   6.9s\n",
      "[CV 3/5] END learning_rate=1, max_depth=1, n_estimators=500;, score=0.763 total time=   7.6s\n",
      "[CV 4/5] END learning_rate=1, max_depth=1, n_estimators=500;, score=0.764 total time=   6.6s\n",
      "[CV 5/5] END learning_rate=1, max_depth=1, n_estimators=500;, score=0.764 total time=   6.3s\n",
      "[CV 1/5] END learning_rate=1, max_depth=2, n_estimators=100;, score=0.761 total time=   1.8s\n",
      "[CV 2/5] END learning_rate=1, max_depth=2, n_estimators=100;, score=0.763 total time=   1.6s\n",
      "[CV 3/5] END learning_rate=1, max_depth=2, n_estimators=100;, score=0.763 total time=   1.7s\n",
      "[CV 4/5] END learning_rate=1, max_depth=2, n_estimators=100;, score=0.766 total time=   1.8s\n",
      "[CV 5/5] END learning_rate=1, max_depth=2, n_estimators=100;, score=0.761 total time=   1.8s\n",
      "[CV 1/5] END learning_rate=1, max_depth=2, n_estimators=250;, score=0.761 total time=   4.1s\n",
      "[CV 2/5] END learning_rate=1, max_depth=2, n_estimators=250;, score=0.763 total time=   4.2s\n",
      "[CV 3/5] END learning_rate=1, max_depth=2, n_estimators=250;, score=0.763 total time=   4.4s\n",
      "[CV 4/5] END learning_rate=1, max_depth=2, n_estimators=250;, score=0.766 total time=   4.8s\n",
      "[CV 5/5] END learning_rate=1, max_depth=2, n_estimators=250;, score=0.761 total time=   4.5s\n",
      "[CV 1/5] END learning_rate=1, max_depth=2, n_estimators=500;, score=0.761 total time=   8.3s\n",
      "[CV 2/5] END learning_rate=1, max_depth=2, n_estimators=500;, score=0.763 total time=   8.6s\n",
      "[CV 3/5] END learning_rate=1, max_depth=2, n_estimators=500;, score=0.763 total time=   8.9s\n",
      "[CV 4/5] END learning_rate=1, max_depth=2, n_estimators=500;, score=0.766 total time=   8.6s\n",
      "[CV 5/5] END learning_rate=1, max_depth=2, n_estimators=500;, score=0.761 total time=   8.9s\n",
      "[CV 1/5] END learning_rate=1, max_depth=3, n_estimators=100;, score=0.760 total time=   2.4s\n",
      "[CV 2/5] END learning_rate=1, max_depth=3, n_estimators=100;, score=0.759 total time=   2.1s\n",
      "[CV 3/5] END learning_rate=1, max_depth=3, n_estimators=100;, score=0.763 total time=   2.5s\n",
      "[CV 4/5] END learning_rate=1, max_depth=3, n_estimators=100;, score=0.764 total time=   2.1s\n"
     ]
    },
    {
     "name": "stdout",
     "output_type": "stream",
     "text": [
      "[CV 5/5] END learning_rate=1, max_depth=3, n_estimators=100;, score=0.760 total time=   2.1s\n",
      "[CV 1/5] END learning_rate=1, max_depth=3, n_estimators=250;, score=0.759 total time=   5.0s\n",
      "[CV 2/5] END learning_rate=1, max_depth=3, n_estimators=250;, score=0.758 total time=   5.1s\n",
      "[CV 3/5] END learning_rate=1, max_depth=3, n_estimators=250;, score=0.764 total time=   5.0s\n",
      "[CV 4/5] END learning_rate=1, max_depth=3, n_estimators=250;, score=0.762 total time=   5.2s\n",
      "[CV 5/5] END learning_rate=1, max_depth=3, n_estimators=250;, score=0.760 total time=   5.2s\n",
      "[CV 1/5] END learning_rate=1, max_depth=3, n_estimators=500;, score=0.761 total time=  10.1s\n",
      "[CV 2/5] END learning_rate=1, max_depth=3, n_estimators=500;, score=0.758 total time=  10.0s\n",
      "[CV 3/5] END learning_rate=1, max_depth=3, n_estimators=500;, score=0.764 total time=  10.6s\n",
      "[CV 4/5] END learning_rate=1, max_depth=3, n_estimators=500;, score=0.762 total time=   9.6s\n",
      "[CV 5/5] END learning_rate=1, max_depth=3, n_estimators=500;, score=0.760 total time=  10.1s\n",
      "[CV 1/5] END learning_rate=1, max_depth=4, n_estimators=100;, score=0.763 total time=   2.8s\n",
      "[CV 2/5] END learning_rate=1, max_depth=4, n_estimators=100;, score=0.761 total time=   2.7s\n",
      "[CV 3/5] END learning_rate=1, max_depth=4, n_estimators=100;, score=0.764 total time=   2.6s\n",
      "[CV 4/5] END learning_rate=1, max_depth=4, n_estimators=100;, score=0.760 total time=   2.5s\n",
      "[CV 5/5] END learning_rate=1, max_depth=4, n_estimators=100;, score=0.758 total time=   2.6s\n",
      "[CV 1/5] END learning_rate=1, max_depth=4, n_estimators=250;, score=0.764 total time=   6.6s\n",
      "[CV 2/5] END learning_rate=1, max_depth=4, n_estimators=250;, score=0.761 total time=   6.0s\n",
      "[CV 3/5] END learning_rate=1, max_depth=4, n_estimators=250;, score=0.764 total time=   6.3s\n",
      "[CV 4/5] END learning_rate=1, max_depth=4, n_estimators=250;, score=0.760 total time=   6.5s\n",
      "[CV 5/5] END learning_rate=1, max_depth=4, n_estimators=250;, score=0.758 total time=   6.5s\n",
      "[CV 1/5] END learning_rate=1, max_depth=4, n_estimators=500;, score=0.764 total time=  12.4s\n",
      "[CV 2/5] END learning_rate=1, max_depth=4, n_estimators=500;, score=0.761 total time=  13.4s\n",
      "[CV 3/5] END learning_rate=1, max_depth=4, n_estimators=500;, score=0.766 total time=  13.2s\n",
      "[CV 4/5] END learning_rate=1, max_depth=4, n_estimators=500;, score=0.761 total time=  12.7s\n",
      "[CV 5/5] END learning_rate=1, max_depth=4, n_estimators=500;, score=0.759 total time=  13.0s\n",
      "[CV 1/5] END learning_rate=1, max_depth=5, n_estimators=100;, score=0.762 total time=   3.2s\n",
      "[CV 2/5] END learning_rate=1, max_depth=5, n_estimators=100;, score=0.759 total time=   3.5s\n",
      "[CV 3/5] END learning_rate=1, max_depth=5, n_estimators=100;, score=0.765 total time=   3.3s\n",
      "[CV 4/5] END learning_rate=1, max_depth=5, n_estimators=100;, score=0.761 total time=   3.1s\n",
      "[CV 5/5] END learning_rate=1, max_depth=5, n_estimators=100;, score=0.758 total time=   3.3s\n",
      "[CV 1/5] END learning_rate=1, max_depth=5, n_estimators=250;, score=0.762 total time=   7.6s\n",
      "[CV 2/5] END learning_rate=1, max_depth=5, n_estimators=250;, score=0.759 total time=   7.8s\n",
      "[CV 3/5] END learning_rate=1, max_depth=5, n_estimators=250;, score=0.764 total time=   8.2s\n",
      "[CV 4/5] END learning_rate=1, max_depth=5, n_estimators=250;, score=0.762 total time=   8.0s\n",
      "[CV 5/5] END learning_rate=1, max_depth=5, n_estimators=250;, score=0.760 total time=   8.0s\n",
      "[CV 1/5] END learning_rate=1, max_depth=5, n_estimators=500;, score=0.762 total time=  15.8s\n",
      "[CV 2/5] END learning_rate=1, max_depth=5, n_estimators=500;, score=0.759 total time=  15.7s\n",
      "[CV 3/5] END learning_rate=1, max_depth=5, n_estimators=500;, score=0.764 total time=  16.9s\n",
      "[CV 4/5] END learning_rate=1, max_depth=5, n_estimators=500;, score=0.762 total time=  16.6s\n",
      "[CV 5/5] END learning_rate=1, max_depth=5, n_estimators=500;, score=0.760 total time=  16.5s\n",
      "[CV 1/5] END learning_rate=0.5, max_depth=1, n_estimators=100;, score=0.764 total time=   1.5s\n",
      "[CV 2/5] END learning_rate=0.5, max_depth=1, n_estimators=100;, score=0.764 total time=   1.6s\n",
      "[CV 3/5] END learning_rate=0.5, max_depth=1, n_estimators=100;, score=0.763 total time=   1.3s\n",
      "[CV 4/5] END learning_rate=0.5, max_depth=1, n_estimators=100;, score=0.764 total time=   1.3s\n",
      "[CV 5/5] END learning_rate=0.5, max_depth=1, n_estimators=100;, score=0.764 total time=   1.3s\n",
      "[CV 1/5] END learning_rate=0.5, max_depth=1, n_estimators=250;, score=0.764 total time=   3.2s\n",
      "[CV 2/5] END learning_rate=0.5, max_depth=1, n_estimators=250;, score=0.764 total time=   3.2s\n",
      "[CV 3/5] END learning_rate=0.5, max_depth=1, n_estimators=250;, score=0.763 total time=   3.2s\n",
      "[CV 4/5] END learning_rate=0.5, max_depth=1, n_estimators=250;, score=0.764 total time=   3.3s\n",
      "[CV 5/5] END learning_rate=0.5, max_depth=1, n_estimators=250;, score=0.764 total time=   3.5s\n",
      "[CV 1/5] END learning_rate=0.5, max_depth=1, n_estimators=500;, score=0.764 total time=   7.0s\n",
      "[CV 2/5] END learning_rate=0.5, max_depth=1, n_estimators=500;, score=0.764 total time=   7.2s\n",
      "[CV 3/5] END learning_rate=0.5, max_depth=1, n_estimators=500;, score=0.763 total time=   6.8s\n",
      "[CV 4/5] END learning_rate=0.5, max_depth=1, n_estimators=500;, score=0.764 total time=   6.2s\n",
      "[CV 5/5] END learning_rate=0.5, max_depth=1, n_estimators=500;, score=0.764 total time=   6.9s\n",
      "[CV 1/5] END learning_rate=0.5, max_depth=2, n_estimators=100;, score=0.761 total time=   1.7s\n",
      "[CV 2/5] END learning_rate=0.5, max_depth=2, n_estimators=100;, score=0.763 total time=   1.6s\n",
      "[CV 3/5] END learning_rate=0.5, max_depth=2, n_estimators=100;, score=0.763 total time=   1.8s\n",
      "[CV 4/5] END learning_rate=0.5, max_depth=2, n_estimators=100;, score=0.766 total time=   1.9s\n",
      "[CV 5/5] END learning_rate=0.5, max_depth=2, n_estimators=100;, score=0.763 total time=   1.6s\n",
      "[CV 1/5] END learning_rate=0.5, max_depth=2, n_estimators=250;, score=0.761 total time=   4.1s\n",
      "[CV 2/5] END learning_rate=0.5, max_depth=2, n_estimators=250;, score=0.763 total time=   4.3s\n",
      "[CV 3/5] END learning_rate=0.5, max_depth=2, n_estimators=250;, score=0.763 total time=   4.4s\n",
      "[CV 4/5] END learning_rate=0.5, max_depth=2, n_estimators=250;, score=0.766 total time=   4.0s\n",
      "[CV 5/5] END learning_rate=0.5, max_depth=2, n_estimators=250;, score=0.761 total time=   4.1s\n",
      "[CV 1/5] END learning_rate=0.5, max_depth=2, n_estimators=500;, score=0.761 total time=   8.3s\n",
      "[CV 2/5] END learning_rate=0.5, max_depth=2, n_estimators=500;, score=0.763 total time=   8.7s\n",
      "[CV 3/5] END learning_rate=0.5, max_depth=2, n_estimators=500;, score=0.763 total time=   8.3s\n",
      "[CV 4/5] END learning_rate=0.5, max_depth=2, n_estimators=500;, score=0.766 total time=   8.0s\n",
      "[CV 5/5] END learning_rate=0.5, max_depth=2, n_estimators=500;, score=0.761 total time=   8.2s\n",
      "[CV 1/5] END learning_rate=0.5, max_depth=3, n_estimators=100;, score=0.760 total time=   2.0s\n",
      "[CV 2/5] END learning_rate=0.5, max_depth=3, n_estimators=100;, score=0.760 total time=   2.1s\n",
      "[CV 3/5] END learning_rate=0.5, max_depth=3, n_estimators=100;, score=0.764 total time=   2.1s\n",
      "[CV 4/5] END learning_rate=0.5, max_depth=3, n_estimators=100;, score=0.764 total time=   2.2s\n",
      "[CV 5/5] END learning_rate=0.5, max_depth=3, n_estimators=100;, score=0.761 total time=   2.1s\n",
      "[CV 1/5] END learning_rate=0.5, max_depth=3, n_estimators=250;, score=0.759 total time=   5.0s\n",
      "[CV 2/5] END learning_rate=0.5, max_depth=3, n_estimators=250;, score=0.760 total time=   4.9s\n",
      "[CV 3/5] END learning_rate=0.5, max_depth=3, n_estimators=250;, score=0.764 total time=   5.6s\n",
      "[CV 4/5] END learning_rate=0.5, max_depth=3, n_estimators=250;, score=0.764 total time=   5.5s\n",
      "[CV 5/5] END learning_rate=0.5, max_depth=3, n_estimators=250;, score=0.760 total time=   5.3s\n",
      "[CV 1/5] END learning_rate=0.5, max_depth=3, n_estimators=500;, score=0.760 total time=  10.6s\n",
      "[CV 2/5] END learning_rate=0.5, max_depth=3, n_estimators=500;, score=0.758 total time=  10.2s\n",
      "[CV 3/5] END learning_rate=0.5, max_depth=3, n_estimators=500;, score=0.764 total time=  10.3s\n",
      "[CV 4/5] END learning_rate=0.5, max_depth=3, n_estimators=500;, score=0.762 total time=   9.9s\n",
      "[CV 5/5] END learning_rate=0.5, max_depth=3, n_estimators=500;, score=0.760 total time=   9.8s\n",
      "[CV 1/5] END learning_rate=0.5, max_depth=4, n_estimators=100;, score=0.763 total time=   2.4s\n",
      "[CV 2/5] END learning_rate=0.5, max_depth=4, n_estimators=100;, score=0.760 total time=   2.5s\n"
     ]
    },
    {
     "name": "stdout",
     "output_type": "stream",
     "text": [
      "[CV 3/5] END learning_rate=0.5, max_depth=4, n_estimators=100;, score=0.765 total time=   2.4s\n",
      "[CV 4/5] END learning_rate=0.5, max_depth=4, n_estimators=100;, score=0.760 total time=   2.5s\n",
      "[CV 5/5] END learning_rate=0.5, max_depth=4, n_estimators=100;, score=0.758 total time=   2.5s\n",
      "[CV 1/5] END learning_rate=0.5, max_depth=4, n_estimators=250;, score=0.762 total time=   6.4s\n",
      "[CV 2/5] END learning_rate=0.5, max_depth=4, n_estimators=250;, score=0.760 total time=   6.2s\n",
      "[CV 3/5] END learning_rate=0.5, max_depth=4, n_estimators=250;, score=0.765 total time=   6.5s\n",
      "[CV 4/5] END learning_rate=0.5, max_depth=4, n_estimators=250;, score=0.760 total time=   6.7s\n",
      "[CV 5/5] END learning_rate=0.5, max_depth=4, n_estimators=250;, score=0.758 total time=   6.7s\n",
      "[CV 1/5] END learning_rate=0.5, max_depth=4, n_estimators=500;, score=0.762 total time=  13.1s\n",
      "[CV 2/5] END learning_rate=0.5, max_depth=4, n_estimators=500;, score=0.760 total time=  12.1s\n",
      "[CV 3/5] END learning_rate=0.5, max_depth=4, n_estimators=500;, score=0.765 total time=  12.0s\n",
      "[CV 4/5] END learning_rate=0.5, max_depth=4, n_estimators=500;, score=0.760 total time=  12.6s\n",
      "[CV 5/5] END learning_rate=0.5, max_depth=4, n_estimators=500;, score=0.758 total time=  12.3s\n",
      "[CV 1/5] END learning_rate=0.5, max_depth=5, n_estimators=100;, score=0.763 total time=   3.0s\n",
      "[CV 2/5] END learning_rate=0.5, max_depth=5, n_estimators=100;, score=0.760 total time=   3.3s\n",
      "[CV 3/5] END learning_rate=0.5, max_depth=5, n_estimators=100;, score=0.764 total time=   3.3s\n",
      "[CV 4/5] END learning_rate=0.5, max_depth=5, n_estimators=100;, score=0.761 total time=   3.2s\n",
      "[CV 5/5] END learning_rate=0.5, max_depth=5, n_estimators=100;, score=0.760 total time=   2.9s\n",
      "[CV 1/5] END learning_rate=0.5, max_depth=5, n_estimators=250;, score=0.763 total time=   7.8s\n",
      "[CV 2/5] END learning_rate=0.5, max_depth=5, n_estimators=250;, score=0.760 total time=   7.9s\n",
      "[CV 3/5] END learning_rate=0.5, max_depth=5, n_estimators=250;, score=0.764 total time=   8.1s\n",
      "[CV 4/5] END learning_rate=0.5, max_depth=5, n_estimators=250;, score=0.761 total time=   7.9s\n",
      "[CV 5/5] END learning_rate=0.5, max_depth=5, n_estimators=250;, score=0.760 total time=   7.7s\n",
      "[CV 1/5] END learning_rate=0.5, max_depth=5, n_estimators=500;, score=0.764 total time=  16.5s\n",
      "[CV 2/5] END learning_rate=0.5, max_depth=5, n_estimators=500;, score=0.760 total time=  16.3s\n",
      "[CV 3/5] END learning_rate=0.5, max_depth=5, n_estimators=500;, score=0.765 total time=  15.6s\n",
      "[CV 4/5] END learning_rate=0.5, max_depth=5, n_estimators=500;, score=0.761 total time=  15.1s\n",
      "[CV 5/5] END learning_rate=0.5, max_depth=5, n_estimators=500;, score=0.759 total time=  16.3s\n",
      "[CV 1/5] END learning_rate=0.25, max_depth=1, n_estimators=100;, score=0.764 total time=   1.3s\n",
      "[CV 2/5] END learning_rate=0.25, max_depth=1, n_estimators=100;, score=0.764 total time=   1.5s\n",
      "[CV 3/5] END learning_rate=0.25, max_depth=1, n_estimators=100;, score=0.763 total time=   1.7s\n",
      "[CV 4/5] END learning_rate=0.25, max_depth=1, n_estimators=100;, score=0.764 total time=   1.6s\n",
      "[CV 5/5] END learning_rate=0.25, max_depth=1, n_estimators=100;, score=0.764 total time=   1.4s\n",
      "[CV 1/5] END learning_rate=0.25, max_depth=1, n_estimators=250;, score=0.764 total time=   3.6s\n",
      "[CV 2/5] END learning_rate=0.25, max_depth=1, n_estimators=250;, score=0.764 total time=   3.3s\n",
      "[CV 3/5] END learning_rate=0.25, max_depth=1, n_estimators=250;, score=0.763 total time=   3.3s\n",
      "[CV 4/5] END learning_rate=0.25, max_depth=1, n_estimators=250;, score=0.764 total time=   3.4s\n",
      "[CV 5/5] END learning_rate=0.25, max_depth=1, n_estimators=250;, score=0.764 total time=   3.6s\n",
      "[CV 1/5] END learning_rate=0.25, max_depth=1, n_estimators=500;, score=0.764 total time=   6.7s\n",
      "[CV 2/5] END learning_rate=0.25, max_depth=1, n_estimators=500;, score=0.764 total time=   6.9s\n",
      "[CV 3/5] END learning_rate=0.25, max_depth=1, n_estimators=500;, score=0.763 total time=   6.6s\n",
      "[CV 4/5] END learning_rate=0.25, max_depth=1, n_estimators=500;, score=0.764 total time=   6.8s\n",
      "[CV 5/5] END learning_rate=0.25, max_depth=1, n_estimators=500;, score=0.764 total time=   7.4s\n",
      "[CV 1/5] END learning_rate=0.25, max_depth=2, n_estimators=100;, score=0.760 total time=   1.7s\n",
      "[CV 2/5] END learning_rate=0.25, max_depth=2, n_estimators=100;, score=0.765 total time=   1.8s\n",
      "[CV 3/5] END learning_rate=0.25, max_depth=2, n_estimators=100;, score=0.763 total time=   1.6s\n",
      "[CV 4/5] END learning_rate=0.25, max_depth=2, n_estimators=100;, score=0.766 total time=   1.7s\n",
      "[CV 5/5] END learning_rate=0.25, max_depth=2, n_estimators=100;, score=0.763 total time=   1.6s\n",
      "[CV 1/5] END learning_rate=0.25, max_depth=2, n_estimators=250;, score=0.761 total time=   4.3s\n",
      "[CV 2/5] END learning_rate=0.25, max_depth=2, n_estimators=250;, score=0.763 total time=   4.3s\n",
      "[CV 3/5] END learning_rate=0.25, max_depth=2, n_estimators=250;, score=0.763 total time=   4.2s\n",
      "[CV 4/5] END learning_rate=0.25, max_depth=2, n_estimators=250;, score=0.766 total time=   4.2s\n",
      "[CV 5/5] END learning_rate=0.25, max_depth=2, n_estimators=250;, score=0.763 total time=   4.4s\n",
      "[CV 1/5] END learning_rate=0.25, max_depth=2, n_estimators=500;, score=0.761 total time=   8.2s\n",
      "[CV 2/5] END learning_rate=0.25, max_depth=2, n_estimators=500;, score=0.763 total time=   8.5s\n",
      "[CV 3/5] END learning_rate=0.25, max_depth=2, n_estimators=500;, score=0.763 total time=   9.1s\n",
      "[CV 4/5] END learning_rate=0.25, max_depth=2, n_estimators=500;, score=0.766 total time=   9.2s\n",
      "[CV 5/5] END learning_rate=0.25, max_depth=2, n_estimators=500;, score=0.761 total time=   8.1s\n",
      "[CV 1/5] END learning_rate=0.25, max_depth=3, n_estimators=100;, score=0.760 total time=   2.5s\n",
      "[CV 2/5] END learning_rate=0.25, max_depth=3, n_estimators=100;, score=0.763 total time=   2.2s\n",
      "[CV 3/5] END learning_rate=0.25, max_depth=3, n_estimators=100;, score=0.764 total time=   2.0s\n",
      "[CV 4/5] END learning_rate=0.25, max_depth=3, n_estimators=100;, score=0.762 total time=   1.9s\n",
      "[CV 5/5] END learning_rate=0.25, max_depth=3, n_estimators=100;, score=0.761 total time=   2.0s\n",
      "[CV 1/5] END learning_rate=0.25, max_depth=3, n_estimators=250;, score=0.760 total time=   5.2s\n",
      "[CV 2/5] END learning_rate=0.25, max_depth=3, n_estimators=250;, score=0.759 total time=   5.2s\n",
      "[CV 3/5] END learning_rate=0.25, max_depth=3, n_estimators=250;, score=0.764 total time=   5.2s\n",
      "[CV 4/5] END learning_rate=0.25, max_depth=3, n_estimators=250;, score=0.764 total time=   5.6s\n",
      "[CV 5/5] END learning_rate=0.25, max_depth=3, n_estimators=250;, score=0.761 total time=   5.6s\n",
      "[CV 1/5] END learning_rate=0.25, max_depth=3, n_estimators=500;, score=0.759 total time=  11.9s\n",
      "[CV 2/5] END learning_rate=0.25, max_depth=3, n_estimators=500;, score=0.760 total time=  11.0s\n",
      "[CV 3/5] END learning_rate=0.25, max_depth=3, n_estimators=500;, score=0.764 total time=  11.1s\n",
      "[CV 4/5] END learning_rate=0.25, max_depth=3, n_estimators=500;, score=0.764 total time=  10.7s\n",
      "[CV 5/5] END learning_rate=0.25, max_depth=3, n_estimators=500;, score=0.761 total time=  10.9s\n",
      "[CV 1/5] END learning_rate=0.25, max_depth=4, n_estimators=100;, score=0.763 total time=   2.5s\n",
      "[CV 2/5] END learning_rate=0.25, max_depth=4, n_estimators=100;, score=0.761 total time=   2.4s\n",
      "[CV 3/5] END learning_rate=0.25, max_depth=4, n_estimators=100;, score=0.764 total time=   2.6s\n",
      "[CV 4/5] END learning_rate=0.25, max_depth=4, n_estimators=100;, score=0.761 total time=   2.4s\n",
      "[CV 5/5] END learning_rate=0.25, max_depth=4, n_estimators=100;, score=0.758 total time=   2.7s\n",
      "[CV 1/5] END learning_rate=0.25, max_depth=4, n_estimators=250;, score=0.763 total time=   6.4s\n",
      "[CV 2/5] END learning_rate=0.25, max_depth=4, n_estimators=250;, score=0.761 total time=   6.2s\n",
      "[CV 3/5] END learning_rate=0.25, max_depth=4, n_estimators=250;, score=0.764 total time=   6.1s\n",
      "[CV 4/5] END learning_rate=0.25, max_depth=4, n_estimators=250;, score=0.760 total time=   6.2s\n",
      "[CV 5/5] END learning_rate=0.25, max_depth=4, n_estimators=250;, score=0.758 total time=   6.8s\n",
      "[CV 1/5] END learning_rate=0.25, max_depth=4, n_estimators=500;, score=0.763 total time=  12.5s\n",
      "[CV 2/5] END learning_rate=0.25, max_depth=4, n_estimators=500;, score=0.761 total time=  13.7s\n",
      "[CV 3/5] END learning_rate=0.25, max_depth=4, n_estimators=500;, score=0.764 total time=  12.6s\n"
     ]
    },
    {
     "name": "stdout",
     "output_type": "stream",
     "text": [
      "[CV 4/5] END learning_rate=0.25, max_depth=4, n_estimators=500;, score=0.760 total time=  12.4s\n",
      "[CV 5/5] END learning_rate=0.25, max_depth=4, n_estimators=500;, score=0.758 total time=  12.9s\n",
      "[CV 1/5] END learning_rate=0.25, max_depth=5, n_estimators=100;, score=0.761 total time=   3.3s\n",
      "[CV 2/5] END learning_rate=0.25, max_depth=5, n_estimators=100;, score=0.759 total time=   3.3s\n",
      "[CV 3/5] END learning_rate=0.25, max_depth=5, n_estimators=100;, score=0.763 total time=   3.3s\n",
      "[CV 4/5] END learning_rate=0.25, max_depth=5, n_estimators=100;, score=0.760 total time=   3.2s\n",
      "[CV 5/5] END learning_rate=0.25, max_depth=5, n_estimators=100;, score=0.759 total time=   3.1s\n",
      "[CV 1/5] END learning_rate=0.25, max_depth=5, n_estimators=250;, score=0.763 total time=   8.0s\n",
      "[CV 2/5] END learning_rate=0.25, max_depth=5, n_estimators=250;, score=0.760 total time=   8.0s\n",
      "[CV 3/5] END learning_rate=0.25, max_depth=5, n_estimators=250;, score=0.763 total time=   7.8s\n",
      "[CV 4/5] END learning_rate=0.25, max_depth=5, n_estimators=250;, score=0.760 total time=   8.1s\n",
      "[CV 5/5] END learning_rate=0.25, max_depth=5, n_estimators=250;, score=0.760 total time=   8.3s\n",
      "[CV 1/5] END learning_rate=0.25, max_depth=5, n_estimators=500;, score=0.763 total time=  15.4s\n",
      "[CV 2/5] END learning_rate=0.25, max_depth=5, n_estimators=500;, score=0.761 total time=  15.8s\n",
      "[CV 3/5] END learning_rate=0.25, max_depth=5, n_estimators=500;, score=0.764 total time=  15.6s\n",
      "[CV 4/5] END learning_rate=0.25, max_depth=5, n_estimators=500;, score=0.761 total time=  15.6s\n",
      "[CV 5/5] END learning_rate=0.25, max_depth=5, n_estimators=500;, score=0.760 total time=  15.7s\n",
      "[CV 1/5] END learning_rate=0.75, max_depth=1, n_estimators=100;, score=0.764 total time=   1.6s\n",
      "[CV 2/5] END learning_rate=0.75, max_depth=1, n_estimators=100;, score=0.764 total time=   1.2s\n",
      "[CV 3/5] END learning_rate=0.75, max_depth=1, n_estimators=100;, score=0.763 total time=   1.4s\n",
      "[CV 4/5] END learning_rate=0.75, max_depth=1, n_estimators=100;, score=0.764 total time=   1.3s\n",
      "[CV 5/5] END learning_rate=0.75, max_depth=1, n_estimators=100;, score=0.764 total time=   1.6s\n",
      "[CV 1/5] END learning_rate=0.75, max_depth=1, n_estimators=250;, score=0.764 total time=   3.1s\n",
      "[CV 2/5] END learning_rate=0.75, max_depth=1, n_estimators=250;, score=0.764 total time=   3.3s\n",
      "[CV 3/5] END learning_rate=0.75, max_depth=1, n_estimators=250;, score=0.763 total time=   3.2s\n",
      "[CV 4/5] END learning_rate=0.75, max_depth=1, n_estimators=250;, score=0.764 total time=   3.4s\n",
      "[CV 5/5] END learning_rate=0.75, max_depth=1, n_estimators=250;, score=0.764 total time=   3.5s\n",
      "[CV 1/5] END learning_rate=0.75, max_depth=1, n_estimators=500;, score=0.764 total time=   7.0s\n",
      "[CV 2/5] END learning_rate=0.75, max_depth=1, n_estimators=500;, score=0.764 total time=   7.1s\n",
      "[CV 3/5] END learning_rate=0.75, max_depth=1, n_estimators=500;, score=0.763 total time=   7.0s\n",
      "[CV 4/5] END learning_rate=0.75, max_depth=1, n_estimators=500;, score=0.764 total time=   6.9s\n",
      "[CV 5/5] END learning_rate=0.75, max_depth=1, n_estimators=500;, score=0.764 total time=   7.1s\n",
      "[CV 1/5] END learning_rate=0.75, max_depth=2, n_estimators=100;, score=0.761 total time=   1.5s\n",
      "[CV 2/5] END learning_rate=0.75, max_depth=2, n_estimators=100;, score=0.763 total time=   1.8s\n",
      "[CV 3/5] END learning_rate=0.75, max_depth=2, n_estimators=100;, score=0.762 total time=   1.8s\n",
      "[CV 4/5] END learning_rate=0.75, max_depth=2, n_estimators=100;, score=0.766 total time=   2.1s\n",
      "[CV 5/5] END learning_rate=0.75, max_depth=2, n_estimators=100;, score=0.761 total time=   2.0s\n",
      "[CV 1/5] END learning_rate=0.75, max_depth=2, n_estimators=250;, score=0.761 total time=   4.0s\n",
      "[CV 2/5] END learning_rate=0.75, max_depth=2, n_estimators=250;, score=0.763 total time=   3.4s\n",
      "[CV 3/5] END learning_rate=0.75, max_depth=2, n_estimators=250;, score=0.763 total time=   3.4s\n",
      "[CV 4/5] END learning_rate=0.75, max_depth=2, n_estimators=250;, score=0.766 total time=   3.5s\n",
      "[CV 5/5] END learning_rate=0.75, max_depth=2, n_estimators=250;, score=0.761 total time=   3.4s\n",
      "[CV 1/5] END learning_rate=0.75, max_depth=2, n_estimators=500;, score=0.761 total time=   6.9s\n",
      "[CV 2/5] END learning_rate=0.75, max_depth=2, n_estimators=500;, score=0.763 total time=   6.8s\n",
      "[CV 3/5] END learning_rate=0.75, max_depth=2, n_estimators=500;, score=0.763 total time=   6.8s\n",
      "[CV 4/5] END learning_rate=0.75, max_depth=2, n_estimators=500;, score=0.766 total time=   6.8s\n",
      "[CV 5/5] END learning_rate=0.75, max_depth=2, n_estimators=500;, score=0.761 total time=   6.8s\n",
      "[CV 1/5] END learning_rate=0.75, max_depth=3, n_estimators=100;, score=0.761 total time=   1.7s\n",
      "[CV 2/5] END learning_rate=0.75, max_depth=3, n_estimators=100;, score=0.760 total time=   1.7s\n",
      "[CV 3/5] END learning_rate=0.75, max_depth=3, n_estimators=100;, score=0.764 total time=   1.7s\n",
      "[CV 4/5] END learning_rate=0.75, max_depth=3, n_estimators=100;, score=0.763 total time=   1.7s\n",
      "[CV 5/5] END learning_rate=0.75, max_depth=3, n_estimators=100;, score=0.760 total time=   1.7s\n",
      "[CV 1/5] END learning_rate=0.75, max_depth=3, n_estimators=250;, score=0.760 total time=   4.1s\n",
      "[CV 2/5] END learning_rate=0.75, max_depth=3, n_estimators=250;, score=0.757 total time=   4.1s\n",
      "[CV 3/5] END learning_rate=0.75, max_depth=3, n_estimators=250;, score=0.764 total time=   4.2s\n",
      "[CV 4/5] END learning_rate=0.75, max_depth=3, n_estimators=250;, score=0.762 total time=   4.1s\n",
      "[CV 5/5] END learning_rate=0.75, max_depth=3, n_estimators=250;, score=0.760 total time=   4.2s\n",
      "[CV 1/5] END learning_rate=0.75, max_depth=3, n_estimators=500;, score=0.761 total time=   8.2s\n",
      "[CV 2/5] END learning_rate=0.75, max_depth=3, n_estimators=500;, score=0.758 total time=   8.2s\n",
      "[CV 3/5] END learning_rate=0.75, max_depth=3, n_estimators=500;, score=0.764 total time=   8.2s\n",
      "[CV 4/5] END learning_rate=0.75, max_depth=3, n_estimators=500;, score=0.762 total time=   8.2s\n",
      "[CV 5/5] END learning_rate=0.75, max_depth=3, n_estimators=500;, score=0.760 total time=   8.8s\n",
      "[CV 1/5] END learning_rate=0.75, max_depth=4, n_estimators=100;, score=0.762 total time=   2.1s\n",
      "[CV 2/5] END learning_rate=0.75, max_depth=4, n_estimators=100;, score=0.760 total time=   2.1s\n",
      "[CV 3/5] END learning_rate=0.75, max_depth=4, n_estimators=100;, score=0.765 total time=   2.0s\n",
      "[CV 4/5] END learning_rate=0.75, max_depth=4, n_estimators=100;, score=0.760 total time=   2.0s\n",
      "[CV 5/5] END learning_rate=0.75, max_depth=4, n_estimators=100;, score=0.758 total time=   2.0s\n",
      "[CV 1/5] END learning_rate=0.75, max_depth=4, n_estimators=250;, score=0.763 total time=   5.0s\n",
      "[CV 2/5] END learning_rate=0.75, max_depth=4, n_estimators=250;, score=0.761 total time=   5.0s\n",
      "[CV 3/5] END learning_rate=0.75, max_depth=4, n_estimators=250;, score=0.764 total time=   5.1s\n",
      "[CV 4/5] END learning_rate=0.75, max_depth=4, n_estimators=250;, score=0.759 total time=   5.0s\n",
      "[CV 5/5] END learning_rate=0.75, max_depth=4, n_estimators=250;, score=0.758 total time=   5.1s\n",
      "[CV 1/5] END learning_rate=0.75, max_depth=4, n_estimators=500;, score=0.763 total time=  10.0s\n",
      "[CV 2/5] END learning_rate=0.75, max_depth=4, n_estimators=500;, score=0.761 total time=  10.1s\n",
      "[CV 3/5] END learning_rate=0.75, max_depth=4, n_estimators=500;, score=0.764 total time=  10.1s\n",
      "[CV 4/5] END learning_rate=0.75, max_depth=4, n_estimators=500;, score=0.760 total time=  10.0s\n",
      "[CV 5/5] END learning_rate=0.75, max_depth=4, n_estimators=500;, score=0.758 total time=  10.1s\n",
      "[CV 1/5] END learning_rate=0.75, max_depth=5, n_estimators=100;, score=0.763 total time=   2.5s\n",
      "[CV 2/5] END learning_rate=0.75, max_depth=5, n_estimators=100;, score=0.761 total time=   2.5s\n",
      "[CV 3/5] END learning_rate=0.75, max_depth=5, n_estimators=100;, score=0.764 total time=   2.5s\n",
      "[CV 4/5] END learning_rate=0.75, max_depth=5, n_estimators=100;, score=0.760 total time=   2.5s\n",
      "[CV 5/5] END learning_rate=0.75, max_depth=5, n_estimators=100;, score=0.760 total time=   2.6s\n",
      "[CV 1/5] END learning_rate=0.75, max_depth=5, n_estimators=250;, score=0.762 total time=   6.2s\n",
      "[CV 2/5] END learning_rate=0.75, max_depth=5, n_estimators=250;, score=0.761 total time=   6.3s\n",
      "[CV 3/5] END learning_rate=0.75, max_depth=5, n_estimators=250;, score=0.765 total time=   6.7s\n",
      "[CV 4/5] END learning_rate=0.75, max_depth=5, n_estimators=250;, score=0.761 total time=   6.5s\n"
     ]
    },
    {
     "name": "stdout",
     "output_type": "stream",
     "text": [
      "[CV 5/5] END learning_rate=0.75, max_depth=5, n_estimators=250;, score=0.760 total time=   6.5s\n",
      "[CV 1/5] END learning_rate=0.75, max_depth=5, n_estimators=500;, score=0.764 total time=  13.0s\n",
      "[CV 2/5] END learning_rate=0.75, max_depth=5, n_estimators=500;, score=0.761 total time=  12.8s\n",
      "[CV 3/5] END learning_rate=0.75, max_depth=5, n_estimators=500;, score=0.765 total time=  12.8s\n",
      "[CV 4/5] END learning_rate=0.75, max_depth=5, n_estimators=500;, score=0.763 total time=  12.7s\n",
      "[CV 5/5] END learning_rate=0.75, max_depth=5, n_estimators=500;, score=0.760 total time=  12.7s\n"
     ]
    },
    {
     "data": {
      "text/plain": [
       "GridSearchCV(estimator=GradientBoostingClassifier(),\n",
       "             param_grid=[{'learning_rate': [0.1, 0.05, 0.01, 1, 0.5, 0.25,\n",
       "                                            0.75],\n",
       "                          'max_depth': [1, 2, 3, 4, 5],\n",
       "                          'n_estimators': [100, 250, 500]}],\n",
       "             verbose=3)"
      ]
     },
     "execution_count": 9,
     "metadata": {},
     "output_type": "execute_result"
    }
   ],
   "source": [
    "gs48.fit(X_train48, y_train48)"
   ]
  },
  {
   "cell_type": "code",
   "execution_count": 10,
   "id": "10f21d9c",
   "metadata": {},
   "outputs": [
    {
     "name": "stdout",
     "output_type": "stream",
     "text": [
      "The best parameters found for the 48h DCW:\n",
      "{'learning_rate': 0.01, 'max_depth': 4, 'n_estimators': 100}\n",
      "The best estimator found for the 48h DCW:\n",
      "GradientBoostingClassifier(learning_rate=0.01, max_depth=4)\n"
     ]
    }
   ],
   "source": [
    "print(\"The best parameters found for the 48h DCW:\")\n",
    "print(gs48.best_params_)\n",
    "  \n",
    "#PRINT HOW OUR MODEL LOOKS AFTER HYPER-PARAMETER TUNING\n",
    "print(\"The best estimator found for the 48h DCW:\")\n",
    "print(gs48.best_estimator_)"
   ]
  },
  {
   "cell_type": "code",
   "execution_count": 11,
   "id": "4add20a3",
   "metadata": {},
   "outputs": [],
   "source": [
    "best24 = GradientBoostingClassifier(max_depth=1, n_estimators=250)\n",
    "best48 = GradientBoostingClassifier(learning_rate=0.01, max_depth=4)"
   ]
  },
  {
   "cell_type": "code",
   "execution_count": 12,
   "id": "310cd2f3",
   "metadata": {},
   "outputs": [],
   "source": [
    "y_pred24 = cross_val_predict(best24, X24, Y24, cv = 5)"
   ]
  },
  {
   "cell_type": "code",
   "execution_count": 13,
   "id": "d15f6bb9",
   "metadata": {},
   "outputs": [],
   "source": [
    "y_pred48 = cross_val_predict(best48, X48, Y48, cv = 5)"
   ]
  },
  {
   "cell_type": "code",
   "execution_count": 14,
   "id": "ea8b20da",
   "metadata": {},
   "outputs": [
    {
     "name": "stdout",
     "output_type": "stream",
     "text": [
      "              precision    recall  f1-score   support\n",
      "\n",
      "           0       0.71      1.00      0.83     10761\n",
      "           1       0.56      0.01      0.03      4521\n",
      "\n",
      "    accuracy                           0.71     15282\n",
      "   macro avg       0.63      0.50      0.43     15282\n",
      "weighted avg       0.66      0.71      0.59     15282\n",
      "\n"
     ]
    }
   ],
   "source": [
    "#CLASSIFICATION REPORT 24H\n",
    "print(classification_report(Y24, y_pred24))"
   ]
  },
  {
   "cell_type": "code",
   "execution_count": 15,
   "id": "528d5845",
   "metadata": {},
   "outputs": [
    {
     "name": "stdout",
     "output_type": "stream",
     "text": [
      "0.7050124329276273\n"
     ]
    }
   ],
   "source": [
    "print(accuracy_score(Y24, y_pred24))"
   ]
  },
  {
   "cell_type": "code",
   "execution_count": 16,
   "id": "10cc5f08",
   "metadata": {},
   "outputs": [
    {
     "name": "stdout",
     "output_type": "stream",
     "text": [
      "0.5607476635514018\n"
     ]
    }
   ],
   "source": [
    "print(precision_score(Y24, y_pred24))"
   ]
  },
  {
   "cell_type": "code",
   "execution_count": 17,
   "id": "5487cd77",
   "metadata": {},
   "outputs": [
    {
     "name": "stdout",
     "output_type": "stream",
     "text": [
      "0.013271400132714002\n"
     ]
    }
   ],
   "source": [
    "print(recall_score(Y24, y_pred24))"
   ]
  },
  {
   "cell_type": "code",
   "execution_count": 18,
   "id": "f44bf5f5",
   "metadata": {},
   "outputs": [
    {
     "name": "stdout",
     "output_type": "stream",
     "text": [
      "0.02592912705272256\n"
     ]
    }
   ],
   "source": [
    "print(f1_score(Y24, y_pred24))"
   ]
  },
  {
   "cell_type": "code",
   "execution_count": 19,
   "id": "0b2722c6",
   "metadata": {},
   "outputs": [
    {
     "name": "stdout",
     "output_type": "stream",
     "text": [
      "0.5044518881529662\n"
     ]
    }
   ],
   "source": [
    "print(roc_auc_score(Y24, y_pred24))"
   ]
  },
  {
   "cell_type": "code",
   "execution_count": 20,
   "id": "ce0d2696",
   "metadata": {},
   "outputs": [
    {
     "name": "stdout",
     "output_type": "stream",
     "text": [
      "              precision    recall  f1-score   support\n",
      "\n",
      "           0       0.77      1.00      0.87      6021\n",
      "           1       0.27      0.00      0.00      1841\n",
      "\n",
      "    accuracy                           0.77      7862\n",
      "   macro avg       0.52      0.50      0.44      7862\n",
      "weighted avg       0.65      0.77      0.66      7862\n",
      "\n"
     ]
    }
   ],
   "source": [
    "#CLASSIFICATION REPORT 48H\n",
    "print(classification_report(Y48, y_pred48))"
   ]
  },
  {
   "cell_type": "code",
   "execution_count": 21,
   "id": "5ab2987a",
   "metadata": {},
   "outputs": [
    {
     "name": "stdout",
     "output_type": "stream",
     "text": [
      "0.7651996947341644\n"
     ]
    }
   ],
   "source": [
    "print(accuracy_score(Y48, y_pred48))"
   ]
  },
  {
   "cell_type": "code",
   "execution_count": 22,
   "id": "9acd0781",
   "metadata": {},
   "outputs": [
    {
     "name": "stdout",
     "output_type": "stream",
     "text": [
      "0.2727272727272727\n"
     ]
    }
   ],
   "source": [
    "print(precision_score(Y48, y_pred48))"
   ]
  },
  {
   "cell_type": "code",
   "execution_count": 23,
   "id": "cfec8c1a",
   "metadata": {},
   "outputs": [
    {
     "name": "stdout",
     "output_type": "stream",
     "text": [
      "0.0016295491580662683\n"
     ]
    }
   ],
   "source": [
    "print(recall_score(Y48, y_pred48))"
   ]
  },
  {
   "cell_type": "code",
   "execution_count": 24,
   "id": "24e23fe0",
   "metadata": {},
   "outputs": [
    {
     "name": "stdout",
     "output_type": "stream",
     "text": [
      "0.0032397408207343412\n"
     ]
    }
   ],
   "source": [
    "print(f1_score(Y48, y_pred48))"
   ]
  },
  {
   "cell_type": "code",
   "execution_count": 25,
   "id": "1eb70a7c",
   "metadata": {},
   "outputs": [
    {
     "name": "stdout",
     "output_type": "stream",
     "text": [
      "0.5001504331075167\n"
     ]
    }
   ],
   "source": [
    "print(roc_auc_score(Y48, y_pred48))"
   ]
  },
  {
   "cell_type": "code",
   "execution_count": 26,
   "id": "bc589e4c",
   "metadata": {},
   "outputs": [
    {
     "name": "stdout",
     "output_type": "stream",
     "text": [
      "Elapsed time to compute the importances: 0.069 seconds\n"
     ]
    },
    {
     "data": {
      "image/png": "[encoded data removed]",
      "text/plain": [
       "<Figure size 432x288 with 1 Axes>"
      ]
     },
     "metadata": {
      "needs_background": "light"
     },
     "output_type": "display_data"
    }
   ],
   "source": [
    "from sklearn.ensemble import RandomForestClassifier\n",
    "import matplotlib.pyplot as plt\n",
    "\n",
    "#FEATURES SELECTION BASED ON THEIR IMPORTANCE WITH A RANDOM FOREST CLASSIFIER \n",
    "feature_names24 = [f'feature {i}' for i in range(X24.shape[1])]\n",
    "forest = RandomForestClassifier(random_state=0)\n",
    "forest.fit(X_train24, y_train24)\n",
    "\n",
    "import time\n",
    "\n",
    "start_time24 = time.time()\n",
    "importances24 = forest.feature_importances_\n",
    "std = np.std([\n",
    "    tree.feature_importances_ for tree in forest.estimators_], axis=0)\n",
    "elapsed_time24 = time.time() - start_time24\n",
    "\n",
    "print(f\"Elapsed time to compute the importances: \"\n",
    "      f\"{elapsed_time24:.3f} seconds\")\n",
    "\n",
    "forest_importances24 = pd.Series(importances24, index=com24.columns[2:])\n",
    "\n",
    "fig, ax = plt.subplots()\n",
    "forest_importances24.plot.bar(yerr=std, ax=ax)\n",
    "ax.set_title(\"Feature importances using MDI\")\n",
    "ax.set_ylabel(\"Mean decrease in impurity\")\n",
    "fig.tight_layout()\n"
   ]
  },
  {
   "cell_type": "code",
   "execution_count": 27,
   "id": "abd28603",
   "metadata": {},
   "outputs": [
    {
     "name": "stdout",
     "output_type": "stream",
     "text": [
      "Feature: 0, Score: 0.33577\n",
      "Feature: 1, Score: 0.08262\n",
      "Feature: 2, Score: 0.09875\n",
      "Feature: 3, Score: 0.08889\n",
      "Feature: 4, Score: 0.10162\n",
      "Feature: 5, Score: 0.08585\n",
      "Feature: 6, Score: 0.08085\n",
      "Feature: 7, Score: 0.08239\n",
      "Feature: 8, Score: 0.04326\n"
     ]
    }
   ],
   "source": [
    "for i,v in enumerate(importances24):\n",
    "    print('Feature: %0d, Score: %.5f' % (i,v))"
   ]
  },
  {
   "cell_type": "code",
   "execution_count": 28,
   "id": "baca7eda",
   "metadata": {},
   "outputs": [
    {
     "name": "stdout",
     "output_type": "stream",
     "text": [
      "Elapsed time to compute the importances: 0.073 seconds\n"
     ]
    },
    {
     "data": {
      "image/png": "[encoded data removed]",
      "text/plain": [
       "<Figure size 432x288 with 1 Axes>"
      ]
     },
     "metadata": {
      "needs_background": "light"
     },
     "output_type": "display_data"
    }
   ],
   "source": [
    "#DO IT FOR THE 48H DCW NOW\n",
    "feature_names48 = [f'feature {i}' for i in range(X48.shape[1])]\n",
    "#forest = RandomForestClassifier(random_state=0)\n",
    "forest.fit(X_train48, y_train48)\n",
    "\n",
    "start_time48 = time.time()\n",
    "importances48 = forest.feature_importances_\n",
    "std = np.std([\n",
    "    tree.feature_importances_ for tree in forest.estimators_], axis=0)\n",
    "elapsed_time48 = time.time() - start_time48\n",
    "\n",
    "print(f\"Elapsed time to compute the importances: \"\n",
    "      f\"{elapsed_time48:.3f} seconds\")\n",
    "\n",
    "forest_importances48 = pd.Series(importances48, index = com48.columns[2:])\n",
    "\n",
    "fig, ax = plt.subplots()\n",
    "forest_importances48.plot.bar(yerr=std, ax=ax)\n",
    "ax.set_title(\"Feature importances using MDI\")\n",
    "ax.set_ylabel(\"Mean decrease in impurity\")\n",
    "fig.tight_layout()\n"
   ]
  },
  {
   "cell_type": "code",
   "execution_count": 29,
   "id": "d41d6d08",
   "metadata": {},
   "outputs": [
    {
     "name": "stdout",
     "output_type": "stream",
     "text": [
      "Feature: 0, Score: 0.21066\n",
      "Feature: 1, Score: 0.10217\n",
      "Feature: 2, Score: 0.10104\n",
      "Feature: 3, Score: 0.11662\n",
      "Feature: 4, Score: 0.09436\n",
      "Feature: 5, Score: 0.11510\n",
      "Feature: 6, Score: 0.10721\n",
      "Feature: 7, Score: 0.10290\n",
      "Feature: 8, Score: 0.04993\n"
     ]
    }
   ],
   "source": [
    "for i,v in enumerate(importances48):\n",
    "    print('Feature: %0d, Score: %.5f' % (i,v))"
   ]
  },
  {
   "cell_type": "markdown",
   "id": "4a465663",
   "metadata": {},
   "source": [
    "## Try to use the function cross_validate( ) now."
   ]
  },
  {
   "cell_type": "code",
   "execution_count": 30,
   "id": "fb5bc731",
   "metadata": {},
   "outputs": [],
   "source": [
    "#DEFINE THE METRICS \n",
    "scoring=['accuracy','precision','recall', 'roc_auc', 'f1']"
   ]
  },
  {
   "cell_type": "code",
   "execution_count": 31,
   "id": "43c3a0d8",
   "metadata": {},
   "outputs": [],
   "source": [
    "p24 = Pipeline(steps=[('r', resample), ('m', best24)])\n",
    "\n",
    "scores24 = cross_validate(p24, X24, Y24, scoring = scoring, cv = 5)"
   ]
  },
  {
   "cell_type": "code",
   "execution_count": 33,
   "id": "f4f9e2c4",
   "metadata": {},
   "outputs": [
    {
     "data": {
      "text/plain": [
       "0.6272090104763421"
      ]
     },
     "execution_count": 33,
     "metadata": {},
     "output_type": "execute_result"
    }
   ],
   "source": [
    "scores24['test_accuracy'].mean()"
   ]
  },
  {
   "cell_type": "code",
   "execution_count": 34,
   "id": "a34bc503",
   "metadata": {},
   "outputs": [
    {
     "data": {
      "text/plain": [
       "0.37764736612310323"
      ]
     },
     "execution_count": 34,
     "metadata": {},
     "output_type": "execute_result"
    }
   ],
   "source": [
    "scores24['test_precision'].mean()"
   ]
  },
  {
   "cell_type": "code",
   "execution_count": 35,
   "id": "0c9f4803",
   "metadata": {},
   "outputs": [
    {
     "data": {
      "text/plain": [
       "0.4018977656089572"
      ]
     },
     "execution_count": 35,
     "metadata": {},
     "output_type": "execute_result"
    }
   ],
   "source": [
    "scores24['test_recall'].mean()"
   ]
  },
  {
   "cell_type": "code",
   "execution_count": 36,
   "id": "17d1afab",
   "metadata": {},
   "outputs": [
    {
     "data": {
      "text/plain": [
       "0.38876017544290603"
      ]
     },
     "execution_count": 36,
     "metadata": {},
     "output_type": "execute_result"
    }
   ],
   "source": [
    "scores24['test_f1'].mean()"
   ]
  },
  {
   "cell_type": "code",
   "execution_count": 37,
   "id": "640b0030",
   "metadata": {},
   "outputs": [
    {
     "data": {
      "text/plain": [
       "0.5754074431954084"
      ]
     },
     "execution_count": 37,
     "metadata": {},
     "output_type": "execute_result"
    }
   ],
   "source": [
    "scores24['test_roc_auc'].mean()"
   ]
  },
  {
   "cell_type": "code",
   "execution_count": 32,
   "id": "5c81b9b7",
   "metadata": {},
   "outputs": [],
   "source": [
    "p48 = Pipeline(steps=[('r', resample), ('m', best48)])\n",
    "\n",
    "scores48 = cross_validate(p48, X48, Y48, scoring = scoring, cv = 5)"
   ]
  },
  {
   "cell_type": "code",
   "execution_count": 38,
   "id": "e4242ea2",
   "metadata": {},
   "outputs": [
    {
     "data": {
      "text/plain": [
       "0.6344522468047797"
      ]
     },
     "execution_count": 38,
     "metadata": {},
     "output_type": "execute_result"
    }
   ],
   "source": [
    "scores48['test_accuracy'].mean()"
   ]
  },
  {
   "cell_type": "code",
   "execution_count": 39,
   "id": "6ec717c1",
   "metadata": {},
   "outputs": [
    {
     "data": {
      "text/plain": [
       "0.2733331280627304"
      ]
     },
     "execution_count": 39,
     "metadata": {},
     "output_type": "execute_result"
    }
   ],
   "source": [
    "scores48['test_precision'].mean()"
   ]
  },
  {
   "cell_type": "code",
   "execution_count": 40,
   "id": "d5733073",
   "metadata": {},
   "outputs": [
    {
     "data": {
      "text/plain": [
       "0.3378004595263344"
      ]
     },
     "execution_count": 40,
     "metadata": {},
     "output_type": "execute_result"
    }
   ],
   "source": [
    "scores48['test_recall'].mean()"
   ]
  },
  {
   "cell_type": "code",
   "execution_count": 41,
   "id": "191f68a9",
   "metadata": {},
   "outputs": [
    {
     "data": {
      "text/plain": [
       "0.29913334035724615"
      ]
     },
     "execution_count": 41,
     "metadata": {},
     "output_type": "execute_result"
    }
   ],
   "source": [
    "scores48['test_f1'].mean()"
   ]
  },
  {
   "cell_type": "code",
   "execution_count": 42,
   "id": "8cb26389",
   "metadata": {},
   "outputs": [
    {
     "data": {
      "text/plain": [
       "0.5352911864898213"
      ]
     },
     "execution_count": 42,
     "metadata": {},
     "output_type": "execute_result"
    }
   ],
   "source": [
    "scores48['test_roc_auc'].mean()"
   ]
  },
  {
   "cell_type": "code",
   "execution_count": null,
   "id": "15af7de1",
   "metadata": {},
   "outputs": [],
   "source": []
  }
 ],
 "metadata": {
  "kernelspec": {
   "display_name": "Python 3",
   "language": "python",
   "name": "python3"
  },
  "language_info": {
   "codemirror_mode": {
    "name": "ipython",
    "version": 3
   },
   "file_extension": ".py",
   "mimetype": "text/x-python",
   "name": "python",
   "nbconvert_exporter": "python",
   "pygments_lexer": "ipython3",
   "version": "3.9.2"
  }
 },
 "nbformat": 4,
 "nbformat_minor": 5
}
