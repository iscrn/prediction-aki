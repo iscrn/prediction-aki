{
 "cells": [
  {
   "cell_type": "code",
   "execution_count": 1,
   "id": "cc278c60",
   "metadata": {},
   "outputs": [],
   "source": [
    "import numpy as np  # for handling multi-dimensional array operation\n",
    "import pandas as pd  # for reading data from csv \n",
    "import statsmodels.api as sm  # for finding the p-value\n",
    "from sklearn.preprocessing import MinMaxScaler  # for normalization\n",
    "from sklearn.model_selection import train_test_split as tts\n",
    "from sklearn.metrics import accuracy_score \n",
    "from sklearn.metrics import confusion_matrix\n",
    "from sklearn.metrics import roc_curve\n",
    "from sklearn.metrics import f1_score\n",
    "from sklearn.metrics import roc_auc_score\n",
    "from sklearn.metrics import precision_score\n",
    "from sklearn.metrics import recall_score\n",
    "from sklearn.metrics import classification_report\n",
    "from sklearn.metrics import precision_recall_curve\n",
    "from sklearn.utils import shuffle\n",
    "from sklearn.ensemble import GradientBoostingClassifier\n",
    "from numpy import mean\n",
    "from sklearn.model_selection import GridSearchCV\n",
    "from imblearn.pipeline import Pipeline\n",
    "from imblearn.pipeline import make_pipeline\n",
    "from imblearn.combine import SMOTETomek\n",
    "from imblearn.under_sampling import TomekLinks\n",
    "from sklearn.model_selection import cross_val_score\n",
    "from sklearn.model_selection import cross_validate\n",
    "from sklearn.model_selection import cross_val_predict\n",
    "from sklearn.metrics import plot_confusion_matrix\n",
    "from sklearn.model_selection import RepeatedStratifiedKFold"
   ]
  },
  {
   "cell_type": "markdown",
   "id": "08ae1856",
   "metadata": {},
   "source": [
    "## DEMOGRAPHIC DATA"
   ]
  },
  {
   "cell_type": "code",
   "execution_count": 2,
   "id": "a49d232d",
   "metadata": {},
   "outputs": [],
   "source": [
    "dem24 = pd.read_csv('./dem24.csv')\n",
    "\n",
    "Y24 = dem24['aki_flag'] #all rows of 'aki_flag' as LABELS\n",
    "X24 = dem24.iloc[:,2:]  #features\n",
    "\n",
    "#TRANSFORM CATEGORICAL ATTRIBUTES INTO 0-1 VECTORS\n",
    "X24 = pd.get_dummies(X24)\n",
    "\n",
    "#NORMALIZATION WITH MIN-MAX SCALER 0-1\n",
    "scaler = MinMaxScaler()\n",
    "X24 = scaler.fit_transform(X24)\n",
    "\n",
    "#SPLIT DATASET INTO TRAINING AND TESTING SETS\n",
    "X_train24, X_test24, y_train24, y_test24 = tts(X24, Y24, test_size=0.3, random_state=42)"
   ]
  },
  {
   "cell_type": "code",
   "execution_count": 3,
   "id": "b6bf92cd",
   "metadata": {},
   "outputs": [],
   "source": [
    "dem48 = pd.read_csv('./dem48.csv')\n",
    "\n",
    "Y48 = dem48['aki_flag'] #all rows of 'aki_flag' as LABELS\n",
    "X48 = dem48.iloc[:,2:]  #features\n",
    "\n",
    "#TRANSFORM CATEGORICAL ATTRIBUTES INTO 0-1 VECTORS\n",
    "X48 = pd.get_dummies(X48)\n",
    "\n",
    "#NORMALIZATION WITH MIN-MAX SCALER 0-1\n",
    "X48 = scaler.fit_transform(X48)\n",
    "\n",
    "#SPLIT DATASET INTO TRAINING AND TESTING SETS\n",
    "X_train48, X_test48, y_train48, y_test48 = tts(X48, Y48, test_size=0.3, random_state=42)"
   ]
  },
  {
   "cell_type": "code",
   "execution_count": 4,
   "id": "2c4639d6",
   "metadata": {},
   "outputs": [],
   "source": [
    "#APPLY THE SMOTE TOMEK-LINKS TECHNIQUE TO COPE WITH CLASS IMBALANCE PROBLEM \n",
    "resample = SMOTETomek(tomek=TomekLinks(sampling_strategy='majority'))\n",
    "\n",
    "#DEFINE THE PARAMETERS TO BE TESTED IN THE GRID SEARCH\n",
    "params = [\n",
    "  {'learning_rate':[0.1,0.05,0.01,1,0.5,0.25, 0.75], 'max_depth' :[1,2,3,4,5], 'n_estimators':[100,250,500]}\n",
    "] "
   ]
  },
  {
   "cell_type": "code",
   "execution_count": 6,
   "id": "2a33a7ea",
   "metadata": {},
   "outputs": [],
   "source": [
    "gs24 = GridSearchCV(GradientBoostingClassifier(), params, refit = True, verbose = 3)\n",
    "p24 = Pipeline(steps=[('r', resample), ('gs', gs24)])\n",
    "\n",
    "gs48 = GridSearchCV(GradientBoostingClassifier(), params, refit = True, verbose = 3)\n",
    "p48 = Pipeline(steps=[('r', resample), ('gs', gs48)])"
   ]
  },
  {
   "cell_type": "markdown",
   "id": "3257c0a2",
   "metadata": {},
   "source": [
    "Now fit the grid search and extract the best parameters/estimator to be used fro the prediction "
   ]
  },
  {
   "cell_type": "code",
   "execution_count": 6,
   "id": "cd0b9c4d",
   "metadata": {},
   "outputs": [
    {
     "name": "stdout",
     "output_type": "stream",
     "text": [
      "Fitting 5 folds for each of 105 candidates, totalling 525 fits\n",
      "[CV 1/5] END learning_rate=0.1, max_depth=1, n_estimators=100;, score=0.705 total time=   5.9s\n",
      "[CV 2/5] END learning_rate=0.1, max_depth=1, n_estimators=100;, score=0.705 total time=   6.2s\n",
      "[CV 3/5] END learning_rate=0.1, max_depth=1, n_estimators=100;, score=0.705 total time=   5.8s\n",
      "[CV 4/5] END learning_rate=0.1, max_depth=1, n_estimators=100;, score=0.705 total time=   6.3s\n",
      "[CV 5/5] END learning_rate=0.1, max_depth=1, n_estimators=100;, score=0.705 total time=   5.7s\n",
      "[CV 1/5] END learning_rate=0.1, max_depth=1, n_estimators=250;, score=0.705 total time=  13.9s\n",
      "[CV 2/5] END learning_rate=0.1, max_depth=1, n_estimators=250;, score=0.705 total time=  13.0s\n",
      "[CV 3/5] END learning_rate=0.1, max_depth=1, n_estimators=250;, score=0.706 total time=  15.8s\n",
      "[CV 4/5] END learning_rate=0.1, max_depth=1, n_estimators=250;, score=0.705 total time=  16.1s\n",
      "[CV 5/5] END learning_rate=0.1, max_depth=1, n_estimators=250;, score=0.705 total time=  16.5s\n",
      "[CV 1/5] END learning_rate=0.1, max_depth=1, n_estimators=500;, score=0.705 total time=  33.9s\n",
      "[CV 2/5] END learning_rate=0.1, max_depth=1, n_estimators=500;, score=0.705 total time=  32.4s\n",
      "[CV 3/5] END learning_rate=0.1, max_depth=1, n_estimators=500;, score=0.705 total time=  38.2s\n",
      "[CV 4/5] END learning_rate=0.1, max_depth=1, n_estimators=500;, score=0.705 total time=  44.2s\n",
      "[CV 5/5] END learning_rate=0.1, max_depth=1, n_estimators=500;, score=0.705 total time=  39.9s\n",
      "[CV 1/5] END learning_rate=0.1, max_depth=2, n_estimators=100;, score=0.704 total time=   9.4s\n",
      "[CV 2/5] END learning_rate=0.1, max_depth=2, n_estimators=100;, score=0.705 total time=   9.0s\n",
      "[CV 3/5] END learning_rate=0.1, max_depth=2, n_estimators=100;, score=0.704 total time=   9.0s\n",
      "[CV 4/5] END learning_rate=0.1, max_depth=2, n_estimators=100;, score=0.704 total time=   9.9s\n",
      "[CV 5/5] END learning_rate=0.1, max_depth=2, n_estimators=100;, score=0.705 total time=   9.4s\n",
      "[CV 1/5] END learning_rate=0.1, max_depth=2, n_estimators=250;, score=0.704 total time=  22.1s\n",
      "[CV 2/5] END learning_rate=0.1, max_depth=2, n_estimators=250;, score=0.704 total time=  22.1s\n",
      "[CV 3/5] END learning_rate=0.1, max_depth=2, n_estimators=250;, score=0.701 total time=  22.7s\n",
      "[CV 4/5] END learning_rate=0.1, max_depth=2, n_estimators=250;, score=0.704 total time=  22.1s\n",
      "[CV 5/5] END learning_rate=0.1, max_depth=2, n_estimators=250;, score=0.705 total time=  22.9s\n",
      "[CV 1/5] END learning_rate=0.1, max_depth=2, n_estimators=500;, score=0.704 total time=  47.7s\n",
      "[CV 2/5] END learning_rate=0.1, max_depth=2, n_estimators=500;, score=0.703 total time=  50.0s\n",
      "[CV 3/5] END learning_rate=0.1, max_depth=2, n_estimators=500;, score=0.700 total time=  58.4s\n",
      "[CV 4/5] END learning_rate=0.1, max_depth=2, n_estimators=500;, score=0.703 total time=  43.5s\n",
      "[CV 5/5] END learning_rate=0.1, max_depth=2, n_estimators=500;, score=0.705 total time=  51.5s\n",
      "[CV 1/5] END learning_rate=0.1, max_depth=3, n_estimators=100;, score=0.704 total time=  10.4s\n",
      "[CV 2/5] END learning_rate=0.1, max_depth=3, n_estimators=100;, score=0.704 total time=  10.4s\n",
      "[CV 3/5] END learning_rate=0.1, max_depth=3, n_estimators=100;, score=0.700 total time=  13.4s\n",
      "[CV 4/5] END learning_rate=0.1, max_depth=3, n_estimators=100;, score=0.704 total time=  11.0s\n",
      "[CV 5/5] END learning_rate=0.1, max_depth=3, n_estimators=100;, score=0.706 total time=  10.7s\n",
      "[CV 1/5] END learning_rate=0.1, max_depth=3, n_estimators=250;, score=0.702 total time=  26.2s\n",
      "[CV 2/5] END learning_rate=0.1, max_depth=3, n_estimators=250;, score=0.704 total time=  25.9s\n",
      "[CV 3/5] END learning_rate=0.1, max_depth=3, n_estimators=250;, score=0.700 total time=  26.7s\n",
      "[CV 4/5] END learning_rate=0.1, max_depth=3, n_estimators=250;, score=0.701 total time=  26.3s\n",
      "[CV 5/5] END learning_rate=0.1, max_depth=3, n_estimators=250;, score=0.705 total time=  26.3s\n",
      "[CV 1/5] END learning_rate=0.1, max_depth=3, n_estimators=500;, score=0.698 total time=  54.4s\n",
      "[CV 2/5] END learning_rate=0.1, max_depth=3, n_estimators=500;, score=0.704 total time=  52.0s\n",
      "[CV 3/5] END learning_rate=0.1, max_depth=3, n_estimators=500;, score=0.698 total time=  51.6s\n",
      "[CV 4/5] END learning_rate=0.1, max_depth=3, n_estimators=500;, score=0.696 total time= 1.0min\n",
      "[CV 5/5] END learning_rate=0.1, max_depth=3, n_estimators=500;, score=0.701 total time=  57.4s\n",
      "[CV 1/5] END learning_rate=0.1, max_depth=4, n_estimators=100;, score=0.703 total time=  15.8s\n",
      "[CV 2/5] END learning_rate=0.1, max_depth=4, n_estimators=100;, score=0.704 total time=  14.8s\n",
      "[CV 3/5] END learning_rate=0.1, max_depth=4, n_estimators=100;, score=0.699 total time=  14.6s\n",
      "[CV 4/5] END learning_rate=0.1, max_depth=4, n_estimators=100;, score=0.703 total time=  13.7s\n",
      "[CV 5/5] END learning_rate=0.1, max_depth=4, n_estimators=100;, score=0.705 total time=  13.5s\n",
      "[CV 1/5] END learning_rate=0.1, max_depth=4, n_estimators=250;, score=0.699 total time=  33.8s\n",
      "[CV 2/5] END learning_rate=0.1, max_depth=4, n_estimators=250;, score=0.705 total time=  35.1s\n",
      "[CV 3/5] END learning_rate=0.1, max_depth=4, n_estimators=250;, score=0.697 total time=  35.8s\n",
      "[CV 4/5] END learning_rate=0.1, max_depth=4, n_estimators=250;, score=0.696 total time=  34.8s\n",
      "[CV 5/5] END learning_rate=0.1, max_depth=4, n_estimators=250;, score=0.702 total time=  36.7s\n",
      "[CV 1/5] END learning_rate=0.1, max_depth=4, n_estimators=500;, score=0.694 total time= 1.2min\n",
      "[CV 2/5] END learning_rate=0.1, max_depth=4, n_estimators=500;, score=0.699 total time= 1.2min\n",
      "[CV 3/5] END learning_rate=0.1, max_depth=4, n_estimators=500;, score=0.693 total time= 1.3min\n",
      "[CV 4/5] END learning_rate=0.1, max_depth=4, n_estimators=500;, score=0.690 total time= 1.3min\n",
      "[CV 5/5] END learning_rate=0.1, max_depth=4, n_estimators=500;, score=0.696 total time= 1.6min\n",
      "[CV 1/5] END learning_rate=0.1, max_depth=5, n_estimators=100;, score=0.699 total time=  18.9s\n",
      "[CV 2/5] END learning_rate=0.1, max_depth=5, n_estimators=100;, score=0.701 total time=  17.8s\n",
      "[CV 3/5] END learning_rate=0.1, max_depth=5, n_estimators=100;, score=0.698 total time=  21.0s\n",
      "[CV 4/5] END learning_rate=0.1, max_depth=5, n_estimators=100;, score=0.698 total time=  24.2s\n",
      "[CV 5/5] END learning_rate=0.1, max_depth=5, n_estimators=100;, score=0.702 total time=  25.4s\n",
      "[CV 1/5] END learning_rate=0.1, max_depth=5, n_estimators=250;, score=0.692 total time=  47.0s\n",
      "[CV 2/5] END learning_rate=0.1, max_depth=5, n_estimators=250;, score=0.701 total time=  48.3s\n",
      "[CV 3/5] END learning_rate=0.1, max_depth=5, n_estimators=250;, score=0.695 total time=  43.5s\n",
      "[CV 4/5] END learning_rate=0.1, max_depth=5, n_estimators=250;, score=0.687 total time=  40.9s\n",
      "[CV 5/5] END learning_rate=0.1, max_depth=5, n_estimators=250;, score=0.696 total time=  39.2s\n",
      "[CV 1/5] END learning_rate=0.1, max_depth=5, n_estimators=500;, score=0.691 total time= 1.3min\n",
      "[CV 2/5] END learning_rate=0.1, max_depth=5, n_estimators=500;, score=0.694 total time= 1.3min\n",
      "[CV 3/5] END learning_rate=0.1, max_depth=5, n_estimators=500;, score=0.693 total time= 1.3min\n",
      "[CV 4/5] END learning_rate=0.1, max_depth=5, n_estimators=500;, score=0.685 total time= 1.3min\n",
      "[CV 5/5] END learning_rate=0.1, max_depth=5, n_estimators=500;, score=0.686 total time= 1.3min\n",
      "[CV 1/5] END learning_rate=0.05, max_depth=1, n_estimators=100;, score=0.706 total time=   5.5s\n",
      "[CV 2/5] END learning_rate=0.05, max_depth=1, n_estimators=100;, score=0.706 total time=   5.5s\n",
      "[CV 3/5] END learning_rate=0.05, max_depth=1, n_estimators=100;, score=0.705 total time=   5.5s\n",
      "[CV 4/5] END learning_rate=0.05, max_depth=1, n_estimators=100;, score=0.705 total time=   5.5s\n",
      "[CV 5/5] END learning_rate=0.05, max_depth=1, n_estimators=100;, score=0.705 total time=   5.5s\n",
      "[CV 1/5] END learning_rate=0.05, max_depth=1, n_estimators=250;, score=0.704 total time=  13.7s\n",
      "[CV 2/5] END learning_rate=0.05, max_depth=1, n_estimators=250;, score=0.705 total time=  13.5s\n",
      "[CV 3/5] END learning_rate=0.05, max_depth=1, n_estimators=250;, score=0.705 total time=  13.6s\n",
      "[CV 4/5] END learning_rate=0.05, max_depth=1, n_estimators=250;, score=0.705 total time=  13.6s\n",
      "[CV 5/5] END learning_rate=0.05, max_depth=1, n_estimators=250;, score=0.705 total time=  13.7s\n",
      "[CV 1/5] END learning_rate=0.05, max_depth=1, n_estimators=500;, score=0.705 total time=  27.6s\n"
     ]
    },
    {
     "name": "stdout",
     "output_type": "stream",
     "text": [
      "[CV 2/5] END learning_rate=0.05, max_depth=1, n_estimators=500;, score=0.705 total time=  27.5s\n",
      "[CV 3/5] END learning_rate=0.05, max_depth=1, n_estimators=500;, score=0.706 total time=  27.7s\n",
      "[CV 4/5] END learning_rate=0.05, max_depth=1, n_estimators=500;, score=0.705 total time=  28.8s\n",
      "[CV 5/5] END learning_rate=0.05, max_depth=1, n_estimators=500;, score=0.705 total time=  28.1s\n",
      "[CV 1/5] END learning_rate=0.05, max_depth=2, n_estimators=100;, score=0.705 total time=   8.4s\n",
      "[CV 2/5] END learning_rate=0.05, max_depth=2, n_estimators=100;, score=0.705 total time=   8.2s\n",
      "[CV 3/5] END learning_rate=0.05, max_depth=2, n_estimators=100;, score=0.705 total time=   8.2s\n",
      "[CV 4/5] END learning_rate=0.05, max_depth=2, n_estimators=100;, score=0.705 total time=   8.5s\n",
      "[CV 5/5] END learning_rate=0.05, max_depth=2, n_estimators=100;, score=0.705 total time=   8.4s\n",
      "[CV 1/5] END learning_rate=0.05, max_depth=2, n_estimators=250;, score=0.704 total time=  20.3s\n",
      "[CV 2/5] END learning_rate=0.05, max_depth=2, n_estimators=250;, score=0.704 total time=  20.2s\n",
      "[CV 3/5] END learning_rate=0.05, max_depth=2, n_estimators=250;, score=0.703 total time=  20.7s\n",
      "[CV 4/5] END learning_rate=0.05, max_depth=2, n_estimators=250;, score=0.704 total time=  21.8s\n",
      "[CV 5/5] END learning_rate=0.05, max_depth=2, n_estimators=250;, score=0.705 total time=  20.9s\n",
      "[CV 1/5] END learning_rate=0.05, max_depth=2, n_estimators=500;, score=0.704 total time=  46.1s\n",
      "[CV 2/5] END learning_rate=0.05, max_depth=2, n_estimators=500;, score=0.704 total time=  43.4s\n",
      "[CV 3/5] END learning_rate=0.05, max_depth=2, n_estimators=500;, score=0.702 total time=  46.8s\n",
      "[CV 4/5] END learning_rate=0.05, max_depth=2, n_estimators=500;, score=0.704 total time=  45.3s\n",
      "[CV 5/5] END learning_rate=0.05, max_depth=2, n_estimators=500;, score=0.705 total time=  38.5s\n",
      "[CV 1/5] END learning_rate=0.05, max_depth=3, n_estimators=100;, score=0.705 total time=   7.2s\n",
      "[CV 2/5] END learning_rate=0.05, max_depth=3, n_estimators=100;, score=0.705 total time=   7.9s\n",
      "[CV 3/5] END learning_rate=0.05, max_depth=3, n_estimators=100;, score=0.701 total time=  10.5s\n",
      "[CV 4/5] END learning_rate=0.05, max_depth=3, n_estimators=100;, score=0.705 total time=   7.5s\n",
      "[CV 5/5] END learning_rate=0.05, max_depth=3, n_estimators=100;, score=0.705 total time=  10.7s\n",
      "[CV 1/5] END learning_rate=0.05, max_depth=3, n_estimators=250;, score=0.704 total time=  17.7s\n",
      "[CV 2/5] END learning_rate=0.05, max_depth=3, n_estimators=250;, score=0.704 total time=  27.5s\n",
      "[CV 3/5] END learning_rate=0.05, max_depth=3, n_estimators=250;, score=0.699 total time=  29.7s\n",
      "[CV 4/5] END learning_rate=0.05, max_depth=3, n_estimators=250;, score=0.703 total time=  24.8s\n",
      "[CV 5/5] END learning_rate=0.05, max_depth=3, n_estimators=250;, score=0.705 total time=  30.2s\n",
      "[CV 1/5] END learning_rate=0.05, max_depth=3, n_estimators=500;, score=0.701 total time=  45.6s\n",
      "[CV 2/5] END learning_rate=0.05, max_depth=3, n_estimators=500;, score=0.702 total time=  45.0s\n",
      "[CV 3/5] END learning_rate=0.05, max_depth=3, n_estimators=500;, score=0.699 total time=  47.4s\n",
      "[CV 4/5] END learning_rate=0.05, max_depth=3, n_estimators=500;, score=0.703 total time=  46.1s\n",
      "[CV 5/5] END learning_rate=0.05, max_depth=3, n_estimators=500;, score=0.705 total time=  46.0s\n",
      "[CV 1/5] END learning_rate=0.05, max_depth=4, n_estimators=100;, score=0.705 total time=   9.3s\n",
      "[CV 2/5] END learning_rate=0.05, max_depth=4, n_estimators=100;, score=0.705 total time=  10.0s\n",
      "[CV 3/5] END learning_rate=0.05, max_depth=4, n_estimators=100;, score=0.702 total time=  12.4s\n",
      "[CV 4/5] END learning_rate=0.05, max_depth=4, n_estimators=100;, score=0.703 total time=  10.3s\n",
      "[CV 5/5] END learning_rate=0.05, max_depth=4, n_estimators=100;, score=0.706 total time=  12.1s\n",
      "[CV 1/5] END learning_rate=0.05, max_depth=4, n_estimators=250;, score=0.702 total time=  29.0s\n",
      "[CV 2/5] END learning_rate=0.05, max_depth=4, n_estimators=250;, score=0.704 total time=  27.1s\n",
      "[CV 3/5] END learning_rate=0.05, max_depth=4, n_estimators=250;, score=0.699 total time=  27.3s\n",
      "[CV 4/5] END learning_rate=0.05, max_depth=4, n_estimators=250;, score=0.702 total time=  28.1s\n",
      "[CV 5/5] END learning_rate=0.05, max_depth=4, n_estimators=250;, score=0.703 total time=  28.6s\n",
      "[CV 1/5] END learning_rate=0.05, max_depth=4, n_estimators=500;, score=0.699 total time=  54.5s\n",
      "[CV 2/5] END learning_rate=0.05, max_depth=4, n_estimators=500;, score=0.704 total time=  55.9s\n",
      "[CV 3/5] END learning_rate=0.05, max_depth=4, n_estimators=500;, score=0.697 total time=  57.7s\n",
      "[CV 4/5] END learning_rate=0.05, max_depth=4, n_estimators=500;, score=0.697 total time= 1.0min\n",
      "[CV 5/5] END learning_rate=0.05, max_depth=4, n_estimators=500;, score=0.703 total time=  56.0s\n",
      "[CV 1/5] END learning_rate=0.05, max_depth=5, n_estimators=100;, score=0.700 total time=  13.1s\n",
      "[CV 2/5] END learning_rate=0.05, max_depth=5, n_estimators=100;, score=0.704 total time=  12.6s\n",
      "[CV 3/5] END learning_rate=0.05, max_depth=5, n_estimators=100;, score=0.701 total time=  14.7s\n",
      "[CV 4/5] END learning_rate=0.05, max_depth=5, n_estimators=100;, score=0.702 total time=  14.8s\n",
      "[CV 5/5] END learning_rate=0.05, max_depth=5, n_estimators=100;, score=0.703 total time=  12.6s\n",
      "[CV 1/5] END learning_rate=0.05, max_depth=5, n_estimators=250;, score=0.697 total time=  37.3s\n",
      "[CV 2/5] END learning_rate=0.05, max_depth=5, n_estimators=250;, score=0.703 total time=  42.8s\n",
      "[CV 3/5] END learning_rate=0.05, max_depth=5, n_estimators=250;, score=0.698 total time=  39.9s\n",
      "[CV 4/5] END learning_rate=0.05, max_depth=5, n_estimators=250;, score=0.700 total time=  49.2s\n",
      "[CV 5/5] END learning_rate=0.05, max_depth=5, n_estimators=250;, score=0.700 total time=  39.7s\n",
      "[CV 1/5] END learning_rate=0.05, max_depth=5, n_estimators=500;, score=0.694 total time= 1.3min\n",
      "[CV 2/5] END learning_rate=0.05, max_depth=5, n_estimators=500;, score=0.702 total time= 1.2min\n",
      "[CV 3/5] END learning_rate=0.05, max_depth=5, n_estimators=500;, score=0.694 total time= 1.2min\n",
      "[CV 4/5] END learning_rate=0.05, max_depth=5, n_estimators=500;, score=0.689 total time= 1.2min\n",
      "[CV 5/5] END learning_rate=0.05, max_depth=5, n_estimators=500;, score=0.697 total time= 1.2min\n",
      "[CV 1/5] END learning_rate=0.01, max_depth=1, n_estimators=100;, score=0.706 total time=   5.2s\n",
      "[CV 2/5] END learning_rate=0.01, max_depth=1, n_estimators=100;, score=0.706 total time=   4.9s\n",
      "[CV 3/5] END learning_rate=0.01, max_depth=1, n_estimators=100;, score=0.705 total time=   4.9s\n",
      "[CV 4/5] END learning_rate=0.01, max_depth=1, n_estimators=100;, score=0.705 total time=   6.1s\n",
      "[CV 5/5] END learning_rate=0.01, max_depth=1, n_estimators=100;, score=0.705 total time=   5.4s\n",
      "[CV 1/5] END learning_rate=0.01, max_depth=1, n_estimators=250;, score=0.706 total time=  13.5s\n",
      "[CV 2/5] END learning_rate=0.01, max_depth=1, n_estimators=250;, score=0.706 total time=  13.1s\n",
      "[CV 3/5] END learning_rate=0.01, max_depth=1, n_estimators=250;, score=0.705 total time=  14.8s\n",
      "[CV 4/5] END learning_rate=0.01, max_depth=1, n_estimators=250;, score=0.705 total time=  13.6s\n",
      "[CV 5/5] END learning_rate=0.01, max_depth=1, n_estimators=250;, score=0.705 total time=  11.7s\n",
      "[CV 1/5] END learning_rate=0.01, max_depth=1, n_estimators=500;, score=0.706 total time=  24.6s\n",
      "[CV 2/5] END learning_rate=0.01, max_depth=1, n_estimators=500;, score=0.706 total time=  24.4s\n",
      "[CV 3/5] END learning_rate=0.01, max_depth=1, n_estimators=500;, score=0.705 total time=  26.6s\n",
      "[CV 4/5] END learning_rate=0.01, max_depth=1, n_estimators=500;, score=0.705 total time=  26.5s\n",
      "[CV 5/5] END learning_rate=0.01, max_depth=1, n_estimators=500;, score=0.705 total time=  26.3s\n",
      "[CV 1/5] END learning_rate=0.01, max_depth=2, n_estimators=100;, score=0.706 total time=   7.8s\n",
      "[CV 2/5] END learning_rate=0.01, max_depth=2, n_estimators=100;, score=0.706 total time=   7.6s\n",
      "[CV 3/5] END learning_rate=0.01, max_depth=2, n_estimators=100;, score=0.705 total time=   6.8s\n",
      "[CV 4/5] END learning_rate=0.01, max_depth=2, n_estimators=100;, score=0.705 total time=   8.3s\n",
      "[CV 5/5] END learning_rate=0.01, max_depth=2, n_estimators=100;, score=0.705 total time=   7.1s\n",
      "[CV 1/5] END learning_rate=0.01, max_depth=2, n_estimators=250;, score=0.706 total time=  20.3s\n",
      "[CV 2/5] END learning_rate=0.01, max_depth=2, n_estimators=250;, score=0.705 total time=  16.1s\n"
     ]
    },
    {
     "name": "stdout",
     "output_type": "stream",
     "text": [
      "[CV 3/5] END learning_rate=0.01, max_depth=2, n_estimators=250;, score=0.705 total time=  16.1s\n",
      "[CV 4/5] END learning_rate=0.01, max_depth=2, n_estimators=250;, score=0.705 total time=  19.1s\n",
      "[CV 5/5] END learning_rate=0.01, max_depth=2, n_estimators=250;, score=0.705 total time=  17.7s\n",
      "[CV 1/5] END learning_rate=0.01, max_depth=2, n_estimators=500;, score=0.705 total time=  40.1s\n",
      "[CV 2/5] END learning_rate=0.01, max_depth=2, n_estimators=500;, score=0.705 total time=  40.1s\n",
      "[CV 3/5] END learning_rate=0.01, max_depth=2, n_estimators=500;, score=0.705 total time=  36.1s\n",
      "[CV 4/5] END learning_rate=0.01, max_depth=2, n_estimators=500;, score=0.705 total time=  50.5s\n",
      "[CV 5/5] END learning_rate=0.01, max_depth=2, n_estimators=500;, score=0.705 total time=  37.5s\n",
      "[CV 1/5] END learning_rate=0.01, max_depth=3, n_estimators=100;, score=0.706 total time=  13.4s\n",
      "[CV 2/5] END learning_rate=0.01, max_depth=3, n_estimators=100;, score=0.706 total time=  15.8s\n",
      "[CV 3/5] END learning_rate=0.01, max_depth=3, n_estimators=100;, score=0.705 total time=  10.5s\n",
      "[CV 4/5] END learning_rate=0.01, max_depth=3, n_estimators=100;, score=0.705 total time=   9.5s\n",
      "[CV 5/5] END learning_rate=0.01, max_depth=3, n_estimators=100;, score=0.705 total time=   9.6s\n",
      "[CV 1/5] END learning_rate=0.01, max_depth=3, n_estimators=250;, score=0.705 total time=  27.9s\n",
      "[CV 2/5] END learning_rate=0.01, max_depth=3, n_estimators=250;, score=0.704 total time=  22.2s\n",
      "[CV 3/5] END learning_rate=0.01, max_depth=3, n_estimators=250;, score=0.705 total time=  26.7s\n",
      "[CV 4/5] END learning_rate=0.01, max_depth=3, n_estimators=250;, score=0.705 total time=  29.0s\n",
      "[CV 5/5] END learning_rate=0.01, max_depth=3, n_estimators=250;, score=0.705 total time= 8.6min\n",
      "[CV 1/5] END learning_rate=0.01, max_depth=3, n_estimators=500;, score=0.705 total time= 5.3min\n",
      "[CV 2/5] END learning_rate=0.01, max_depth=3, n_estimators=500;, score=0.705 total time= 8.3min\n",
      "[CV 3/5] END learning_rate=0.01, max_depth=3, n_estimators=500;, score=0.701 total time= 9.6min\n",
      "[CV 4/5] END learning_rate=0.01, max_depth=3, n_estimators=500;, score=0.705 total time=  54.3s\n",
      "[CV 5/5] END learning_rate=0.01, max_depth=3, n_estimators=500;, score=0.705 total time=  43.4s\n",
      "[CV 1/5] END learning_rate=0.01, max_depth=4, n_estimators=100;, score=0.706 total time=   9.9s\n",
      "[CV 2/5] END learning_rate=0.01, max_depth=4, n_estimators=100;, score=0.706 total time=   9.4s\n",
      "[CV 3/5] END learning_rate=0.01, max_depth=4, n_estimators=100;, score=0.705 total time=  10.6s\n",
      "[CV 4/5] END learning_rate=0.01, max_depth=4, n_estimators=100;, score=0.705 total time=   9.9s\n",
      "[CV 5/5] END learning_rate=0.01, max_depth=4, n_estimators=100;, score=0.705 total time=   9.9s\n",
      "[CV 1/5] END learning_rate=0.01, max_depth=4, n_estimators=250;, score=0.705 total time=  24.5s\n",
      "[CV 2/5] END learning_rate=0.01, max_depth=4, n_estimators=250;, score=0.705 total time=  26.1s\n",
      "[CV 3/5] END learning_rate=0.01, max_depth=4, n_estimators=250;, score=0.702 total time=  27.4s\n",
      "[CV 4/5] END learning_rate=0.01, max_depth=4, n_estimators=250;, score=0.705 total time=  26.1s\n",
      "[CV 5/5] END learning_rate=0.01, max_depth=4, n_estimators=250;, score=0.705 total time=  26.6s\n",
      "[CV 1/5] END learning_rate=0.01, max_depth=4, n_estimators=500;, score=0.705 total time=  52.7s\n",
      "[CV 2/5] END learning_rate=0.01, max_depth=4, n_estimators=500;, score=0.705 total time=  54.0s\n",
      "[CV 3/5] END learning_rate=0.01, max_depth=4, n_estimators=500;, score=0.700 total time=  53.5s\n",
      "[CV 4/5] END learning_rate=0.01, max_depth=4, n_estimators=500;, score=0.703 total time=  52.4s\n",
      "[CV 5/5] END learning_rate=0.01, max_depth=4, n_estimators=500;, score=0.706 total time= 1.0min\n",
      "[CV 1/5] END learning_rate=0.01, max_depth=5, n_estimators=100;, score=0.705 total time=  14.8s\n",
      "[CV 2/5] END learning_rate=0.01, max_depth=5, n_estimators=100;, score=0.706 total time=  11.0s\n",
      "[CV 3/5] END learning_rate=0.01, max_depth=5, n_estimators=100;, score=0.705 total time=  12.4s\n",
      "[CV 4/5] END learning_rate=0.01, max_depth=5, n_estimators=100;, score=0.705 total time=  20.2s\n",
      "[CV 5/5] END learning_rate=0.01, max_depth=5, n_estimators=100;, score=0.703 total time=  17.6s\n",
      "[CV 1/5] END learning_rate=0.01, max_depth=5, n_estimators=250;, score=0.702 total time=  36.6s\n",
      "[CV 2/5] END learning_rate=0.01, max_depth=5, n_estimators=250;, score=0.705 total time=  33.2s\n",
      "[CV 3/5] END learning_rate=0.01, max_depth=5, n_estimators=250;, score=0.701 total time=  35.5s\n",
      "[CV 4/5] END learning_rate=0.01, max_depth=5, n_estimators=250;, score=0.702 total time=  33.0s\n",
      "[CV 5/5] END learning_rate=0.01, max_depth=5, n_estimators=250;, score=0.703 total time=  35.7s\n",
      "[CV 1/5] END learning_rate=0.01, max_depth=5, n_estimators=500;, score=0.702 total time= 1.1min\n",
      "[CV 2/5] END learning_rate=0.01, max_depth=5, n_estimators=500;, score=0.706 total time= 1.1min\n",
      "[CV 3/5] END learning_rate=0.01, max_depth=5, n_estimators=500;, score=0.701 total time= 1.1min\n",
      "[CV 4/5] END learning_rate=0.01, max_depth=5, n_estimators=500;, score=0.701 total time= 1.1min\n",
      "[CV 5/5] END learning_rate=0.01, max_depth=5, n_estimators=500;, score=0.703 total time= 1.1min\n",
      "[CV 1/5] END learning_rate=1, max_depth=1, n_estimators=100;, score=0.704 total time=   4.4s\n",
      "[CV 2/5] END learning_rate=1, max_depth=1, n_estimators=100;, score=0.704 total time=   5.1s\n",
      "[CV 3/5] END learning_rate=1, max_depth=1, n_estimators=100;, score=0.702 total time=   4.4s\n",
      "[CV 4/5] END learning_rate=1, max_depth=1, n_estimators=100;, score=0.705 total time=   4.3s\n",
      "[CV 5/5] END learning_rate=1, max_depth=1, n_estimators=100;, score=0.706 total time=   4.2s\n",
      "[CV 1/5] END learning_rate=1, max_depth=1, n_estimators=250;, score=0.704 total time=  12.1s\n",
      "[CV 2/5] END learning_rate=1, max_depth=1, n_estimators=250;, score=0.705 total time=  11.4s\n",
      "[CV 3/5] END learning_rate=1, max_depth=1, n_estimators=250;, score=0.704 total time=  11.4s\n",
      "[CV 4/5] END learning_rate=1, max_depth=1, n_estimators=250;, score=0.705 total time=  11.1s\n",
      "[CV 5/5] END learning_rate=1, max_depth=1, n_estimators=250;, score=0.706 total time=  12.7s\n",
      "[CV 1/5] END learning_rate=1, max_depth=1, n_estimators=500;, score=0.704 total time=  23.9s\n",
      "[CV 2/5] END learning_rate=1, max_depth=1, n_estimators=500;, score=0.705 total time=  24.6s\n",
      "[CV 3/5] END learning_rate=1, max_depth=1, n_estimators=500;, score=0.704 total time=  23.5s\n",
      "[CV 4/5] END learning_rate=1, max_depth=1, n_estimators=500;, score=0.705 total time=  26.1s\n",
      "[CV 5/5] END learning_rate=1, max_depth=1, n_estimators=500;, score=0.706 total time=  22.7s\n",
      "[CV 1/5] END learning_rate=1, max_depth=2, n_estimators=100;, score=0.702 total time=   6.7s\n",
      "[CV 2/5] END learning_rate=1, max_depth=2, n_estimators=100;, score=0.701 total time=   6.4s\n",
      "[CV 3/5] END learning_rate=1, max_depth=2, n_estimators=100;, score=0.699 total time=   6.4s\n",
      "[CV 4/5] END learning_rate=1, max_depth=2, n_estimators=100;, score=0.698 total time=   7.5s\n",
      "[CV 5/5] END learning_rate=1, max_depth=2, n_estimators=100;, score=0.701 total time=   6.9s\n",
      "[CV 1/5] END learning_rate=1, max_depth=2, n_estimators=250;, score=0.697 total time=  18.5s\n",
      "[CV 2/5] END learning_rate=1, max_depth=2, n_estimators=250;, score=0.702 total time=  15.6s\n",
      "[CV 3/5] END learning_rate=1, max_depth=2, n_estimators=250;, score=0.697 total time=  18.8s\n",
      "[CV 4/5] END learning_rate=1, max_depth=2, n_estimators=250;, score=0.694 total time=  23.9s\n",
      "[CV 5/5] END learning_rate=1, max_depth=2, n_estimators=250;, score=0.700 total time=  19.5s\n",
      "[CV 1/5] END learning_rate=1, max_depth=2, n_estimators=500;, score=0.697 total time=  46.7s\n",
      "[CV 2/5] END learning_rate=1, max_depth=2, n_estimators=500;, score=0.701 total time=  35.1s\n",
      "[CV 3/5] END learning_rate=1, max_depth=2, n_estimators=500;, score=0.698 total time=  38.3s\n",
      "[CV 4/5] END learning_rate=1, max_depth=2, n_estimators=500;, score=0.690 total time=  36.7s\n",
      "[CV 5/5] END learning_rate=1, max_depth=2, n_estimators=500;, score=0.698 total time=  35.7s\n",
      "[CV 1/5] END learning_rate=1, max_depth=3, n_estimators=100;, score=0.687 total time=   8.9s\n",
      "[CV 2/5] END learning_rate=1, max_depth=3, n_estimators=100;, score=0.698 total time=   9.9s\n",
      "[CV 3/5] END learning_rate=1, max_depth=3, n_estimators=100;, score=0.694 total time=  10.8s\n",
      "[CV 4/5] END learning_rate=1, max_depth=3, n_estimators=100;, score=0.687 total time=  10.4s\n"
     ]
    },
    {
     "name": "stdout",
     "output_type": "stream",
     "text": [
      "[CV 5/5] END learning_rate=1, max_depth=3, n_estimators=100;, score=0.691 total time=   9.7s\n",
      "[CV 1/5] END learning_rate=1, max_depth=3, n_estimators=250;, score=0.693 total time=  26.9s\n",
      "[CV 2/5] END learning_rate=1, max_depth=3, n_estimators=250;, score=0.692 total time=  24.2s\n",
      "[CV 3/5] END learning_rate=1, max_depth=3, n_estimators=250;, score=0.691 total time=  26.2s\n",
      "[CV 4/5] END learning_rate=1, max_depth=3, n_estimators=250;, score=0.679 total time=  22.7s\n",
      "[CV 5/5] END learning_rate=1, max_depth=3, n_estimators=250;, score=0.686 total time=  22.2s\n",
      "[CV 1/5] END learning_rate=1, max_depth=3, n_estimators=500;, score=0.691 total time=  49.0s\n",
      "[CV 2/5] END learning_rate=1, max_depth=3, n_estimators=500;, score=0.686 total time=  46.3s\n",
      "[CV 3/5] END learning_rate=1, max_depth=3, n_estimators=500;, score=0.692 total time=  43.1s\n",
      "[CV 4/5] END learning_rate=1, max_depth=3, n_estimators=500;, score=0.677 total time=  48.3s\n",
      "[CV 5/5] END learning_rate=1, max_depth=3, n_estimators=500;, score=0.677 total time=  46.2s\n",
      "[CV 1/5] END learning_rate=1, max_depth=4, n_estimators=100;, score=0.689 total time=  10.0s\n",
      "[CV 2/5] END learning_rate=1, max_depth=4, n_estimators=100;, score=0.688 total time=  12.1s\n",
      "[CV 3/5] END learning_rate=1, max_depth=4, n_estimators=100;, score=0.689 total time=  12.0s\n",
      "[CV 4/5] END learning_rate=1, max_depth=4, n_estimators=100;, score=0.677 total time=  11.3s\n",
      "[CV 5/5] END learning_rate=1, max_depth=4, n_estimators=100;, score=0.684 total time=  12.2s\n",
      "[CV 1/5] END learning_rate=1, max_depth=4, n_estimators=250;, score=0.688 total time=  31.0s\n",
      "[CV 2/5] END learning_rate=1, max_depth=4, n_estimators=250;, score=0.689 total time=  30.3s\n",
      "[CV 3/5] END learning_rate=1, max_depth=4, n_estimators=250;, score=0.683 total time=  30.6s\n",
      "[CV 4/5] END learning_rate=1, max_depth=4, n_estimators=250;, score=0.676 total time=  29.9s\n",
      "[CV 5/5] END learning_rate=1, max_depth=4, n_estimators=250;, score=0.678 total time=  29.3s\n",
      "[CV 1/5] END learning_rate=1, max_depth=4, n_estimators=500;, score=0.682 total time=  56.5s\n",
      "[CV 2/5] END learning_rate=1, max_depth=4, n_estimators=500;, score=0.688 total time= 1.1min\n",
      "[CV 3/5] END learning_rate=1, max_depth=4, n_estimators=500;, score=0.685 total time= 1.0min\n",
      "[CV 4/5] END learning_rate=1, max_depth=4, n_estimators=500;, score=0.675 total time= 1.0min\n",
      "[CV 5/5] END learning_rate=1, max_depth=4, n_estimators=500;, score=0.680 total time= 1.0min\n",
      "[CV 1/5] END learning_rate=1, max_depth=5, n_estimators=100;, score=0.688 total time=  13.8s\n",
      "[CV 2/5] END learning_rate=1, max_depth=5, n_estimators=100;, score=0.686 total time=  17.9s\n",
      "[CV 3/5] END learning_rate=1, max_depth=5, n_estimators=100;, score=0.684 total time=  15.8s\n",
      "[CV 4/5] END learning_rate=1, max_depth=5, n_estimators=100;, score=0.672 total time=  13.5s\n",
      "[CV 5/5] END learning_rate=1, max_depth=5, n_estimators=100;, score=0.678 total time=  13.4s\n",
      "[CV 1/5] END learning_rate=1, max_depth=5, n_estimators=250;, score=0.682 total time=  32.0s\n",
      "[CV 2/5] END learning_rate=1, max_depth=5, n_estimators=250;, score=0.689 total time=  32.9s\n",
      "[CV 3/5] END learning_rate=1, max_depth=5, n_estimators=250;, score=0.685 total time=  35.8s\n",
      "[CV 4/5] END learning_rate=1, max_depth=5, n_estimators=250;, score=0.675 total time=  33.8s\n",
      "[CV 5/5] END learning_rate=1, max_depth=5, n_estimators=250;, score=0.677 total time=  32.9s\n",
      "[CV 1/5] END learning_rate=1, max_depth=5, n_estimators=500;, score=0.681 total time= 1.3min\n",
      "[CV 2/5] END learning_rate=1, max_depth=5, n_estimators=500;, score=0.686 total time= 1.1min\n",
      "[CV 3/5] END learning_rate=1, max_depth=5, n_estimators=500;, score=0.686 total time= 1.2min\n",
      "[CV 4/5] END learning_rate=1, max_depth=5, n_estimators=500;, score=0.672 total time= 1.2min\n",
      "[CV 5/5] END learning_rate=1, max_depth=5, n_estimators=500;, score=0.681 total time= 1.2min\n",
      "[CV 1/5] END learning_rate=0.5, max_depth=1, n_estimators=100;, score=0.705 total time=   5.3s\n",
      "[CV 2/5] END learning_rate=0.5, max_depth=1, n_estimators=100;, score=0.705 total time=   4.3s\n",
      "[CV 3/5] END learning_rate=0.5, max_depth=1, n_estimators=100;, score=0.705 total time=   4.2s\n",
      "[CV 4/5] END learning_rate=0.5, max_depth=1, n_estimators=100;, score=0.705 total time=   5.1s\n",
      "[CV 5/5] END learning_rate=0.5, max_depth=1, n_estimators=100;, score=0.705 total time=   4.9s\n",
      "[CV 1/5] END learning_rate=0.5, max_depth=1, n_estimators=250;, score=0.705 total time=  12.0s\n",
      "[CV 2/5] END learning_rate=0.5, max_depth=1, n_estimators=250;, score=0.705 total time=  11.7s\n",
      "[CV 3/5] END learning_rate=0.5, max_depth=1, n_estimators=250;, score=0.705 total time=  10.5s\n",
      "[CV 4/5] END learning_rate=0.5, max_depth=1, n_estimators=250;, score=0.705 total time=  13.0s\n",
      "[CV 5/5] END learning_rate=0.5, max_depth=1, n_estimators=250;, score=0.705 total time=  11.2s\n",
      "[CV 1/5] END learning_rate=0.5, max_depth=1, n_estimators=500;, score=0.705 total time=  28.9s\n",
      "[CV 2/5] END learning_rate=0.5, max_depth=1, n_estimators=500;, score=0.705 total time=  24.1s\n",
      "[CV 3/5] END learning_rate=0.5, max_depth=1, n_estimators=500;, score=0.705 total time=  25.8s\n",
      "[CV 4/5] END learning_rate=0.5, max_depth=1, n_estimators=500;, score=0.705 total time=  24.1s\n",
      "[CV 5/5] END learning_rate=0.5, max_depth=1, n_estimators=500;, score=0.706 total time=  27.0s\n",
      "[CV 1/5] END learning_rate=0.5, max_depth=2, n_estimators=100;, score=0.702 total time=   6.9s\n",
      "[CV 2/5] END learning_rate=0.5, max_depth=2, n_estimators=100;, score=0.703 total time=   6.1s\n",
      "[CV 3/5] END learning_rate=0.5, max_depth=2, n_estimators=100;, score=0.699 total time=   7.2s\n",
      "[CV 4/5] END learning_rate=0.5, max_depth=2, n_estimators=100;, score=0.702 total time=   7.0s\n",
      "[CV 5/5] END learning_rate=0.5, max_depth=2, n_estimators=100;, score=0.704 total time=   8.5s\n",
      "[CV 1/5] END learning_rate=0.5, max_depth=2, n_estimators=250;, score=0.697 total time=  18.9s\n",
      "[CV 2/5] END learning_rate=0.5, max_depth=2, n_estimators=250;, score=0.701 total time=  16.4s\n",
      "[CV 3/5] END learning_rate=0.5, max_depth=2, n_estimators=250;, score=0.698 total time=  18.8s\n",
      "[CV 4/5] END learning_rate=0.5, max_depth=2, n_estimators=250;, score=0.700 total time=  17.0s\n",
      "[CV 5/5] END learning_rate=0.5, max_depth=2, n_estimators=250;, score=0.704 total time=  16.0s\n",
      "[CV 1/5] END learning_rate=0.5, max_depth=2, n_estimators=500;, score=0.697 total time=  28.3s\n",
      "[CV 2/5] END learning_rate=0.5, max_depth=2, n_estimators=500;, score=0.700 total time=  27.2s\n",
      "[CV 3/5] END learning_rate=0.5, max_depth=2, n_estimators=500;, score=0.695 total time=  28.7s\n",
      "[CV 4/5] END learning_rate=0.5, max_depth=2, n_estimators=500;, score=0.695 total time=  32.3s\n",
      "[CV 5/5] END learning_rate=0.5, max_depth=2, n_estimators=500;, score=0.701 total time=  38.8s\n",
      "[CV 1/5] END learning_rate=0.5, max_depth=3, n_estimators=100;, score=0.698 total time=   8.4s\n",
      "[CV 2/5] END learning_rate=0.5, max_depth=3, n_estimators=100;, score=0.700 total time=  10.9s\n",
      "[CV 3/5] END learning_rate=0.5, max_depth=3, n_estimators=100;, score=0.698 total time=   8.7s\n",
      "[CV 4/5] END learning_rate=0.5, max_depth=3, n_estimators=100;, score=0.690 total time=  11.8s\n",
      "[CV 5/5] END learning_rate=0.5, max_depth=3, n_estimators=100;, score=0.698 total time=  13.9s\n",
      "[CV 1/5] END learning_rate=0.5, max_depth=3, n_estimators=250;, score=0.693 total time=  41.7s\n",
      "[CV 2/5] END learning_rate=0.5, max_depth=3, n_estimators=250;, score=0.701 total time=  24.7s\n",
      "[CV 3/5] END learning_rate=0.5, max_depth=3, n_estimators=250;, score=0.694 total time=  25.6s\n",
      "[CV 4/5] END learning_rate=0.5, max_depth=3, n_estimators=250;, score=0.682 total time=  18.9s\n",
      "[CV 5/5] END learning_rate=0.5, max_depth=3, n_estimators=250;, score=0.694 total time=  18.4s\n",
      "[CV 1/5] END learning_rate=0.5, max_depth=3, n_estimators=500;, score=0.686 total time=  48.7s\n",
      "[CV 2/5] END learning_rate=0.5, max_depth=3, n_estimators=500;, score=0.692 total time=  42.6s\n",
      "[CV 3/5] END learning_rate=0.5, max_depth=3, n_estimators=500;, score=0.691 total time=  45.8s\n",
      "[CV 4/5] END learning_rate=0.5, max_depth=3, n_estimators=500;, score=0.680 total time=  41.1s\n",
      "[CV 5/5] END learning_rate=0.5, max_depth=3, n_estimators=500;, score=0.688 total time=  37.1s\n",
      "[CV 1/5] END learning_rate=0.5, max_depth=4, n_estimators=100;, score=0.691 total time=   9.4s\n",
      "[CV 2/5] END learning_rate=0.5, max_depth=4, n_estimators=100;, score=0.694 total time=  10.1s\n"
     ]
    },
    {
     "name": "stdout",
     "output_type": "stream",
     "text": [
      "[CV 3/5] END learning_rate=0.5, max_depth=4, n_estimators=100;, score=0.688 total time=   9.1s\n",
      "[CV 4/5] END learning_rate=0.5, max_depth=4, n_estimators=100;, score=0.684 total time=   8.9s\n",
      "[CV 5/5] END learning_rate=0.5, max_depth=4, n_estimators=100;, score=0.691 total time=   9.2s\n",
      "[CV 1/5] END learning_rate=0.5, max_depth=4, n_estimators=250;, score=0.688 total time=  24.1s\n",
      "[CV 2/5] END learning_rate=0.5, max_depth=4, n_estimators=250;, score=0.692 total time=  22.1s\n",
      "[CV 3/5] END learning_rate=0.5, max_depth=4, n_estimators=250;, score=0.695 total time=  20.6s\n",
      "[CV 4/5] END learning_rate=0.5, max_depth=4, n_estimators=250;, score=0.679 total time=  21.0s\n",
      "[CV 5/5] END learning_rate=0.5, max_depth=4, n_estimators=250;, score=0.679 total time=  20.6s\n",
      "[CV 1/5] END learning_rate=0.5, max_depth=4, n_estimators=500;, score=0.681 total time=  41.3s\n",
      "[CV 2/5] END learning_rate=0.5, max_depth=4, n_estimators=500;, score=0.688 total time=  41.8s\n",
      "[CV 3/5] END learning_rate=0.5, max_depth=4, n_estimators=500;, score=0.687 total time=  43.7s\n",
      "[CV 4/5] END learning_rate=0.5, max_depth=4, n_estimators=500;, score=0.675 total time=  42.7s\n",
      "[CV 5/5] END learning_rate=0.5, max_depth=4, n_estimators=500;, score=0.675 total time=  42.3s\n",
      "[CV 1/5] END learning_rate=0.5, max_depth=5, n_estimators=100;, score=0.690 total time=  10.4s\n",
      "[CV 2/5] END learning_rate=0.5, max_depth=5, n_estimators=100;, score=0.691 total time=  10.4s\n",
      "[CV 3/5] END learning_rate=0.5, max_depth=5, n_estimators=100;, score=0.689 total time=  10.1s\n",
      "[CV 4/5] END learning_rate=0.5, max_depth=5, n_estimators=100;, score=0.682 total time=  10.2s\n",
      "[CV 5/5] END learning_rate=0.5, max_depth=5, n_estimators=100;, score=0.684 total time=   9.7s\n",
      "[CV 1/5] END learning_rate=0.5, max_depth=5, n_estimators=250;, score=0.680 total time=  24.8s\n",
      "[CV 2/5] END learning_rate=0.5, max_depth=5, n_estimators=250;, score=0.690 total time=  24.0s\n",
      "[CV 3/5] END learning_rate=0.5, max_depth=5, n_estimators=250;, score=0.686 total time=  24.5s\n",
      "[CV 4/5] END learning_rate=0.5, max_depth=5, n_estimators=250;, score=0.676 total time=  25.8s\n",
      "[CV 5/5] END learning_rate=0.5, max_depth=5, n_estimators=250;, score=0.677 total time=  25.6s\n",
      "[CV 1/5] END learning_rate=0.5, max_depth=5, n_estimators=500;, score=0.681 total time=  50.4s\n",
      "[CV 2/5] END learning_rate=0.5, max_depth=5, n_estimators=500;, score=0.690 total time=  49.4s\n",
      "[CV 3/5] END learning_rate=0.5, max_depth=5, n_estimators=500;, score=0.683 total time=  51.7s\n",
      "[CV 4/5] END learning_rate=0.5, max_depth=5, n_estimators=500;, score=0.676 total time=  52.3s\n",
      "[CV 5/5] END learning_rate=0.5, max_depth=5, n_estimators=500;, score=0.679 total time=  50.2s\n",
      "[CV 1/5] END learning_rate=0.25, max_depth=1, n_estimators=100;, score=0.705 total time=   3.7s\n",
      "[CV 2/5] END learning_rate=0.25, max_depth=1, n_estimators=100;, score=0.705 total time=   3.5s\n",
      "[CV 3/5] END learning_rate=0.25, max_depth=1, n_estimators=100;, score=0.706 total time=   3.6s\n",
      "[CV 4/5] END learning_rate=0.25, max_depth=1, n_estimators=100;, score=0.705 total time=   3.3s\n",
      "[CV 5/5] END learning_rate=0.25, max_depth=1, n_estimators=100;, score=0.705 total time=   3.5s\n",
      "[CV 1/5] END learning_rate=0.25, max_depth=1, n_estimators=250;, score=0.705 total time=   8.6s\n",
      "[CV 2/5] END learning_rate=0.25, max_depth=1, n_estimators=250;, score=0.705 total time=   8.7s\n",
      "[CV 3/5] END learning_rate=0.25, max_depth=1, n_estimators=250;, score=0.705 total time=   8.8s\n",
      "[CV 4/5] END learning_rate=0.25, max_depth=1, n_estimators=250;, score=0.705 total time=   8.4s\n",
      "[CV 5/5] END learning_rate=0.25, max_depth=1, n_estimators=250;, score=0.705 total time=   9.1s\n",
      "[CV 1/5] END learning_rate=0.25, max_depth=1, n_estimators=500;, score=0.705 total time=  17.4s\n",
      "[CV 2/5] END learning_rate=0.25, max_depth=1, n_estimators=500;, score=0.705 total time=  18.0s\n",
      "[CV 3/5] END learning_rate=0.25, max_depth=1, n_estimators=500;, score=0.705 total time=  19.1s\n",
      "[CV 4/5] END learning_rate=0.25, max_depth=1, n_estimators=500;, score=0.705 total time=  18.1s\n",
      "[CV 5/5] END learning_rate=0.25, max_depth=1, n_estimators=500;, score=0.705 total time=  17.8s\n",
      "[CV 1/5] END learning_rate=0.25, max_depth=2, n_estimators=100;, score=0.704 total time=   5.3s\n",
      "[CV 2/5] END learning_rate=0.25, max_depth=2, n_estimators=100;, score=0.704 total time=   5.2s\n",
      "[CV 3/5] END learning_rate=0.25, max_depth=2, n_estimators=100;, score=0.702 total time=   5.2s\n",
      "[CV 4/5] END learning_rate=0.25, max_depth=2, n_estimators=100;, score=0.703 total time=   5.1s\n",
      "[CV 5/5] END learning_rate=0.25, max_depth=2, n_estimators=100;, score=0.705 total time=   5.7s\n",
      "[CV 1/5] END learning_rate=0.25, max_depth=2, n_estimators=250;, score=0.701 total time=  13.5s\n",
      "[CV 2/5] END learning_rate=0.25, max_depth=2, n_estimators=250;, score=0.703 total time=  13.4s\n",
      "[CV 3/5] END learning_rate=0.25, max_depth=2, n_estimators=250;, score=0.700 total time=  12.8s\n",
      "[CV 4/5] END learning_rate=0.25, max_depth=2, n_estimators=250;, score=0.701 total time=  12.5s\n",
      "[CV 5/5] END learning_rate=0.25, max_depth=2, n_estimators=250;, score=0.705 total time=  12.3s\n",
      "[CV 1/5] END learning_rate=0.25, max_depth=2, n_estimators=500;, score=0.698 total time=  25.5s\n",
      "[CV 2/5] END learning_rate=0.25, max_depth=2, n_estimators=500;, score=0.703 total time=  24.9s\n",
      "[CV 3/5] END learning_rate=0.25, max_depth=2, n_estimators=500;, score=0.698 total time=  26.4s\n",
      "[CV 4/5] END learning_rate=0.25, max_depth=2, n_estimators=500;, score=0.702 total time=  26.1s\n",
      "[CV 5/5] END learning_rate=0.25, max_depth=2, n_estimators=500;, score=0.703 total time=  26.9s\n",
      "[CV 1/5] END learning_rate=0.25, max_depth=3, n_estimators=100;, score=0.704 total time=   6.8s\n",
      "[CV 2/5] END learning_rate=0.25, max_depth=3, n_estimators=100;, score=0.704 total time=   7.0s\n",
      "[CV 3/5] END learning_rate=0.25, max_depth=3, n_estimators=100;, score=0.699 total time=   6.9s\n",
      "[CV 4/5] END learning_rate=0.25, max_depth=3, n_estimators=100;, score=0.699 total time=   6.8s\n",
      "[CV 5/5] END learning_rate=0.25, max_depth=3, n_estimators=100;, score=0.706 total time=   6.8s\n",
      "[CV 1/5] END learning_rate=0.25, max_depth=3, n_estimators=250;, score=0.697 total time=  17.7s\n",
      "[CV 2/5] END learning_rate=0.25, max_depth=3, n_estimators=250;, score=0.704 total time=  17.4s\n",
      "[CV 3/5] END learning_rate=0.25, max_depth=3, n_estimators=250;, score=0.695 total time=  16.2s\n",
      "[CV 4/5] END learning_rate=0.25, max_depth=3, n_estimators=250;, score=0.691 total time=  16.7s\n",
      "[CV 5/5] END learning_rate=0.25, max_depth=3, n_estimators=250;, score=0.701 total time=  17.1s\n",
      "[CV 1/5] END learning_rate=0.25, max_depth=3, n_estimators=500;, score=0.695 total time=  33.6s\n",
      "[CV 2/5] END learning_rate=0.25, max_depth=3, n_estimators=500;, score=0.703 total time=  32.4s\n",
      "[CV 3/5] END learning_rate=0.25, max_depth=3, n_estimators=500;, score=0.692 total time=  33.0s\n",
      "[CV 4/5] END learning_rate=0.25, max_depth=3, n_estimators=500;, score=0.685 total time=  33.8s\n",
      "[CV 5/5] END learning_rate=0.25, max_depth=3, n_estimators=500;, score=0.697 total time=  36.2s\n",
      "[CV 1/5] END learning_rate=0.25, max_depth=4, n_estimators=100;, score=0.700 total time=   8.7s\n",
      "[CV 2/5] END learning_rate=0.25, max_depth=4, n_estimators=100;, score=0.703 total time=   8.3s\n",
      "[CV 3/5] END learning_rate=0.25, max_depth=4, n_estimators=100;, score=0.697 total time=   8.6s\n",
      "[CV 4/5] END learning_rate=0.25, max_depth=4, n_estimators=100;, score=0.692 total time=   8.1s\n",
      "[CV 5/5] END learning_rate=0.25, max_depth=4, n_estimators=100;, score=0.700 total time=   8.3s\n",
      "[CV 1/5] END learning_rate=0.25, max_depth=4, n_estimators=250;, score=0.694 total time=  22.6s\n",
      "[CV 2/5] END learning_rate=0.25, max_depth=4, n_estimators=250;, score=0.697 total time=  21.5s\n",
      "[CV 3/5] END learning_rate=0.25, max_depth=4, n_estimators=250;, score=0.692 total time=  20.9s\n",
      "[CV 4/5] END learning_rate=0.25, max_depth=4, n_estimators=250;, score=0.682 total time=  21.8s\n",
      "[CV 5/5] END learning_rate=0.25, max_depth=4, n_estimators=250;, score=0.692 total time=  22.0s\n",
      "[CV 1/5] END learning_rate=0.25, max_depth=4, n_estimators=500;, score=0.687 total time=  43.1s\n",
      "[CV 2/5] END learning_rate=0.25, max_depth=4, n_estimators=500;, score=0.692 total time=  40.7s\n",
      "[CV 3/5] END learning_rate=0.25, max_depth=4, n_estimators=500;, score=0.692 total time=  42.0s\n"
     ]
    },
    {
     "name": "stdout",
     "output_type": "stream",
     "text": [
      "[CV 4/5] END learning_rate=0.25, max_depth=4, n_estimators=500;, score=0.676 total time=  40.8s\n",
      "[CV 5/5] END learning_rate=0.25, max_depth=4, n_estimators=500;, score=0.683 total time=  40.7s\n",
      "[CV 1/5] END learning_rate=0.25, max_depth=5, n_estimators=100;, score=0.693 total time=   9.9s\n",
      "[CV 2/5] END learning_rate=0.25, max_depth=5, n_estimators=100;, score=0.698 total time=   9.9s\n",
      "[CV 3/5] END learning_rate=0.25, max_depth=5, n_estimators=100;, score=0.697 total time=  10.3s\n",
      "[CV 4/5] END learning_rate=0.25, max_depth=5, n_estimators=100;, score=0.687 total time=   9.4s\n",
      "[CV 5/5] END learning_rate=0.25, max_depth=5, n_estimators=100;, score=0.695 total time=   9.9s\n",
      "[CV 1/5] END learning_rate=0.25, max_depth=5, n_estimators=250;, score=0.689 total time=  24.0s\n",
      "[CV 2/5] END learning_rate=0.25, max_depth=5, n_estimators=250;, score=0.691 total time=  24.1s\n",
      "[CV 3/5] END learning_rate=0.25, max_depth=5, n_estimators=250;, score=0.693 total time=  24.6s\n",
      "[CV 4/5] END learning_rate=0.25, max_depth=5, n_estimators=250;, score=0.676 total time=  20.7s\n",
      "[CV 5/5] END learning_rate=0.25, max_depth=5, n_estimators=250;, score=0.683 total time=  20.5s\n",
      "[CV 1/5] END learning_rate=0.25, max_depth=5, n_estimators=500;, score=0.684 total time=  40.4s\n",
      "[CV 2/5] END learning_rate=0.25, max_depth=5, n_estimators=500;, score=0.689 total time=  40.2s\n",
      "[CV 3/5] END learning_rate=0.25, max_depth=5, n_estimators=500;, score=0.686 total time=  39.8s\n",
      "[CV 4/5] END learning_rate=0.25, max_depth=5, n_estimators=500;, score=0.677 total time=  39.9s\n",
      "[CV 5/5] END learning_rate=0.25, max_depth=5, n_estimators=500;, score=0.679 total time=  40.8s\n",
      "[CV 1/5] END learning_rate=0.75, max_depth=1, n_estimators=100;, score=0.705 total time=   2.9s\n",
      "[CV 2/5] END learning_rate=0.75, max_depth=1, n_estimators=100;, score=0.705 total time=   2.9s\n",
      "[CV 3/5] END learning_rate=0.75, max_depth=1, n_estimators=100;, score=0.705 total time=   3.0s\n",
      "[CV 4/5] END learning_rate=0.75, max_depth=1, n_estimators=100;, score=0.705 total time=   3.0s\n",
      "[CV 5/5] END learning_rate=0.75, max_depth=1, n_estimators=100;, score=0.706 total time=   3.0s\n",
      "[CV 1/5] END learning_rate=0.75, max_depth=1, n_estimators=250;, score=0.705 total time=   7.2s\n",
      "[CV 2/5] END learning_rate=0.75, max_depth=1, n_estimators=250;, score=0.705 total time=   7.2s\n",
      "[CV 3/5] END learning_rate=0.75, max_depth=1, n_estimators=250;, score=0.704 total time=   7.2s\n",
      "[CV 4/5] END learning_rate=0.75, max_depth=1, n_estimators=250;, score=0.705 total time=   7.2s\n",
      "[CV 5/5] END learning_rate=0.75, max_depth=1, n_estimators=250;, score=0.706 total time=   7.2s\n",
      "[CV 1/5] END learning_rate=0.75, max_depth=1, n_estimators=500;, score=0.705 total time=  14.3s\n",
      "[CV 2/5] END learning_rate=0.75, max_depth=1, n_estimators=500;, score=0.705 total time=  13.9s\n",
      "[CV 3/5] END learning_rate=0.75, max_depth=1, n_estimators=500;, score=0.704 total time=  12.7s\n",
      "[CV 4/5] END learning_rate=0.75, max_depth=1, n_estimators=500;, score=0.705 total time=  12.7s\n",
      "[CV 5/5] END learning_rate=0.75, max_depth=1, n_estimators=500;, score=0.706 total time=  13.1s\n",
      "[CV 1/5] END learning_rate=0.75, max_depth=2, n_estimators=100;, score=0.696 total time=   3.8s\n",
      "[CV 2/5] END learning_rate=0.75, max_depth=2, n_estimators=100;, score=0.702 total time=   3.8s\n",
      "[CV 3/5] END learning_rate=0.75, max_depth=2, n_estimators=100;, score=0.698 total time=   3.8s\n",
      "[CV 4/5] END learning_rate=0.75, max_depth=2, n_estimators=100;, score=0.701 total time=   3.8s\n",
      "[CV 5/5] END learning_rate=0.75, max_depth=2, n_estimators=100;, score=0.704 total time=   3.8s\n",
      "[CV 1/5] END learning_rate=0.75, max_depth=2, n_estimators=250;, score=0.695 total time=   9.4s\n",
      "[CV 2/5] END learning_rate=0.75, max_depth=2, n_estimators=250;, score=0.701 total time=   9.3s\n",
      "[CV 3/5] END learning_rate=0.75, max_depth=2, n_estimators=250;, score=0.695 total time=   9.4s\n",
      "[CV 4/5] END learning_rate=0.75, max_depth=2, n_estimators=250;, score=0.696 total time=   9.4s\n",
      "[CV 5/5] END learning_rate=0.75, max_depth=2, n_estimators=250;, score=0.700 total time=   9.4s\n",
      "[CV 1/5] END learning_rate=0.75, max_depth=2, n_estimators=500;, score=0.697 total time=  18.7s\n",
      "[CV 2/5] END learning_rate=0.75, max_depth=2, n_estimators=500;, score=0.701 total time=  18.5s\n",
      "[CV 3/5] END learning_rate=0.75, max_depth=2, n_estimators=500;, score=0.694 total time=  18.7s\n",
      "[CV 4/5] END learning_rate=0.75, max_depth=2, n_estimators=500;, score=0.694 total time=  18.7s\n",
      "[CV 5/5] END learning_rate=0.75, max_depth=2, n_estimators=500;, score=0.700 total time=  18.6s\n",
      "[CV 1/5] END learning_rate=0.75, max_depth=3, n_estimators=100;, score=0.692 total time=   4.9s\n",
      "[CV 2/5] END learning_rate=0.75, max_depth=3, n_estimators=100;, score=0.699 total time=   4.8s\n",
      "[CV 3/5] END learning_rate=0.75, max_depth=3, n_estimators=100;, score=0.691 total time=   4.9s\n",
      "[CV 4/5] END learning_rate=0.75, max_depth=3, n_estimators=100;, score=0.686 total time=   4.9s\n",
      "[CV 5/5] END learning_rate=0.75, max_depth=3, n_estimators=100;, score=0.691 total time=   4.9s\n",
      "[CV 1/5] END learning_rate=0.75, max_depth=3, n_estimators=250;, score=0.690 total time=  12.1s\n",
      "[CV 2/5] END learning_rate=0.75, max_depth=3, n_estimators=250;, score=0.695 total time=  12.0s\n",
      "[CV 3/5] END learning_rate=0.75, max_depth=3, n_estimators=250;, score=0.687 total time=  12.1s\n",
      "[CV 4/5] END learning_rate=0.75, max_depth=3, n_estimators=250;, score=0.684 total time=  12.1s\n",
      "[CV 5/5] END learning_rate=0.75, max_depth=3, n_estimators=250;, score=0.683 total time=  12.3s\n",
      "[CV 1/5] END learning_rate=0.75, max_depth=3, n_estimators=500;, score=0.686 total time=  24.1s\n",
      "[CV 2/5] END learning_rate=0.75, max_depth=3, n_estimators=500;, score=0.686 total time=  23.9s\n",
      "[CV 3/5] END learning_rate=0.75, max_depth=3, n_estimators=500;, score=0.691 total time=  24.2s\n",
      "[CV 4/5] END learning_rate=0.75, max_depth=3, n_estimators=500;, score=0.676 total time=  24.2s\n",
      "[CV 5/5] END learning_rate=0.75, max_depth=3, n_estimators=500;, score=0.683 total time=  24.5s\n",
      "[CV 1/5] END learning_rate=0.75, max_depth=4, n_estimators=100;, score=0.695 total time=   6.0s\n",
      "[CV 2/5] END learning_rate=0.75, max_depth=4, n_estimators=100;, score=0.693 total time=   6.0s\n",
      "[CV 3/5] END learning_rate=0.75, max_depth=4, n_estimators=100;, score=0.693 total time=   6.0s\n",
      "[CV 4/5] END learning_rate=0.75, max_depth=4, n_estimators=100;, score=0.679 total time=   6.0s\n",
      "[CV 5/5] END learning_rate=0.75, max_depth=4, n_estimators=100;, score=0.686 total time=   6.0s\n",
      "[CV 1/5] END learning_rate=0.75, max_depth=4, n_estimators=250;, score=0.681 total time=  15.0s\n",
      "[CV 2/5] END learning_rate=0.75, max_depth=4, n_estimators=250;, score=0.686 total time=  14.9s\n",
      "[CV 3/5] END learning_rate=0.75, max_depth=4, n_estimators=250;, score=0.690 total time=  14.9s\n",
      "[CV 4/5] END learning_rate=0.75, max_depth=4, n_estimators=250;, score=0.672 total time=  15.0s\n",
      "[CV 5/5] END learning_rate=0.75, max_depth=4, n_estimators=250;, score=0.677 total time=  14.9s\n",
      "[CV 1/5] END learning_rate=0.75, max_depth=4, n_estimators=500;, score=0.685 total time=  30.2s\n",
      "[CV 2/5] END learning_rate=0.75, max_depth=4, n_estimators=500;, score=0.689 total time=  29.6s\n",
      "[CV 3/5] END learning_rate=0.75, max_depth=4, n_estimators=500;, score=0.683 total time=  29.9s\n",
      "[CV 4/5] END learning_rate=0.75, max_depth=4, n_estimators=500;, score=0.675 total time=  29.9s\n",
      "[CV 5/5] END learning_rate=0.75, max_depth=4, n_estimators=500;, score=0.681 total time=  30.1s\n",
      "[CV 1/5] END learning_rate=0.75, max_depth=5, n_estimators=100;, score=0.686 total time=   7.2s\n",
      "[CV 2/5] END learning_rate=0.75, max_depth=5, n_estimators=100;, score=0.692 total time=   7.1s\n",
      "[CV 3/5] END learning_rate=0.75, max_depth=5, n_estimators=100;, score=0.686 total time=   7.2s\n",
      "[CV 4/5] END learning_rate=0.75, max_depth=5, n_estimators=100;, score=0.678 total time=   7.1s\n",
      "[CV 5/5] END learning_rate=0.75, max_depth=5, n_estimators=100;, score=0.680 total time=   7.2s\n",
      "[CV 1/5] END learning_rate=0.75, max_depth=5, n_estimators=250;, score=0.684 total time=  18.0s\n",
      "[CV 2/5] END learning_rate=0.75, max_depth=5, n_estimators=250;, score=0.690 total time=  17.8s\n",
      "[CV 3/5] END learning_rate=0.75, max_depth=5, n_estimators=250;, score=0.684 total time=  17.9s\n",
      "[CV 4/5] END learning_rate=0.75, max_depth=5, n_estimators=250;, score=0.681 total time=  18.1s\n"
     ]
    },
    {
     "name": "stdout",
     "output_type": "stream",
     "text": [
      "[CV 5/5] END learning_rate=0.75, max_depth=5, n_estimators=250;, score=0.676 total time=  17.8s\n",
      "[CV 1/5] END learning_rate=0.75, max_depth=5, n_estimators=500;, score=0.682 total time=  35.6s\n",
      "[CV 2/5] END learning_rate=0.75, max_depth=5, n_estimators=500;, score=0.690 total time=  35.4s\n",
      "[CV 3/5] END learning_rate=0.75, max_depth=5, n_estimators=500;, score=0.682 total time=  35.9s\n",
      "[CV 4/5] END learning_rate=0.75, max_depth=5, n_estimators=500;, score=0.674 total time=  35.5s\n",
      "[CV 5/5] END learning_rate=0.75, max_depth=5, n_estimators=500;, score=0.682 total time=  36.4s\n"
     ]
    },
    {
     "data": {
      "text/plain": [
       "GridSearchCV(estimator=GradientBoostingClassifier(),\n",
       "             param_grid=[{'learning_rate': [0.1, 0.05, 0.01, 1, 0.5, 0.25,\n",
       "                                            0.75],\n",
       "                          'max_depth': [1, 2, 3, 4, 5],\n",
       "                          'n_estimators': [100, 250, 500]}],\n",
       "             verbose=3)"
      ]
     },
     "execution_count": 6,
     "metadata": {},
     "output_type": "execute_result"
    }
   ],
   "source": [
    "gs24.fit(X_train24, y_train24)"
   ]
  },
  {
   "cell_type": "code",
   "execution_count": 7,
   "id": "1b6fa5e1",
   "metadata": {},
   "outputs": [
    {
     "name": "stdout",
     "output_type": "stream",
     "text": [
      "The best parameters found for the 24h DCW:\n",
      "{'learning_rate': 0.05, 'max_depth': 1, 'n_estimators': 100}\n",
      "The best estimator found for the 24h DCW:\n",
      "GradientBoostingClassifier(learning_rate=0.05, max_depth=1)\n"
     ]
    }
   ],
   "source": [
    "print(\"The best parameters found for the 24h DCW:\")\n",
    "print(gs24.best_params_)\n",
    "  \n",
    "#PRINT HOW OUR MODEL LOOKS AFTER HYPER-PARAMETER TUNING\n",
    "print(\"The best estimator found for the 24h DCW:\")\n",
    "print(gs24.best_estimator_)"
   ]
  },
  {
   "cell_type": "code",
   "execution_count": 8,
   "id": "1a727951",
   "metadata": {},
   "outputs": [
    {
     "name": "stdout",
     "output_type": "stream",
     "text": [
      "Fitting 5 folds for each of 105 candidates, totalling 525 fits\n",
      "[CV 1/5] END learning_rate=0.1, max_depth=1, n_estimators=100;, score=0.764 total time=   1.4s\n",
      "[CV 2/5] END learning_rate=0.1, max_depth=1, n_estimators=100;, score=0.762 total time=   1.3s\n",
      "[CV 3/5] END learning_rate=0.1, max_depth=1, n_estimators=100;, score=0.763 total time=   1.3s\n",
      "[CV 4/5] END learning_rate=0.1, max_depth=1, n_estimators=100;, score=0.764 total time=   1.3s\n",
      "[CV 5/5] END learning_rate=0.1, max_depth=1, n_estimators=100;, score=0.764 total time=   1.3s\n",
      "[CV 1/5] END learning_rate=0.1, max_depth=1, n_estimators=250;, score=0.764 total time=   3.3s\n",
      "[CV 2/5] END learning_rate=0.1, max_depth=1, n_estimators=250;, score=0.762 total time=   3.3s\n",
      "[CV 3/5] END learning_rate=0.1, max_depth=1, n_estimators=250;, score=0.763 total time=   3.3s\n",
      "[CV 4/5] END learning_rate=0.1, max_depth=1, n_estimators=250;, score=0.764 total time=   3.3s\n",
      "[CV 5/5] END learning_rate=0.1, max_depth=1, n_estimators=250;, score=0.764 total time=   3.2s\n",
      "[CV 1/5] END learning_rate=0.1, max_depth=1, n_estimators=500;, score=0.763 total time=   6.8s\n",
      "[CV 2/5] END learning_rate=0.1, max_depth=1, n_estimators=500;, score=0.762 total time=   6.5s\n",
      "[CV 3/5] END learning_rate=0.1, max_depth=1, n_estimators=500;, score=0.763 total time=   6.5s\n",
      "[CV 4/5] END learning_rate=0.1, max_depth=1, n_estimators=500;, score=0.764 total time=   6.5s\n",
      "[CV 5/5] END learning_rate=0.1, max_depth=1, n_estimators=500;, score=0.764 total time=   6.5s\n",
      "[CV 1/5] END learning_rate=0.1, max_depth=2, n_estimators=100;, score=0.764 total time=   1.9s\n",
      "[CV 2/5] END learning_rate=0.1, max_depth=2, n_estimators=100;, score=0.761 total time=   1.9s\n",
      "[CV 3/5] END learning_rate=0.1, max_depth=2, n_estimators=100;, score=0.761 total time=   1.9s\n",
      "[CV 4/5] END learning_rate=0.1, max_depth=2, n_estimators=100;, score=0.764 total time=   1.9s\n",
      "[CV 5/5] END learning_rate=0.1, max_depth=2, n_estimators=100;, score=0.763 total time=   1.9s\n",
      "[CV 1/5] END learning_rate=0.1, max_depth=2, n_estimators=250;, score=0.762 total time=   4.7s\n",
      "[CV 2/5] END learning_rate=0.1, max_depth=2, n_estimators=250;, score=0.761 total time=   4.7s\n",
      "[CV 3/5] END learning_rate=0.1, max_depth=2, n_estimators=250;, score=0.758 total time=   4.7s\n",
      "[CV 4/5] END learning_rate=0.1, max_depth=2, n_estimators=250;, score=0.763 total time=   4.7s\n",
      "[CV 5/5] END learning_rate=0.1, max_depth=2, n_estimators=250;, score=0.763 total time=   4.7s\n",
      "[CV 1/5] END learning_rate=0.1, max_depth=2, n_estimators=500;, score=0.760 total time=   9.4s\n",
      "[CV 2/5] END learning_rate=0.1, max_depth=2, n_estimators=500;, score=0.760 total time=   9.4s\n",
      "[CV 3/5] END learning_rate=0.1, max_depth=2, n_estimators=500;, score=0.757 total time=   9.3s\n",
      "[CV 4/5] END learning_rate=0.1, max_depth=2, n_estimators=500;, score=0.760 total time=   9.4s\n",
      "[CV 5/5] END learning_rate=0.1, max_depth=2, n_estimators=500;, score=0.760 total time=   9.3s\n",
      "[CV 1/5] END learning_rate=0.1, max_depth=3, n_estimators=100;, score=0.760 total time=   2.5s\n",
      "[CV 2/5] END learning_rate=0.1, max_depth=3, n_estimators=100;, score=0.760 total time=   2.5s\n",
      "[CV 3/5] END learning_rate=0.1, max_depth=3, n_estimators=100;, score=0.758 total time=   2.5s\n",
      "[CV 4/5] END learning_rate=0.1, max_depth=3, n_estimators=100;, score=0.763 total time=   2.5s\n",
      "[CV 5/5] END learning_rate=0.1, max_depth=3, n_estimators=100;, score=0.763 total time=   2.5s\n",
      "[CV 1/5] END learning_rate=0.1, max_depth=3, n_estimators=250;, score=0.758 total time=   6.3s\n",
      "[CV 2/5] END learning_rate=0.1, max_depth=3, n_estimators=250;, score=0.761 total time=   6.2s\n",
      "[CV 3/5] END learning_rate=0.1, max_depth=3, n_estimators=250;, score=0.756 total time=   6.2s\n",
      "[CV 4/5] END learning_rate=0.1, max_depth=3, n_estimators=250;, score=0.760 total time=   6.2s\n",
      "[CV 5/5] END learning_rate=0.1, max_depth=3, n_estimators=250;, score=0.761 total time=   6.1s\n",
      "[CV 1/5] END learning_rate=0.1, max_depth=3, n_estimators=500;, score=0.750 total time=  12.3s\n",
      "[CV 2/5] END learning_rate=0.1, max_depth=3, n_estimators=500;, score=0.757 total time=  12.3s\n",
      "[CV 3/5] END learning_rate=0.1, max_depth=3, n_estimators=500;, score=0.748 total time=  12.2s\n",
      "[CV 4/5] END learning_rate=0.1, max_depth=3, n_estimators=500;, score=0.756 total time=  12.3s\n",
      "[CV 5/5] END learning_rate=0.1, max_depth=3, n_estimators=500;, score=0.758 total time=  12.2s\n",
      "[CV 1/5] END learning_rate=0.1, max_depth=4, n_estimators=100;, score=0.758 total time=   3.1s\n",
      "[CV 2/5] END learning_rate=0.1, max_depth=4, n_estimators=100;, score=0.760 total time=   3.1s\n",
      "[CV 3/5] END learning_rate=0.1, max_depth=4, n_estimators=100;, score=0.758 total time=   3.0s\n",
      "[CV 4/5] END learning_rate=0.1, max_depth=4, n_estimators=100;, score=0.762 total time=   3.1s\n",
      "[CV 5/5] END learning_rate=0.1, max_depth=4, n_estimators=100;, score=0.760 total time=   3.0s\n",
      "[CV 1/5] END learning_rate=0.1, max_depth=4, n_estimators=250;, score=0.748 total time=   7.6s\n",
      "[CV 2/5] END learning_rate=0.1, max_depth=4, n_estimators=250;, score=0.758 total time=   7.8s\n",
      "[CV 3/5] END learning_rate=0.1, max_depth=4, n_estimators=250;, score=0.748 total time=   7.7s\n",
      "[CV 4/5] END learning_rate=0.1, max_depth=4, n_estimators=250;, score=0.755 total time=   7.7s\n",
      "[CV 5/5] END learning_rate=0.1, max_depth=4, n_estimators=250;, score=0.760 total time=   7.6s\n",
      "[CV 1/5] END learning_rate=0.1, max_depth=4, n_estimators=500;, score=0.736 total time=  15.2s\n",
      "[CV 2/5] END learning_rate=0.1, max_depth=4, n_estimators=500;, score=0.752 total time=  15.2s\n",
      "[CV 3/5] END learning_rate=0.1, max_depth=4, n_estimators=500;, score=0.747 total time=  15.2s\n",
      "[CV 4/5] END learning_rate=0.1, max_depth=4, n_estimators=500;, score=0.747 total time=  15.3s\n",
      "[CV 5/5] END learning_rate=0.1, max_depth=4, n_estimators=500;, score=0.752 total time=  15.2s\n",
      "[CV 1/5] END learning_rate=0.1, max_depth=5, n_estimators=100;, score=0.754 total time=   3.7s\n",
      "[CV 2/5] END learning_rate=0.1, max_depth=5, n_estimators=100;, score=0.758 total time=   3.7s\n",
      "[CV 3/5] END learning_rate=0.1, max_depth=5, n_estimators=100;, score=0.755 total time=   3.7s\n",
      "[CV 4/5] END learning_rate=0.1, max_depth=5, n_estimators=100;, score=0.755 total time=   3.8s\n",
      "[CV 5/5] END learning_rate=0.1, max_depth=5, n_estimators=100;, score=0.758 total time=   3.7s\n",
      "[CV 1/5] END learning_rate=0.1, max_depth=5, n_estimators=250;, score=0.738 total time=   9.2s\n",
      "[CV 2/5] END learning_rate=0.1, max_depth=5, n_estimators=250;, score=0.750 total time=   9.2s\n",
      "[CV 3/5] END learning_rate=0.1, max_depth=5, n_estimators=250;, score=0.746 total time=   9.1s\n",
      "[CV 4/5] END learning_rate=0.1, max_depth=5, n_estimators=250;, score=0.747 total time=   9.4s\n",
      "[CV 5/5] END learning_rate=0.1, max_depth=5, n_estimators=250;, score=0.758 total time=   9.1s\n",
      "[CV 1/5] END learning_rate=0.1, max_depth=5, n_estimators=500;, score=0.730 total time=  18.5s\n",
      "[CV 2/5] END learning_rate=0.1, max_depth=5, n_estimators=500;, score=0.741 total time=  18.2s\n",
      "[CV 3/5] END learning_rate=0.1, max_depth=5, n_estimators=500;, score=0.741 total time=  18.2s\n",
      "[CV 4/5] END learning_rate=0.1, max_depth=5, n_estimators=500;, score=0.739 total time=  18.6s\n",
      "[CV 5/5] END learning_rate=0.1, max_depth=5, n_estimators=500;, score=0.755 total time=  18.4s\n",
      "[CV 1/5] END learning_rate=0.05, max_depth=1, n_estimators=100;, score=0.764 total time=   1.3s\n",
      "[CV 2/5] END learning_rate=0.05, max_depth=1, n_estimators=100;, score=0.762 total time=   1.3s\n",
      "[CV 3/5] END learning_rate=0.05, max_depth=1, n_estimators=100;, score=0.763 total time=   1.3s\n",
      "[CV 4/5] END learning_rate=0.05, max_depth=1, n_estimators=100;, score=0.764 total time=   1.3s\n",
      "[CV 5/5] END learning_rate=0.05, max_depth=1, n_estimators=100;, score=0.764 total time=   1.3s\n",
      "[CV 1/5] END learning_rate=0.05, max_depth=1, n_estimators=250;, score=0.764 total time=   3.2s\n",
      "[CV 2/5] END learning_rate=0.05, max_depth=1, n_estimators=250;, score=0.762 total time=   3.2s\n",
      "[CV 3/5] END learning_rate=0.05, max_depth=1, n_estimators=250;, score=0.763 total time=   3.2s\n",
      "[CV 4/5] END learning_rate=0.05, max_depth=1, n_estimators=250;, score=0.764 total time=   3.2s\n",
      "[CV 5/5] END learning_rate=0.05, max_depth=1, n_estimators=250;, score=0.764 total time=   3.2s\n",
      "[CV 1/5] END learning_rate=0.05, max_depth=1, n_estimators=500;, score=0.764 total time=   6.4s\n"
     ]
    },
    {
     "name": "stdout",
     "output_type": "stream",
     "text": [
      "[CV 2/5] END learning_rate=0.05, max_depth=1, n_estimators=500;, score=0.762 total time=   6.5s\n",
      "[CV 3/5] END learning_rate=0.05, max_depth=1, n_estimators=500;, score=0.763 total time=   6.5s\n",
      "[CV 4/5] END learning_rate=0.05, max_depth=1, n_estimators=500;, score=0.764 total time=   6.5s\n",
      "[CV 5/5] END learning_rate=0.05, max_depth=1, n_estimators=500;, score=0.764 total time=   6.4s\n",
      "[CV 1/5] END learning_rate=0.05, max_depth=2, n_estimators=100;, score=0.764 total time=   1.9s\n",
      "[CV 2/5] END learning_rate=0.05, max_depth=2, n_estimators=100;, score=0.762 total time=   1.9s\n",
      "[CV 3/5] END learning_rate=0.05, max_depth=2, n_estimators=100;, score=0.761 total time=   1.9s\n",
      "[CV 4/5] END learning_rate=0.05, max_depth=2, n_estimators=100;, score=0.764 total time=   1.9s\n",
      "[CV 5/5] END learning_rate=0.05, max_depth=2, n_estimators=100;, score=0.764 total time=   1.9s\n",
      "[CV 1/5] END learning_rate=0.05, max_depth=2, n_estimators=250;, score=0.764 total time=   4.7s\n",
      "[CV 2/5] END learning_rate=0.05, max_depth=2, n_estimators=250;, score=0.761 total time=   4.7s\n",
      "[CV 3/5] END learning_rate=0.05, max_depth=2, n_estimators=250;, score=0.761 total time=   4.7s\n",
      "[CV 4/5] END learning_rate=0.05, max_depth=2, n_estimators=250;, score=0.764 total time=   4.7s\n",
      "[CV 5/5] END learning_rate=0.05, max_depth=2, n_estimators=250;, score=0.763 total time=   4.7s\n",
      "[CV 1/5] END learning_rate=0.05, max_depth=2, n_estimators=500;, score=0.762 total time=   9.4s\n",
      "[CV 2/5] END learning_rate=0.05, max_depth=2, n_estimators=500;, score=0.762 total time=   9.6s\n",
      "[CV 3/5] END learning_rate=0.05, max_depth=2, n_estimators=500;, score=0.759 total time=   9.3s\n",
      "[CV 4/5] END learning_rate=0.05, max_depth=2, n_estimators=500;, score=0.763 total time=   9.4s\n",
      "[CV 5/5] END learning_rate=0.05, max_depth=2, n_estimators=500;, score=0.762 total time=  10.5s\n",
      "[CV 1/5] END learning_rate=0.05, max_depth=3, n_estimators=100;, score=0.762 total time=   2.5s\n",
      "[CV 2/5] END learning_rate=0.05, max_depth=3, n_estimators=100;, score=0.762 total time=   2.5s\n",
      "[CV 3/5] END learning_rate=0.05, max_depth=3, n_estimators=100;, score=0.761 total time=   2.5s\n",
      "[CV 4/5] END learning_rate=0.05, max_depth=3, n_estimators=100;, score=0.764 total time=   2.5s\n",
      "[CV 5/5] END learning_rate=0.05, max_depth=3, n_estimators=100;, score=0.763 total time=   2.5s\n",
      "[CV 1/5] END learning_rate=0.05, max_depth=3, n_estimators=250;, score=0.761 total time=   6.2s\n",
      "[CV 2/5] END learning_rate=0.05, max_depth=3, n_estimators=250;, score=0.760 total time=   6.2s\n",
      "[CV 3/5] END learning_rate=0.05, max_depth=3, n_estimators=250;, score=0.759 total time=   6.1s\n",
      "[CV 4/5] END learning_rate=0.05, max_depth=3, n_estimators=250;, score=0.762 total time=   6.2s\n",
      "[CV 5/5] END learning_rate=0.05, max_depth=3, n_estimators=250;, score=0.763 total time=   6.1s\n",
      "[CV 1/5] END learning_rate=0.05, max_depth=3, n_estimators=500;, score=0.758 total time=  12.3s\n",
      "[CV 2/5] END learning_rate=0.05, max_depth=3, n_estimators=500;, score=0.761 total time=  12.3s\n",
      "[CV 3/5] END learning_rate=0.05, max_depth=3, n_estimators=500;, score=0.757 total time=  12.2s\n",
      "[CV 4/5] END learning_rate=0.05, max_depth=3, n_estimators=500;, score=0.759 total time=  12.6s\n",
      "[CV 5/5] END learning_rate=0.05, max_depth=3, n_estimators=500;, score=0.761 total time=  12.2s\n",
      "[CV 1/5] END learning_rate=0.05, max_depth=4, n_estimators=100;, score=0.760 total time=   3.1s\n",
      "[CV 2/5] END learning_rate=0.05, max_depth=4, n_estimators=100;, score=0.763 total time=   3.1s\n",
      "[CV 3/5] END learning_rate=0.05, max_depth=4, n_estimators=100;, score=0.760 total time=   3.0s\n",
      "[CV 4/5] END learning_rate=0.05, max_depth=4, n_estimators=100;, score=0.764 total time=   3.1s\n",
      "[CV 5/5] END learning_rate=0.05, max_depth=4, n_estimators=100;, score=0.762 total time=   3.0s\n",
      "[CV 1/5] END learning_rate=0.05, max_depth=4, n_estimators=250;, score=0.757 total time=   7.6s\n",
      "[CV 2/5] END learning_rate=0.05, max_depth=4, n_estimators=250;, score=0.761 total time=   7.6s\n",
      "[CV 3/5] END learning_rate=0.05, max_depth=4, n_estimators=250;, score=0.757 total time=   7.6s\n",
      "[CV 4/5] END learning_rate=0.05, max_depth=4, n_estimators=250;, score=0.760 total time=   7.7s\n",
      "[CV 5/5] END learning_rate=0.05, max_depth=4, n_estimators=250;, score=0.759 total time=   7.6s\n",
      "[CV 1/5] END learning_rate=0.05, max_depth=4, n_estimators=500;, score=0.754 total time=  15.2s\n",
      "[CV 2/5] END learning_rate=0.05, max_depth=4, n_estimators=500;, score=0.756 total time=  15.3s\n",
      "[CV 3/5] END learning_rate=0.05, max_depth=4, n_estimators=500;, score=0.750 total time=  15.2s\n",
      "[CV 4/5] END learning_rate=0.05, max_depth=4, n_estimators=500;, score=0.756 total time=  15.6s\n",
      "[CV 5/5] END learning_rate=0.05, max_depth=4, n_estimators=500;, score=0.758 total time=  15.5s\n",
      "[CV 1/5] END learning_rate=0.05, max_depth=5, n_estimators=100;, score=0.757 total time=   3.8s\n",
      "[CV 2/5] END learning_rate=0.05, max_depth=5, n_estimators=100;, score=0.760 total time=   3.7s\n",
      "[CV 3/5] END learning_rate=0.05, max_depth=5, n_estimators=100;, score=0.757 total time=   3.7s\n",
      "[CV 4/5] END learning_rate=0.05, max_depth=5, n_estimators=100;, score=0.760 total time=   3.7s\n",
      "[CV 5/5] END learning_rate=0.05, max_depth=5, n_estimators=100;, score=0.763 total time=   3.7s\n",
      "[CV 1/5] END learning_rate=0.05, max_depth=5, n_estimators=250;, score=0.752 total time=   9.2s\n",
      "[CV 2/5] END learning_rate=0.05, max_depth=5, n_estimators=250;, score=0.757 total time=   9.3s\n",
      "[CV 3/5] END learning_rate=0.05, max_depth=5, n_estimators=250;, score=0.753 total time=   9.2s\n",
      "[CV 4/5] END learning_rate=0.05, max_depth=5, n_estimators=250;, score=0.755 total time=   9.3s\n",
      "[CV 5/5] END learning_rate=0.05, max_depth=5, n_estimators=250;, score=0.758 total time=   9.2s\n",
      "[CV 1/5] END learning_rate=0.05, max_depth=5, n_estimators=500;, score=0.741 total time=  18.4s\n",
      "[CV 2/5] END learning_rate=0.05, max_depth=5, n_estimators=500;, score=0.751 total time=  18.7s\n",
      "[CV 3/5] END learning_rate=0.05, max_depth=5, n_estimators=500;, score=0.748 total time=  18.4s\n",
      "[CV 4/5] END learning_rate=0.05, max_depth=5, n_estimators=500;, score=0.749 total time=  18.5s\n",
      "[CV 5/5] END learning_rate=0.05, max_depth=5, n_estimators=500;, score=0.755 total time=  18.3s\n",
      "[CV 1/5] END learning_rate=0.01, max_depth=1, n_estimators=100;, score=0.764 total time=   1.3s\n",
      "[CV 2/5] END learning_rate=0.01, max_depth=1, n_estimators=100;, score=0.764 total time=   1.3s\n",
      "[CV 3/5] END learning_rate=0.01, max_depth=1, n_estimators=100;, score=0.763 total time=   1.3s\n",
      "[CV 4/5] END learning_rate=0.01, max_depth=1, n_estimators=100;, score=0.764 total time=   1.3s\n",
      "[CV 5/5] END learning_rate=0.01, max_depth=1, n_estimators=100;, score=0.764 total time=   1.3s\n",
      "[CV 1/5] END learning_rate=0.01, max_depth=1, n_estimators=250;, score=0.764 total time=   3.2s\n",
      "[CV 2/5] END learning_rate=0.01, max_depth=1, n_estimators=250;, score=0.762 total time=   3.2s\n",
      "[CV 3/5] END learning_rate=0.01, max_depth=1, n_estimators=250;, score=0.763 total time=   3.2s\n",
      "[CV 4/5] END learning_rate=0.01, max_depth=1, n_estimators=250;, score=0.764 total time=   3.2s\n",
      "[CV 5/5] END learning_rate=0.01, max_depth=1, n_estimators=250;, score=0.764 total time=   3.2s\n",
      "[CV 1/5] END learning_rate=0.01, max_depth=1, n_estimators=500;, score=0.764 total time=   6.4s\n",
      "[CV 2/5] END learning_rate=0.01, max_depth=1, n_estimators=500;, score=0.762 total time=   6.5s\n",
      "[CV 3/5] END learning_rate=0.01, max_depth=1, n_estimators=500;, score=0.763 total time=   6.4s\n",
      "[CV 4/5] END learning_rate=0.01, max_depth=1, n_estimators=500;, score=0.764 total time=   6.4s\n",
      "[CV 5/5] END learning_rate=0.01, max_depth=1, n_estimators=500;, score=0.764 total time=   6.6s\n",
      "[CV 1/5] END learning_rate=0.01, max_depth=2, n_estimators=100;, score=0.764 total time=   1.9s\n",
      "[CV 2/5] END learning_rate=0.01, max_depth=2, n_estimators=100;, score=0.764 total time=   1.9s\n",
      "[CV 3/5] END learning_rate=0.01, max_depth=2, n_estimators=100;, score=0.763 total time=   1.9s\n",
      "[CV 4/5] END learning_rate=0.01, max_depth=2, n_estimators=100;, score=0.764 total time=   1.9s\n",
      "[CV 5/5] END learning_rate=0.01, max_depth=2, n_estimators=100;, score=0.764 total time=   1.9s\n",
      "[CV 1/5] END learning_rate=0.01, max_depth=2, n_estimators=250;, score=0.764 total time=   4.7s\n",
      "[CV 2/5] END learning_rate=0.01, max_depth=2, n_estimators=250;, score=0.764 total time=   4.7s\n"
     ]
    },
    {
     "name": "stdout",
     "output_type": "stream",
     "text": [
      "[CV 3/5] END learning_rate=0.01, max_depth=2, n_estimators=250;, score=0.761 total time=   4.6s\n",
      "[CV 4/5] END learning_rate=0.01, max_depth=2, n_estimators=250;, score=0.764 total time=   4.7s\n",
      "[CV 5/5] END learning_rate=0.01, max_depth=2, n_estimators=250;, score=0.764 total time=   4.6s\n",
      "[CV 1/5] END learning_rate=0.01, max_depth=2, n_estimators=500;, score=0.764 total time=   9.4s\n",
      "[CV 2/5] END learning_rate=0.01, max_depth=2, n_estimators=500;, score=0.762 total time=   9.4s\n",
      "[CV 3/5] END learning_rate=0.01, max_depth=2, n_estimators=500;, score=0.761 total time=   9.3s\n",
      "[CV 4/5] END learning_rate=0.01, max_depth=2, n_estimators=500;, score=0.764 total time=   9.4s\n",
      "[CV 5/5] END learning_rate=0.01, max_depth=2, n_estimators=500;, score=0.764 total time=   9.3s\n",
      "[CV 1/5] END learning_rate=0.01, max_depth=3, n_estimators=100;, score=0.764 total time=   2.5s\n",
      "[CV 2/5] END learning_rate=0.01, max_depth=3, n_estimators=100;, score=0.764 total time=   2.4s\n",
      "[CV 3/5] END learning_rate=0.01, max_depth=3, n_estimators=100;, score=0.761 total time=   2.5s\n",
      "[CV 4/5] END learning_rate=0.01, max_depth=3, n_estimators=100;, score=0.764 total time=   2.5s\n",
      "[CV 5/5] END learning_rate=0.01, max_depth=3, n_estimators=100;, score=0.764 total time=   2.4s\n",
      "[CV 1/5] END learning_rate=0.01, max_depth=3, n_estimators=250;, score=0.763 total time=   6.1s\n",
      "[CV 2/5] END learning_rate=0.01, max_depth=3, n_estimators=250;, score=0.764 total time=   6.1s\n",
      "[CV 3/5] END learning_rate=0.01, max_depth=3, n_estimators=250;, score=0.761 total time=   6.1s\n",
      "[CV 4/5] END learning_rate=0.01, max_depth=3, n_estimators=250;, score=0.764 total time=   6.3s\n",
      "[CV 5/5] END learning_rate=0.01, max_depth=3, n_estimators=250;, score=0.764 total time=   6.2s\n",
      "[CV 1/5] END learning_rate=0.01, max_depth=3, n_estimators=500;, score=0.762 total time=  12.3s\n",
      "[CV 2/5] END learning_rate=0.01, max_depth=3, n_estimators=500;, score=0.764 total time=  12.3s\n",
      "[CV 3/5] END learning_rate=0.01, max_depth=3, n_estimators=500;, score=0.761 total time=  12.2s\n",
      "[CV 4/5] END learning_rate=0.01, max_depth=3, n_estimators=500;, score=0.764 total time=  12.3s\n",
      "[CV 5/5] END learning_rate=0.01, max_depth=3, n_estimators=500;, score=0.763 total time=  12.2s\n",
      "[CV 1/5] END learning_rate=0.01, max_depth=4, n_estimators=100;, score=0.764 total time=   3.0s\n",
      "[CV 2/5] END learning_rate=0.01, max_depth=4, n_estimators=100;, score=0.763 total time=   3.0s\n",
      "[CV 3/5] END learning_rate=0.01, max_depth=4, n_estimators=100;, score=0.761 total time=   3.0s\n",
      "[CV 4/5] END learning_rate=0.01, max_depth=4, n_estimators=100;, score=0.765 total time=   3.1s\n",
      "[CV 5/5] END learning_rate=0.01, max_depth=4, n_estimators=100;, score=0.763 total time=   3.0s\n",
      "[CV 1/5] END learning_rate=0.01, max_depth=4, n_estimators=250;, score=0.760 total time=   7.6s\n",
      "[CV 2/5] END learning_rate=0.01, max_depth=4, n_estimators=250;, score=0.763 total time=   7.6s\n",
      "[CV 3/5] END learning_rate=0.01, max_depth=4, n_estimators=250;, score=0.761 total time=   7.6s\n",
      "[CV 4/5] END learning_rate=0.01, max_depth=4, n_estimators=250;, score=0.764 total time=   7.7s\n",
      "[CV 5/5] END learning_rate=0.01, max_depth=4, n_estimators=250;, score=0.763 total time=   7.7s\n",
      "[CV 1/5] END learning_rate=0.01, max_depth=4, n_estimators=500;, score=0.760 total time=  15.4s\n",
      "[CV 2/5] END learning_rate=0.01, max_depth=4, n_estimators=500;, score=0.762 total time=  15.2s\n",
      "[CV 3/5] END learning_rate=0.01, max_depth=4, n_estimators=500;, score=0.761 total time=  15.3s\n",
      "[CV 4/5] END learning_rate=0.01, max_depth=4, n_estimators=500;, score=0.764 total time=  17.5s\n",
      "[CV 5/5] END learning_rate=0.01, max_depth=4, n_estimators=500;, score=0.764 total time= 5.7min\n",
      "[CV 1/5] END learning_rate=0.01, max_depth=5, n_estimators=100;, score=0.760 total time=   3.2s\n",
      "[CV 2/5] END learning_rate=0.01, max_depth=5, n_estimators=100;, score=0.763 total time=   3.3s\n",
      "[CV 3/5] END learning_rate=0.01, max_depth=5, n_estimators=100;, score=0.761 total time=   3.2s\n",
      "[CV 4/5] END learning_rate=0.01, max_depth=5, n_estimators=100;, score=0.765 total time=   3.3s\n",
      "[CV 5/5] END learning_rate=0.01, max_depth=5, n_estimators=100;, score=0.763 total time=   3.3s\n",
      "[CV 1/5] END learning_rate=0.01, max_depth=5, n_estimators=250;, score=0.761 total time= 2.2min\n",
      "[CV 2/5] END learning_rate=0.01, max_depth=5, n_estimators=250;, score=0.763 total time=   8.0s\n",
      "[CV 3/5] END learning_rate=0.01, max_depth=5, n_estimators=250;, score=0.757 total time=   8.2s\n",
      "[CV 4/5] END learning_rate=0.01, max_depth=5, n_estimators=250;, score=0.761 total time=   8.3s\n",
      "[CV 5/5] END learning_rate=0.01, max_depth=5, n_estimators=250;, score=0.763 total time= 4.4min\n",
      "[CV 1/5] END learning_rate=0.01, max_depth=5, n_estimators=500;, score=0.757 total time=  16.5s\n",
      "[CV 2/5] END learning_rate=0.01, max_depth=5, n_estimators=500;, score=0.761 total time= 6.9min\n",
      "[CV 3/5] END learning_rate=0.01, max_depth=5, n_estimators=500;, score=0.757 total time=  16.0s\n",
      "[CV 4/5] END learning_rate=0.01, max_depth=5, n_estimators=500;, score=0.759 total time= 3.1min\n",
      "[CV 5/5] END learning_rate=0.01, max_depth=5, n_estimators=500;, score=0.762 total time= 3.2min\n",
      "[CV 1/5] END learning_rate=1, max_depth=1, n_estimators=100;, score=0.763 total time=   1.3s\n",
      "[CV 2/5] END learning_rate=1, max_depth=1, n_estimators=100;, score=0.760 total time=   1.2s\n",
      "[CV 3/5] END learning_rate=1, max_depth=1, n_estimators=100;, score=0.761 total time=   1.2s\n",
      "[CV 4/5] END learning_rate=1, max_depth=1, n_estimators=100;, score=0.764 total time=   1.2s\n",
      "[CV 5/5] END learning_rate=1, max_depth=1, n_estimators=100;, score=0.764 total time=   1.2s\n",
      "[CV 1/5] END learning_rate=1, max_depth=1, n_estimators=250;, score=0.763 total time=   3.0s\n",
      "[CV 2/5] END learning_rate=1, max_depth=1, n_estimators=250;, score=0.760 total time=   3.1s\n",
      "[CV 3/5] END learning_rate=1, max_depth=1, n_estimators=250;, score=0.760 total time=   3.3s\n",
      "[CV 4/5] END learning_rate=1, max_depth=1, n_estimators=250;, score=0.764 total time=   3.3s\n",
      "[CV 5/5] END learning_rate=1, max_depth=1, n_estimators=250;, score=0.764 total time=   3.1s\n",
      "[CV 1/5] END learning_rate=1, max_depth=1, n_estimators=500;, score=0.763 total time=   6.0s\n",
      "[CV 2/5] END learning_rate=1, max_depth=1, n_estimators=500;, score=0.762 total time=   6.1s\n",
      "[CV 3/5] END learning_rate=1, max_depth=1, n_estimators=500;, score=0.760 total time=   6.8s\n",
      "[CV 4/5] END learning_rate=1, max_depth=1, n_estimators=500;, score=0.764 total time=  12.0s\n",
      "[CV 5/5] END learning_rate=1, max_depth=1, n_estimators=500;, score=0.764 total time=  10.8s\n",
      "[CV 1/5] END learning_rate=1, max_depth=2, n_estimators=100;, score=0.750 total time=   2.7s\n",
      "[CV 2/5] END learning_rate=1, max_depth=2, n_estimators=100;, score=0.756 total time=   2.4s\n",
      "[CV 3/5] END learning_rate=1, max_depth=2, n_estimators=100;, score=0.751 total time=   2.2s\n",
      "[CV 4/5] END learning_rate=1, max_depth=2, n_estimators=100;, score=0.758 total time=   2.0s\n",
      "[CV 5/5] END learning_rate=1, max_depth=2, n_estimators=100;, score=0.759 total time=   1.8s\n",
      "[CV 1/5] END learning_rate=1, max_depth=2, n_estimators=250;, score=0.747 total time=   5.8s\n",
      "[CV 2/5] END learning_rate=1, max_depth=2, n_estimators=250;, score=0.752 total time=   7.1s\n",
      "[CV 3/5] END learning_rate=1, max_depth=2, n_estimators=250;, score=0.748 total time=   6.0s\n",
      "[CV 4/5] END learning_rate=1, max_depth=2, n_estimators=250;, score=0.755 total time=   5.3s\n",
      "[CV 5/5] END learning_rate=1, max_depth=2, n_estimators=250;, score=0.758 total time=   4.7s\n",
      "[CV 1/5] END learning_rate=1, max_depth=2, n_estimators=500;, score=0.744 total time=   9.5s\n",
      "[CV 2/5] END learning_rate=1, max_depth=2, n_estimators=500;, score=0.751 total time=   9.1s\n",
      "[CV 3/5] END learning_rate=1, max_depth=2, n_estimators=500;, score=0.748 total time=   9.1s\n",
      "[CV 4/5] END learning_rate=1, max_depth=2, n_estimators=500;, score=0.754 total time=   9.6s\n",
      "[CV 5/5] END learning_rate=1, max_depth=2, n_estimators=500;, score=0.756 total time=   9.6s\n",
      "[CV 1/5] END learning_rate=1, max_depth=3, n_estimators=100;, score=0.735 total time=   2.5s\n",
      "[CV 2/5] END learning_rate=1, max_depth=3, n_estimators=100;, score=0.745 total time=   2.5s\n",
      "[CV 3/5] END learning_rate=1, max_depth=3, n_estimators=100;, score=0.745 total time=   2.6s\n",
      "[CV 4/5] END learning_rate=1, max_depth=3, n_estimators=100;, score=0.755 total time=   2.6s\n"
     ]
    },
    {
     "name": "stdout",
     "output_type": "stream",
     "text": [
      "[CV 5/5] END learning_rate=1, max_depth=3, n_estimators=100;, score=0.755 total time=   2.5s\n",
      "[CV 1/5] END learning_rate=1, max_depth=3, n_estimators=250;, score=0.728 total time=   6.3s\n",
      "[CV 2/5] END learning_rate=1, max_depth=3, n_estimators=250;, score=0.752 total time=   6.4s\n",
      "[CV 3/5] END learning_rate=1, max_depth=3, n_estimators=250;, score=0.733 total time=   6.5s\n",
      "[CV 4/5] END learning_rate=1, max_depth=3, n_estimators=250;, score=0.756 total time=   6.3s\n",
      "[CV 5/5] END learning_rate=1, max_depth=3, n_estimators=250;, score=0.753 total time=   6.5s\n",
      "[CV 1/5] END learning_rate=1, max_depth=3, n_estimators=500;, score=0.721 total time=  12.6s\n",
      "[CV 2/5] END learning_rate=1, max_depth=3, n_estimators=500;, score=0.749 total time=  12.8s\n",
      "[CV 3/5] END learning_rate=1, max_depth=3, n_estimators=500;, score=0.744 total time=  12.6s\n",
      "[CV 4/5] END learning_rate=1, max_depth=3, n_estimators=500;, score=0.741 total time=  12.8s\n",
      "[CV 5/5] END learning_rate=1, max_depth=3, n_estimators=500;, score=0.754 total time=  12.9s\n",
      "[CV 1/5] END learning_rate=1, max_depth=4, n_estimators=100;, score=0.720 total time=   3.4s\n",
      "[CV 2/5] END learning_rate=1, max_depth=4, n_estimators=100;, score=0.741 total time=   3.4s\n",
      "[CV 3/5] END learning_rate=1, max_depth=4, n_estimators=100;, score=0.731 total time=   3.3s\n",
      "[CV 4/5] END learning_rate=1, max_depth=4, n_estimators=100;, score=0.742 total time=   3.3s\n",
      "[CV 5/5] END learning_rate=1, max_depth=4, n_estimators=100;, score=0.755 total time=   3.2s\n",
      "[CV 1/5] END learning_rate=1, max_depth=4, n_estimators=250;, score=0.713 total time=   8.1s\n",
      "[CV 2/5] END learning_rate=1, max_depth=4, n_estimators=250;, score=0.734 total time=   8.1s\n",
      "[CV 3/5] END learning_rate=1, max_depth=4, n_estimators=250;, score=0.732 total time=   7.8s\n",
      "[CV 4/5] END learning_rate=1, max_depth=4, n_estimators=250;, score=0.735 total time=   8.0s\n",
      "[CV 5/5] END learning_rate=1, max_depth=4, n_estimators=250;, score=0.754 total time=   7.8s\n",
      "[CV 1/5] END learning_rate=1, max_depth=4, n_estimators=500;, score=0.724 total time=  16.2s\n",
      "[CV 2/5] END learning_rate=1, max_depth=4, n_estimators=500;, score=0.735 total time=  17.7s\n",
      "[CV 3/5] END learning_rate=1, max_depth=4, n_estimators=500;, score=0.736 total time=  17.7s\n",
      "[CV 4/5] END learning_rate=1, max_depth=4, n_estimators=500;, score=0.738 total time=  18.3s\n",
      "[CV 5/5] END learning_rate=1, max_depth=4, n_estimators=500;, score=0.752 total time=  17.7s\n",
      "[CV 1/5] END learning_rate=1, max_depth=5, n_estimators=100;, score=0.721 total time=   4.4s\n",
      "[CV 2/5] END learning_rate=1, max_depth=5, n_estimators=100;, score=0.728 total time=   4.3s\n",
      "[CV 3/5] END learning_rate=1, max_depth=5, n_estimators=100;, score=0.737 total time=   4.3s\n",
      "[CV 4/5] END learning_rate=1, max_depth=5, n_estimators=100;, score=0.738 total time=   4.3s\n",
      "[CV 5/5] END learning_rate=1, max_depth=5, n_estimators=100;, score=0.750 total time=   4.1s\n",
      "[CV 1/5] END learning_rate=1, max_depth=5, n_estimators=250;, score=0.724 total time=  10.9s\n",
      "[CV 2/5] END learning_rate=1, max_depth=5, n_estimators=250;, score=0.728 total time=  10.9s\n",
      "[CV 3/5] END learning_rate=1, max_depth=5, n_estimators=250;, score=0.735 total time=  10.8s\n",
      "[CV 4/5] END learning_rate=1, max_depth=5, n_estimators=250;, score=0.738 total time=  11.0s\n",
      "[CV 5/5] END learning_rate=1, max_depth=5, n_estimators=250;, score=0.754 total time=  10.7s\n",
      "[CV 1/5] END learning_rate=1, max_depth=5, n_estimators=500;, score=0.725 total time=  21.9s\n",
      "[CV 2/5] END learning_rate=1, max_depth=5, n_estimators=500;, score=0.724 total time=  22.2s\n",
      "[CV 3/5] END learning_rate=1, max_depth=5, n_estimators=500;, score=0.734 total time=  21.7s\n",
      "[CV 4/5] END learning_rate=1, max_depth=5, n_estimators=500;, score=0.733 total time=  22.1s\n",
      "[CV 5/5] END learning_rate=1, max_depth=5, n_estimators=500;, score=0.751 total time=  22.4s\n",
      "[CV 1/5] END learning_rate=0.5, max_depth=1, n_estimators=100;, score=0.763 total time=   1.6s\n",
      "[CV 2/5] END learning_rate=0.5, max_depth=1, n_estimators=100;, score=0.762 total time=   1.7s\n",
      "[CV 3/5] END learning_rate=0.5, max_depth=1, n_estimators=100;, score=0.763 total time=   1.6s\n",
      "[CV 4/5] END learning_rate=0.5, max_depth=1, n_estimators=100;, score=0.764 total time=   1.7s\n",
      "[CV 5/5] END learning_rate=0.5, max_depth=1, n_estimators=100;, score=0.764 total time=   1.6s\n",
      "[CV 1/5] END learning_rate=0.5, max_depth=1, n_estimators=250;, score=0.762 total time=   4.1s\n",
      "[CV 2/5] END learning_rate=0.5, max_depth=1, n_estimators=250;, score=0.762 total time=   4.1s\n",
      "[CV 3/5] END learning_rate=0.5, max_depth=1, n_estimators=250;, score=0.762 total time=   4.0s\n",
      "[CV 4/5] END learning_rate=0.5, max_depth=1, n_estimators=250;, score=0.764 total time=   4.1s\n",
      "[CV 5/5] END learning_rate=0.5, max_depth=1, n_estimators=250;, score=0.764 total time=   4.1s\n",
      "[CV 1/5] END learning_rate=0.5, max_depth=1, n_estimators=500;, score=0.763 total time=   8.2s\n",
      "[CV 2/5] END learning_rate=0.5, max_depth=1, n_estimators=500;, score=0.762 total time=   8.1s\n",
      "[CV 3/5] END learning_rate=0.5, max_depth=1, n_estimators=500;, score=0.760 total time=   8.0s\n",
      "[CV 4/5] END learning_rate=0.5, max_depth=1, n_estimators=500;, score=0.764 total time=   8.1s\n",
      "[CV 5/5] END learning_rate=0.5, max_depth=1, n_estimators=500;, score=0.764 total time=   7.9s\n",
      "[CV 1/5] END learning_rate=0.5, max_depth=2, n_estimators=100;, score=0.760 total time=   2.4s\n",
      "[CV 2/5] END learning_rate=0.5, max_depth=2, n_estimators=100;, score=0.759 total time=   2.3s\n",
      "[CV 3/5] END learning_rate=0.5, max_depth=2, n_estimators=100;, score=0.755 total time=   2.3s\n",
      "[CV 4/5] END learning_rate=0.5, max_depth=2, n_estimators=100;, score=0.762 total time=   2.3s\n",
      "[CV 5/5] END learning_rate=0.5, max_depth=2, n_estimators=100;, score=0.762 total time=   2.3s\n",
      "[CV 1/5] END learning_rate=0.5, max_depth=2, n_estimators=250;, score=0.756 total time=   5.7s\n",
      "[CV 2/5] END learning_rate=0.5, max_depth=2, n_estimators=250;, score=0.755 total time=   5.8s\n",
      "[CV 3/5] END learning_rate=0.5, max_depth=2, n_estimators=250;, score=0.751 total time=   5.7s\n",
      "[CV 4/5] END learning_rate=0.5, max_depth=2, n_estimators=250;, score=0.757 total time=   5.7s\n",
      "[CV 5/5] END learning_rate=0.5, max_depth=2, n_estimators=250;, score=0.760 total time=   5.8s\n",
      "[CV 1/5] END learning_rate=0.5, max_depth=2, n_estimators=500;, score=0.751 total time=  11.5s\n",
      "[CV 2/5] END learning_rate=0.5, max_depth=2, n_estimators=500;, score=0.756 total time=  11.7s\n",
      "[CV 3/5] END learning_rate=0.5, max_depth=2, n_estimators=500;, score=0.749 total time=  11.6s\n",
      "[CV 4/5] END learning_rate=0.5, max_depth=2, n_estimators=500;, score=0.755 total time=  12.0s\n",
      "[CV 5/5] END learning_rate=0.5, max_depth=2, n_estimators=500;, score=0.761 total time=  11.9s\n",
      "[CV 1/5] END learning_rate=0.5, max_depth=3, n_estimators=100;, score=0.741 total time=   3.1s\n",
      "[CV 2/5] END learning_rate=0.5, max_depth=3, n_estimators=100;, score=0.757 total time=   3.2s\n",
      "[CV 3/5] END learning_rate=0.5, max_depth=3, n_estimators=100;, score=0.750 total time=   3.2s\n",
      "[CV 4/5] END learning_rate=0.5, max_depth=3, n_estimators=100;, score=0.754 total time=   3.2s\n",
      "[CV 5/5] END learning_rate=0.5, max_depth=3, n_estimators=100;, score=0.755 total time=   3.1s\n",
      "[CV 1/5] END learning_rate=0.5, max_depth=3, n_estimators=250;, score=0.730 total time=   7.9s\n",
      "[CV 2/5] END learning_rate=0.5, max_depth=3, n_estimators=250;, score=0.750 total time=   7.9s\n",
      "[CV 3/5] END learning_rate=0.5, max_depth=3, n_estimators=250;, score=0.738 total time=   7.9s\n",
      "[CV 4/5] END learning_rate=0.5, max_depth=3, n_estimators=250;, score=0.746 total time=   8.0s\n",
      "[CV 5/5] END learning_rate=0.5, max_depth=3, n_estimators=250;, score=0.750 total time=   7.9s\n",
      "[CV 1/5] END learning_rate=0.5, max_depth=3, n_estimators=500;, score=0.725 total time=  15.8s\n",
      "[CV 2/5] END learning_rate=0.5, max_depth=3, n_estimators=500;, score=0.744 total time=  16.1s\n",
      "[CV 3/5] END learning_rate=0.5, max_depth=3, n_estimators=500;, score=0.738 total time=  16.2s\n",
      "[CV 4/5] END learning_rate=0.5, max_depth=3, n_estimators=500;, score=0.739 total time=  16.7s\n",
      "[CV 5/5] END learning_rate=0.5, max_depth=3, n_estimators=500;, score=0.751 total time=  16.5s\n",
      "[CV 1/5] END learning_rate=0.5, max_depth=4, n_estimators=100;, score=0.733 total time=   4.2s\n",
      "[CV 2/5] END learning_rate=0.5, max_depth=4, n_estimators=100;, score=0.750 total time=   4.2s\n"
     ]
    },
    {
     "name": "stdout",
     "output_type": "stream",
     "text": [
      "[CV 3/5] END learning_rate=0.5, max_depth=4, n_estimators=100;, score=0.743 total time=   4.2s\n",
      "[CV 4/5] END learning_rate=0.5, max_depth=4, n_estimators=100;, score=0.743 total time=   4.3s\n",
      "[CV 5/5] END learning_rate=0.5, max_depth=4, n_estimators=100;, score=0.753 total time=   4.2s\n",
      "[CV 1/5] END learning_rate=0.5, max_depth=4, n_estimators=250;, score=0.723 total time=  10.5s\n",
      "[CV 2/5] END learning_rate=0.5, max_depth=4, n_estimators=250;, score=0.734 total time=  10.4s\n",
      "[CV 3/5] END learning_rate=0.5, max_depth=4, n_estimators=250;, score=0.736 total time=  10.6s\n",
      "[CV 4/5] END learning_rate=0.5, max_depth=4, n_estimators=250;, score=0.744 total time=  10.7s\n",
      "[CV 5/5] END learning_rate=0.5, max_depth=4, n_estimators=250;, score=0.751 total time=  10.6s\n",
      "[CV 1/5] END learning_rate=0.5, max_depth=4, n_estimators=500;, score=0.718 total time=  22.1s\n",
      "[CV 2/5] END learning_rate=0.5, max_depth=4, n_estimators=500;, score=0.723 total time=  21.5s\n",
      "[CV 3/5] END learning_rate=0.5, max_depth=4, n_estimators=500;, score=0.735 total time=  21.5s\n",
      "[CV 4/5] END learning_rate=0.5, max_depth=4, n_estimators=500;, score=0.733 total time=  22.3s\n",
      "[CV 5/5] END learning_rate=0.5, max_depth=4, n_estimators=500;, score=0.750 total time=  22.1s\n",
      "[CV 1/5] END learning_rate=0.5, max_depth=5, n_estimators=100;, score=0.731 total time=   5.3s\n",
      "[CV 2/5] END learning_rate=0.5, max_depth=5, n_estimators=100;, score=0.738 total time=   5.3s\n",
      "[CV 3/5] END learning_rate=0.5, max_depth=5, n_estimators=100;, score=0.738 total time=   5.4s\n",
      "[CV 4/5] END learning_rate=0.5, max_depth=5, n_estimators=100;, score=0.740 total time=   5.5s\n",
      "[CV 5/5] END learning_rate=0.5, max_depth=5, n_estimators=100;, score=0.755 total time=   5.6s\n",
      "[CV 1/5] END learning_rate=0.5, max_depth=5, n_estimators=250;, score=0.721 total time=  13.8s\n",
      "[CV 2/5] END learning_rate=0.5, max_depth=5, n_estimators=250;, score=0.728 total time=  13.7s\n",
      "[CV 3/5] END learning_rate=0.5, max_depth=5, n_estimators=250;, score=0.739 total time=  13.7s\n",
      "[CV 4/5] END learning_rate=0.5, max_depth=5, n_estimators=250;, score=0.736 total time=  13.8s\n",
      "[CV 5/5] END learning_rate=0.5, max_depth=5, n_estimators=250;, score=0.752 total time=  13.8s\n",
      "[CV 1/5] END learning_rate=0.5, max_depth=5, n_estimators=500;, score=0.723 total time=  28.0s\n",
      "[CV 2/5] END learning_rate=0.5, max_depth=5, n_estimators=500;, score=0.725 total time=  28.4s\n",
      "[CV 3/5] END learning_rate=0.5, max_depth=5, n_estimators=500;, score=0.737 total time=  27.9s\n",
      "[CV 4/5] END learning_rate=0.5, max_depth=5, n_estimators=500;, score=0.734 total time=  31.4s\n",
      "[CV 5/5] END learning_rate=0.5, max_depth=5, n_estimators=500;, score=0.755 total time=  32.9s\n",
      "[CV 1/5] END learning_rate=0.25, max_depth=1, n_estimators=100;, score=0.764 total time=   2.2s\n",
      "[CV 2/5] END learning_rate=0.25, max_depth=1, n_estimators=100;, score=0.762 total time=   2.2s\n",
      "[CV 3/5] END learning_rate=0.25, max_depth=1, n_estimators=100;, score=0.763 total time=   2.2s\n",
      "[CV 4/5] END learning_rate=0.25, max_depth=1, n_estimators=100;, score=0.764 total time=   2.2s\n",
      "[CV 5/5] END learning_rate=0.25, max_depth=1, n_estimators=100;, score=0.764 total time=   2.2s\n",
      "[CV 1/5] END learning_rate=0.25, max_depth=1, n_estimators=250;, score=0.763 total time=   5.6s\n",
      "[CV 2/5] END learning_rate=0.25, max_depth=1, n_estimators=250;, score=0.762 total time=   6.0s\n",
      "[CV 3/5] END learning_rate=0.25, max_depth=1, n_estimators=250;, score=0.763 total time=   5.3s\n",
      "[CV 4/5] END learning_rate=0.25, max_depth=1, n_estimators=250;, score=0.764 total time=   5.2s\n",
      "[CV 5/5] END learning_rate=0.25, max_depth=1, n_estimators=250;, score=0.764 total time=   5.3s\n",
      "[CV 1/5] END learning_rate=0.25, max_depth=1, n_estimators=500;, score=0.762 total time=  10.6s\n",
      "[CV 2/5] END learning_rate=0.25, max_depth=1, n_estimators=500;, score=0.762 total time=  10.5s\n",
      "[CV 3/5] END learning_rate=0.25, max_depth=1, n_estimators=500;, score=0.763 total time=  10.3s\n",
      "[CV 4/5] END learning_rate=0.25, max_depth=1, n_estimators=500;, score=0.764 total time=  10.4s\n",
      "[CV 5/5] END learning_rate=0.25, max_depth=1, n_estimators=500;, score=0.764 total time=  10.4s\n",
      "[CV 1/5] END learning_rate=0.25, max_depth=2, n_estimators=100;, score=0.762 total time=   3.0s\n",
      "[CV 2/5] END learning_rate=0.25, max_depth=2, n_estimators=100;, score=0.761 total time=   2.9s\n",
      "[CV 3/5] END learning_rate=0.25, max_depth=2, n_estimators=100;, score=0.759 total time=   2.9s\n",
      "[CV 4/5] END learning_rate=0.25, max_depth=2, n_estimators=100;, score=0.763 total time=   2.9s\n",
      "[CV 5/5] END learning_rate=0.25, max_depth=2, n_estimators=100;, score=0.762 total time=   2.9s\n",
      "[CV 1/5] END learning_rate=0.25, max_depth=2, n_estimators=250;, score=0.759 total time=   7.2s\n",
      "[CV 2/5] END learning_rate=0.25, max_depth=2, n_estimators=250;, score=0.761 total time=   7.2s\n",
      "[CV 3/5] END learning_rate=0.25, max_depth=2, n_estimators=250;, score=0.756 total time=   7.1s\n",
      "[CV 4/5] END learning_rate=0.25, max_depth=2, n_estimators=250;, score=0.761 total time=   7.1s\n",
      "[CV 5/5] END learning_rate=0.25, max_depth=2, n_estimators=250;, score=0.760 total time=   7.6s\n",
      "[CV 1/5] END learning_rate=0.25, max_depth=2, n_estimators=500;, score=0.753 total time=  14.5s\n",
      "[CV 2/5] END learning_rate=0.25, max_depth=2, n_estimators=500;, score=0.758 total time=  14.3s\n",
      "[CV 3/5] END learning_rate=0.25, max_depth=2, n_estimators=500;, score=0.752 total time=  14.3s\n",
      "[CV 4/5] END learning_rate=0.25, max_depth=2, n_estimators=500;, score=0.761 total time=  14.8s\n",
      "[CV 5/5] END learning_rate=0.25, max_depth=2, n_estimators=500;, score=0.760 total time=  19.8s\n",
      "[CV 1/5] END learning_rate=0.25, max_depth=3, n_estimators=100;, score=0.757 total time=   5.1s\n",
      "[CV 2/5] END learning_rate=0.25, max_depth=3, n_estimators=100;, score=0.758 total time=   5.2s\n",
      "[CV 3/5] END learning_rate=0.25, max_depth=3, n_estimators=100;, score=0.757 total time=   5.7s\n",
      "[CV 4/5] END learning_rate=0.25, max_depth=3, n_estimators=100;, score=0.759 total time=   5.7s\n",
      "[CV 5/5] END learning_rate=0.25, max_depth=3, n_estimators=100;, score=0.760 total time=   4.2s\n",
      "[CV 1/5] END learning_rate=0.25, max_depth=3, n_estimators=250;, score=0.748 total time=  14.0s\n",
      "[CV 2/5] END learning_rate=0.25, max_depth=3, n_estimators=250;, score=0.753 total time=  13.8s\n",
      "[CV 3/5] END learning_rate=0.25, max_depth=3, n_estimators=250;, score=0.748 total time=  12.7s\n",
      "[CV 4/5] END learning_rate=0.25, max_depth=3, n_estimators=250;, score=0.753 total time=  12.9s\n",
      "[CV 5/5] END learning_rate=0.25, max_depth=3, n_estimators=250;, score=0.756 total time=  12.4s\n",
      "[CV 1/5] END learning_rate=0.25, max_depth=3, n_estimators=500;, score=0.735 total time=  26.6s\n",
      "[CV 2/5] END learning_rate=0.25, max_depth=3, n_estimators=500;, score=0.751 total time=  25.3s\n",
      "[CV 3/5] END learning_rate=0.25, max_depth=3, n_estimators=500;, score=0.746 total time=  20.3s\n",
      "[CV 4/5] END learning_rate=0.25, max_depth=3, n_estimators=500;, score=0.746 total time=  19.4s\n",
      "[CV 5/5] END learning_rate=0.25, max_depth=3, n_estimators=500;, score=0.754 total time=  23.6s\n",
      "[CV 1/5] END learning_rate=0.25, max_depth=4, n_estimators=100;, score=0.746 total time=   6.1s\n",
      "[CV 2/5] END learning_rate=0.25, max_depth=4, n_estimators=100;, score=0.752 total time=   7.5s\n",
      "[CV 3/5] END learning_rate=0.25, max_depth=4, n_estimators=100;, score=0.751 total time=   6.1s\n",
      "[CV 4/5] END learning_rate=0.25, max_depth=4, n_estimators=100;, score=0.755 total time=   6.5s\n",
      "[CV 5/5] END learning_rate=0.25, max_depth=4, n_estimators=100;, score=0.757 total time=   6.4s\n",
      "[CV 1/5] END learning_rate=0.25, max_depth=4, n_estimators=250;, score=0.738 total time=  21.1s\n",
      "[CV 2/5] END learning_rate=0.25, max_depth=4, n_estimators=250;, score=0.748 total time=  18.3s\n",
      "[CV 3/5] END learning_rate=0.25, max_depth=4, n_estimators=250;, score=0.743 total time=  18.6s\n",
      "[CV 4/5] END learning_rate=0.25, max_depth=4, n_estimators=250;, score=0.749 total time=  14.4s\n",
      "[CV 5/5] END learning_rate=0.25, max_depth=4, n_estimators=250;, score=0.755 total time=  13.8s\n",
      "[CV 1/5] END learning_rate=0.25, max_depth=4, n_estimators=500;, score=0.725 total time=  36.9s\n",
      "[CV 2/5] END learning_rate=0.25, max_depth=4, n_estimators=500;, score=0.738 total time=  34.1s\n",
      "[CV 3/5] END learning_rate=0.25, max_depth=4, n_estimators=500;, score=0.738 total time=  32.1s\n"
     ]
    },
    {
     "name": "stdout",
     "output_type": "stream",
     "text": [
      "[CV 4/5] END learning_rate=0.25, max_depth=4, n_estimators=500;, score=0.741 total time=  23.4s\n",
      "[CV 5/5] END learning_rate=0.25, max_depth=4, n_estimators=500;, score=0.754 total time=  21.4s\n",
      "[CV 1/5] END learning_rate=0.25, max_depth=5, n_estimators=100;, score=0.740 total time=   5.0s\n",
      "[CV 2/5] END learning_rate=0.25, max_depth=5, n_estimators=100;, score=0.748 total time=   4.9s\n",
      "[CV 3/5] END learning_rate=0.25, max_depth=5, n_estimators=100;, score=0.743 total time=   4.8s\n",
      "[CV 4/5] END learning_rate=0.25, max_depth=5, n_estimators=100;, score=0.745 total time=   4.9s\n",
      "[CV 5/5] END learning_rate=0.25, max_depth=5, n_estimators=100;, score=0.756 total time=   4.8s\n",
      "[CV 1/5] END learning_rate=0.25, max_depth=5, n_estimators=250;, score=0.729 total time=  12.0s\n",
      "[CV 2/5] END learning_rate=0.25, max_depth=5, n_estimators=250;, score=0.743 total time=  12.5s\n",
      "[CV 3/5] END learning_rate=0.25, max_depth=5, n_estimators=250;, score=0.734 total time=  11.9s\n",
      "[CV 4/5] END learning_rate=0.25, max_depth=5, n_estimators=250;, score=0.735 total time=  12.0s\n",
      "[CV 5/5] END learning_rate=0.25, max_depth=5, n_estimators=250;, score=0.755 total time=  11.8s\n",
      "[CV 1/5] END learning_rate=0.25, max_depth=5, n_estimators=500;, score=0.724 total time=  23.9s\n",
      "[CV 2/5] END learning_rate=0.25, max_depth=5, n_estimators=500;, score=0.730 total time=  23.6s\n",
      "[CV 3/5] END learning_rate=0.25, max_depth=5, n_estimators=500;, score=0.736 total time=  25.4s\n",
      "[CV 4/5] END learning_rate=0.25, max_depth=5, n_estimators=500;, score=0.738 total time=  26.6s\n",
      "[CV 5/5] END learning_rate=0.25, max_depth=5, n_estimators=500;, score=0.751 total time=  24.7s\n",
      "[CV 1/5] END learning_rate=0.75, max_depth=1, n_estimators=100;, score=0.762 total time=   1.8s\n",
      "[CV 2/5] END learning_rate=0.75, max_depth=1, n_estimators=100;, score=0.761 total time=   1.8s\n",
      "[CV 3/5] END learning_rate=0.75, max_depth=1, n_estimators=100;, score=0.763 total time=   1.8s\n",
      "[CV 4/5] END learning_rate=0.75, max_depth=1, n_estimators=100;, score=0.764 total time=   1.8s\n",
      "[CV 5/5] END learning_rate=0.75, max_depth=1, n_estimators=100;, score=0.764 total time=   1.8s\n",
      "[CV 1/5] END learning_rate=0.75, max_depth=1, n_estimators=250;, score=0.763 total time=   4.4s\n",
      "[CV 2/5] END learning_rate=0.75, max_depth=1, n_estimators=250;, score=0.762 total time=   4.4s\n",
      "[CV 3/5] END learning_rate=0.75, max_depth=1, n_estimators=250;, score=0.761 total time=   4.4s\n",
      "[CV 4/5] END learning_rate=0.75, max_depth=1, n_estimators=250;, score=0.764 total time=   4.5s\n",
      "[CV 5/5] END learning_rate=0.75, max_depth=1, n_estimators=250;, score=0.764 total time=   4.3s\n",
      "[CV 1/5] END learning_rate=0.75, max_depth=1, n_estimators=500;, score=0.763 total time=   8.7s\n",
      "[CV 2/5] END learning_rate=0.75, max_depth=1, n_estimators=500;, score=0.762 total time=   8.7s\n",
      "[CV 3/5] END learning_rate=0.75, max_depth=1, n_estimators=500;, score=0.760 total time=   8.7s\n",
      "[CV 4/5] END learning_rate=0.75, max_depth=1, n_estimators=500;, score=0.764 total time=   8.7s\n",
      "[CV 5/5] END learning_rate=0.75, max_depth=1, n_estimators=500;, score=0.764 total time=   8.6s\n",
      "[CV 1/5] END learning_rate=0.75, max_depth=2, n_estimators=100;, score=0.754 total time=   2.8s\n",
      "[CV 2/5] END learning_rate=0.75, max_depth=2, n_estimators=100;, score=0.756 total time=   2.7s\n",
      "[CV 3/5] END learning_rate=0.75, max_depth=2, n_estimators=100;, score=0.752 total time=   2.6s\n",
      "[CV 4/5] END learning_rate=0.75, max_depth=2, n_estimators=100;, score=0.759 total time=   2.5s\n",
      "[CV 5/5] END learning_rate=0.75, max_depth=2, n_estimators=100;, score=0.760 total time=   2.5s\n",
      "[CV 1/5] END learning_rate=0.75, max_depth=2, n_estimators=250;, score=0.750 total time=   6.2s\n",
      "[CV 2/5] END learning_rate=0.75, max_depth=2, n_estimators=250;, score=0.756 total time=   6.3s\n",
      "[CV 3/5] END learning_rate=0.75, max_depth=2, n_estimators=250;, score=0.748 total time=   6.2s\n",
      "[CV 4/5] END learning_rate=0.75, max_depth=2, n_estimators=250;, score=0.757 total time=   6.3s\n",
      "[CV 5/5] END learning_rate=0.75, max_depth=2, n_estimators=250;, score=0.760 total time=   6.3s\n",
      "[CV 1/5] END learning_rate=0.75, max_depth=2, n_estimators=500;, score=0.749 total time=  12.4s\n",
      "[CV 2/5] END learning_rate=0.75, max_depth=2, n_estimators=500;, score=0.753 total time=  12.5s\n",
      "[CV 3/5] END learning_rate=0.75, max_depth=2, n_estimators=500;, score=0.747 total time=  12.3s\n",
      "[CV 4/5] END learning_rate=0.75, max_depth=2, n_estimators=500;, score=0.756 total time=  12.4s\n",
      "[CV 5/5] END learning_rate=0.75, max_depth=2, n_estimators=500;, score=0.755 total time=  12.9s\n",
      "[CV 1/5] END learning_rate=0.75, max_depth=3, n_estimators=100;, score=0.741 total time=   2.8s\n",
      "[CV 2/5] END learning_rate=0.75, max_depth=3, n_estimators=100;, score=0.752 total time=   2.9s\n",
      "[CV 3/5] END learning_rate=0.75, max_depth=3, n_estimators=100;, score=0.742 total time=   2.7s\n",
      "[CV 4/5] END learning_rate=0.75, max_depth=3, n_estimators=100;, score=0.745 total time=   2.7s\n",
      "[CV 5/5] END learning_rate=0.75, max_depth=3, n_estimators=100;, score=0.755 total time=   2.8s\n",
      "[CV 1/5] END learning_rate=0.75, max_depth=3, n_estimators=250;, score=0.725 total time=   6.9s\n",
      "[CV 2/5] END learning_rate=0.75, max_depth=3, n_estimators=250;, score=0.741 total time=   6.7s\n",
      "[CV 3/5] END learning_rate=0.75, max_depth=3, n_estimators=250;, score=0.736 total time=   6.8s\n",
      "[CV 4/5] END learning_rate=0.75, max_depth=3, n_estimators=250;, score=0.745 total time=   6.7s\n",
      "[CV 5/5] END learning_rate=0.75, max_depth=3, n_estimators=250;, score=0.749 total time=   6.6s\n",
      "[CV 1/5] END learning_rate=0.75, max_depth=3, n_estimators=500;, score=0.727 total time=  13.2s\n",
      "[CV 2/5] END learning_rate=0.75, max_depth=3, n_estimators=500;, score=0.738 total time=  12.9s\n",
      "[CV 3/5] END learning_rate=0.75, max_depth=3, n_estimators=500;, score=0.730 total time=  12.9s\n",
      "[CV 4/5] END learning_rate=0.75, max_depth=3, n_estimators=500;, score=0.737 total time=  12.9s\n",
      "[CV 5/5] END learning_rate=0.75, max_depth=3, n_estimators=500;, score=0.748 total time=  12.7s\n",
      "[CV 1/5] END learning_rate=0.75, max_depth=4, n_estimators=100;, score=0.722 total time=   3.2s\n",
      "[CV 2/5] END learning_rate=0.75, max_depth=4, n_estimators=100;, score=0.739 total time=   3.2s\n",
      "[CV 3/5] END learning_rate=0.75, max_depth=4, n_estimators=100;, score=0.732 total time=   3.2s\n",
      "[CV 4/5] END learning_rate=0.75, max_depth=4, n_estimators=100;, score=0.745 total time=   3.2s\n",
      "[CV 5/5] END learning_rate=0.75, max_depth=4, n_estimators=100;, score=0.747 total time=   3.1s\n",
      "[CV 1/5] END learning_rate=0.75, max_depth=4, n_estimators=250;, score=0.722 total time=   8.1s\n",
      "[CV 2/5] END learning_rate=0.75, max_depth=4, n_estimators=250;, score=0.728 total time=   8.0s\n",
      "[CV 3/5] END learning_rate=0.75, max_depth=4, n_estimators=250;, score=0.732 total time=   7.8s\n",
      "[CV 4/5] END learning_rate=0.75, max_depth=4, n_estimators=250;, score=0.729 total time=   7.9s\n",
      "[CV 5/5] END learning_rate=0.75, max_depth=4, n_estimators=250;, score=0.748 total time=   8.0s\n",
      "[CV 1/5] END learning_rate=0.75, max_depth=4, n_estimators=500;, score=0.723 total time=  16.5s\n",
      "[CV 2/5] END learning_rate=0.75, max_depth=4, n_estimators=500;, score=0.728 total time=  15.8s\n",
      "[CV 3/5] END learning_rate=0.75, max_depth=4, n_estimators=500;, score=0.736 total time=  15.8s\n",
      "[CV 4/5] END learning_rate=0.75, max_depth=4, n_estimators=500;, score=0.731 total time=  15.9s\n",
      "[CV 5/5] END learning_rate=0.75, max_depth=4, n_estimators=500;, score=0.751 total time=  15.9s\n",
      "[CV 1/5] END learning_rate=0.75, max_depth=5, n_estimators=100;, score=0.722 total time=   3.8s\n",
      "[CV 2/5] END learning_rate=0.75, max_depth=5, n_estimators=100;, score=0.731 total time=   4.0s\n",
      "[CV 3/5] END learning_rate=0.75, max_depth=5, n_estimators=100;, score=0.737 total time=   4.0s\n",
      "[CV 4/5] END learning_rate=0.75, max_depth=5, n_estimators=100;, score=0.735 total time=   3.8s\n",
      "[CV 5/5] END learning_rate=0.75, max_depth=5, n_estimators=100;, score=0.750 total time=   3.8s\n",
      "[CV 1/5] END learning_rate=0.75, max_depth=5, n_estimators=250;, score=0.724 total time=   9.7s\n",
      "[CV 2/5] END learning_rate=0.75, max_depth=5, n_estimators=250;, score=0.726 total time=   9.8s\n",
      "[CV 3/5] END learning_rate=0.75, max_depth=5, n_estimators=250;, score=0.738 total time=  10.7s\n",
      "[CV 4/5] END learning_rate=0.75, max_depth=5, n_estimators=250;, score=0.737 total time=  10.6s\n"
     ]
    },
    {
     "name": "stdout",
     "output_type": "stream",
     "text": [
      "[CV 5/5] END learning_rate=0.75, max_depth=5, n_estimators=250;, score=0.750 total time=   9.9s\n",
      "[CV 1/5] END learning_rate=0.75, max_depth=5, n_estimators=500;, score=0.726 total time=  19.7s\n",
      "[CV 2/5] END learning_rate=0.75, max_depth=5, n_estimators=500;, score=0.729 total time=  19.7s\n",
      "[CV 3/5] END learning_rate=0.75, max_depth=5, n_estimators=500;, score=0.739 total time=  20.2s\n",
      "[CV 4/5] END learning_rate=0.75, max_depth=5, n_estimators=500;, score=0.735 total time=  19.6s\n",
      "[CV 5/5] END learning_rate=0.75, max_depth=5, n_estimators=500;, score=0.750 total time=  20.5s\n"
     ]
    },
    {
     "data": {
      "text/plain": [
       "GridSearchCV(estimator=GradientBoostingClassifier(),\n",
       "             param_grid=[{'learning_rate': [0.1, 0.05, 0.01, 1, 0.5, 0.25,\n",
       "                                            0.75],\n",
       "                          'max_depth': [1, 2, 3, 4, 5],\n",
       "                          'n_estimators': [100, 250, 500]}],\n",
       "             verbose=3)"
      ]
     },
     "execution_count": 8,
     "metadata": {},
     "output_type": "execute_result"
    }
   ],
   "source": [
    "gs48.fit(X_train48, y_train48)"
   ]
  },
  {
   "cell_type": "code",
   "execution_count": 9,
   "id": "151d3c45",
   "metadata": {},
   "outputs": [
    {
     "name": "stdout",
     "output_type": "stream",
     "text": [
      "The best parameters found for the 48h DCW:\n",
      "{'learning_rate': 0.01, 'max_depth': 1, 'n_estimators': 100}\n",
      "The best estimator found for the 48h DCW:\n",
      "GradientBoostingClassifier(learning_rate=0.01, max_depth=1)\n"
     ]
    }
   ],
   "source": [
    "print(\"The best parameters found for the 48h DCW:\")\n",
    "print(gs48.best_params_)\n",
    "  \n",
    "#PRINT HOW OUR MODEL LOOKS AFTER HYPER-PARAMETER TUNING\n",
    "print(\"The best estimator found for the 48h DCW:\")\n",
    "print(gs48.best_estimator_)"
   ]
  },
  {
   "cell_type": "code",
   "execution_count": 5,
   "id": "e4841d6f",
   "metadata": {},
   "outputs": [],
   "source": [
    "best24 = GradientBoostingClassifier(learning_rate=0.05, max_depth=1)\n",
    "best48 = GradientBoostingClassifier(learning_rate=0.01, max_depth=1)"
   ]
  },
  {
   "cell_type": "code",
   "execution_count": 11,
   "id": "5cf0e40c",
   "metadata": {},
   "outputs": [
    {
     "name": "stderr",
     "output_type": "stream",
     "text": [
      "[Parallel(n_jobs=1)]: Using backend SequentialBackend with 1 concurrent workers.\n",
      "[Parallel(n_jobs=1)]: Done   1 out of   1 | elapsed:    4.2s remaining:    0.0s\n",
      "[Parallel(n_jobs=1)]: Done   2 out of   2 | elapsed:    8.2s remaining:    0.0s\n",
      "[Parallel(n_jobs=1)]: Done   5 out of   5 | elapsed:   20.3s finished\n"
     ]
    }
   ],
   "source": [
    "y_pred24 = cross_val_predict(best24, X24, Y24, cv = 5, verbose = 3)"
   ]
  },
  {
   "cell_type": "code",
   "execution_count": 12,
   "id": "42bff935",
   "metadata": {},
   "outputs": [
    {
     "name": "stderr",
     "output_type": "stream",
     "text": [
      "[Parallel(n_jobs=1)]: Using backend SequentialBackend with 1 concurrent workers.\n",
      "[Parallel(n_jobs=1)]: Done   1 out of   1 | elapsed:    2.1s remaining:    0.0s\n",
      "[Parallel(n_jobs=1)]: Done   2 out of   2 | elapsed:    4.1s remaining:    0.0s\n",
      "[Parallel(n_jobs=1)]: Done   5 out of   5 | elapsed:   10.8s finished\n"
     ]
    }
   ],
   "source": [
    "y_pred48 = cross_val_predict(best48, X48, Y48, cv = 5, verbose = 3)"
   ]
  },
  {
   "cell_type": "code",
   "execution_count": 13,
   "id": "aaf6f178",
   "metadata": {},
   "outputs": [
    {
     "name": "stderr",
     "output_type": "stream",
     "text": [
      "/opt/conda/lib/python3.9/site-packages/sklearn/metrics/_classification.py:1248: UndefinedMetricWarning: Precision and F-score are ill-defined and being set to 0.0 in labels with no predicted samples. Use `zero_division` parameter to control this behavior.\n",
      "  _warn_prf(average, modifier, msg_start, len(result))\n",
      "/opt/conda/lib/python3.9/site-packages/sklearn/metrics/_classification.py:1248: UndefinedMetricWarning: Precision and F-score are ill-defined and being set to 0.0 in labels with no predicted samples. Use `zero_division` parameter to control this behavior.\n",
      "  _warn_prf(average, modifier, msg_start, len(result))\n"
     ]
    },
    {
     "name": "stdout",
     "output_type": "stream",
     "text": [
      "              precision    recall  f1-score   support\n",
      "\n",
      "           0       0.70      1.00      0.83     10761\n",
      "           1       0.00      0.00      0.00      4521\n",
      "\n",
      "    accuracy                           0.70     15282\n",
      "   macro avg       0.35      0.50      0.41     15282\n",
      "weighted avg       0.50      0.70      0.58     15282\n",
      "\n"
     ]
    },
    {
     "name": "stderr",
     "output_type": "stream",
     "text": [
      "/opt/conda/lib/python3.9/site-packages/sklearn/metrics/_classification.py:1248: UndefinedMetricWarning: Precision and F-score are ill-defined and being set to 0.0 in labels with no predicted samples. Use `zero_division` parameter to control this behavior.\n",
      "  _warn_prf(average, modifier, msg_start, len(result))\n"
     ]
    }
   ],
   "source": [
    "#CLASSIFICATION REPORT 24H\n",
    "print(classification_report(Y24, y_pred24))"
   ]
  },
  {
   "cell_type": "code",
   "execution_count": 14,
   "id": "94658c91",
   "metadata": {},
   "outputs": [
    {
     "name": "stdout",
     "output_type": "stream",
     "text": [
      "0.704161758932077\n"
     ]
    }
   ],
   "source": [
    "print(accuracy_score(Y24, y_pred24))"
   ]
  },
  {
   "cell_type": "code",
   "execution_count": 15,
   "id": "bc6ffaa7",
   "metadata": {},
   "outputs": [
    {
     "name": "stdout",
     "output_type": "stream",
     "text": [
      "0.0\n"
     ]
    },
    {
     "name": "stderr",
     "output_type": "stream",
     "text": [
      "/opt/conda/lib/python3.9/site-packages/sklearn/metrics/_classification.py:1248: UndefinedMetricWarning: Precision is ill-defined and being set to 0.0 due to no predicted samples. Use `zero_division` parameter to control this behavior.\n",
      "  _warn_prf(average, modifier, msg_start, len(result))\n"
     ]
    }
   ],
   "source": [
    "print(precision_score(Y24, y_pred24))"
   ]
  },
  {
   "cell_type": "code",
   "execution_count": 16,
   "id": "54fd26e3",
   "metadata": {},
   "outputs": [
    {
     "name": "stdout",
     "output_type": "stream",
     "text": [
      "0.0\n"
     ]
    }
   ],
   "source": [
    "print(recall_score(Y24, y_pred24))"
   ]
  },
  {
   "cell_type": "code",
   "execution_count": 17,
   "id": "0860512b",
   "metadata": {},
   "outputs": [
    {
     "name": "stdout",
     "output_type": "stream",
     "text": [
      "0.0\n"
     ]
    }
   ],
   "source": [
    "print(f1_score(Y24, y_pred24))"
   ]
  },
  {
   "cell_type": "code",
   "execution_count": 18,
   "id": "78360c22",
   "metadata": {},
   "outputs": [
    {
     "name": "stdout",
     "output_type": "stream",
     "text": [
      "0.5\n"
     ]
    }
   ],
   "source": [
    "print(roc_auc_score(Y24, y_pred24))"
   ]
  },
  {
   "cell_type": "code",
   "execution_count": 19,
   "id": "dd9aa4df",
   "metadata": {},
   "outputs": [
    {
     "name": "stdout",
     "output_type": "stream",
     "text": [
      "              precision    recall  f1-score   support\n",
      "\n",
      "           0       0.77      1.00      0.87      6021\n",
      "           1       0.00      0.00      0.00      1841\n",
      "\n",
      "    accuracy                           0.77      7862\n",
      "   macro avg       0.38      0.50      0.43      7862\n",
      "weighted avg       0.59      0.77      0.66      7862\n",
      "\n"
     ]
    },
    {
     "name": "stderr",
     "output_type": "stream",
     "text": [
      "/opt/conda/lib/python3.9/site-packages/sklearn/metrics/_classification.py:1248: UndefinedMetricWarning: Precision and F-score are ill-defined and being set to 0.0 in labels with no predicted samples. Use `zero_division` parameter to control this behavior.\n",
      "  _warn_prf(average, modifier, msg_start, len(result))\n",
      "/opt/conda/lib/python3.9/site-packages/sklearn/metrics/_classification.py:1248: UndefinedMetricWarning: Precision and F-score are ill-defined and being set to 0.0 in labels with no predicted samples. Use `zero_division` parameter to control this behavior.\n",
      "  _warn_prf(average, modifier, msg_start, len(result))\n",
      "/opt/conda/lib/python3.9/site-packages/sklearn/metrics/_classification.py:1248: UndefinedMetricWarning: Precision and F-score are ill-defined and being set to 0.0 in labels with no predicted samples. Use `zero_division` parameter to control this behavior.\n",
      "  _warn_prf(average, modifier, msg_start, len(result))\n"
     ]
    }
   ],
   "source": [
    "#CLASSIFICATION REPORT 48H\n",
    "print(classification_report(Y48, y_pred48))"
   ]
  },
  {
   "cell_type": "code",
   "execution_count": 20,
   "id": "c05c34a4",
   "metadata": {},
   "outputs": [
    {
     "name": "stdout",
     "output_type": "stream",
     "text": [
      "0.7658356652251336\n"
     ]
    }
   ],
   "source": [
    "print(accuracy_score(Y48, y_pred48))"
   ]
  },
  {
   "cell_type": "code",
   "execution_count": 21,
   "id": "8e8bd7ca",
   "metadata": {},
   "outputs": [
    {
     "name": "stdout",
     "output_type": "stream",
     "text": [
      "0.0\n"
     ]
    },
    {
     "name": "stderr",
     "output_type": "stream",
     "text": [
      "/opt/conda/lib/python3.9/site-packages/sklearn/metrics/_classification.py:1248: UndefinedMetricWarning: Precision is ill-defined and being set to 0.0 due to no predicted samples. Use `zero_division` parameter to control this behavior.\n",
      "  _warn_prf(average, modifier, msg_start, len(result))\n"
     ]
    }
   ],
   "source": [
    "print(precision_score(Y48, y_pred48))"
   ]
  },
  {
   "cell_type": "code",
   "execution_count": 22,
   "id": "c98fc9ed",
   "metadata": {},
   "outputs": [
    {
     "name": "stdout",
     "output_type": "stream",
     "text": [
      "0.0\n"
     ]
    }
   ],
   "source": [
    "print(recall_score(Y48, y_pred48))"
   ]
  },
  {
   "cell_type": "code",
   "execution_count": 23,
   "id": "58a7ba8c",
   "metadata": {},
   "outputs": [
    {
     "name": "stdout",
     "output_type": "stream",
     "text": [
      "0.0\n"
     ]
    }
   ],
   "source": [
    "print(f1_score(Y48, y_pred48))"
   ]
  },
  {
   "cell_type": "code",
   "execution_count": 24,
   "id": "b18afac6",
   "metadata": {},
   "outputs": [
    {
     "name": "stdout",
     "output_type": "stream",
     "text": [
      "0.5\n"
     ]
    }
   ],
   "source": [
    "print(roc_auc_score(Y48, y_pred48))"
   ]
  },
  {
   "cell_type": "code",
   "execution_count": 23,
   "id": "16f12c15",
   "metadata": {},
   "outputs": [
    {
     "name": "stdout",
     "output_type": "stream",
     "text": [
      "Elapsed time to compute the importances: 0.057 seconds\n"
     ]
    },
    {
     "data": {
      "image/png": "[encoded data removed]",
      "text/plain": [
       "<Figure size 432x288 with 1 Axes>"
      ]
     },
     "metadata": {
      "needs_background": "light"
     },
     "output_type": "display_data"
    }
   ],
   "source": [
    "from sklearn.ensemble import RandomForestClassifier\n",
    "import matplotlib.pyplot as plt\n",
    "\n",
    "#FEATURES SELECTION BASED ON THEIR IMPORTANCE WITH A RANDOM FOREST CLASSIFIER \n",
    "feature_names24 = [f'feature {i}' for i in range(X24.shape[1])]\n",
    "forest = RandomForestClassifier(random_state=0)\n",
    "forest.fit(X_train24, y_train24)\n",
    "\n",
    "import time\n",
    "\n",
    "start_time24 = time.time()\n",
    "importances24 = forest.feature_importances_\n",
    "std = np.std([\n",
    "    tree.feature_importances_ for tree in forest.estimators_], axis=0)\n",
    "elapsed_time24 = time.time() - start_time24\n",
    "\n",
    "print(f\"Elapsed time to compute the importances: \"\n",
    "      f\"{elapsed_time24:.3f} seconds\")\n",
    "\n",
    "forest_importances24 = pd.Series(importances24, index=feature_names24)\n",
    "\n",
    "fig, ax = plt.subplots()\n",
    "forest_importances24.plot.bar(yerr=std, ax=ax)\n",
    "ax.set_title(\"Feature importances using MDI\")\n",
    "ax.set_ylabel(\"Mean decrease in impurity\")\n",
    "fig.tight_layout()\n"
   ]
  },
  {
   "cell_type": "code",
   "execution_count": 9,
   "id": "3945ff11",
   "metadata": {},
   "outputs": [
    {
     "name": "stdout",
     "output_type": "stream",
     "text": [
      "Feature: 0, Score: 0.82049\n",
      "Feature: 1, Score: 0.01109\n",
      "Feature: 2, Score: 0.01122\n",
      "Feature: 3, Score: 0.00101\n",
      "Feature: 4, Score: 0.00000\n",
      "Feature: 5, Score: 0.00804\n",
      "Feature: 6, Score: 0.00368\n",
      "Feature: 7, Score: 0.00087\n",
      "Feature: 8, Score: 0.00656\n",
      "Feature: 9, Score: 0.00081\n",
      "Feature: 10, Score: 0.00116\n",
      "Feature: 11, Score: 0.00038\n",
      "Feature: 12, Score: 0.00103\n",
      "Feature: 13, Score: 0.00274\n",
      "Feature: 14, Score: 0.00336\n",
      "Feature: 15, Score: 0.01280\n",
      "Feature: 16, Score: 0.00406\n",
      "Feature: 17, Score: 0.00499\n",
      "Feature: 18, Score: 0.00075\n",
      "Feature: 19, Score: 0.00823\n",
      "Feature: 20, Score: 0.00039\n",
      "Feature: 21, Score: 0.00042\n",
      "Feature: 22, Score: 0.00197\n",
      "Feature: 23, Score: 0.00314\n",
      "Feature: 24, Score: 0.00110\n",
      "Feature: 25, Score: 0.00037\n",
      "Feature: 26, Score: 0.00170\n",
      "Feature: 27, Score: 0.00768\n",
      "Feature: 28, Score: 0.00273\n",
      "Feature: 29, Score: 0.00454\n",
      "Feature: 30, Score: 0.00542\n",
      "Feature: 31, Score: 0.00040\n",
      "Feature: 32, Score: 0.00838\n",
      "Feature: 33, Score: 0.00788\n",
      "Feature: 34, Score: 0.00462\n",
      "Feature: 35, Score: 0.00126\n",
      "Feature: 36, Score: 0.00942\n",
      "Feature: 37, Score: 0.01230\n",
      "Feature: 38, Score: 0.00921\n",
      "Feature: 39, Score: 0.00350\n",
      "Feature: 40, Score: 0.00144\n",
      "Feature: 41, Score: 0.00371\n",
      "Feature: 42, Score: 0.00516\n"
     ]
    }
   ],
   "source": [
    "for i,v in enumerate(importances24):\n",
    "    print('Feature: %0d, Score: %.5f' % (i,v))"
   ]
  },
  {
   "cell_type": "code",
   "execution_count": 25,
   "id": "26116dc7",
   "metadata": {},
   "outputs": [
    {
     "name": "stdout",
     "output_type": "stream",
     "text": [
      "Elapsed time to compute the importances: 0.053 seconds\n"
     ]
    },
    {
     "data": {
      "image/png": "[encoded data removed]",
      "text/plain": [
       "<Figure size 432x288 with 1 Axes>"
      ]
     },
     "metadata": {
      "needs_background": "light"
     },
     "output_type": "display_data"
    }
   ],
   "source": [
    "#DO IT FOR THE 48H DCW NOW\n",
    "feature_names48 = [f'feature {i}' for i in range(X48.shape[1])]\n",
    "#forest = RandomForestClassifier(random_state=0)\n",
    "forest.fit(X_train48, y_train48)\n",
    "\n",
    "start_time48 = time.time()\n",
    "importances48 = forest.feature_importances_\n",
    "std = np.std([\n",
    "    tree.feature_importances_ for tree in forest.estimators_], axis=0)\n",
    "elapsed_time48 = time.time() - start_time48\n",
    "\n",
    "print(f\"Elapsed time to compute the importances: \"\n",
    "      f\"{elapsed_time48:.3f} seconds\")\n",
    "\n",
    "forest_importances48 = pd.Series(importances48, index=feature_names48)\n",
    "\n",
    "fig, ax = plt.subplots()\n",
    "forest_importances48.plot.bar(yerr=std, ax=ax)\n",
    "ax.set_title(\"Feature importances using MDI\")\n",
    "ax.set_ylabel(\"Mean decrease in impurity\")\n",
    "fig.tight_layout()\n"
   ]
  },
  {
   "cell_type": "code",
   "execution_count": 11,
   "id": "cfa78d86",
   "metadata": {},
   "outputs": [
    {
     "name": "stdout",
     "output_type": "stream",
     "text": [
      "Feature: 0, Score: 0.84543\n",
      "Feature: 1, Score: 0.01144\n",
      "Feature: 2, Score: 0.00999\n",
      "Feature: 3, Score: 0.00048\n",
      "Feature: 4, Score: 0.00799\n",
      "Feature: 5, Score: 0.00271\n",
      "Feature: 6, Score: 0.00000\n",
      "Feature: 7, Score: 0.00446\n",
      "Feature: 8, Score: 0.00063\n",
      "Feature: 9, Score: 0.00000\n",
      "Feature: 10, Score: 0.00000\n",
      "Feature: 11, Score: 0.00127\n",
      "Feature: 12, Score: 0.00232\n",
      "Feature: 13, Score: 0.00325\n",
      "Feature: 14, Score: 0.00996\n",
      "Feature: 15, Score: 0.00686\n",
      "Feature: 16, Score: 0.00163\n",
      "Feature: 17, Score: 0.00000\n",
      "Feature: 18, Score: 0.00761\n",
      "Feature: 19, Score: 0.00126\n",
      "Feature: 20, Score: 0.00017\n",
      "Feature: 21, Score: 0.00040\n",
      "Feature: 22, Score: 0.00363\n",
      "Feature: 23, Score: 0.00184\n",
      "Feature: 24, Score: 0.00054\n",
      "Feature: 25, Score: 0.00036\n",
      "Feature: 26, Score: 0.00811\n",
      "Feature: 27, Score: 0.00485\n",
      "Feature: 28, Score: 0.00259\n",
      "Feature: 29, Score: 0.00331\n",
      "Feature: 30, Score: 0.00000\n",
      "Feature: 31, Score: 0.00841\n",
      "Feature: 32, Score: 0.00691\n",
      "Feature: 33, Score: 0.00294\n",
      "Feature: 34, Score: 0.00810\n",
      "Feature: 35, Score: 0.00932\n",
      "Feature: 36, Score: 0.01048\n",
      "Feature: 37, Score: 0.00324\n",
      "Feature: 38, Score: 0.00163\n",
      "Feature: 39, Score: 0.00125\n",
      "Feature: 40, Score: 0.00463\n"
     ]
    }
   ],
   "source": [
    "for i,v in enumerate(importances48):\n",
    "    print('Feature: %0d, Score: %.5f' % (i,v))"
   ]
  },
  {
   "cell_type": "markdown",
   "id": "ed125c7c",
   "metadata": {},
   "source": [
    "## Try to use the function cross_validate( ) now."
   ]
  },
  {
   "cell_type": "code",
   "execution_count": 7,
   "id": "cbe826b6",
   "metadata": {},
   "outputs": [],
   "source": [
    "#DEFINE THE METRICS \n",
    "scoring=['accuracy','precision','recall', 'roc_auc', 'f1']"
   ]
  },
  {
   "cell_type": "code",
   "execution_count": 8,
   "id": "f8a9f8d1",
   "metadata": {},
   "outputs": [],
   "source": [
    "p24 = Pipeline(steps=[('r', resample), ('m', best24)])\n",
    "\n",
    "scores24 = cross_validate(p24, X24, Y24, scoring = scoring, cv = 5)"
   ]
  },
  {
   "cell_type": "code",
   "execution_count": 12,
   "id": "897ddb03",
   "metadata": {},
   "outputs": [
    {
     "data": {
      "text/plain": [
       "0.4519737337875308"
      ]
     },
     "execution_count": 12,
     "metadata": {},
     "output_type": "execute_result"
    }
   ],
   "source": [
    "scores24['test_accuracy'].mean()"
   ]
  },
  {
   "cell_type": "code",
   "execution_count": 13,
   "id": "8152a525",
   "metadata": {},
   "outputs": [
    {
     "data": {
      "text/plain": [
       "0.3114928488303216"
      ]
     },
     "execution_count": 13,
     "metadata": {},
     "output_type": "execute_result"
    }
   ],
   "source": [
    "scores24['test_precision'].mean()"
   ]
  },
  {
   "cell_type": "code",
   "execution_count": 14,
   "id": "e27593e1",
   "metadata": {},
   "outputs": [
    {
     "data": {
      "text/plain": [
       "0.7018060920158411"
      ]
     },
     "execution_count": 14,
     "metadata": {},
     "output_type": "execute_result"
    }
   ],
   "source": [
    "scores24['test_recall'].mean()"
   ]
  },
  {
   "cell_type": "code",
   "execution_count": 15,
   "id": "9230668c",
   "metadata": {},
   "outputs": [
    {
     "data": {
      "text/plain": [
       "0.43044041126428"
      ]
     },
     "execution_count": 15,
     "metadata": {},
     "output_type": "execute_result"
    }
   ],
   "source": [
    "scores24['test_f1'].mean()"
   ]
  },
  {
   "cell_type": "code",
   "execution_count": 16,
   "id": "00e05660",
   "metadata": {},
   "outputs": [
    {
     "data": {
      "text/plain": [
       "0.5387150969005406"
      ]
     },
     "execution_count": 16,
     "metadata": {},
     "output_type": "execute_result"
    }
   ],
   "source": [
    "scores24['test_roc_auc'].mean()"
   ]
  },
  {
   "cell_type": "code",
   "execution_count": 9,
   "id": "e7509aea",
   "metadata": {},
   "outputs": [],
   "source": [
    "p48 = Pipeline(steps=[('r', resample), ('m', best48)])\n",
    "\n",
    "scores48 = cross_validate(p48, X48, Y48, scoring = scoring, cv = 5)"
   ]
  },
  {
   "cell_type": "code",
   "execution_count": 17,
   "id": "c3361c6e",
   "metadata": {},
   "outputs": [
    {
     "data": {
      "text/plain": [
       "0.3376957532405138"
      ]
     },
     "execution_count": 17,
     "metadata": {},
     "output_type": "execute_result"
    }
   ],
   "source": [
    "scores48['test_accuracy'].mean()"
   ]
  },
  {
   "cell_type": "code",
   "execution_count": 18,
   "id": "5abd7d7b",
   "metadata": {},
   "outputs": [
    {
     "data": {
      "text/plain": [
       "0.23987167209929067"
      ]
     },
     "execution_count": 18,
     "metadata": {},
     "output_type": "execute_result"
    }
   ],
   "source": [
    "scores48['test_precision'].mean()"
   ]
  },
  {
   "cell_type": "code",
   "execution_count": 19,
   "id": "1697fd49",
   "metadata": {},
   "outputs": [
    {
     "data": {
      "text/plain": [
       "0.8414427948627313"
      ]
     },
     "execution_count": 19,
     "metadata": {},
     "output_type": "execute_result"
    }
   ],
   "source": [
    "scores48['test_recall'].mean()"
   ]
  },
  {
   "cell_type": "code",
   "execution_count": 20,
   "id": "621f92cf",
   "metadata": {},
   "outputs": [
    {
     "data": {
      "text/plain": [
       "0.3728266075715385"
      ]
     },
     "execution_count": 20,
     "metadata": {},
     "output_type": "execute_result"
    }
   ],
   "source": [
    "scores48['test_f1'].mean()"
   ]
  },
  {
   "cell_type": "code",
   "execution_count": 21,
   "id": "7a3f5ec6",
   "metadata": {},
   "outputs": [
    {
     "data": {
      "text/plain": [
       "0.513102682566916"
      ]
     },
     "execution_count": 21,
     "metadata": {},
     "output_type": "execute_result"
    }
   ],
   "source": [
    "scores48['test_roc_auc'].mean()"
   ]
  },
  {
   "cell_type": "code",
   "execution_count": null,
   "id": "466f68ed",
   "metadata": {},
   "outputs": [],
   "source": []
  }
 ],
 "metadata": {
  "kernelspec": {
   "display_name": "Python 3",
   "language": "python",
   "name": "python3"
  },
  "language_info": {
   "codemirror_mode": {
    "name": "ipython",
    "version": 3
   },
   "file_extension": ".py",
   "mimetype": "text/x-python",
   "name": "python",
   "nbconvert_exporter": "python",
   "pygments_lexer": "ipython3",
   "version": "3.9.2"
  }
 },
 "nbformat": 4,
 "nbformat_minor": 5
}
