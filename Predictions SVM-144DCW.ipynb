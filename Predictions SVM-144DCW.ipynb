{
 "cells": [
  {
   "cell_type": "code",
   "execution_count": 1,
   "id": "9d881f41",
   "metadata": {},
   "outputs": [],
   "source": [
    "import numpy as np  # for handling multi-dimensional array operation\n",
    "import pandas as pd  # for reading data from csv \n",
    "import statsmodels.api as sm  # for finding the p-value\n",
    "from sklearn.preprocessing import MinMaxScaler  # for normalization\n",
    "from sklearn.model_selection import train_test_split as tts\n",
    "from sklearn.metrics import accuracy_score \n",
    "from sklearn.metrics import confusion_matrix\n",
    "from sklearn.metrics import roc_curve\n",
    "from sklearn.metrics import roc_auc_score\n",
    "from sklearn.metrics import f1_score\n",
    "from sklearn.metrics import precision_score\n",
    "from sklearn.metrics import recall_score\n",
    "from sklearn.metrics import classification_report\n",
    "from sklearn.metrics import precision_recall_curve\n",
    "from sklearn.utils import shuffle\n",
    "from sklearn import svm\n",
    "from numpy import mean\n",
    "from sklearn.model_selection import GridSearchCV\n",
    "from imblearn.pipeline import Pipeline\n",
    "from imblearn.pipeline import make_pipeline\n",
    "from imblearn.combine import SMOTETomek\n",
    "from imblearn.under_sampling import TomekLinks\n",
    "from sklearn.model_selection import cross_val_score\n",
    "from sklearn.model_selection import cross_validate\n",
    "from sklearn.model_selection import cross_val_predict\n",
    "from sklearn.metrics import plot_confusion_matrix\n",
    "from sklearn.model_selection import RepeatedStratifiedKFold"
   ]
  },
  {
   "cell_type": "markdown",
   "id": "c97d69f8",
   "metadata": {},
   "source": [
    "## DEMOGRAPHIC DATA"
   ]
  },
  {
   "cell_type": "code",
   "execution_count": 2,
   "id": "d4711f9f",
   "metadata": {},
   "outputs": [],
   "source": [
    "demo144 = pd.read_csv('./dem144.csv')\n",
    "\n",
    "#EXTRACT FEATURES AND LABELS\n",
    "Y144 = demo144['aki_flag'] \n",
    "X144 = demo144.iloc[:,2:] \n",
    "\n",
    "#TRANSFORM CATEGORICAL ATTRIBUTES INTO 0-1 VECTORS\n",
    "X144 = pd.get_dummies(X144)\n",
    "\n",
    "#NORMALIZATION WITH MIN-MAX SCALER 0-1\n",
    "scaler = MinMaxScaler()\n",
    "X144 = scaler.fit_transform(X144)\n",
    "\n",
    "#SPLIT DATASET INTO TRAINING AND TESTING SETS\n",
    "X_train144, X_test144, y_train144, y_test144 = tts(X144, Y144, test_size=0.3, random_state=42)"
   ]
  },
  {
   "cell_type": "code",
   "execution_count": 3,
   "id": "79641dfa",
   "metadata": {},
   "outputs": [],
   "source": [
    "#APPLY THE SMOTE TOMEK-LINKS TECHNIQUE TO COPE WITH CLASS IMBALANCE PROBLEM \n",
    "resample = SMOTETomek(tomek=TomekLinks(sampling_strategy='majority'))\n",
    "\n",
    "#DEFINE THE PARAMETERS TO BE TESTED IN THE GRID SEARCH\n",
    "params = [\n",
    "  {'C': [0.1, 0.5, 0.75, 1, 10 ], 'kernel': ['poly'], 'degree': [1,2,3,4,6]},\n",
    "  {'C': [0.1, 0.5, 0.75, 1, 10 ], 'kernel': ['rbf'], 'gamma': [0.5, 0.01, 0.1, 1, 10, 100]},\n",
    "] "
   ]
  },
  {
   "cell_type": "code",
   "execution_count": 4,
   "id": "013b997f",
   "metadata": {},
   "outputs": [],
   "source": [
    "gs144 = GridSearchCV(svm.SVC(), params, refit = True, verbose = 3)\n",
    "p144 = Pipeline(steps=[('r', resample), ('gs', gs144)])"
   ]
  },
  {
   "cell_type": "markdown",
   "id": "1a64075b",
   "metadata": {},
   "source": [
    "Now fit the grid search and extract the best parameters/estimator to be used fro the prediction "
   ]
  },
  {
   "cell_type": "code",
   "execution_count": 5,
   "id": "f793cb10",
   "metadata": {},
   "outputs": [
    {
     "name": "stdout",
     "output_type": "stream",
     "text": [
      "Fitting 5 folds for each of 55 candidates, totalling 275 fits\n",
      "[CV 1/5] END ......C=0.1, degree=1, kernel=poly;, score=0.750 total time=   0.2s\n",
      "[CV 2/5] END ......C=0.1, degree=1, kernel=poly;, score=0.750 total time=   0.2s\n",
      "[CV 3/5] END ......C=0.1, degree=1, kernel=poly;, score=0.755 total time=   0.2s\n",
      "[CV 4/5] END ......C=0.1, degree=1, kernel=poly;, score=0.748 total time=   0.2s\n",
      "[CV 5/5] END ......C=0.1, degree=1, kernel=poly;, score=0.748 total time=   0.2s\n",
      "[CV 1/5] END ......C=0.1, degree=2, kernel=poly;, score=0.750 total time=   0.2s\n",
      "[CV 2/5] END ......C=0.1, degree=2, kernel=poly;, score=0.750 total time=   0.2s\n",
      "[CV 3/5] END ......C=0.1, degree=2, kernel=poly;, score=0.755 total time=   0.2s\n",
      "[CV 4/5] END ......C=0.1, degree=2, kernel=poly;, score=0.748 total time=   0.2s\n",
      "[CV 5/5] END ......C=0.1, degree=2, kernel=poly;, score=0.748 total time=   0.2s\n",
      "[CV 1/5] END ......C=0.1, degree=3, kernel=poly;, score=0.750 total time=   0.2s\n",
      "[CV 2/5] END ......C=0.1, degree=3, kernel=poly;, score=0.750 total time=   0.2s\n",
      "[CV 3/5] END ......C=0.1, degree=3, kernel=poly;, score=0.755 total time=   0.2s\n",
      "[CV 4/5] END ......C=0.1, degree=3, kernel=poly;, score=0.748 total time=   0.2s\n",
      "[CV 5/5] END ......C=0.1, degree=3, kernel=poly;, score=0.748 total time=   0.2s\n",
      "[CV 1/5] END ......C=0.1, degree=4, kernel=poly;, score=0.750 total time=   0.3s\n",
      "[CV 2/5] END ......C=0.1, degree=4, kernel=poly;, score=0.750 total time=   0.2s\n",
      "[CV 3/5] END ......C=0.1, degree=4, kernel=poly;, score=0.755 total time=   0.2s\n",
      "[CV 4/5] END ......C=0.1, degree=4, kernel=poly;, score=0.748 total time=   0.3s\n",
      "[CV 5/5] END ......C=0.1, degree=4, kernel=poly;, score=0.748 total time=   0.3s\n",
      "[CV 1/5] END ......C=0.1, degree=6, kernel=poly;, score=0.750 total time=   0.3s\n",
      "[CV 2/5] END ......C=0.1, degree=6, kernel=poly;, score=0.750 total time=   0.2s\n",
      "[CV 3/5] END ......C=0.1, degree=6, kernel=poly;, score=0.755 total time=   0.2s\n",
      "[CV 4/5] END ......C=0.1, degree=6, kernel=poly;, score=0.748 total time=   0.2s\n",
      "[CV 5/5] END ......C=0.1, degree=6, kernel=poly;, score=0.748 total time=   0.2s\n",
      "[CV 1/5] END ......C=0.5, degree=1, kernel=poly;, score=0.750 total time=   0.2s\n",
      "[CV 2/5] END ......C=0.5, degree=1, kernel=poly;, score=0.750 total time=   0.2s\n",
      "[CV 3/5] END ......C=0.5, degree=1, kernel=poly;, score=0.755 total time=   0.2s\n",
      "[CV 4/5] END ......C=0.5, degree=1, kernel=poly;, score=0.748 total time=   0.2s\n",
      "[CV 5/5] END ......C=0.5, degree=1, kernel=poly;, score=0.748 total time=   0.2s\n",
      "[CV 1/5] END ......C=0.5, degree=2, kernel=poly;, score=0.750 total time=   0.2s\n",
      "[CV 2/5] END ......C=0.5, degree=2, kernel=poly;, score=0.750 total time=   0.2s\n",
      "[CV 3/5] END ......C=0.5, degree=2, kernel=poly;, score=0.755 total time=   0.3s\n",
      "[CV 4/5] END ......C=0.5, degree=2, kernel=poly;, score=0.748 total time=   0.2s\n",
      "[CV 5/5] END ......C=0.5, degree=2, kernel=poly;, score=0.748 total time=   0.2s\n",
      "[CV 1/5] END ......C=0.5, degree=3, kernel=poly;, score=0.750 total time=   0.3s\n",
      "[CV 2/5] END ......C=0.5, degree=3, kernel=poly;, score=0.750 total time=   0.3s\n",
      "[CV 3/5] END ......C=0.5, degree=3, kernel=poly;, score=0.748 total time=   0.3s\n",
      "[CV 4/5] END ......C=0.5, degree=3, kernel=poly;, score=0.748 total time=   0.3s\n",
      "[CV 5/5] END ......C=0.5, degree=3, kernel=poly;, score=0.748 total time=   0.3s\n",
      "[CV 1/5] END ......C=0.5, degree=4, kernel=poly;, score=0.750 total time=   0.3s\n",
      "[CV 2/5] END ......C=0.5, degree=4, kernel=poly;, score=0.750 total time=   0.3s\n",
      "[CV 3/5] END ......C=0.5, degree=4, kernel=poly;, score=0.741 total time=   0.3s\n",
      "[CV 4/5] END ......C=0.5, degree=4, kernel=poly;, score=0.748 total time=   0.3s\n",
      "[CV 5/5] END ......C=0.5, degree=4, kernel=poly;, score=0.748 total time=   0.3s\n",
      "[CV 1/5] END ......C=0.5, degree=6, kernel=poly;, score=0.757 total time=   0.3s\n",
      "[CV 2/5] END ......C=0.5, degree=6, kernel=poly;, score=0.750 total time=   0.3s\n",
      "[CV 3/5] END ......C=0.5, degree=6, kernel=poly;, score=0.748 total time=   0.4s\n",
      "[CV 4/5] END ......C=0.5, degree=6, kernel=poly;, score=0.741 total time=   0.3s\n",
      "[CV 5/5] END ......C=0.5, degree=6, kernel=poly;, score=0.748 total time=   0.3s\n",
      "[CV 1/5] END .....C=0.75, degree=1, kernel=poly;, score=0.750 total time=   0.2s\n",
      "[CV 2/5] END .....C=0.75, degree=1, kernel=poly;, score=0.750 total time=   0.2s\n",
      "[CV 3/5] END .....C=0.75, degree=1, kernel=poly;, score=0.755 total time=   0.2s\n",
      "[CV 4/5] END .....C=0.75, degree=1, kernel=poly;, score=0.748 total time=   0.2s\n",
      "[CV 5/5] END .....C=0.75, degree=1, kernel=poly;, score=0.748 total time=   0.2s\n",
      "[CV 1/5] END .....C=0.75, degree=2, kernel=poly;, score=0.750 total time=   0.2s\n",
      "[CV 2/5] END .....C=0.75, degree=2, kernel=poly;, score=0.750 total time=   0.2s\n",
      "[CV 3/5] END .....C=0.75, degree=2, kernel=poly;, score=0.755 total time=   0.2s\n",
      "[CV 4/5] END .....C=0.75, degree=2, kernel=poly;, score=0.748 total time=   0.2s\n",
      "[CV 5/5] END .....C=0.75, degree=2, kernel=poly;, score=0.748 total time=   0.3s\n",
      "[CV 1/5] END .....C=0.75, degree=3, kernel=poly;, score=0.750 total time=   0.3s\n",
      "[CV 2/5] END .....C=0.75, degree=3, kernel=poly;, score=0.750 total time=   0.3s\n",
      "[CV 3/5] END .....C=0.75, degree=3, kernel=poly;, score=0.741 total time=   0.3s\n",
      "[CV 4/5] END .....C=0.75, degree=3, kernel=poly;, score=0.748 total time=   0.3s\n",
      "[CV 5/5] END .....C=0.75, degree=3, kernel=poly;, score=0.748 total time=   0.3s\n",
      "[CV 1/5] END .....C=0.75, degree=4, kernel=poly;, score=0.757 total time=   0.3s\n",
      "[CV 2/5] END .....C=0.75, degree=4, kernel=poly;, score=0.750 total time=   0.3s\n",
      "[CV 3/5] END .....C=0.75, degree=4, kernel=poly;, score=0.741 total time=   0.4s\n",
      "[CV 4/5] END .....C=0.75, degree=4, kernel=poly;, score=0.748 total time=   0.3s\n",
      "[CV 5/5] END .....C=0.75, degree=4, kernel=poly;, score=0.755 total time=   0.4s\n",
      "[CV 1/5] END .....C=0.75, degree=6, kernel=poly;, score=0.750 total time=   0.3s\n",
      "[CV 2/5] END .....C=0.75, degree=6, kernel=poly;, score=0.750 total time=   0.3s\n",
      "[CV 3/5] END .....C=0.75, degree=6, kernel=poly;, score=0.748 total time=   0.5s\n",
      "[CV 4/5] END .....C=0.75, degree=6, kernel=poly;, score=0.748 total time=   0.3s\n",
      "[CV 5/5] END .....C=0.75, degree=6, kernel=poly;, score=0.755 total time=   0.4s\n",
      "[CV 1/5] END ........C=1, degree=1, kernel=poly;, score=0.750 total time=   0.2s\n",
      "[CV 2/5] END ........C=1, degree=1, kernel=poly;, score=0.750 total time=   0.2s\n",
      "[CV 3/5] END ........C=1, degree=1, kernel=poly;, score=0.755 total time=   0.2s\n",
      "[CV 4/5] END ........C=1, degree=1, kernel=poly;, score=0.748 total time=   0.2s\n",
      "[CV 5/5] END ........C=1, degree=1, kernel=poly;, score=0.748 total time=   0.2s\n",
      "[CV 1/5] END ........C=1, degree=2, kernel=poly;, score=0.750 total time=   0.2s\n",
      "[CV 2/5] END ........C=1, degree=2, kernel=poly;, score=0.750 total time=   0.2s\n",
      "[CV 3/5] END ........C=1, degree=2, kernel=poly;, score=0.755 total time=   0.3s\n",
      "[CV 4/5] END ........C=1, degree=2, kernel=poly;, score=0.748 total time=   0.3s\n",
      "[CV 5/5] END ........C=1, degree=2, kernel=poly;, score=0.748 total time=   0.3s\n",
      "[CV 1/5] END ........C=1, degree=3, kernel=poly;, score=0.750 total time=   0.3s\n",
      "[CV 2/5] END ........C=1, degree=3, kernel=poly;, score=0.750 total time=   0.3s\n",
      "[CV 3/5] END ........C=1, degree=3, kernel=poly;, score=0.734 total time=   0.3s\n",
      "[CV 4/5] END ........C=1, degree=3, kernel=poly;, score=0.748 total time=   0.3s\n",
      "[CV 5/5] END ........C=1, degree=3, kernel=poly;, score=0.755 total time=   0.3s\n",
      "[CV 1/5] END ........C=1, degree=4, kernel=poly;, score=0.757 total time=   0.3s\n",
      "[CV 2/5] END ........C=1, degree=4, kernel=poly;, score=0.750 total time=   0.3s\n",
      "[CV 3/5] END ........C=1, degree=4, kernel=poly;, score=0.734 total time=   0.5s\n",
      "[CV 4/5] END ........C=1, degree=4, kernel=poly;, score=0.748 total time=   0.3s\n",
      "[CV 5/5] END ........C=1, degree=4, kernel=poly;, score=0.755 total time=   0.4s\n",
      "[CV 1/5] END ........C=1, degree=6, kernel=poly;, score=0.757 total time=   0.3s\n",
      "[CV 2/5] END ........C=1, degree=6, kernel=poly;, score=0.764 total time=   0.4s\n",
      "[CV 3/5] END ........C=1, degree=6, kernel=poly;, score=0.741 total time=   0.5s\n",
      "[CV 4/5] END ........C=1, degree=6, kernel=poly;, score=0.748 total time=   0.5s\n",
      "[CV 5/5] END ........C=1, degree=6, kernel=poly;, score=0.748 total time=   0.5s\n",
      "[CV 1/5] END .......C=10, degree=1, kernel=poly;, score=0.743 total time=   0.2s\n"
     ]
    },
    {
     "name": "stdout",
     "output_type": "stream",
     "text": [
      "[CV 2/5] END .......C=10, degree=1, kernel=poly;, score=0.750 total time=   0.2s\n",
      "[CV 3/5] END .......C=10, degree=1, kernel=poly;, score=0.748 total time=   0.2s\n",
      "[CV 4/5] END .......C=10, degree=1, kernel=poly;, score=0.741 total time=   0.2s\n",
      "[CV 5/5] END .......C=10, degree=1, kernel=poly;, score=0.748 total time=   0.2s\n",
      "[CV 1/5] END .......C=10, degree=2, kernel=poly;, score=0.757 total time=   0.3s\n",
      "[CV 2/5] END .......C=10, degree=2, kernel=poly;, score=0.757 total time=   0.3s\n",
      "[CV 3/5] END .......C=10, degree=2, kernel=poly;, score=0.741 total time=   0.3s\n",
      "[CV 4/5] END .......C=10, degree=2, kernel=poly;, score=0.755 total time=   0.3s\n",
      "[CV 5/5] END .......C=10, degree=2, kernel=poly;, score=0.748 total time=   0.3s\n",
      "[CV 1/5] END .......C=10, degree=3, kernel=poly;, score=0.750 total time=   0.5s\n",
      "[CV 2/5] END .......C=10, degree=3, kernel=poly;, score=0.757 total time=   0.3s\n",
      "[CV 3/5] END .......C=10, degree=3, kernel=poly;, score=0.727 total time=   0.4s\n",
      "[CV 4/5] END .......C=10, degree=3, kernel=poly;, score=0.755 total time=   0.5s\n",
      "[CV 5/5] END .......C=10, degree=3, kernel=poly;, score=0.748 total time=   0.4s\n",
      "[CV 1/5] END .......C=10, degree=4, kernel=poly;, score=0.750 total time=   0.7s\n",
      "[CV 2/5] END .......C=10, degree=4, kernel=poly;, score=0.771 total time=   0.7s\n",
      "[CV 3/5] END .......C=10, degree=4, kernel=poly;, score=0.727 total time=   1.3s\n",
      "[CV 4/5] END .......C=10, degree=4, kernel=poly;, score=0.762 total time=   1.1s\n",
      "[CV 5/5] END .......C=10, degree=4, kernel=poly;, score=0.748 total time=   0.9s\n",
      "[CV 1/5] END .......C=10, degree=6, kernel=poly;, score=0.743 total time=   1.4s\n",
      "[CV 2/5] END .......C=10, degree=6, kernel=poly;, score=0.771 total time=   1.2s\n",
      "[CV 3/5] END .......C=10, degree=6, kernel=poly;, score=0.720 total time=   3.3s\n",
      "[CV 4/5] END .......C=10, degree=6, kernel=poly;, score=0.755 total time=   1.1s\n",
      "[CV 5/5] END .......C=10, degree=6, kernel=poly;, score=0.748 total time=   1.0s\n",
      "[CV 1/5] END ......C=0.1, gamma=0.5, kernel=rbf;, score=0.750 total time=   0.3s\n",
      "[CV 2/5] END ......C=0.1, gamma=0.5, kernel=rbf;, score=0.750 total time=   0.3s\n",
      "[CV 3/5] END ......C=0.1, gamma=0.5, kernel=rbf;, score=0.755 total time=   0.3s\n",
      "[CV 4/5] END ......C=0.1, gamma=0.5, kernel=rbf;, score=0.748 total time=   0.3s\n",
      "[CV 5/5] END ......C=0.1, gamma=0.5, kernel=rbf;, score=0.748 total time=   0.3s\n",
      "[CV 1/5] END .....C=0.1, gamma=0.01, kernel=rbf;, score=0.750 total time=   0.3s\n",
      "[CV 2/5] END .....C=0.1, gamma=0.01, kernel=rbf;, score=0.750 total time=   0.3s\n",
      "[CV 3/5] END .....C=0.1, gamma=0.01, kernel=rbf;, score=0.755 total time=   0.3s\n",
      "[CV 4/5] END .....C=0.1, gamma=0.01, kernel=rbf;, score=0.748 total time=   0.3s\n",
      "[CV 5/5] END .....C=0.1, gamma=0.01, kernel=rbf;, score=0.748 total time=   0.3s\n",
      "[CV 1/5] END ......C=0.1, gamma=0.1, kernel=rbf;, score=0.750 total time=   0.3s\n",
      "[CV 2/5] END ......C=0.1, gamma=0.1, kernel=rbf;, score=0.750 total time=   0.3s\n",
      "[CV 3/5] END ......C=0.1, gamma=0.1, kernel=rbf;, score=0.755 total time=   0.3s\n",
      "[CV 4/5] END ......C=0.1, gamma=0.1, kernel=rbf;, score=0.748 total time=   0.3s\n",
      "[CV 5/5] END ......C=0.1, gamma=0.1, kernel=rbf;, score=0.748 total time=   0.3s\n",
      "[CV 1/5] END ........C=0.1, gamma=1, kernel=rbf;, score=0.750 total time=   0.3s\n",
      "[CV 2/5] END ........C=0.1, gamma=1, kernel=rbf;, score=0.750 total time=   0.3s\n",
      "[CV 3/5] END ........C=0.1, gamma=1, kernel=rbf;, score=0.755 total time=   0.3s\n",
      "[CV 4/5] END ........C=0.1, gamma=1, kernel=rbf;, score=0.748 total time=   0.3s\n",
      "[CV 5/5] END ........C=0.1, gamma=1, kernel=rbf;, score=0.748 total time=   0.3s\n",
      "[CV 1/5] END .......C=0.1, gamma=10, kernel=rbf;, score=0.750 total time=   0.3s\n",
      "[CV 2/5] END .......C=0.1, gamma=10, kernel=rbf;, score=0.750 total time=   0.3s\n",
      "[CV 3/5] END .......C=0.1, gamma=10, kernel=rbf;, score=0.755 total time=   0.3s\n",
      "[CV 4/5] END .......C=0.1, gamma=10, kernel=rbf;, score=0.748 total time=   0.3s\n",
      "[CV 5/5] END .......C=0.1, gamma=10, kernel=rbf;, score=0.748 total time=   0.3s\n",
      "[CV 1/5] END ......C=0.1, gamma=100, kernel=rbf;, score=0.750 total time=   0.3s\n",
      "[CV 2/5] END ......C=0.1, gamma=100, kernel=rbf;, score=0.750 total time=   0.4s\n",
      "[CV 3/5] END ......C=0.1, gamma=100, kernel=rbf;, score=0.755 total time=   0.4s\n",
      "[CV 4/5] END ......C=0.1, gamma=100, kernel=rbf;, score=0.748 total time=   0.3s\n",
      "[CV 5/5] END ......C=0.1, gamma=100, kernel=rbf;, score=0.748 total time=   0.3s\n",
      "[CV 1/5] END ......C=0.5, gamma=0.5, kernel=rbf;, score=0.750 total time=   0.3s\n",
      "[CV 2/5] END ......C=0.5, gamma=0.5, kernel=rbf;, score=0.750 total time=   0.3s\n",
      "[CV 3/5] END ......C=0.5, gamma=0.5, kernel=rbf;, score=0.755 total time=   0.3s\n",
      "[CV 4/5] END ......C=0.5, gamma=0.5, kernel=rbf;, score=0.748 total time=   0.3s\n",
      "[CV 5/5] END ......C=0.5, gamma=0.5, kernel=rbf;, score=0.748 total time=   0.3s\n",
      "[CV 1/5] END .....C=0.5, gamma=0.01, kernel=rbf;, score=0.750 total time=   0.3s\n",
      "[CV 2/5] END .....C=0.5, gamma=0.01, kernel=rbf;, score=0.750 total time=   0.3s\n",
      "[CV 3/5] END .....C=0.5, gamma=0.01, kernel=rbf;, score=0.755 total time=   0.3s\n",
      "[CV 4/5] END .....C=0.5, gamma=0.01, kernel=rbf;, score=0.748 total time=   0.3s\n",
      "[CV 5/5] END .....C=0.5, gamma=0.01, kernel=rbf;, score=0.748 total time=   0.3s\n",
      "[CV 1/5] END ......C=0.5, gamma=0.1, kernel=rbf;, score=0.750 total time=   0.3s\n",
      "[CV 2/5] END ......C=0.5, gamma=0.1, kernel=rbf;, score=0.750 total time=   0.3s\n",
      "[CV 3/5] END ......C=0.5, gamma=0.1, kernel=rbf;, score=0.755 total time=   0.3s\n",
      "[CV 4/5] END ......C=0.5, gamma=0.1, kernel=rbf;, score=0.748 total time=   0.3s\n",
      "[CV 5/5] END ......C=0.5, gamma=0.1, kernel=rbf;, score=0.748 total time=   0.3s\n",
      "[CV 1/5] END ........C=0.5, gamma=1, kernel=rbf;, score=0.750 total time=   0.3s\n",
      "[CV 2/5] END ........C=0.5, gamma=1, kernel=rbf;, score=0.750 total time=   0.4s\n",
      "[CV 3/5] END ........C=0.5, gamma=1, kernel=rbf;, score=0.755 total time=   0.4s\n",
      "[CV 4/5] END ........C=0.5, gamma=1, kernel=rbf;, score=0.748 total time=   0.3s\n",
      "[CV 5/5] END ........C=0.5, gamma=1, kernel=rbf;, score=0.748 total time=   0.3s\n",
      "[CV 1/5] END .......C=0.5, gamma=10, kernel=rbf;, score=0.750 total time=   0.4s\n",
      "[CV 2/5] END .......C=0.5, gamma=10, kernel=rbf;, score=0.750 total time=   0.4s\n",
      "[CV 3/5] END .......C=0.5, gamma=10, kernel=rbf;, score=0.748 total time=   0.4s\n",
      "[CV 4/5] END .......C=0.5, gamma=10, kernel=rbf;, score=0.748 total time=   0.4s\n",
      "[CV 5/5] END .......C=0.5, gamma=10, kernel=rbf;, score=0.741 total time=   0.4s\n",
      "[CV 1/5] END ......C=0.5, gamma=100, kernel=rbf;, score=0.750 total time=   0.4s\n",
      "[CV 2/5] END ......C=0.5, gamma=100, kernel=rbf;, score=0.743 total time=   0.5s\n",
      "[CV 3/5] END ......C=0.5, gamma=100, kernel=rbf;, score=0.748 total time=   0.4s\n",
      "[CV 4/5] END ......C=0.5, gamma=100, kernel=rbf;, score=0.748 total time=   0.4s\n",
      "[CV 5/5] END ......C=0.5, gamma=100, kernel=rbf;, score=0.741 total time=   0.4s\n",
      "[CV 1/5] END .....C=0.75, gamma=0.5, kernel=rbf;, score=0.750 total time=   0.3s\n",
      "[CV 2/5] END .....C=0.75, gamma=0.5, kernel=rbf;, score=0.750 total time=   0.3s\n",
      "[CV 3/5] END .....C=0.75, gamma=0.5, kernel=rbf;, score=0.755 total time=   0.3s\n",
      "[CV 4/5] END .....C=0.75, gamma=0.5, kernel=rbf;, score=0.748 total time=   0.3s\n",
      "[CV 5/5] END .....C=0.75, gamma=0.5, kernel=rbf;, score=0.748 total time=   0.3s\n",
      "[CV 1/5] END ....C=0.75, gamma=0.01, kernel=rbf;, score=0.750 total time=   0.3s\n",
      "[CV 2/5] END ....C=0.75, gamma=0.01, kernel=rbf;, score=0.750 total time=   0.3s\n",
      "[CV 3/5] END ....C=0.75, gamma=0.01, kernel=rbf;, score=0.755 total time=   0.3s\n",
      "[CV 4/5] END ....C=0.75, gamma=0.01, kernel=rbf;, score=0.748 total time=   0.3s\n",
      "[CV 5/5] END ....C=0.75, gamma=0.01, kernel=rbf;, score=0.748 total time=   0.3s\n",
      "[CV 1/5] END .....C=0.75, gamma=0.1, kernel=rbf;, score=0.750 total time=   0.3s\n",
      "[CV 2/5] END .....C=0.75, gamma=0.1, kernel=rbf;, score=0.750 total time=   0.3s\n",
      "[CV 3/5] END .....C=0.75, gamma=0.1, kernel=rbf;, score=0.755 total time=   0.3s\n",
      "[CV 4/5] END .....C=0.75, gamma=0.1, kernel=rbf;, score=0.748 total time=   0.3s\n",
      "[CV 5/5] END .....C=0.75, gamma=0.1, kernel=rbf;, score=0.748 total time=   0.3s\n",
      "[CV 1/5] END .......C=0.75, gamma=1, kernel=rbf;, score=0.750 total time=   0.4s\n",
      "[CV 2/5] END .......C=0.75, gamma=1, kernel=rbf;, score=0.750 total time=   0.4s\n",
      "[CV 3/5] END .......C=0.75, gamma=1, kernel=rbf;, score=0.748 total time=   0.4s\n"
     ]
    },
    {
     "name": "stdout",
     "output_type": "stream",
     "text": [
      "[CV 4/5] END .......C=0.75, gamma=1, kernel=rbf;, score=0.748 total time=   0.4s\n",
      "[CV 5/5] END .......C=0.75, gamma=1, kernel=rbf;, score=0.748 total time=   0.4s\n",
      "[CV 1/5] END ......C=0.75, gamma=10, kernel=rbf;, score=0.764 total time=   0.4s\n",
      "[CV 2/5] END ......C=0.75, gamma=10, kernel=rbf;, score=0.757 total time=   0.4s\n",
      "[CV 3/5] END ......C=0.75, gamma=10, kernel=rbf;, score=0.741 total time=   0.4s\n",
      "[CV 4/5] END ......C=0.75, gamma=10, kernel=rbf;, score=0.755 total time=   0.4s\n",
      "[CV 5/5] END ......C=0.75, gamma=10, kernel=rbf;, score=0.741 total time=   0.4s\n",
      "[CV 1/5] END .....C=0.75, gamma=100, kernel=rbf;, score=0.750 total time=   0.5s\n",
      "[CV 2/5] END .....C=0.75, gamma=100, kernel=rbf;, score=0.743 total time=   0.5s\n",
      "[CV 3/5] END .....C=0.75, gamma=100, kernel=rbf;, score=0.727 total time=   0.4s\n",
      "[CV 4/5] END .....C=0.75, gamma=100, kernel=rbf;, score=0.748 total time=   0.5s\n",
      "[CV 5/5] END .....C=0.75, gamma=100, kernel=rbf;, score=0.734 total time=   0.5s\n",
      "[CV 1/5] END ........C=1, gamma=0.5, kernel=rbf;, score=0.750 total time=   0.3s\n",
      "[CV 2/5] END ........C=1, gamma=0.5, kernel=rbf;, score=0.750 total time=   0.3s\n",
      "[CV 3/5] END ........C=1, gamma=0.5, kernel=rbf;, score=0.755 total time=   0.4s\n",
      "[CV 4/5] END ........C=1, gamma=0.5, kernel=rbf;, score=0.748 total time=   0.3s\n",
      "[CV 5/5] END ........C=1, gamma=0.5, kernel=rbf;, score=0.748 total time=   0.3s\n",
      "[CV 1/5] END .......C=1, gamma=0.01, kernel=rbf;, score=0.750 total time=   0.3s\n",
      "[CV 2/5] END .......C=1, gamma=0.01, kernel=rbf;, score=0.750 total time=   0.3s\n",
      "[CV 3/5] END .......C=1, gamma=0.01, kernel=rbf;, score=0.755 total time=   0.3s\n",
      "[CV 4/5] END .......C=1, gamma=0.01, kernel=rbf;, score=0.748 total time=   0.3s\n",
      "[CV 5/5] END .......C=1, gamma=0.01, kernel=rbf;, score=0.748 total time=   0.3s\n",
      "[CV 1/5] END ........C=1, gamma=0.1, kernel=rbf;, score=0.750 total time=   0.3s\n",
      "[CV 2/5] END ........C=1, gamma=0.1, kernel=rbf;, score=0.750 total time=   0.3s\n",
      "[CV 3/5] END ........C=1, gamma=0.1, kernel=rbf;, score=0.755 total time=   0.3s\n",
      "[CV 4/5] END ........C=1, gamma=0.1, kernel=rbf;, score=0.748 total time=   0.3s\n",
      "[CV 5/5] END ........C=1, gamma=0.1, kernel=rbf;, score=0.748 total time=   0.3s\n",
      "[CV 1/5] END ..........C=1, gamma=1, kernel=rbf;, score=0.750 total time=   0.4s\n",
      "[CV 2/5] END ..........C=1, gamma=1, kernel=rbf;, score=0.750 total time=   0.4s\n",
      "[CV 3/5] END ..........C=1, gamma=1, kernel=rbf;, score=0.741 total time=   0.4s\n",
      "[CV 4/5] END ..........C=1, gamma=1, kernel=rbf;, score=0.748 total time=   0.4s\n",
      "[CV 5/5] END ..........C=1, gamma=1, kernel=rbf;, score=0.741 total time=   0.4s\n",
      "[CV 1/5] END .........C=1, gamma=10, kernel=rbf;, score=0.764 total time=   0.4s\n",
      "[CV 2/5] END .........C=1, gamma=10, kernel=rbf;, score=0.757 total time=   0.4s\n",
      "[CV 3/5] END .........C=1, gamma=10, kernel=rbf;, score=0.741 total time=   0.4s\n",
      "[CV 4/5] END .........C=1, gamma=10, kernel=rbf;, score=0.755 total time=   0.5s\n",
      "[CV 5/5] END .........C=1, gamma=10, kernel=rbf;, score=0.741 total time=   0.4s\n",
      "[CV 1/5] END ........C=1, gamma=100, kernel=rbf;, score=0.743 total time=   0.5s\n",
      "[CV 2/5] END ........C=1, gamma=100, kernel=rbf;, score=0.722 total time=   0.5s\n",
      "[CV 3/5] END ........C=1, gamma=100, kernel=rbf;, score=0.734 total time=   0.4s\n",
      "[CV 4/5] END ........C=1, gamma=100, kernel=rbf;, score=0.748 total time=   0.5s\n",
      "[CV 5/5] END ........C=1, gamma=100, kernel=rbf;, score=0.734 total time=   0.4s\n",
      "[CV 1/5] END .......C=10, gamma=0.5, kernel=rbf;, score=0.757 total time=   0.5s\n",
      "[CV 2/5] END .......C=10, gamma=0.5, kernel=rbf;, score=0.757 total time=   0.6s\n",
      "[CV 3/5] END .......C=10, gamma=0.5, kernel=rbf;, score=0.727 total time=   0.6s\n",
      "[CV 4/5] END .......C=10, gamma=0.5, kernel=rbf;, score=0.762 total time=   0.7s\n",
      "[CV 5/5] END .......C=10, gamma=0.5, kernel=rbf;, score=0.748 total time=   0.4s\n",
      "[CV 1/5] END ......C=10, gamma=0.01, kernel=rbf;, score=0.750 total time=   0.4s\n",
      "[CV 2/5] END ......C=10, gamma=0.01, kernel=rbf;, score=0.750 total time=   0.4s\n",
      "[CV 3/5] END ......C=10, gamma=0.01, kernel=rbf;, score=0.755 total time=   0.4s\n",
      "[CV 4/5] END ......C=10, gamma=0.01, kernel=rbf;, score=0.748 total time=   0.4s\n",
      "[CV 5/5] END ......C=10, gamma=0.01, kernel=rbf;, score=0.748 total time=   0.4s\n",
      "[CV 1/5] END .......C=10, gamma=0.1, kernel=rbf;, score=0.750 total time=   0.4s\n",
      "[CV 2/5] END .......C=10, gamma=0.1, kernel=rbf;, score=0.750 total time=   0.4s\n",
      "[CV 3/5] END .......C=10, gamma=0.1, kernel=rbf;, score=0.755 total time=   0.4s\n",
      "[CV 4/5] END .......C=10, gamma=0.1, kernel=rbf;, score=0.741 total time=   0.4s\n",
      "[CV 5/5] END .......C=10, gamma=0.1, kernel=rbf;, score=0.748 total time=   0.4s\n",
      "[CV 1/5] END .........C=10, gamma=1, kernel=rbf;, score=0.757 total time=   0.5s\n",
      "[CV 2/5] END .........C=10, gamma=1, kernel=rbf;, score=0.757 total time=   0.7s\n",
      "[CV 3/5] END .........C=10, gamma=1, kernel=rbf;, score=0.727 total time=   0.7s\n",
      "[CV 4/5] END .........C=10, gamma=1, kernel=rbf;, score=0.762 total time=   0.5s\n",
      "[CV 5/5] END .........C=10, gamma=1, kernel=rbf;, score=0.748 total time=   0.5s\n",
      "[CV 1/5] END ........C=10, gamma=10, kernel=rbf;, score=0.757 total time=   0.7s\n",
      "[CV 2/5] END ........C=10, gamma=10, kernel=rbf;, score=0.764 total time=   0.7s\n",
      "[CV 3/5] END ........C=10, gamma=10, kernel=rbf;, score=0.713 total time=   0.9s\n",
      "[CV 4/5] END ........C=10, gamma=10, kernel=rbf;, score=0.734 total time=   0.8s\n",
      "[CV 5/5] END ........C=10, gamma=10, kernel=rbf;, score=0.748 total time=   0.8s\n",
      "[CV 1/5] END .......C=10, gamma=100, kernel=rbf;, score=0.736 total time=   1.3s\n",
      "[CV 2/5] END .......C=10, gamma=100, kernel=rbf;, score=0.722 total time=   1.5s\n",
      "[CV 3/5] END .......C=10, gamma=100, kernel=rbf;, score=0.720 total time=   1.4s\n",
      "[CV 4/5] END .......C=10, gamma=100, kernel=rbf;, score=0.734 total time=   1.5s\n",
      "[CV 5/5] END .......C=10, gamma=100, kernel=rbf;, score=0.699 total time=   0.8s\n"
     ]
    },
    {
     "data": {
      "text/plain": [
       "GridSearchCV(estimator=SVC(),\n",
       "             param_grid=[{'C': [0.1, 0.5, 0.75, 1, 10],\n",
       "                          'degree': [1, 2, 3, 4, 6], 'kernel': ['poly']},\n",
       "                         {'C': [0.1, 0.5, 0.75, 1, 10],\n",
       "                          'gamma': [0.5, 0.01, 0.1, 1, 10, 100],\n",
       "                          'kernel': ['rbf']}],\n",
       "             verbose=3)"
      ]
     },
     "execution_count": 5,
     "metadata": {},
     "output_type": "execute_result"
    }
   ],
   "source": [
    "gs144.fit(X_train144, y_train144)"
   ]
  },
  {
   "cell_type": "code",
   "execution_count": 6,
   "id": "19d8579f",
   "metadata": {},
   "outputs": [
    {
     "name": "stdout",
     "output_type": "stream",
     "text": [
      "The best parameters found for the 24h DCW:\n",
      "{'C': 10, 'degree': 2, 'kernel': 'poly'}\n",
      "The best estimator found for the 24h DCW:\n",
      "SVC(C=10, degree=2, kernel='poly')\n"
     ]
    }
   ],
   "source": [
    "print(\"The best parameters found for the 24h DCW:\")\n",
    "print(gs144.best_params_)\n",
    "  \n",
    "#PRINT HOW OUR MODEL LOOKS AFTER HYPER-PARAMETER TUNING\n",
    "print(\"The best estimator found for the 24h DCW:\")\n",
    "print(gs144.best_estimator_)"
   ]
  },
  {
   "cell_type": "code",
   "execution_count": 7,
   "id": "093328ea",
   "metadata": {},
   "outputs": [],
   "source": [
    "best144 = svm.SVC(C = 10, kernel = 'poly', degree = 2)"
   ]
  },
  {
   "cell_type": "code",
   "execution_count": 8,
   "id": "fcb1f741",
   "metadata": {},
   "outputs": [
    {
     "data": {
      "text/plain": [
       "308"
      ]
     },
     "execution_count": 8,
     "metadata": {},
     "output_type": "execute_result"
    }
   ],
   "source": [
    "len(y_test144)"
   ]
  },
  {
   "cell_type": "code",
   "execution_count": 9,
   "id": "5f1ec112",
   "metadata": {},
   "outputs": [],
   "source": [
    "pred = gs144.predict(X_test144)"
   ]
  },
  {
   "cell_type": "code",
   "execution_count": 10,
   "id": "e29e64fe",
   "metadata": {},
   "outputs": [
    {
     "name": "stdout",
     "output_type": "stream",
     "text": [
      "              precision    recall  f1-score   support\n",
      "\n",
      "           0       0.72      0.98      0.83       222\n",
      "           1       0.29      0.02      0.04        86\n",
      "\n",
      "    accuracy                           0.71       308\n",
      "   macro avg       0.50      0.50      0.44       308\n",
      "weighted avg       0.60      0.71      0.61       308\n",
      "\n"
     ]
    }
   ],
   "source": [
    "#CLASSIFICATION REPORT \n",
    "print(classification_report(y_test144, pred))"
   ]
  },
  {
   "cell_type": "code",
   "execution_count": 11,
   "id": "e8b6d2da",
   "metadata": {},
   "outputs": [
    {
     "data": {
      "text/plain": [
       "array([0, 0, 0, ..., 0, 0, 0])"
      ]
     },
     "execution_count": 11,
     "metadata": {},
     "output_type": "execute_result"
    }
   ],
   "source": [
    "#APPLY THE FUNCTION CROSS_VAL_PREDICT TO PREDICT THE OUTPUT WITH THE BEST ESTIMATOR FOUND\n",
    "ypred144 = cross_val_predict(best144, X144, Y144, cv = 5)\n",
    "ypred144"
   ]
  },
  {
   "cell_type": "code",
   "execution_count": 12,
   "id": "03a76ece",
   "metadata": {},
   "outputs": [
    {
     "name": "stdout",
     "output_type": "stream",
     "text": [
      "0.7258536585365853\n"
     ]
    }
   ],
   "source": [
    "print(accuracy_score(Y144, ypred144))"
   ]
  },
  {
   "cell_type": "code",
   "execution_count": 13,
   "id": "d762c070",
   "metadata": {},
   "outputs": [
    {
     "name": "stdout",
     "output_type": "stream",
     "text": [
      "0.19230769230769232\n"
     ]
    }
   ],
   "source": [
    "print(precision_score(Y144, ypred144))"
   ]
  },
  {
   "cell_type": "code",
   "execution_count": 14,
   "id": "eca1b7df",
   "metadata": {},
   "outputs": [
    {
     "name": "stdout",
     "output_type": "stream",
     "text": [
      "0.018867924528301886\n"
     ]
    }
   ],
   "source": [
    "print(recall_score(Y144, ypred144))"
   ]
  },
  {
   "cell_type": "code",
   "execution_count": 15,
   "id": "00651db0",
   "metadata": {},
   "outputs": [
    {
     "name": "stdout",
     "output_type": "stream",
     "text": [
      "0.4956181727904667\n"
     ]
    }
   ],
   "source": [
    "print(roc_auc_score(Y144, ypred144))"
   ]
  },
  {
   "cell_type": "code",
   "execution_count": 16,
   "id": "17033326",
   "metadata": {},
   "outputs": [
    {
     "name": "stdout",
     "output_type": "stream",
     "text": [
      "0.03436426116838488\n"
     ]
    }
   ],
   "source": [
    "print(f1_score(Y144, ypred144))"
   ]
  },
  {
   "cell_type": "code",
   "execution_count": 17,
   "id": "b6bd08dd",
   "metadata": {},
   "outputs": [
    {
     "name": "stdout",
     "output_type": "stream",
     "text": [
      "              precision    recall  f1-score   support\n",
      "\n",
      "           0       0.74      0.97      0.84       760\n",
      "           1       0.19      0.02      0.03       265\n",
      "\n",
      "    accuracy                           0.73      1025\n",
      "   macro avg       0.47      0.50      0.44      1025\n",
      "weighted avg       0.60      0.73      0.63      1025\n",
      "\n"
     ]
    }
   ],
   "source": [
    "#CLASSIFICATION REPORT \n",
    "print(classification_report(Y144, ypred144))"
   ]
  },
  {
   "cell_type": "code",
   "execution_count": 18,
   "id": "8ceefb3e",
   "metadata": {},
   "outputs": [
    {
     "name": "stdout",
     "output_type": "stream",
     "text": [
      "[0.87125478 0.01622579 0.02128658 0.00928563 0.00489805 0.00797271\n",
      " 0.00099624 0.00089261 0.00236588 0.00186435 0.0130228  0.00102539\n",
      " 0.00162805 0.00115008 0.00357984 0.00180701 0.0045557  0.00428591\n",
      " 0.00523166 0.00254147 0.00884027 0.00664924 0.00770745 0.00093252]\n"
     ]
    }
   ],
   "source": [
    "import matplotlib.pyplot as plt\n",
    "from sklearn.ensemble import ExtraTreesClassifier\n",
    "\n",
    "model = ExtraTreesClassifier(n_estimators=3)\n",
    "model.fit(X144, Y144)\n",
    "print(model.feature_importances_)"
   ]
  },
  {
   "cell_type": "code",
   "execution_count": 31,
   "id": "ef30e1e2",
   "metadata": {},
   "outputs": [],
   "source": [
    "#columns_ = demo144.iloc[:,2:].columns"
   ]
  },
  {
   "cell_type": "code",
   "execution_count": 32,
   "id": "07398bb1",
   "metadata": {},
   "outputs": [],
   "source": [
    "#feat_importances = pd.Series(model.feature_importances_, index = columns_)\n",
    "#feat_importances.nlargest(3).plot(kind='barh')\n",
    "#plt.show()"
   ]
  },
  {
   "cell_type": "code",
   "execution_count": 28,
   "id": "6e6ebff3",
   "metadata": {},
   "outputs": [
    {
     "data": {
      "text/plain": [
       "RandomForestClassifier(random_state=0)"
      ]
     },
     "execution_count": 28,
     "metadata": {},
     "output_type": "execute_result"
    }
   ],
   "source": [
    "from sklearn.ensemble import RandomForestClassifier\n",
    "\n",
    "feature_names = [f'feature {i}' for i in range(X144.shape[1])]\n",
    "forest = RandomForestClassifier(random_state=0)\n",
    "forest.fit(X_train144, y_train144)"
   ]
  },
  {
   "cell_type": "code",
   "execution_count": 29,
   "id": "62522c34",
   "metadata": {},
   "outputs": [
    {
     "name": "stdout",
     "output_type": "stream",
     "text": [
      "Elapsed time to compute the importances: 0.068 seconds\n"
     ]
    }
   ],
   "source": [
    "import time\n",
    "import numpy as np\n",
    "\n",
    "start_time = time.time()\n",
    "importances = forest.feature_importances_\n",
    "std = np.std([\n",
    "    tree.feature_importances_ for tree in forest.estimators_], axis=0)\n",
    "elapsed_time = time.time() - start_time\n",
    "\n",
    "print(f\"Elapsed time to compute the importances: \"\n",
    "      f\"{elapsed_time:.3f} seconds\")"
   ]
  },
  {
   "cell_type": "code",
   "execution_count": 30,
   "id": "d019cc0d",
   "metadata": {},
   "outputs": [
    {
     "data": {
      "image/png": "[encoded data removed]",
      "text/plain": [
       "<Figure size 432x288 with 1 Axes>"
      ]
     },
     "metadata": {
      "needs_background": "light"
     },
     "output_type": "display_data"
    }
   ],
   "source": [
    "forest_importances = pd.Series(importances, index=feature_names)\n",
    "\n",
    "fig, ax = plt.subplots()\n",
    "forest_importances.plot.bar(yerr=std, ax=ax)\n",
    "ax.set_title(\"Feature importances using MDI\")\n",
    "ax.set_ylabel(\"Mean decrease in impurity\")\n",
    "fig.tight_layout()\n"
   ]
  },
  {
   "cell_type": "code",
   "execution_count": 36,
   "id": "bf4c5245",
   "metadata": {},
   "outputs": [
    {
     "name": "stdout",
     "output_type": "stream",
     "text": [
      "\u001b[33mWARNING: The directory '/home/jovyan/.cache/pip' or its parent directory is not owned or is not writable by the current user. The cache has been disabled. Check the permissions and owner of that directory. If executing pip with sudo, you should use sudo's -H flag.\u001b[0m\n",
      "Requirement already satisfied: matplotlib in /opt/conda/lib/python3.9/site-packages (3.4.1)\n",
      "Requirement already satisfied: pyparsing>=2.2.1 in /opt/conda/lib/python3.9/site-packages (from matplotlib) (2.4.7)\n",
      "Requirement already satisfied: numpy>=1.16 in /opt/conda/lib/python3.9/site-packages (from matplotlib) (1.20.2)\n",
      "Requirement already satisfied: kiwisolver>=1.0.1 in /opt/conda/lib/python3.9/site-packages (from matplotlib) (1.3.1)\n",
      "Requirement already satisfied: pillow>=6.2.0 in /opt/conda/lib/python3.9/site-packages (from matplotlib) (8.1.2)\n",
      "Requirement already satisfied: python-dateutil>=2.7 in /opt/conda/lib/python3.9/site-packages (from matplotlib) (2.8.1)\n",
      "Requirement already satisfied: cycler>=0.10 in /opt/conda/lib/python3.9/site-packages (from matplotlib) (0.10.0)\n",
      "Requirement already satisfied: six in /opt/conda/lib/python3.9/site-packages (from cycler>=0.10->matplotlib) (1.16.0)\n",
      "\u001b[33mWARNING: Running pip as root will break packages and permissions. You should install packages reliably by using venv: https://pip.pypa.io/warnings/venv\u001b[0m\n",
      "Note: you may need to restart the kernel to use updated packages.\n"
     ]
    }
   ],
   "source": [
    "pip install matplotlib"
   ]
  },
  {
   "cell_type": "markdown",
   "id": "7ef531ee",
   "metadata": {},
   "source": [
    "Another way to select features is the following:"
   ]
  },
  {
   "cell_type": "code",
   "execution_count": 37,
   "id": "39d4b478",
   "metadata": {},
   "outputs": [
    {
     "name": "stdout",
     "output_type": "stream",
     "text": [
      "Feature: 0, Score: 0.84015\n",
      "Feature: 1, Score: 0.01829\n",
      "Feature: 2, Score: 0.01511\n",
      "Feature: 3, Score: 0.01207\n",
      "Feature: 4, Score: 0.00393\n",
      "Feature: 5, Score: 0.00466\n",
      "Feature: 6, Score: 0.00127\n",
      "Feature: 7, Score: 0.00000\n",
      "Feature: 8, Score: 0.00971\n",
      "Feature: 9, Score: 0.00000\n",
      "Feature: 10, Score: 0.01780\n",
      "Feature: 11, Score: 0.00000\n",
      "Feature: 12, Score: 0.00428\n",
      "Feature: 13, Score: 0.00110\n",
      "Feature: 14, Score: 0.00678\n",
      "Feature: 15, Score: 0.00064\n",
      "Feature: 16, Score: 0.00457\n",
      "Feature: 17, Score: 0.00931\n",
      "Feature: 18, Score: 0.00563\n",
      "Feature: 19, Score: 0.00234\n",
      "Feature: 20, Score: 0.01038\n",
      "Feature: 21, Score: 0.01221\n",
      "Feature: 22, Score: 0.01979\n",
      "Feature: 23, Score: 0.00000\n"
     ]
    },
    {
     "ename": "NameError",
     "evalue": "name 'pyplot' is not defined",
     "output_type": "error",
     "traceback": [
      "\u001b[0;31m---------------------------------------------------------------------------\u001b[0m",
      "\u001b[0;31mNameError\u001b[0m                                 Traceback (most recent call last)",
      "\u001b[0;32m<ipython-input-37-ba23ff7a4d88>\u001b[0m in \u001b[0;36m<module>\u001b[0;34m\u001b[0m\n\u001b[1;32m      6\u001b[0m \u001b[0;34m\u001b[0m\u001b[0m\n\u001b[1;32m      7\u001b[0m \u001b[0;31m# plot feature importance\u001b[0m\u001b[0;34m\u001b[0m\u001b[0;34m\u001b[0m\u001b[0;34m\u001b[0m\u001b[0m\n\u001b[0;32m----> 8\u001b[0;31m \u001b[0mpyplot\u001b[0m\u001b[0;34m.\u001b[0m\u001b[0mbar\u001b[0m\u001b[0;34m(\u001b[0m\u001b[0;34m[\u001b[0m\u001b[0mx\u001b[0m \u001b[0;32mfor\u001b[0m \u001b[0mx\u001b[0m \u001b[0;32min\u001b[0m \u001b[0mrange\u001b[0m\u001b[0;34m(\u001b[0m\u001b[0mlen\u001b[0m\u001b[0;34m(\u001b[0m\u001b[0mimportances\u001b[0m\u001b[0;34m)\u001b[0m\u001b[0;34m)\u001b[0m\u001b[0;34m]\u001b[0m\u001b[0;34m,\u001b[0m \u001b[0mimportances\u001b[0m\u001b[0;34m)\u001b[0m\u001b[0;34m\u001b[0m\u001b[0;34m\u001b[0m\u001b[0m\n\u001b[0m\u001b[1;32m      9\u001b[0m \u001b[0mpyplot\u001b[0m\u001b[0;34m.\u001b[0m\u001b[0mshow\u001b[0m\u001b[0;34m(\u001b[0m\u001b[0;34m)\u001b[0m\u001b[0;34m\u001b[0m\u001b[0;34m\u001b[0m\u001b[0m\n",
      "\u001b[0;31mNameError\u001b[0m: name 'pyplot' is not defined"
     ]
    }
   ],
   "source": [
    "import matplotlib\n",
    "import matplotlib.pyplot as plt\n",
    "\n",
    "for i,v in enumerate(importances):\n",
    "    print('Feature: %0d, Score: %.5f' % (i,v))\n",
    "    \n",
    "# plot feature importance\n",
    "pyplot.bar([x for x in range(len(importances))], importances)\n",
    "pyplot.show()"
   ]
  },
  {
   "cell_type": "code",
   "execution_count": null,
   "id": "924a3a4f",
   "metadata": {},
   "outputs": [],
   "source": []
  }
 ],
 "metadata": {
  "kernelspec": {
   "display_name": "Python 3",
   "language": "python",
   "name": "python3"
  },
  "language_info": {
   "codemirror_mode": {
    "name": "ipython",
    "version": 3
   },
   "file_extension": ".py",
   "mimetype": "text/x-python",
   "name": "python",
   "nbconvert_exporter": "python",
   "pygments_lexer": "ipython3",
   "version": "3.9.2"
  }
 },
 "nbformat": 4,
 "nbformat_minor": 5
}
