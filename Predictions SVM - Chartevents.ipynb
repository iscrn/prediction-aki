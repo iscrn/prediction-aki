{
 "cells": [
  {
   "cell_type": "code",
   "execution_count": 1,
   "id": "75571103",
   "metadata": {},
   "outputs": [],
   "source": [
    "import numpy as np  # for handling multi-dimensional array operation\n",
    "import pandas as pd  # for reading data from csv \n",
    "import statsmodels.api as sm  # for finding the p-value\n",
    "from sklearn.preprocessing import MinMaxScaler  # for normalization\n",
    "from sklearn.model_selection import train_test_split as tts\n",
    "from sklearn.metrics import accuracy_score \n",
    "from sklearn.metrics import confusion_matrix\n",
    "from sklearn.metrics import roc_curve\n",
    "from sklearn.metrics import roc_auc_score\n",
    "from sklearn.metrics import precision_score\n",
    "from sklearn.metrics import recall_score\n",
    "from sklearn.metrics import classification_report\n",
    "from sklearn.metrics import precision_recall_curve\n",
    "from sklearn.utils import shuffle\n",
    "from sklearn import svm\n",
    "from numpy import mean\n",
    "from sklearn.model_selection import GridSearchCV\n",
    "from imblearn.pipeline import Pipeline\n",
    "from imblearn.pipeline import make_pipeline\n",
    "from imblearn.combine import SMOTETomek\n",
    "from imblearn.under_sampling import TomekLinks\n",
    "from sklearn.model_selection import cross_val_score\n",
    "from sklearn.model_selection import cross_validate\n",
    "from sklearn.model_selection import cross_val_predict\n",
    "from sklearn.metrics import plot_confusion_matrix\n",
    "from sklearn.model_selection import RepeatedStratifiedKFold"
   ]
  },
  {
   "cell_type": "markdown",
   "id": "e9e044f5",
   "metadata": {},
   "source": [
    "## CHART-EVENTS DATA"
   ]
  },
  {
   "cell_type": "code",
   "execution_count": 2,
   "id": "372476d6",
   "metadata": {},
   "outputs": [],
   "source": [
    "chart24 = pd.read_csv('./chart24.csv')\n",
    "\n",
    "#EXTRACT FEATURES AND LABELS\n",
    "Y24 = chart24['aki_flag'] \n",
    "X24 = chart24.iloc[:,2:] \n",
    "\n",
    "#FILL MISSING WITH MEAN IMPUTATION\n",
    "X24 = X24.fillna(X24.mean())\n",
    "\n",
    "#NORMALIZATION WITH MIN-MAX SCALER 0-1\n",
    "scaler = MinMaxScaler()\n",
    "X24 = scaler.fit_transform(X24)\n",
    "\n",
    "#SPLIT DATASET INTO TRAINING AND TESTING SETS\n",
    "X_train24, X_test24, y_train24, y_test24 = tts(X24, Y24, test_size=0.3, random_state=42)"
   ]
  },
  {
   "cell_type": "code",
   "execution_count": 3,
   "id": "44f10567",
   "metadata": {},
   "outputs": [],
   "source": [
    "chart48 = pd.read_csv('./chart48.csv')\n",
    "\n",
    "Y48 = chart48['aki_flag'] #all rows of 'aki_flag' as LABELS\n",
    "X48 = chart48.iloc[:,2:]  #features\n",
    "\n",
    "#FILL MISSING WITH MEAN IMPUTATION\n",
    "X48 = X48.fillna(X48.mean())\n",
    "\n",
    "#NORMALIZATION WITH MIN-MAX SCALER 0-1\n",
    "X48 = scaler.fit_transform(X48)\n",
    "\n",
    "#SPLIT DATASET INTO TRAINING AND TESTING SETS\n",
    "X_train48, X_test48, y_train48, y_test48 = tts(X48, Y48, test_size=0.3, random_state=42)"
   ]
  },
  {
   "cell_type": "code",
   "execution_count": 4,
   "id": "c343b258",
   "metadata": {},
   "outputs": [],
   "source": [
    "#APPLY THE SMOTE TOMEK-LINKS TECHNIQUE TO COPE WITH CLASS IMBALANCE PROBLEM \n",
    "resample = SMOTETomek(tomek=TomekLinks(sampling_strategy='majority'))\n",
    "\n",
    "#DEFINE THE PARAMETERS TO BE TESTED IN THE GRID SEARCH\n",
    "params = [\n",
    "  {'C': [0.1, 0.5, 0.75, 1, 10 ], 'kernel': ['poly'], 'degree': [1,2,3,4,6]},\n",
    "  {'C': [0.1, 0.5, 0.75, 1, 10 ], 'kernel': ['rbf'], 'gamma': [0.001, 0.01, 0.1, 1]},\n",
    "] "
   ]
  },
  {
   "cell_type": "code",
   "execution_count": 6,
   "id": "3b92b380",
   "metadata": {},
   "outputs": [],
   "source": [
    "gs24 = GridSearchCV(svm.SVC(), params, refit = True, verbose = 3)\n",
    "p24 = Pipeline(steps=[('r', resample), ('gs', gs24)])\n",
    "\n",
    "gs48 = GridSearchCV(svm.SVC(), params, refit = True, verbose = 3)\n",
    "p48 = Pipeline(steps=[('r', resample), ('gs', gs48)])"
   ]
  },
  {
   "cell_type": "markdown",
   "id": "bb18e860",
   "metadata": {},
   "source": [
    "Now fit the grid search and extract the best parameters/estimator to be used fro the prediction "
   ]
  },
  {
   "cell_type": "code",
   "execution_count": 6,
   "id": "91cb787f",
   "metadata": {},
   "outputs": [
    {
     "name": "stdout",
     "output_type": "stream",
     "text": [
      "Fitting 5 folds for each of 45 candidates, totalling 225 fits\n",
      "[CV 1/5] END ......C=0.1, degree=1, kernel=poly;, score=0.706 total time=  52.5s\n",
      "[CV 2/5] END ......C=0.1, degree=1, kernel=poly;, score=0.706 total time= 1.1min\n",
      "[CV 3/5] END ......C=0.1, degree=1, kernel=poly;, score=0.705 total time= 1.1min\n",
      "[CV 4/5] END ......C=0.1, degree=1, kernel=poly;, score=0.705 total time=  58.4s\n",
      "[CV 5/5] END ......C=0.1, degree=1, kernel=poly;, score=0.705 total time=  59.5s\n",
      "[CV 1/5] END ......C=0.1, degree=2, kernel=poly;, score=0.706 total time= 1.2min\n",
      "[CV 2/5] END ......C=0.1, degree=2, kernel=poly;, score=0.706 total time= 1.2min\n",
      "[CV 3/5] END ......C=0.1, degree=2, kernel=poly;, score=0.705 total time= 1.1min\n",
      "[CV 4/5] END ......C=0.1, degree=2, kernel=poly;, score=0.705 total time= 1.2min\n",
      "[CV 5/5] END ......C=0.1, degree=2, kernel=poly;, score=0.705 total time= 1.2min\n",
      "[CV 1/5] END ......C=0.1, degree=3, kernel=poly;, score=0.706 total time= 1.3min\n",
      "[CV 2/5] END ......C=0.1, degree=3, kernel=poly;, score=0.706 total time= 1.3min\n",
      "[CV 3/5] END ......C=0.1, degree=3, kernel=poly;, score=0.705 total time= 1.4min\n",
      "[CV 4/5] END ......C=0.1, degree=3, kernel=poly;, score=0.705 total time= 1.4min\n",
      "[CV 5/5] END ......C=0.1, degree=3, kernel=poly;, score=0.705 total time= 1.4min\n",
      "[CV 1/5] END ......C=0.1, degree=4, kernel=poly;, score=0.705 total time= 1.5min\n",
      "[CV 2/5] END ......C=0.1, degree=4, kernel=poly;, score=0.706 total time= 1.6min\n",
      "[CV 3/5] END ......C=0.1, degree=4, kernel=poly;, score=0.705 total time= 1.7min\n",
      "[CV 4/5] END ......C=0.1, degree=4, kernel=poly;, score=0.705 total time= 1.6min\n",
      "[CV 5/5] END ......C=0.1, degree=4, kernel=poly;, score=0.705 total time= 1.6min\n",
      "[CV 1/5] END ......C=0.1, degree=6, kernel=poly;, score=0.705 total time= 2.1min\n",
      "[CV 2/5] END ......C=0.1, degree=6, kernel=poly;, score=0.706 total time= 2.2min\n",
      "[CV 3/5] END ......C=0.1, degree=6, kernel=poly;, score=0.705 total time= 2.5min\n",
      "[CV 4/5] END ......C=0.1, degree=6, kernel=poly;, score=0.705 total time= 2.4min\n",
      "[CV 5/5] END ......C=0.1, degree=6, kernel=poly;, score=0.707 total time= 2.2min\n",
      "[CV 1/5] END ......C=0.5, degree=1, kernel=poly;, score=0.706 total time= 1.2min\n",
      "[CV 2/5] END ......C=0.5, degree=1, kernel=poly;, score=0.706 total time= 1.3min\n",
      "[CV 3/5] END ......C=0.5, degree=1, kernel=poly;, score=0.705 total time= 1.2min\n",
      "[CV 4/5] END ......C=0.5, degree=1, kernel=poly;, score=0.705 total time= 1.1min\n",
      "[CV 5/5] END ......C=0.5, degree=1, kernel=poly;, score=0.705 total time=  58.5s\n",
      "[CV 1/5] END ......C=0.5, degree=2, kernel=poly;, score=0.706 total time= 1.3min\n",
      "[CV 2/5] END ......C=0.5, degree=2, kernel=poly;, score=0.706 total time= 1.4min\n",
      "[CV 3/5] END ......C=0.5, degree=2, kernel=poly;, score=0.705 total time= 1.4min\n",
      "[CV 4/5] END ......C=0.5, degree=2, kernel=poly;, score=0.705 total time= 1.4min\n",
      "[CV 5/5] END ......C=0.5, degree=2, kernel=poly;, score=0.705 total time= 1.4min\n",
      "[CV 1/5] END ......C=0.5, degree=3, kernel=poly;, score=0.705 total time= 1.5min\n",
      "[CV 2/5] END ......C=0.5, degree=3, kernel=poly;, score=0.705 total time= 1.6min\n",
      "[CV 3/5] END ......C=0.5, degree=3, kernel=poly;, score=0.705 total time= 1.8min\n",
      "[CV 4/5] END ......C=0.5, degree=3, kernel=poly;, score=0.705 total time= 1.7min\n",
      "[CV 5/5] END ......C=0.5, degree=3, kernel=poly;, score=0.705 total time= 1.6min\n",
      "[CV 1/5] END ......C=0.5, degree=4, kernel=poly;, score=0.705 total time= 1.8min\n",
      "[CV 2/5] END ......C=0.5, degree=4, kernel=poly;, score=0.706 total time= 1.8min\n",
      "[CV 3/5] END ......C=0.5, degree=4, kernel=poly;, score=0.705 total time= 2.2min\n",
      "[CV 4/5] END ......C=0.5, degree=4, kernel=poly;, score=0.705 total time= 2.0min\n",
      "[CV 5/5] END ......C=0.5, degree=4, kernel=poly;, score=0.706 total time= 1.8min\n",
      "[CV 1/5] END ......C=0.5, degree=6, kernel=poly;, score=0.704 total time= 2.6min\n",
      "[CV 2/5] END ......C=0.5, degree=6, kernel=poly;, score=0.704 total time= 2.9min\n",
      "[CV 3/5] END ......C=0.5, degree=6, kernel=poly;, score=0.705 total time= 3.5min\n",
      "[CV 4/5] END ......C=0.5, degree=6, kernel=poly;, score=0.705 total time= 3.0min\n",
      "[CV 5/5] END ......C=0.5, degree=6, kernel=poly;, score=0.707 total time= 2.7min\n",
      "[CV 1/5] END .....C=0.75, degree=1, kernel=poly;, score=0.706 total time= 1.1min\n",
      "[CV 2/5] END .....C=0.75, degree=1, kernel=poly;, score=0.706 total time= 1.2min\n",
      "[CV 3/5] END .....C=0.75, degree=1, kernel=poly;, score=0.705 total time= 1.1min\n",
      "[CV 4/5] END .....C=0.75, degree=1, kernel=poly;, score=0.705 total time= 1.1min\n",
      "[CV 5/5] END .....C=0.75, degree=1, kernel=poly;, score=0.705 total time= 1.1min\n",
      "[CV 1/5] END .....C=0.75, degree=2, kernel=poly;, score=0.706 total time= 1.5min\n",
      "[CV 2/5] END .....C=0.75, degree=2, kernel=poly;, score=0.706 total time= 1.6min\n",
      "[CV 3/5] END .....C=0.75, degree=2, kernel=poly;, score=0.705 total time= 1.6min\n",
      "[CV 4/5] END .....C=0.75, degree=2, kernel=poly;, score=0.705 total time= 1.5min\n",
      "[CV 5/5] END .....C=0.75, degree=2, kernel=poly;, score=0.705 total time= 1.6min\n",
      "[CV 1/5] END .....C=0.75, degree=3, kernel=poly;, score=0.705 total time= 1.7min\n",
      "[CV 2/5] END .....C=0.75, degree=3, kernel=poly;, score=0.705 total time= 1.7min\n",
      "[CV 3/5] END .....C=0.75, degree=3, kernel=poly;, score=0.705 total time= 2.1min\n",
      "[CV 4/5] END .....C=0.75, degree=3, kernel=poly;, score=0.705 total time= 1.9min\n",
      "[CV 5/5] END .....C=0.75, degree=3, kernel=poly;, score=0.705 total time= 1.7min\n",
      "[CV 1/5] END .....C=0.75, degree=4, kernel=poly;, score=0.705 total time= 2.1min\n",
      "[CV 2/5] END .....C=0.75, degree=4, kernel=poly;, score=0.706 total time= 2.0min\n",
      "[CV 3/5] END .....C=0.75, degree=4, kernel=poly;, score=0.705 total time= 2.7min\n",
      "[CV 4/5] END .....C=0.75, degree=4, kernel=poly;, score=0.705 total time= 2.3min\n",
      "[CV 5/5] END .....C=0.75, degree=4, kernel=poly;, score=0.708 total time= 2.0min\n",
      "[CV 1/5] END .....C=0.75, degree=6, kernel=poly;, score=0.704 total time= 3.2min\n",
      "[CV 2/5] END .....C=0.75, degree=6, kernel=poly;, score=0.704 total time= 3.2min\n",
      "[CV 3/5] END .....C=0.75, degree=6, kernel=poly;, score=0.705 total time= 3.9min\n",
      "[CV 4/5] END .....C=0.75, degree=6, kernel=poly;, score=0.705 total time= 3.3min\n",
      "[CV 5/5] END .....C=0.75, degree=6, kernel=poly;, score=0.708 total time= 3.0min\n",
      "[CV 1/5] END ........C=1, degree=1, kernel=poly;, score=0.706 total time= 1.2min\n",
      "[CV 2/5] END ........C=1, degree=1, kernel=poly;, score=0.706 total time= 1.2min\n",
      "[CV 3/5] END ........C=1, degree=1, kernel=poly;, score=0.705 total time= 1.2min\n",
      "[CV 4/5] END ........C=1, degree=1, kernel=poly;, score=0.705 total time= 1.1min\n",
      "[CV 5/5] END ........C=1, degree=1, kernel=poly;, score=0.705 total time= 1.1min\n",
      "[CV 1/5] END ........C=1, degree=2, kernel=poly;, score=0.706 total time= 1.5min\n",
      "[CV 2/5] END ........C=1, degree=2, kernel=poly;, score=0.706 total time= 1.6min\n",
      "[CV 3/5] END ........C=1, degree=2, kernel=poly;, score=0.705 total time= 1.8min\n",
      "[CV 4/5] END ........C=1, degree=2, kernel=poly;, score=0.705 total time= 1.7min\n",
      "[CV 5/5] END ........C=1, degree=2, kernel=poly;, score=0.705 total time= 1.7min\n",
      "[CV 1/5] END ........C=1, degree=3, kernel=poly;, score=0.705 total time= 1.8min\n",
      "[CV 2/5] END ........C=1, degree=3, kernel=poly;, score=0.705 total time= 1.8min\n",
      "[CV 3/5] END ........C=1, degree=3, kernel=poly;, score=0.705 total time= 2.3min\n",
      "[CV 4/5] END ........C=1, degree=3, kernel=poly;, score=0.705 total time= 2.1min\n",
      "[CV 5/5] END ........C=1, degree=3, kernel=poly;, score=0.706 total time= 1.8min\n",
      "[CV 1/5] END ........C=1, degree=4, kernel=poly;, score=0.705 total time= 2.1min\n",
      "[CV 2/5] END ........C=1, degree=4, kernel=poly;, score=0.705 total time= 2.1min\n",
      "[CV 3/5] END ........C=1, degree=4, kernel=poly;, score=0.705 total time= 3.0min\n",
      "[CV 4/5] END ........C=1, degree=4, kernel=poly;, score=0.705 total time= 2.6min\n",
      "[CV 5/5] END ........C=1, degree=4, kernel=poly;, score=0.708 total time= 2.1min\n",
      "[CV 1/5] END ........C=1, degree=6, kernel=poly;, score=0.704 total time= 3.5min\n",
      "[CV 2/5] END ........C=1, degree=6, kernel=poly;, score=0.703 total time= 3.4min\n",
      "[CV 3/5] END ........C=1, degree=6, kernel=poly;, score=0.705 total time= 4.4min\n",
      "[CV 4/5] END ........C=1, degree=6, kernel=poly;, score=0.706 total time= 3.6min\n",
      "[CV 5/5] END ........C=1, degree=6, kernel=poly;, score=0.707 total time= 3.2min\n",
      "[CV 1/5] END .......C=10, degree=1, kernel=poly;, score=0.706 total time= 1.7min\n"
     ]
    },
    {
     "name": "stdout",
     "output_type": "stream",
     "text": [
      "[CV 2/5] END .......C=10, degree=1, kernel=poly;, score=0.706 total time= 2.2min\n",
      "[CV 3/5] END .......C=10, degree=1, kernel=poly;, score=0.705 total time= 1.8min\n",
      "[CV 4/5] END .......C=10, degree=1, kernel=poly;, score=0.705 total time= 1.7min\n",
      "[CV 5/5] END .......C=10, degree=1, kernel=poly;, score=0.705 total time= 1.5min\n",
      "[CV 1/5] END .......C=10, degree=2, kernel=poly;, score=0.706 total time= 2.0min\n",
      "[CV 2/5] END .......C=10, degree=2, kernel=poly;, score=0.705 total time= 1.8min\n",
      "[CV 3/5] END .......C=10, degree=2, kernel=poly;, score=0.705 total time= 2.9min\n",
      "[CV 4/5] END .......C=10, degree=2, kernel=poly;, score=0.705 total time= 2.8min\n",
      "[CV 5/5] END .......C=10, degree=2, kernel=poly;, score=0.707 total time= 2.0min\n",
      "[CV 1/5] END .......C=10, degree=3, kernel=poly;, score=0.707 total time= 3.1min\n",
      "[CV 2/5] END .......C=10, degree=3, kernel=poly;, score=0.707 total time= 3.1min\n",
      "[CV 3/5] END .......C=10, degree=3, kernel=poly;, score=0.705 total time= 4.1min\n",
      "[CV 4/5] END .......C=10, degree=3, kernel=poly;, score=0.706 total time= 3.1min\n",
      "[CV 5/5] END .......C=10, degree=3, kernel=poly;, score=0.708 total time= 3.0min\n",
      "[CV 1/5] END .......C=10, degree=4, kernel=poly;, score=0.705 total time= 4.4min\n",
      "[CV 2/5] END .......C=10, degree=4, kernel=poly;, score=0.706 total time= 4.3min\n",
      "[CV 3/5] END .......C=10, degree=4, kernel=poly;, score=0.707 total time= 5.3min\n",
      "[CV 4/5] END .......C=10, degree=4, kernel=poly;, score=0.710 total time= 4.2min\n",
      "[CV 5/5] END .......C=10, degree=4, kernel=poly;, score=0.706 total time= 3.8min\n",
      "[CV 1/5] END .......C=10, degree=6, kernel=poly;, score=0.705 total time= 7.8min\n",
      "[CV 2/5] END .......C=10, degree=6, kernel=poly;, score=0.703 total time= 9.0min\n",
      "[CV 3/5] END .......C=10, degree=6, kernel=poly;, score=0.707 total time= 8.5min\n",
      "[CV 4/5] END .......C=10, degree=6, kernel=poly;, score=0.711 total time= 8.1min\n",
      "[CV 5/5] END .......C=10, degree=6, kernel=poly;, score=0.708 total time= 7.5min\n",
      "[CV 1/5] END ....C=0.1, gamma=0.001, kernel=rbf;, score=0.706 total time=  56.9s\n",
      "[CV 2/5] END ....C=0.1, gamma=0.001, kernel=rbf;, score=0.706 total time=  56.7s\n",
      "[CV 3/5] END ....C=0.1, gamma=0.001, kernel=rbf;, score=0.705 total time=  56.8s\n",
      "[CV 4/5] END ....C=0.1, gamma=0.001, kernel=rbf;, score=0.705 total time=  56.8s\n",
      "[CV 5/5] END ....C=0.1, gamma=0.001, kernel=rbf;, score=0.705 total time=  56.8s\n",
      "[CV 1/5] END .....C=0.1, gamma=0.01, kernel=rbf;, score=0.706 total time=  57.0s\n",
      "[CV 2/5] END .....C=0.1, gamma=0.01, kernel=rbf;, score=0.706 total time=  57.3s\n",
      "[CV 3/5] END .....C=0.1, gamma=0.01, kernel=rbf;, score=0.705 total time=  56.9s\n",
      "[CV 4/5] END .....C=0.1, gamma=0.01, kernel=rbf;, score=0.705 total time=  56.8s\n",
      "[CV 5/5] END .....C=0.1, gamma=0.01, kernel=rbf;, score=0.705 total time=  57.0s\n",
      "[CV 1/5] END ......C=0.1, gamma=0.1, kernel=rbf;, score=0.706 total time=  58.2s\n",
      "[CV 2/5] END ......C=0.1, gamma=0.1, kernel=rbf;, score=0.706 total time=  57.5s\n",
      "[CV 3/5] END ......C=0.1, gamma=0.1, kernel=rbf;, score=0.705 total time=  57.0s\n",
      "[CV 4/5] END ......C=0.1, gamma=0.1, kernel=rbf;, score=0.705 total time=  57.3s\n",
      "[CV 5/5] END ......C=0.1, gamma=0.1, kernel=rbf;, score=0.705 total time=  57.6s\n",
      "[CV 1/5] END ........C=0.1, gamma=1, kernel=rbf;, score=0.706 total time= 1.1min\n",
      "[CV 2/5] END ........C=0.1, gamma=1, kernel=rbf;, score=0.706 total time= 1.1min\n",
      "[CV 3/5] END ........C=0.1, gamma=1, kernel=rbf;, score=0.705 total time= 1.1min\n",
      "[CV 4/5] END ........C=0.1, gamma=1, kernel=rbf;, score=0.705 total time= 1.1min\n",
      "[CV 5/5] END ........C=0.1, gamma=1, kernel=rbf;, score=0.705 total time= 1.1min\n",
      "[CV 1/5] END ....C=0.5, gamma=0.001, kernel=rbf;, score=0.706 total time=  56.5s\n",
      "[CV 2/5] END ....C=0.5, gamma=0.001, kernel=rbf;, score=0.706 total time=  56.2s\n",
      "[CV 3/5] END ....C=0.5, gamma=0.001, kernel=rbf;, score=0.705 total time=  56.1s\n",
      "[CV 4/5] END ....C=0.5, gamma=0.001, kernel=rbf;, score=0.705 total time=  56.1s\n",
      "[CV 5/5] END ....C=0.5, gamma=0.001, kernel=rbf;, score=0.705 total time=  56.3s\n",
      "[CV 1/5] END .....C=0.5, gamma=0.01, kernel=rbf;, score=0.706 total time=  58.0s\n",
      "[CV 2/5] END .....C=0.5, gamma=0.01, kernel=rbf;, score=0.706 total time=  57.7s\n",
      "[CV 3/5] END .....C=0.5, gamma=0.01, kernel=rbf;, score=0.705 total time=  57.7s\n",
      "[CV 4/5] END .....C=0.5, gamma=0.01, kernel=rbf;, score=0.705 total time=  58.0s\n",
      "[CV 5/5] END .....C=0.5, gamma=0.01, kernel=rbf;, score=0.705 total time=  57.7s\n",
      "[CV 1/5] END ......C=0.5, gamma=0.1, kernel=rbf;, score=0.706 total time= 1.1min\n",
      "[CV 2/5] END ......C=0.5, gamma=0.1, kernel=rbf;, score=0.706 total time= 1.1min\n",
      "[CV 3/5] END ......C=0.5, gamma=0.1, kernel=rbf;, score=0.705 total time= 1.0min\n",
      "[CV 4/5] END ......C=0.5, gamma=0.1, kernel=rbf;, score=0.705 total time= 1.0min\n",
      "[CV 5/5] END ......C=0.5, gamma=0.1, kernel=rbf;, score=0.705 total time= 1.0min\n",
      "[CV 1/5] END ........C=0.5, gamma=1, kernel=rbf;, score=0.705 total time= 1.2min\n",
      "[CV 2/5] END ........C=0.5, gamma=1, kernel=rbf;, score=0.705 total time= 1.2min\n",
      "[CV 3/5] END ........C=0.5, gamma=1, kernel=rbf;, score=0.705 total time= 1.3min\n",
      "[CV 4/5] END ........C=0.5, gamma=1, kernel=rbf;, score=0.705 total time= 1.3min\n",
      "[CV 5/5] END ........C=0.5, gamma=1, kernel=rbf;, score=0.706 total time= 1.2min\n",
      "[CV 1/5] END ...C=0.75, gamma=0.001, kernel=rbf;, score=0.706 total time=  56.1s\n",
      "[CV 2/5] END ...C=0.75, gamma=0.001, kernel=rbf;, score=0.706 total time=  56.1s\n",
      "[CV 3/5] END ...C=0.75, gamma=0.001, kernel=rbf;, score=0.705 total time=  56.0s\n",
      "[CV 4/5] END ...C=0.75, gamma=0.001, kernel=rbf;, score=0.705 total time=  56.1s\n",
      "[CV 5/5] END ...C=0.75, gamma=0.001, kernel=rbf;, score=0.705 total time=  56.2s\n",
      "[CV 1/5] END ....C=0.75, gamma=0.01, kernel=rbf;, score=0.706 total time=  59.3s\n",
      "[CV 2/5] END ....C=0.75, gamma=0.01, kernel=rbf;, score=0.706 total time=  58.2s\n",
      "[CV 3/5] END ....C=0.75, gamma=0.01, kernel=rbf;, score=0.705 total time=  59.4s\n",
      "[CV 4/5] END ....C=0.75, gamma=0.01, kernel=rbf;, score=0.705 total time=  58.1s\n",
      "[CV 5/5] END ....C=0.75, gamma=0.01, kernel=rbf;, score=0.705 total time=  57.7s\n",
      "[CV 1/5] END .....C=0.75, gamma=0.1, kernel=rbf;, score=0.706 total time= 1.1min\n",
      "[CV 2/5] END .....C=0.75, gamma=0.1, kernel=rbf;, score=0.706 total time= 1.1min\n",
      "[CV 3/5] END .....C=0.75, gamma=0.1, kernel=rbf;, score=0.705 total time= 1.1min\n",
      "[CV 4/5] END .....C=0.75, gamma=0.1, kernel=rbf;, score=0.705 total time= 1.1min\n",
      "[CV 5/5] END .....C=0.75, gamma=0.1, kernel=rbf;, score=0.705 total time= 1.1min\n",
      "[CV 1/5] END .......C=0.75, gamma=1, kernel=rbf;, score=0.705 total time= 1.3min\n",
      "[CV 2/5] END .......C=0.75, gamma=1, kernel=rbf;, score=0.706 total time= 1.3min\n",
      "[CV 3/5] END .......C=0.75, gamma=1, kernel=rbf;, score=0.705 total time= 1.4min\n",
      "[CV 4/5] END .......C=0.75, gamma=1, kernel=rbf;, score=0.705 total time= 1.3min\n",
      "[CV 5/5] END .......C=0.75, gamma=1, kernel=rbf;, score=0.708 total time= 1.3min\n",
      "[CV 1/5] END ......C=1, gamma=0.001, kernel=rbf;, score=0.706 total time=  56.2s\n",
      "[CV 2/5] END ......C=1, gamma=0.001, kernel=rbf;, score=0.706 total time=  56.1s\n",
      "[CV 3/5] END ......C=1, gamma=0.001, kernel=rbf;, score=0.705 total time=  56.3s\n",
      "[CV 4/5] END ......C=1, gamma=0.001, kernel=rbf;, score=0.705 total time=  56.3s\n",
      "[CV 5/5] END ......C=1, gamma=0.001, kernel=rbf;, score=0.705 total time=  56.5s\n",
      "[CV 1/5] END .......C=1, gamma=0.01, kernel=rbf;, score=0.706 total time= 1.0min\n",
      "[CV 2/5] END .......C=1, gamma=0.01, kernel=rbf;, score=0.706 total time= 1.0min\n",
      "[CV 3/5] END .......C=1, gamma=0.01, kernel=rbf;, score=0.705 total time=  59.1s\n",
      "[CV 4/5] END .......C=1, gamma=0.01, kernel=rbf;, score=0.705 total time= 1.0min\n",
      "[CV 5/5] END .......C=1, gamma=0.01, kernel=rbf;, score=0.705 total time=  58.5s\n",
      "[CV 1/5] END ........C=1, gamma=0.1, kernel=rbf;, score=0.706 total time= 1.1min\n",
      "[CV 2/5] END ........C=1, gamma=0.1, kernel=rbf;, score=0.706 total time= 1.1min\n",
      "[CV 3/5] END ........C=1, gamma=0.1, kernel=rbf;, score=0.705 total time= 1.1min\n",
      "[CV 4/5] END ........C=1, gamma=0.1, kernel=rbf;, score=0.705 total time= 1.1min\n",
      "[CV 5/5] END ........C=1, gamma=0.1, kernel=rbf;, score=0.705 total time= 1.1min\n",
      "[CV 1/5] END ..........C=1, gamma=1, kernel=rbf;, score=0.705 total time= 1.1min\n",
      "[CV 2/5] END ..........C=1, gamma=1, kernel=rbf;, score=0.707 total time= 1.1min\n",
      "[CV 3/5] END ..........C=1, gamma=1, kernel=rbf;, score=0.705 total time= 1.2min\n"
     ]
    },
    {
     "name": "stdout",
     "output_type": "stream",
     "text": [
      "[CV 4/5] END ..........C=1, gamma=1, kernel=rbf;, score=0.705 total time= 1.2min\n",
      "[CV 5/5] END ..........C=1, gamma=1, kernel=rbf;, score=0.705 total time= 1.1min\n",
      "[CV 1/5] END .....C=10, gamma=0.001, kernel=rbf;, score=0.706 total time=  54.4s\n",
      "[CV 2/5] END .....C=10, gamma=0.001, kernel=rbf;, score=0.706 total time=  54.0s\n",
      "[CV 3/5] END .....C=10, gamma=0.001, kernel=rbf;, score=0.705 total time=  55.2s\n",
      "[CV 4/5] END .....C=10, gamma=0.001, kernel=rbf;, score=0.705 total time=  53.5s\n",
      "[CV 5/5] END .....C=10, gamma=0.001, kernel=rbf;, score=0.705 total time=  54.2s\n",
      "[CV 1/5] END ......C=10, gamma=0.01, kernel=rbf;, score=0.706 total time=  57.1s\n",
      "[CV 2/5] END ......C=10, gamma=0.01, kernel=rbf;, score=0.706 total time=  58.5s\n",
      "[CV 3/5] END ......C=10, gamma=0.01, kernel=rbf;, score=0.705 total time=  57.6s\n",
      "[CV 4/5] END ......C=10, gamma=0.01, kernel=rbf;, score=0.705 total time=  57.7s\n",
      "[CV 5/5] END ......C=10, gamma=0.01, kernel=rbf;, score=0.705 total time=  58.1s\n",
      "[CV 1/5] END .......C=10, gamma=0.1, kernel=rbf;, score=0.706 total time= 1.2min\n",
      "[CV 2/5] END .......C=10, gamma=0.1, kernel=rbf;, score=0.706 total time= 1.2min\n",
      "[CV 3/5] END .......C=10, gamma=0.1, kernel=rbf;, score=0.705 total time= 1.4min\n",
      "[CV 4/5] END .......C=10, gamma=0.1, kernel=rbf;, score=0.705 total time= 1.4min\n",
      "[CV 5/5] END .......C=10, gamma=0.1, kernel=rbf;, score=0.705 total time= 1.3min\n",
      "[CV 1/5] END .........C=10, gamma=1, kernel=rbf;, score=0.705 total time= 1.4min\n",
      "[CV 2/5] END .........C=10, gamma=1, kernel=rbf;, score=0.704 total time= 1.4min\n",
      "[CV 3/5] END .........C=10, gamma=1, kernel=rbf;, score=0.709 total time= 1.5min\n",
      "[CV 4/5] END .........C=10, gamma=1, kernel=rbf;, score=0.711 total time= 1.4min\n",
      "[CV 5/5] END .........C=10, gamma=1, kernel=rbf;, score=0.705 total time= 1.4min\n"
     ]
    },
    {
     "data": {
      "text/plain": [
       "GridSearchCV(estimator=SVC(),\n",
       "             param_grid=[{'C': [0.1, 0.5, 0.75, 1, 10],\n",
       "                          'degree': [1, 2, 3, 4, 6], 'kernel': ['poly']},\n",
       "                         {'C': [0.1, 0.5, 0.75, 1, 10],\n",
       "                          'gamma': [0.001, 0.01, 0.1, 1], 'kernel': ['rbf']}],\n",
       "             verbose=3)"
      ]
     },
     "execution_count": 6,
     "metadata": {},
     "output_type": "execute_result"
    }
   ],
   "source": [
    "gs24.fit(X_train24, y_train24)"
   ]
  },
  {
   "cell_type": "code",
   "execution_count": 7,
   "id": "ad40cdcc",
   "metadata": {},
   "outputs": [
    {
     "name": "stdout",
     "output_type": "stream",
     "text": [
      "The best parameters found for the 24h DCW:\n",
      "{'C': 10, 'gamma': 1, 'kernel': 'rbf'}\n",
      "The best estimator found for the 24h DCW:\n",
      "SVC(C=10, gamma=1)\n"
     ]
    }
   ],
   "source": [
    "print(\"The best parameters found for the 24h DCW:\")\n",
    "print(gs24.best_params_)\n",
    "  \n",
    "#PRINT HOW OUR MODEL LOOKS AFTER HYPER-PARAMETER TUNING\n",
    "print(\"The best estimator found for the 24h DCW:\")\n",
    "print(gs24.best_estimator_)"
   ]
  },
  {
   "cell_type": "code",
   "execution_count": 8,
   "id": "87bbd7f8",
   "metadata": {},
   "outputs": [
    {
     "name": "stdout",
     "output_type": "stream",
     "text": [
      "Fitting 5 folds for each of 45 candidates, totalling 225 fits\n",
      "[CV 1/5] END ......C=0.1, degree=1, kernel=poly;, score=0.764 total time=   7.7s\n",
      "[CV 2/5] END ......C=0.1, degree=1, kernel=poly;, score=0.764 total time=   7.9s\n",
      "[CV 3/5] END ......C=0.1, degree=1, kernel=poly;, score=0.763 total time=   7.9s\n",
      "[CV 4/5] END ......C=0.1, degree=1, kernel=poly;, score=0.764 total time=   8.0s\n",
      "[CV 5/5] END ......C=0.1, degree=1, kernel=poly;, score=0.764 total time=   7.8s\n",
      "[CV 1/5] END ......C=0.1, degree=2, kernel=poly;, score=0.764 total time=  10.1s\n",
      "[CV 2/5] END ......C=0.1, degree=2, kernel=poly;, score=0.764 total time=  10.8s\n",
      "[CV 3/5] END ......C=0.1, degree=2, kernel=poly;, score=0.763 total time=  10.4s\n",
      "[CV 4/5] END ......C=0.1, degree=2, kernel=poly;, score=0.764 total time=  10.9s\n",
      "[CV 5/5] END ......C=0.1, degree=2, kernel=poly;, score=0.764 total time=  11.1s\n",
      "[CV 1/5] END ......C=0.1, degree=3, kernel=poly;, score=0.764 total time=  14.3s\n",
      "[CV 2/5] END ......C=0.1, degree=3, kernel=poly;, score=0.764 total time=  13.8s\n",
      "[CV 3/5] END ......C=0.1, degree=3, kernel=poly;, score=0.763 total time=  14.4s\n",
      "[CV 4/5] END ......C=0.1, degree=3, kernel=poly;, score=0.764 total time=  14.1s\n",
      "[CV 5/5] END ......C=0.1, degree=3, kernel=poly;, score=0.764 total time=  13.4s\n",
      "[CV 1/5] END ......C=0.1, degree=4, kernel=poly;, score=0.764 total time=  22.8s\n",
      "[CV 2/5] END ......C=0.1, degree=4, kernel=poly;, score=0.764 total time=  20.8s\n",
      "[CV 3/5] END ......C=0.1, degree=4, kernel=poly;, score=0.762 total time=  19.3s\n",
      "[CV 4/5] END ......C=0.1, degree=4, kernel=poly;, score=0.764 total time=  19.5s\n",
      "[CV 5/5] END ......C=0.1, degree=4, kernel=poly;, score=0.764 total time=  20.8s\n",
      "[CV 1/5] END ......C=0.1, degree=6, kernel=poly;, score=0.764 total time=  32.4s\n",
      "[CV 2/5] END ......C=0.1, degree=6, kernel=poly;, score=0.763 total time=  29.1s\n",
      "[CV 3/5] END ......C=0.1, degree=6, kernel=poly;, score=0.763 total time=  28.5s\n",
      "[CV 4/5] END ......C=0.1, degree=6, kernel=poly;, score=0.762 total time=  27.9s\n",
      "[CV 5/5] END ......C=0.1, degree=6, kernel=poly;, score=0.764 total time=  31.2s\n",
      "[CV 1/5] END ......C=0.5, degree=1, kernel=poly;, score=0.764 total time=   9.6s\n",
      "[CV 2/5] END ......C=0.5, degree=1, kernel=poly;, score=0.764 total time=   9.7s\n",
      "[CV 3/5] END ......C=0.5, degree=1, kernel=poly;, score=0.763 total time=   9.5s\n",
      "[CV 4/5] END ......C=0.5, degree=1, kernel=poly;, score=0.764 total time=   9.5s\n",
      "[CV 5/5] END ......C=0.5, degree=1, kernel=poly;, score=0.764 total time=   9.6s\n",
      "[CV 1/5] END ......C=0.5, degree=2, kernel=poly;, score=0.764 total time=  15.6s\n",
      "[CV 2/5] END ......C=0.5, degree=2, kernel=poly;, score=0.764 total time=  16.7s\n",
      "[CV 3/5] END ......C=0.5, degree=2, kernel=poly;, score=0.763 total time=  18.8s\n",
      "[CV 4/5] END ......C=0.5, degree=2, kernel=poly;, score=0.764 total time=  16.6s\n",
      "[CV 5/5] END ......C=0.5, degree=2, kernel=poly;, score=0.764 total time=  16.9s\n",
      "[CV 1/5] END ......C=0.5, degree=3, kernel=poly;, score=0.764 total time=  33.5s\n",
      "[CV 2/5] END ......C=0.5, degree=3, kernel=poly;, score=0.764 total time=  27.2s\n",
      "[CV 3/5] END ......C=0.5, degree=3, kernel=poly;, score=0.762 total time=  26.4s\n",
      "[CV 4/5] END ......C=0.5, degree=3, kernel=poly;, score=0.763 total time=  25.6s\n",
      "[CV 5/5] END ......C=0.5, degree=3, kernel=poly;, score=0.764 total time=  26.4s\n",
      "[CV 1/5] END ......C=0.5, degree=4, kernel=poly;, score=0.764 total time=  42.9s\n",
      "[CV 2/5] END ......C=0.5, degree=4, kernel=poly;, score=0.763 total time=  34.8s\n",
      "[CV 3/5] END ......C=0.5, degree=4, kernel=poly;, score=0.762 total time=  31.3s\n",
      "[CV 4/5] END ......C=0.5, degree=4, kernel=poly;, score=0.764 total time=  31.1s\n",
      "[CV 5/5] END ......C=0.5, degree=4, kernel=poly;, score=0.764 total time=  36.3s\n",
      "[CV 1/5] END ......C=0.5, degree=6, kernel=poly;, score=0.765 total time=  48.3s\n",
      "[CV 2/5] END ......C=0.5, degree=6, kernel=poly;, score=0.765 total time=  50.8s\n",
      "[CV 3/5] END ......C=0.5, degree=6, kernel=poly;, score=0.763 total time=  38.9s\n",
      "[CV 4/5] END ......C=0.5, degree=6, kernel=poly;, score=0.762 total time=  42.3s\n",
      "[CV 5/5] END ......C=0.5, degree=6, kernel=poly;, score=0.765 total time=  47.8s\n",
      "[CV 1/5] END .....C=0.75, degree=1, kernel=poly;, score=0.764 total time=  10.3s\n",
      "[CV 2/5] END .....C=0.75, degree=1, kernel=poly;, score=0.764 total time=  10.2s\n",
      "[CV 3/5] END .....C=0.75, degree=1, kernel=poly;, score=0.763 total time=  10.0s\n",
      "[CV 4/5] END .....C=0.75, degree=1, kernel=poly;, score=0.764 total time=  10.0s\n",
      "[CV 5/5] END .....C=0.75, degree=1, kernel=poly;, score=0.764 total time=  10.3s\n",
      "[CV 1/5] END .....C=0.75, degree=2, kernel=poly;, score=0.764 total time=  18.0s\n",
      "[CV 2/5] END .....C=0.75, degree=2, kernel=poly;, score=0.764 total time=  20.4s\n",
      "[CV 3/5] END .....C=0.75, degree=2, kernel=poly;, score=0.762 total time=  23.2s\n",
      "[CV 4/5] END .....C=0.75, degree=2, kernel=poly;, score=0.764 total time=  20.1s\n",
      "[CV 5/5] END .....C=0.75, degree=2, kernel=poly;, score=0.764 total time=  21.4s\n",
      "[CV 1/5] END .....C=0.75, degree=3, kernel=poly;, score=0.764 total time=  41.4s\n",
      "[CV 2/5] END .....C=0.75, degree=3, kernel=poly;, score=0.763 total time=  31.2s\n",
      "[CV 3/5] END .....C=0.75, degree=3, kernel=poly;, score=0.762 total time=  30.3s\n",
      "[CV 4/5] END .....C=0.75, degree=3, kernel=poly;, score=0.764 total time=  29.5s\n",
      "[CV 5/5] END .....C=0.75, degree=3, kernel=poly;, score=0.764 total time=  32.4s\n",
      "[CV 1/5] END .....C=0.75, degree=4, kernel=poly;, score=0.764 total time=  48.5s\n",
      "[CV 2/5] END .....C=0.75, degree=4, kernel=poly;, score=0.763 total time=  39.8s\n",
      "[CV 3/5] END .....C=0.75, degree=4, kernel=poly;, score=0.762 total time=  34.8s\n",
      "[CV 4/5] END .....C=0.75, degree=4, kernel=poly;, score=0.762 total time=  34.0s\n",
      "[CV 5/5] END .....C=0.75, degree=4, kernel=poly;, score=0.764 total time=  41.5s\n",
      "[CV 1/5] END .....C=0.75, degree=6, kernel=poly;, score=0.765 total time=  55.9s\n",
      "[CV 2/5] END .....C=0.75, degree=6, kernel=poly;, score=0.764 total time=  56.2s\n",
      "[CV 3/5] END .....C=0.75, degree=6, kernel=poly;, score=0.763 total time=  45.0s\n",
      "[CV 4/5] END .....C=0.75, degree=6, kernel=poly;, score=0.761 total time=  47.9s\n",
      "[CV 5/5] END .....C=0.75, degree=6, kernel=poly;, score=0.765 total time=  52.3s\n",
      "[CV 1/5] END ........C=1, degree=1, kernel=poly;, score=0.764 total time=  10.7s\n",
      "[CV 2/5] END ........C=1, degree=1, kernel=poly;, score=0.764 total time=  10.8s\n",
      "[CV 3/5] END ........C=1, degree=1, kernel=poly;, score=0.763 total time=  10.4s\n",
      "[CV 4/5] END ........C=1, degree=1, kernel=poly;, score=0.764 total time=  10.4s\n",
      "[CV 5/5] END ........C=1, degree=1, kernel=poly;, score=0.764 total time=  10.6s\n",
      "[CV 1/5] END ........C=1, degree=2, kernel=poly;, score=0.764 total time=  21.2s\n",
      "[CV 2/5] END ........C=1, degree=2, kernel=poly;, score=0.764 total time=  25.4s\n",
      "[CV 3/5] END ........C=1, degree=2, kernel=poly;, score=0.762 total time=  26.6s\n",
      "[CV 4/5] END ........C=1, degree=2, kernel=poly;, score=0.764 total time=  23.3s\n",
      "[CV 5/5] END ........C=1, degree=2, kernel=poly;, score=0.764 total time=  23.4s\n",
      "[CV 1/5] END ........C=1, degree=3, kernel=poly;, score=0.764 total time=  49.9s\n",
      "[CV 2/5] END ........C=1, degree=3, kernel=poly;, score=0.763 total time=  35.8s\n",
      "[CV 3/5] END ........C=1, degree=3, kernel=poly;, score=0.762 total time=  34.9s\n",
      "[CV 4/5] END ........C=1, degree=3, kernel=poly;, score=0.764 total time=  33.6s\n",
      "[CV 5/5] END ........C=1, degree=3, kernel=poly;, score=0.764 total time=  36.0s\n",
      "[CV 1/5] END ........C=1, degree=4, kernel=poly;, score=0.764 total time=  55.8s\n",
      "[CV 2/5] END ........C=1, degree=4, kernel=poly;, score=0.763 total time=  40.3s\n",
      "[CV 3/5] END ........C=1, degree=4, kernel=poly;, score=0.762 total time=  36.8s\n",
      "[CV 4/5] END ........C=1, degree=4, kernel=poly;, score=0.762 total time=  36.2s\n",
      "[CV 5/5] END ........C=1, degree=4, kernel=poly;, score=0.764 total time=  42.6s\n",
      "[CV 1/5] END ........C=1, degree=6, kernel=poly;, score=0.764 total time= 1.1min\n",
      "[CV 2/5] END ........C=1, degree=6, kernel=poly;, score=0.764 total time= 1.1min\n",
      "[CV 3/5] END ........C=1, degree=6, kernel=poly;, score=0.763 total time=  53.2s\n",
      "[CV 4/5] END ........C=1, degree=6, kernel=poly;, score=0.760 total time=  53.8s\n",
      "[CV 5/5] END ........C=1, degree=6, kernel=poly;, score=0.766 total time=  52.8s\n",
      "[CV 1/5] END .......C=10, degree=1, kernel=poly;, score=0.764 total time=  18.5s\n"
     ]
    },
    {
     "name": "stdout",
     "output_type": "stream",
     "text": [
      "[CV 2/5] END .......C=10, degree=1, kernel=poly;, score=0.764 total time=  17.7s\n",
      "[CV 3/5] END .......C=10, degree=1, kernel=poly;, score=0.762 total time=  23.8s\n",
      "[CV 4/5] END .......C=10, degree=1, kernel=poly;, score=0.764 total time=  32.4s\n",
      "[CV 5/5] END .......C=10, degree=1, kernel=poly;, score=0.764 total time=  18.3s\n",
      "[CV 1/5] END .......C=10, degree=2, kernel=poly;, score=0.764 total time= 2.2min\n",
      "[CV 2/5] END .......C=10, degree=2, kernel=poly;, score=0.763 total time= 1.2min\n",
      "[CV 3/5] END .......C=10, degree=2, kernel=poly;, score=0.762 total time= 1.4min\n",
      "[CV 4/5] END .......C=10, degree=2, kernel=poly;, score=0.764 total time= 1.1min\n",
      "[CV 5/5] END .......C=10, degree=2, kernel=poly;, score=0.764 total time= 1.3min\n",
      "[CV 1/5] END .......C=10, degree=3, kernel=poly;, score=0.764 total time= 1.8min\n",
      "[CV 2/5] END .......C=10, degree=3, kernel=poly;, score=0.763 total time= 1.4min\n",
      "[CV 3/5] END .......C=10, degree=3, kernel=poly;, score=0.762 total time= 1.3min\n",
      "[CV 4/5] END .......C=10, degree=3, kernel=poly;, score=0.762 total time= 1.2min\n",
      "[CV 5/5] END .......C=10, degree=3, kernel=poly;, score=0.764 total time= 1.5min\n",
      "[CV 1/5] END .......C=10, degree=4, kernel=poly;, score=0.761 total time= 1.9min\n",
      "[CV 2/5] END .......C=10, degree=4, kernel=poly;, score=0.764 total time= 1.6min\n",
      "[CV 3/5] END .......C=10, degree=4, kernel=poly;, score=0.765 total time= 1.4min\n",
      "[CV 4/5] END .......C=10, degree=4, kernel=poly;, score=0.759 total time= 1.6min\n",
      "[CV 5/5] END .......C=10, degree=4, kernel=poly;, score=0.765 total time= 1.7min\n",
      "[CV 1/5] END .......C=10, degree=6, kernel=poly;, score=0.765 total time= 3.4min\n",
      "[CV 2/5] END .......C=10, degree=6, kernel=poly;, score=0.758 total time= 4.0min\n",
      "[CV 3/5] END .......C=10, degree=6, kernel=poly;, score=0.759 total time= 3.8min\n",
      "[CV 4/5] END .......C=10, degree=6, kernel=poly;, score=0.748 total time= 3.5min\n",
      "[CV 5/5] END .......C=10, degree=6, kernel=poly;, score=0.761 total time= 3.9min\n",
      "[CV 1/5] END ....C=0.1, gamma=0.001, kernel=rbf;, score=0.764 total time=  10.6s\n",
      "[CV 2/5] END ....C=0.1, gamma=0.001, kernel=rbf;, score=0.764 total time=  10.6s\n",
      "[CV 3/5] END ....C=0.1, gamma=0.001, kernel=rbf;, score=0.763 total time=  10.6s\n",
      "[CV 4/5] END ....C=0.1, gamma=0.001, kernel=rbf;, score=0.764 total time=  10.6s\n",
      "[CV 5/5] END ....C=0.1, gamma=0.001, kernel=rbf;, score=0.764 total time=  10.6s\n",
      "[CV 1/5] END .....C=0.1, gamma=0.01, kernel=rbf;, score=0.764 total time=  10.6s\n",
      "[CV 2/5] END .....C=0.1, gamma=0.01, kernel=rbf;, score=0.764 total time=  10.7s\n",
      "[CV 3/5] END .....C=0.1, gamma=0.01, kernel=rbf;, score=0.763 total time=  10.7s\n",
      "[CV 4/5] END .....C=0.1, gamma=0.01, kernel=rbf;, score=0.764 total time=  10.7s\n",
      "[CV 5/5] END .....C=0.1, gamma=0.01, kernel=rbf;, score=0.764 total time=  10.6s\n",
      "[CV 1/5] END ......C=0.1, gamma=0.1, kernel=rbf;, score=0.764 total time=  11.0s\n",
      "[CV 2/5] END ......C=0.1, gamma=0.1, kernel=rbf;, score=0.764 total time=  11.0s\n",
      "[CV 3/5] END ......C=0.1, gamma=0.1, kernel=rbf;, score=0.763 total time=  11.1s\n",
      "[CV 4/5] END ......C=0.1, gamma=0.1, kernel=rbf;, score=0.764 total time=  10.9s\n",
      "[CV 5/5] END ......C=0.1, gamma=0.1, kernel=rbf;, score=0.764 total time=  11.0s\n",
      "[CV 1/5] END ........C=0.1, gamma=1, kernel=rbf;, score=0.764 total time=  14.8s\n",
      "[CV 2/5] END ........C=0.1, gamma=1, kernel=rbf;, score=0.764 total time=  14.3s\n",
      "[CV 3/5] END ........C=0.1, gamma=1, kernel=rbf;, score=0.763 total time=  14.0s\n",
      "[CV 4/5] END ........C=0.1, gamma=1, kernel=rbf;, score=0.764 total time=  14.3s\n",
      "[CV 5/5] END ........C=0.1, gamma=1, kernel=rbf;, score=0.764 total time=  14.3s\n",
      "[CV 1/5] END ....C=0.5, gamma=0.001, kernel=rbf;, score=0.764 total time=  10.6s\n",
      "[CV 2/5] END ....C=0.5, gamma=0.001, kernel=rbf;, score=0.764 total time=  10.6s\n",
      "[CV 3/5] END ....C=0.5, gamma=0.001, kernel=rbf;, score=0.763 total time=  10.6s\n",
      "[CV 4/5] END ....C=0.5, gamma=0.001, kernel=rbf;, score=0.764 total time=  10.6s\n",
      "[CV 5/5] END ....C=0.5, gamma=0.001, kernel=rbf;, score=0.764 total time=  10.6s\n",
      "[CV 1/5] END .....C=0.5, gamma=0.01, kernel=rbf;, score=0.764 total time=  11.4s\n",
      "[CV 2/5] END .....C=0.5, gamma=0.01, kernel=rbf;, score=0.764 total time=  11.3s\n",
      "[CV 3/5] END .....C=0.5, gamma=0.01, kernel=rbf;, score=0.763 total time=  11.4s\n",
      "[CV 4/5] END .....C=0.5, gamma=0.01, kernel=rbf;, score=0.764 total time=  11.5s\n",
      "[CV 5/5] END .....C=0.5, gamma=0.01, kernel=rbf;, score=0.764 total time=  11.6s\n",
      "[CV 1/5] END ......C=0.5, gamma=0.1, kernel=rbf;, score=0.764 total time=  11.9s\n",
      "[CV 2/5] END ......C=0.5, gamma=0.1, kernel=rbf;, score=0.764 total time=  12.7s\n",
      "[CV 3/5] END ......C=0.5, gamma=0.1, kernel=rbf;, score=0.763 total time=  13.1s\n",
      "[CV 4/5] END ......C=0.5, gamma=0.1, kernel=rbf;, score=0.764 total time=  12.6s\n",
      "[CV 5/5] END ......C=0.5, gamma=0.1, kernel=rbf;, score=0.764 total time=  12.0s\n",
      "[CV 1/5] END ........C=0.5, gamma=1, kernel=rbf;, score=0.764 total time=  18.3s\n",
      "[CV 2/5] END ........C=0.5, gamma=1, kernel=rbf;, score=0.764 total time=  18.1s\n",
      "[CV 3/5] END ........C=0.5, gamma=1, kernel=rbf;, score=0.763 total time=  17.4s\n",
      "[CV 4/5] END ........C=0.5, gamma=1, kernel=rbf;, score=0.764 total time=  17.8s\n",
      "[CV 5/5] END ........C=0.5, gamma=1, kernel=rbf;, score=0.764 total time=  18.0s\n",
      "[CV 1/5] END ...C=0.75, gamma=0.001, kernel=rbf;, score=0.764 total time=  10.6s\n",
      "[CV 2/5] END ...C=0.75, gamma=0.001, kernel=rbf;, score=0.764 total time=  10.6s\n",
      "[CV 3/5] END ...C=0.75, gamma=0.001, kernel=rbf;, score=0.763 total time=  10.6s\n",
      "[CV 4/5] END ...C=0.75, gamma=0.001, kernel=rbf;, score=0.764 total time=  10.6s\n",
      "[CV 5/5] END ...C=0.75, gamma=0.001, kernel=rbf;, score=0.764 total time=  10.6s\n",
      "[CV 1/5] END ....C=0.75, gamma=0.01, kernel=rbf;, score=0.764 total time=  11.6s\n",
      "[CV 2/5] END ....C=0.75, gamma=0.01, kernel=rbf;, score=0.764 total time=  11.7s\n",
      "[CV 3/5] END ....C=0.75, gamma=0.01, kernel=rbf;, score=0.763 total time=  11.6s\n",
      "[CV 4/5] END ....C=0.75, gamma=0.01, kernel=rbf;, score=0.764 total time=  11.4s\n",
      "[CV 5/5] END ....C=0.75, gamma=0.01, kernel=rbf;, score=0.764 total time=  11.7s\n",
      "[CV 1/5] END .....C=0.75, gamma=0.1, kernel=rbf;, score=0.764 total time=  12.2s\n",
      "[CV 2/5] END .....C=0.75, gamma=0.1, kernel=rbf;, score=0.764 total time=  13.0s\n",
      "[CV 3/5] END .....C=0.75, gamma=0.1, kernel=rbf;, score=0.763 total time=  12.6s\n",
      "[CV 4/5] END .....C=0.75, gamma=0.1, kernel=rbf;, score=0.764 total time=  13.3s\n",
      "[CV 5/5] END .....C=0.75, gamma=0.1, kernel=rbf;, score=0.764 total time=  13.3s\n",
      "[CV 1/5] END .......C=0.75, gamma=1, kernel=rbf;, score=0.764 total time=  19.4s\n",
      "[CV 2/5] END .......C=0.75, gamma=1, kernel=rbf;, score=0.764 total time=  19.2s\n",
      "[CV 3/5] END .......C=0.75, gamma=1, kernel=rbf;, score=0.763 total time=  18.1s\n",
      "[CV 4/5] END .......C=0.75, gamma=1, kernel=rbf;, score=0.764 total time=  18.9s\n",
      "[CV 5/5] END .......C=0.75, gamma=1, kernel=rbf;, score=0.764 total time=  18.8s\n",
      "[CV 1/5] END ......C=1, gamma=0.001, kernel=rbf;, score=0.764 total time=  10.7s\n",
      "[CV 2/5] END ......C=1, gamma=0.001, kernel=rbf;, score=0.764 total time=  10.6s\n",
      "[CV 3/5] END ......C=1, gamma=0.001, kernel=rbf;, score=0.763 total time=  10.6s\n",
      "[CV 4/5] END ......C=1, gamma=0.001, kernel=rbf;, score=0.764 total time=  10.7s\n",
      "[CV 5/5] END ......C=1, gamma=0.001, kernel=rbf;, score=0.764 total time=  10.7s\n",
      "[CV 1/5] END .......C=1, gamma=0.01, kernel=rbf;, score=0.764 total time=  11.7s\n",
      "[CV 2/5] END .......C=1, gamma=0.01, kernel=rbf;, score=0.764 total time=  11.7s\n",
      "[CV 3/5] END .......C=1, gamma=0.01, kernel=rbf;, score=0.763 total time=  11.7s\n",
      "[CV 4/5] END .......C=1, gamma=0.01, kernel=rbf;, score=0.764 total time=  11.7s\n",
      "[CV 5/5] END .......C=1, gamma=0.01, kernel=rbf;, score=0.764 total time=  12.0s\n",
      "[CV 1/5] END ........C=1, gamma=0.1, kernel=rbf;, score=0.764 total time=  13.8s\n",
      "[CV 2/5] END ........C=1, gamma=0.1, kernel=rbf;, score=0.764 total time=  13.0s\n",
      "[CV 3/5] END ........C=1, gamma=0.1, kernel=rbf;, score=0.763 total time=  14.0s\n",
      "[CV 4/5] END ........C=1, gamma=0.1, kernel=rbf;, score=0.764 total time=  13.0s\n",
      "[CV 5/5] END ........C=1, gamma=0.1, kernel=rbf;, score=0.764 total time=  13.7s\n",
      "[CV 1/5] END ..........C=1, gamma=1, kernel=rbf;, score=0.764 total time=  20.5s\n",
      "[CV 2/5] END ..........C=1, gamma=1, kernel=rbf;, score=0.764 total time=  19.5s\n",
      "[CV 3/5] END ..........C=1, gamma=1, kernel=rbf;, score=0.763 total time=  18.7s\n"
     ]
    },
    {
     "name": "stdout",
     "output_type": "stream",
     "text": [
      "[CV 4/5] END ..........C=1, gamma=1, kernel=rbf;, score=0.764 total time=  19.4s\n",
      "[CV 5/5] END ..........C=1, gamma=1, kernel=rbf;, score=0.764 total time=  19.7s\n",
      "[CV 1/5] END .....C=10, gamma=0.001, kernel=rbf;, score=0.764 total time=  12.3s\n",
      "[CV 2/5] END .....C=10, gamma=0.001, kernel=rbf;, score=0.764 total time=  13.3s\n",
      "[CV 3/5] END .....C=10, gamma=0.001, kernel=rbf;, score=0.763 total time=  13.3s\n",
      "[CV 4/5] END .....C=10, gamma=0.001, kernel=rbf;, score=0.764 total time=  12.3s\n",
      "[CV 5/5] END .....C=10, gamma=0.001, kernel=rbf;, score=0.764 total time=  13.2s\n",
      "[CV 1/5] END ......C=10, gamma=0.01, kernel=rbf;, score=0.764 total time=  14.7s\n",
      "[CV 2/5] END ......C=10, gamma=0.01, kernel=rbf;, score=0.764 total time=  15.3s\n",
      "[CV 3/5] END ......C=10, gamma=0.01, kernel=rbf;, score=0.763 total time=  14.1s\n",
      "[CV 4/5] END ......C=10, gamma=0.01, kernel=rbf;, score=0.764 total time=  14.1s\n",
      "[CV 5/5] END ......C=10, gamma=0.01, kernel=rbf;, score=0.764 total time=  13.9s\n",
      "[CV 1/5] END .......C=10, gamma=0.1, kernel=rbf;, score=0.764 total time=  27.1s\n",
      "[CV 2/5] END .......C=10, gamma=0.1, kernel=rbf;, score=0.764 total time=  27.6s\n",
      "[CV 3/5] END .......C=10, gamma=0.1, kernel=rbf;, score=0.762 total time=  28.3s\n",
      "[CV 4/5] END .......C=10, gamma=0.1, kernel=rbf;, score=0.764 total time=  28.1s\n",
      "[CV 5/5] END .......C=10, gamma=0.1, kernel=rbf;, score=0.764 total time=  28.7s\n",
      "[CV 1/5] END .........C=10, gamma=1, kernel=rbf;, score=0.762 total time=  27.9s\n",
      "[CV 2/5] END .........C=10, gamma=1, kernel=rbf;, score=0.762 total time=  27.2s\n",
      "[CV 3/5] END .........C=10, gamma=1, kernel=rbf;, score=0.765 total time=  24.8s\n",
      "[CV 4/5] END .........C=10, gamma=1, kernel=rbf;, score=0.758 total time=  25.5s\n",
      "[CV 5/5] END .........C=10, gamma=1, kernel=rbf;, score=0.761 total time=  25.3s\n"
     ]
    },
    {
     "data": {
      "text/plain": [
       "GridSearchCV(estimator=SVC(),\n",
       "             param_grid=[{'C': [0.1, 0.5, 0.75, 1, 10],\n",
       "                          'degree': [1, 2, 3, 4, 6], 'kernel': ['poly']},\n",
       "                         {'C': [0.1, 0.5, 0.75, 1, 10],\n",
       "                          'gamma': [0.001, 0.01, 0.1, 1], 'kernel': ['rbf']}],\n",
       "             verbose=3)"
      ]
     },
     "execution_count": 8,
     "metadata": {},
     "output_type": "execute_result"
    }
   ],
   "source": [
    "gs48.fit(X_train48, y_train48)"
   ]
  },
  {
   "cell_type": "code",
   "execution_count": 9,
   "id": "80978c87",
   "metadata": {},
   "outputs": [
    {
     "name": "stdout",
     "output_type": "stream",
     "text": [
      "The best parameters found for the 48h DCW:\n",
      "{'C': 0.5, 'degree': 6, 'kernel': 'poly'}\n",
      "The best estimator found for the 48h DCW:\n",
      "SVC(C=0.5, degree=6, kernel='poly')\n"
     ]
    }
   ],
   "source": [
    "print(\"The best parameters found for the 48h DCW:\")\n",
    "print(gs48.best_params_)\n",
    "  \n",
    "#PRINT HOW OUR MODEL LOOKS AFTER HYPER-PARAMETER TUNING\n",
    "print(\"The best estimator found for the 48h DCW:\")\n",
    "print(gs48.best_estimator_)"
   ]
  },
  {
   "cell_type": "code",
   "execution_count": 7,
   "id": "9ff072f2",
   "metadata": {},
   "outputs": [],
   "source": [
    "best24 = svm.SVC(C=10, gamma=1, kernel = 'rbf' )\n",
    "best48 = svm.SVC(C=0.5, degree=6, kernel='poly' )"
   ]
  },
  {
   "cell_type": "code",
   "execution_count": 11,
   "id": "cb392f5f",
   "metadata": {},
   "outputs": [
    {
     "name": "stderr",
     "output_type": "stream",
     "text": [
      "[Parallel(n_jobs=1)]: Using backend SequentialBackend with 1 concurrent workers.\n",
      "[Parallel(n_jobs=1)]: Done   1 out of   1 | elapsed:  4.1min remaining:    0.0s\n",
      "[Parallel(n_jobs=1)]: Done   2 out of   2 | elapsed:  7.7min remaining:    0.0s\n",
      "[Parallel(n_jobs=1)]: Done   5 out of   5 | elapsed: 17.8min finished\n"
     ]
    }
   ],
   "source": [
    "y_pred24 = cross_val_predict(best24, X24, Y24, cv = 5, verbose = 3)"
   ]
  },
  {
   "cell_type": "code",
   "execution_count": 12,
   "id": "173f712d",
   "metadata": {},
   "outputs": [
    {
     "name": "stderr",
     "output_type": "stream",
     "text": [
      "[Parallel(n_jobs=1)]: Using backend SequentialBackend with 1 concurrent workers.\n",
      "[Parallel(n_jobs=1)]: Done   1 out of   1 | elapsed:  1.5min remaining:    0.0s\n",
      "[Parallel(n_jobs=1)]: Done   2 out of   2 | elapsed:  3.2min remaining:    0.0s\n",
      "[Parallel(n_jobs=1)]: Done   5 out of   5 | elapsed:  8.6min finished\n"
     ]
    }
   ],
   "source": [
    "y_pred48 = cross_val_predict(best48, X48, Y48, cv = 5, verbose = 3)"
   ]
  },
  {
   "cell_type": "code",
   "execution_count": 13,
   "id": "692e3551",
   "metadata": {},
   "outputs": [
    {
     "name": "stdout",
     "output_type": "stream",
     "text": [
      "              precision    recall  f1-score   support\n",
      "\n",
      "           0       0.71      0.99      0.82     10761\n",
      "           1       0.52      0.03      0.06      4521\n",
      "\n",
      "    accuracy                           0.70     15282\n",
      "   macro avg       0.61      0.51      0.44     15282\n",
      "weighted avg       0.65      0.70      0.60     15282\n",
      "\n"
     ]
    }
   ],
   "source": [
    "#CLASSIFICATION REPORT 24H\n",
    "print(classification_report(Y24, y_pred24))"
   ]
  },
  {
   "cell_type": "code",
   "execution_count": 14,
   "id": "f80c087e",
   "metadata": {},
   "outputs": [
    {
     "name": "stdout",
     "output_type": "stream",
     "text": [
      "              precision    recall  f1-score   support\n",
      "\n",
      "           0       0.77      1.00      0.87      6021\n",
      "           1       0.36      0.00      0.00      1841\n",
      "\n",
      "    accuracy                           0.77      7862\n",
      "   macro avg       0.56      0.50      0.44      7862\n",
      "weighted avg       0.67      0.77      0.67      7862\n",
      "\n"
     ]
    }
   ],
   "source": [
    "#CLASSIFICATION REPORT 48H\n",
    "print(classification_report(Y48, y_pred48))"
   ]
  },
  {
   "cell_type": "code",
   "execution_count": 20,
   "id": "7fe7f751",
   "metadata": {},
   "outputs": [
    {
     "name": "stdout",
     "output_type": "stream",
     "text": [
      "Elapsed time to compute the importances: 0.073 seconds\n"
     ]
    },
    {
     "data": {
      "image/png": "[encoded data removed]",
      "text/plain": [
       "<Figure size 432x288 with 1 Axes>"
      ]
     },
     "metadata": {
      "needs_background": "light"
     },
     "output_type": "display_data"
    }
   ],
   "source": [
    "from sklearn.ensemble import RandomForestClassifier\n",
    "import matplotlib.pyplot as plt\n",
    "\n",
    "#FEATURES SELECTION BASED ON THEIR IMPORTANCE WITH A RANDOM FOREST CLASSIFIER \n",
    "feature_names24 = [f'feature {i}' for i in range(X24.shape[1])]\n",
    "forest = RandomForestClassifier(random_state=0)\n",
    "forest.fit(X_train24, y_train24)\n",
    "\n",
    "import time\n",
    "\n",
    "start_time24 = time.time()\n",
    "importances24 = forest.feature_importances_\n",
    "std = np.std([\n",
    "    tree.feature_importances_ for tree in forest.estimators_], axis=0)\n",
    "elapsed_time24 = time.time() - start_time24\n",
    "\n",
    "print(f\"Elapsed time to compute the importances: \"\n",
    "      f\"{elapsed_time24:.3f} seconds\")\n",
    "\n",
    "forest_importances24 = pd.Series(importances24, index=chart24.columns[2:])\n",
    "\n",
    "fig, ax = plt.subplots()\n",
    "forest_importances24.plot.bar(yerr=std, ax=ax)\n",
    "ax.set_title(\"Feature importances using MDI\")\n",
    "ax.set_ylabel(\"Mean decrease in impurity\")\n",
    "fig.tight_layout()\n"
   ]
  },
  {
   "cell_type": "code",
   "execution_count": 18,
   "id": "7b06d687",
   "metadata": {},
   "outputs": [
    {
     "name": "stdout",
     "output_type": "stream",
     "text": [
      "Feature: 0, Score: 0.03420\n",
      "Feature: 1, Score: 0.03156\n",
      "Feature: 2, Score: 0.03269\n",
      "Feature: 3, Score: 0.02370\n",
      "Feature: 4, Score: 0.03623\n",
      "Feature: 5, Score: 0.03328\n",
      "Feature: 6, Score: 0.03321\n",
      "Feature: 7, Score: 0.02286\n",
      "Feature: 8, Score: 0.04111\n",
      "Feature: 9, Score: 0.03343\n",
      "Feature: 10, Score: 0.03396\n",
      "Feature: 11, Score: 0.02209\n",
      "Feature: 12, Score: 0.03525\n",
      "Feature: 13, Score: 0.02994\n",
      "Feature: 14, Score: 0.03309\n",
      "Feature: 15, Score: 0.02440\n",
      "Feature: 16, Score: 0.04136\n",
      "Feature: 17, Score: 0.02557\n",
      "Feature: 18, Score: 0.02872\n",
      "Feature: 19, Score: 0.03497\n",
      "Feature: 20, Score: 0.04016\n",
      "Feature: 21, Score: 0.03511\n",
      "Feature: 22, Score: 0.03612\n",
      "Feature: 23, Score: 0.02308\n",
      "Feature: 24, Score: 0.03813\n",
      "Feature: 25, Score: 0.02817\n",
      "Feature: 26, Score: 0.00761\n",
      "Feature: 27, Score: 0.02499\n",
      "Feature: 28, Score: 0.03551\n",
      "Feature: 29, Score: 0.03646\n",
      "Feature: 30, Score: 0.03503\n",
      "Feature: 31, Score: 0.02802\n"
     ]
    }
   ],
   "source": [
    "for i,v in enumerate(importances24):\n",
    "    print('Feature: %0d, Score: %.5f' % (i,v))"
   ]
  },
  {
   "cell_type": "code",
   "execution_count": 19,
   "id": "aa7285e0",
   "metadata": {},
   "outputs": [
    {
     "name": "stdout",
     "output_type": "stream",
     "text": [
      "Elapsed time to compute the importances: 0.059 seconds\n"
     ]
    },
    {
     "data": {
      "image/png": "[encoded data removed]",
      "text/plain": [
       "<Figure size 432x288 with 1 Axes>"
      ]
     },
     "metadata": {
      "needs_background": "light"
     },
     "output_type": "display_data"
    }
   ],
   "source": [
    "#DO IT FOR THE 48H DCW NOW\n",
    "feature_names48 = [f'feature {i}' for i in range(X48.shape[1])]\n",
    "#forest = RandomForestClassifier(random_state=0)\n",
    "forest.fit(X_train48, y_train48)\n",
    "\n",
    "start_time48 = time.time()\n",
    "importances48 = forest.feature_importances_\n",
    "std = np.std([\n",
    "    tree.feature_importances_ for tree in forest.estimators_], axis=0)\n",
    "elapsed_time48 = time.time() - start_time48\n",
    "\n",
    "print(f\"Elapsed time to compute the importances: \"\n",
    "      f\"{elapsed_time48:.3f} seconds\")\n",
    "\n",
    "forest_importances48 = pd.Series(importances48, index=chart48.columns[2:])\n",
    "\n",
    "fig, ax = plt.subplots()\n",
    "forest_importances48.plot.bar(yerr=std, ax=ax)\n",
    "ax.set_title(\"Feature importances using MDI\")\n",
    "ax.set_ylabel(\"Mean decrease in impurity\")\n",
    "fig.tight_layout()\n"
   ]
  },
  {
   "cell_type": "code",
   "execution_count": 20,
   "id": "7524a6a1",
   "metadata": {},
   "outputs": [
    {
     "name": "stdout",
     "output_type": "stream",
     "text": [
      "Feature: 0, Score: 0.03416\n",
      "Feature: 1, Score: 0.03065\n",
      "Feature: 2, Score: 0.03061\n",
      "Feature: 3, Score: 0.02672\n",
      "Feature: 4, Score: 0.03590\n",
      "Feature: 5, Score: 0.03239\n",
      "Feature: 6, Score: 0.03464\n",
      "Feature: 7, Score: 0.02732\n",
      "Feature: 8, Score: 0.03725\n",
      "Feature: 9, Score: 0.02942\n",
      "Feature: 10, Score: 0.03315\n",
      "Feature: 11, Score: 0.02357\n",
      "Feature: 12, Score: 0.03744\n",
      "Feature: 13, Score: 0.02805\n",
      "Feature: 14, Score: 0.03377\n",
      "Feature: 15, Score: 0.02632\n",
      "Feature: 16, Score: 0.04002\n",
      "Feature: 17, Score: 0.02408\n",
      "Feature: 18, Score: 0.02944\n",
      "Feature: 19, Score: 0.03699\n",
      "Feature: 20, Score: 0.03955\n",
      "Feature: 21, Score: 0.03334\n",
      "Feature: 22, Score: 0.03150\n",
      "Feature: 23, Score: 0.02856\n",
      "Feature: 24, Score: 0.03763\n",
      "Feature: 25, Score: 0.02697\n",
      "Feature: 26, Score: 0.00529\n",
      "Feature: 27, Score: 0.02922\n",
      "Feature: 28, Score: 0.03591\n",
      "Feature: 29, Score: 0.03538\n",
      "Feature: 30, Score: 0.03381\n",
      "Feature: 31, Score: 0.03092\n"
     ]
    }
   ],
   "source": [
    "for i,v in enumerate(importances48):\n",
    "    print('Feature: %0d, Score: %.5f' % (i,v))"
   ]
  },
  {
   "cell_type": "markdown",
   "id": "f4d363d1",
   "metadata": {},
   "source": [
    "### Apply the cross_validate( ) function now:"
   ]
  },
  {
   "cell_type": "code",
   "execution_count": 5,
   "id": "ccde25fe",
   "metadata": {},
   "outputs": [],
   "source": [
    "#DEFINE THE METRICS \n",
    "scoring=['accuracy','precision','recall', 'roc_auc', 'f1']"
   ]
  },
  {
   "cell_type": "code",
   "execution_count": 8,
   "id": "88790b57",
   "metadata": {},
   "outputs": [],
   "source": [
    "p24 = Pipeline(steps=[('r', resample), ('m', best24)])\n",
    "\n",
    "scores24 = cross_validate(p24, X24, Y24, scoring = scoring, cv = 5)"
   ]
  },
  {
   "cell_type": "code",
   "execution_count": 10,
   "id": "df2e8778",
   "metadata": {},
   "outputs": [
    {
     "data": {
      "text/plain": [
       "0.6137287908448037"
      ]
     },
     "execution_count": 10,
     "metadata": {},
     "output_type": "execute_result"
    }
   ],
   "source": [
    "scores24['test_accuracy'].mean()"
   ]
  },
  {
   "cell_type": "code",
   "execution_count": 11,
   "id": "f82b8bc7",
   "metadata": {},
   "outputs": [
    {
     "data": {
      "text/plain": [
       "0.3847586713951897"
      ]
     },
     "execution_count": 11,
     "metadata": {},
     "output_type": "execute_result"
    }
   ],
   "source": [
    "scores24['test_precision'].mean()"
   ]
  },
  {
   "cell_type": "code",
   "execution_count": 12,
   "id": "3ee4d6e0",
   "metadata": {},
   "outputs": [
    {
     "data": {
      "text/plain": [
       "0.5107177431183689"
      ]
     },
     "execution_count": 12,
     "metadata": {},
     "output_type": "execute_result"
    }
   ],
   "source": [
    "scores24['test_recall'].mean()"
   ]
  },
  {
   "cell_type": "code",
   "execution_count": 13,
   "id": "8b19c6e0",
   "metadata": {},
   "outputs": [
    {
     "data": {
      "text/plain": [
       "0.43865472164952835"
      ]
     },
     "execution_count": 13,
     "metadata": {},
     "output_type": "execute_result"
    }
   ],
   "source": [
    "scores24['test_f1'].mean()"
   ]
  },
  {
   "cell_type": "code",
   "execution_count": 14,
   "id": "87ca4c90",
   "metadata": {},
   "outputs": [
    {
     "data": {
      "text/plain": [
       "0.6165054734401278"
      ]
     },
     "execution_count": 14,
     "metadata": {},
     "output_type": "execute_result"
    }
   ],
   "source": [
    "scores24['test_roc_auc'].mean()"
   ]
  },
  {
   "cell_type": "code",
   "execution_count": 9,
   "id": "337b46c4",
   "metadata": {},
   "outputs": [],
   "source": [
    "p48 = Pipeline(steps=[('r', resample), ('m', best48)])\n",
    "\n",
    "scores48 = cross_validate(p48, X48, Y48, scoring = scoring, cv = 5)"
   ]
  },
  {
   "cell_type": "code",
   "execution_count": 15,
   "id": "9dd0bc17",
   "metadata": {},
   "outputs": [
    {
     "data": {
      "text/plain": [
       "0.5910724713639357"
      ]
     },
     "execution_count": 15,
     "metadata": {},
     "output_type": "execute_result"
    }
   ],
   "source": [
    "scores48['test_accuracy'].mean()"
   ]
  },
  {
   "cell_type": "code",
   "execution_count": 16,
   "id": "3d74b951",
   "metadata": {},
   "outputs": [
    {
     "data": {
      "text/plain": [
       "0.29056488231070615"
      ]
     },
     "execution_count": 16,
     "metadata": {},
     "output_type": "execute_result"
    }
   ],
   "source": [
    "scores48['test_precision'].mean()"
   ]
  },
  {
   "cell_type": "code",
   "execution_count": 17,
   "id": "705ff5e8",
   "metadata": {},
   "outputs": [
    {
     "data": {
      "text/plain": [
       "0.5160318722752445"
      ]
     },
     "execution_count": 17,
     "metadata": {},
     "output_type": "execute_result"
    }
   ],
   "source": [
    "scores48['test_recall'].mean()"
   ]
  },
  {
   "cell_type": "code",
   "execution_count": 18,
   "id": "4c16c3e8",
   "metadata": {},
   "outputs": [
    {
     "data": {
      "text/plain": [
       "0.3717116943250528"
      ]
     },
     "execution_count": 18,
     "metadata": {},
     "output_type": "execute_result"
    }
   ],
   "source": [
    "scores48['test_f1'].mean()"
   ]
  },
  {
   "cell_type": "code",
   "execution_count": 19,
   "id": "3b75c1a9",
   "metadata": {},
   "outputs": [
    {
     "data": {
      "text/plain": [
       "0.593239463945384"
      ]
     },
     "execution_count": 19,
     "metadata": {},
     "output_type": "execute_result"
    }
   ],
   "source": [
    "scores48['test_roc_auc'].mean()"
   ]
  },
  {
   "cell_type": "code",
   "execution_count": null,
   "id": "1a1dfe0a",
   "metadata": {},
   "outputs": [],
   "source": []
  }
 ],
 "metadata": {
  "kernelspec": {
   "display_name": "Python 3",
   "language": "python",
   "name": "python3"
  },
  "language_info": {
   "codemirror_mode": {
    "name": "ipython",
    "version": 3
   },
   "file_extension": ".py",
   "mimetype": "text/x-python",
   "name": "python",
   "nbconvert_exporter": "python",
   "pygments_lexer": "ipython3",
   "version": "3.9.2"
  }
 },
 "nbformat": 4,
 "nbformat_minor": 5
}
