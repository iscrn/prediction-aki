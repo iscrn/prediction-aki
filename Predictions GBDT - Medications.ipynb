{
 "cells": [
  {
   "cell_type": "code",
   "execution_count": 2,
   "id": "4233c5fc",
   "metadata": {},
   "outputs": [],
   "source": [
    "import numpy as np  # for handling multi-dimensional array operation\n",
    "import pandas as pd  # for reading data from csv \n",
    "import statsmodels.api as sm  # for finding the p-value\n",
    "from sklearn.preprocessing import MinMaxScaler  # for normalization\n",
    "from sklearn.model_selection import train_test_split as tts\n",
    "from sklearn.metrics import accuracy_score \n",
    "from sklearn.metrics import confusion_matrix\n",
    "from sklearn.metrics import roc_curve\n",
    "from sklearn.metrics import roc_auc_score\n",
    "from sklearn.metrics import precision_score\n",
    "from sklearn.metrics import recall_score\n",
    "from sklearn.metrics import f1_score\n",
    "from sklearn.metrics import classification_report\n",
    "from sklearn.metrics import precision_recall_curve\n",
    "from sklearn.utils import shuffle\n",
    "from sklearn.ensemble import GradientBoostingClassifier\n",
    "from numpy import mean\n",
    "from sklearn.model_selection import GridSearchCV\n",
    "from imblearn.pipeline import Pipeline\n",
    "from imblearn.pipeline import make_pipeline\n",
    "from imblearn.combine import SMOTETomek\n",
    "from imblearn.under_sampling import TomekLinks\n",
    "from sklearn.model_selection import cross_val_score\n",
    "from sklearn.model_selection import cross_validate\n",
    "from sklearn.model_selection import cross_val_predict\n",
    "from sklearn.metrics import plot_confusion_matrix\n",
    "from sklearn.model_selection import RepeatedStratifiedKFold"
   ]
  },
  {
   "cell_type": "markdown",
   "id": "4717c9b5",
   "metadata": {},
   "source": [
    "## MEDICATIONS DATA"
   ]
  },
  {
   "cell_type": "code",
   "execution_count": 3,
   "id": "9f54e400",
   "metadata": {},
   "outputs": [],
   "source": [
    "med24 = pd.read_csv('./med24.csv')\n",
    "\n",
    "#EXTRACT FEATURES AND LABELS\n",
    "Y24 = med24['aki_flag'] \n",
    "X24 = med24.iloc[:,2:] \n",
    "\n",
    "#SPLIT DATASET INTO TRAINING AND TESTING SETS\n",
    "X_train24, X_test24, y_train24, y_test24 = tts(X24, Y24, test_size=0.3, random_state=42)"
   ]
  },
  {
   "cell_type": "code",
   "execution_count": 4,
   "id": "a58a127a",
   "metadata": {},
   "outputs": [],
   "source": [
    "med48 = pd.read_csv('./med48.csv')\n",
    "\n",
    "Y48 = med48['aki_flag'] #all rows of 'aki_flag' as LABELS\n",
    "X48 = med48.iloc[:,2:]  #features\n",
    "\n",
    "#SPLIT DATASET INTO TRAINING AND TESTING SETS\n",
    "X_train48, X_test48, y_train48, y_test48 = tts(X48, Y48, test_size=0.3, random_state=42)"
   ]
  },
  {
   "cell_type": "code",
   "execution_count": 5,
   "id": "89495dfb",
   "metadata": {},
   "outputs": [],
   "source": [
    "#APPLY THE SMOTE TOMEK-LINKS TECHNIQUE TO COPE WITH CLASS IMBALANCE PROBLEM \n",
    "resample = SMOTETomek(tomek=TomekLinks(sampling_strategy='majority'))\n",
    "\n",
    "#DEFINE THE PARAMETERS TO BE TESTED IN THE GRID SEARCH\n",
    "params = [\n",
    "  {'learning_rate':[0.1,0.05,0.01,1,0.5,0.25, 0.75], 'max_depth' :[1,2,3,4,5], 'n_estimators':[100,250,500]}\n",
    "] "
   ]
  },
  {
   "cell_type": "code",
   "execution_count": 6,
   "id": "8ed9994c",
   "metadata": {},
   "outputs": [],
   "source": [
    "gs24 = GridSearchCV(GradientBoostingClassifier(), params, refit = True, verbose = 3)\n",
    "p24 = Pipeline(steps=[('r', resample), ('gs', gs24)])\n",
    "\n",
    "gs48 = GridSearchCV(GradientBoostingClassifier(), params, refit = True, verbose = 3)\n",
    "p48 = Pipeline(steps=[('r', resample), ('gs', gs48)])"
   ]
  },
  {
   "cell_type": "markdown",
   "id": "a8933df6",
   "metadata": {},
   "source": [
    "Now fit the grid search and extract the best parameters/estimator to be used fro the prediction "
   ]
  },
  {
   "cell_type": "code",
   "execution_count": 7,
   "id": "b7f0f15a",
   "metadata": {},
   "outputs": [
    {
     "name": "stdout",
     "output_type": "stream",
     "text": [
      "Fitting 5 folds for each of 105 candidates, totalling 525 fits\n",
      "[CV 1/5] END learning_rate=0.1, max_depth=1, n_estimators=100;, score=0.706 total time=   4.3s\n",
      "[CV 2/5] END learning_rate=0.1, max_depth=1, n_estimators=100;, score=0.706 total time=   4.0s\n",
      "[CV 3/5] END learning_rate=0.1, max_depth=1, n_estimators=100;, score=0.705 total time=   4.1s\n",
      "[CV 4/5] END learning_rate=0.1, max_depth=1, n_estimators=100;, score=0.705 total time=   2.6s\n",
      "[CV 5/5] END learning_rate=0.1, max_depth=1, n_estimators=100;, score=0.705 total time=   2.6s\n",
      "[CV 1/5] END learning_rate=0.1, max_depth=1, n_estimators=250;, score=0.706 total time=   6.1s\n",
      "[CV 2/5] END learning_rate=0.1, max_depth=1, n_estimators=250;, score=0.706 total time=   6.0s\n",
      "[CV 3/5] END learning_rate=0.1, max_depth=1, n_estimators=250;, score=0.705 total time=   5.9s\n",
      "[CV 4/5] END learning_rate=0.1, max_depth=1, n_estimators=250;, score=0.705 total time=  10.1s\n",
      "[CV 5/5] END learning_rate=0.1, max_depth=1, n_estimators=250;, score=0.705 total time=   6.3s\n",
      "[CV 1/5] END learning_rate=0.1, max_depth=1, n_estimators=500;, score=0.706 total time=  12.4s\n",
      "[CV 2/5] END learning_rate=0.1, max_depth=1, n_estimators=500;, score=0.706 total time=  12.3s\n",
      "[CV 3/5] END learning_rate=0.1, max_depth=1, n_estimators=500;, score=0.705 total time=  14.4s\n",
      "[CV 4/5] END learning_rate=0.1, max_depth=1, n_estimators=500;, score=0.705 total time=  13.0s\n",
      "[CV 5/5] END learning_rate=0.1, max_depth=1, n_estimators=500;, score=0.705 total time=  13.1s\n",
      "[CV 1/5] END learning_rate=0.1, max_depth=2, n_estimators=100;, score=0.706 total time=   4.6s\n",
      "[CV 2/5] END learning_rate=0.1, max_depth=2, n_estimators=100;, score=0.706 total time=   3.3s\n",
      "[CV 3/5] END learning_rate=0.1, max_depth=2, n_estimators=100;, score=0.705 total time=   3.3s\n",
      "[CV 4/5] END learning_rate=0.1, max_depth=2, n_estimators=100;, score=0.705 total time=   2.8s\n",
      "[CV 5/5] END learning_rate=0.1, max_depth=2, n_estimators=100;, score=0.705 total time=   2.9s\n",
      "[CV 1/5] END learning_rate=0.1, max_depth=2, n_estimators=250;, score=0.706 total time=   7.6s\n",
      "[CV 2/5] END learning_rate=0.1, max_depth=2, n_estimators=250;, score=0.706 total time=   7.9s\n",
      "[CV 3/5] END learning_rate=0.1, max_depth=2, n_estimators=250;, score=0.705 total time=   7.2s\n",
      "[CV 4/5] END learning_rate=0.1, max_depth=2, n_estimators=250;, score=0.705 total time=   7.2s\n",
      "[CV 5/5] END learning_rate=0.1, max_depth=2, n_estimators=250;, score=0.705 total time=   7.1s\n",
      "[CV 1/5] END learning_rate=0.1, max_depth=2, n_estimators=500;, score=0.706 total time=  14.2s\n",
      "[CV 2/5] END learning_rate=0.1, max_depth=2, n_estimators=500;, score=0.706 total time=  15.7s\n",
      "[CV 3/5] END learning_rate=0.1, max_depth=2, n_estimators=500;, score=0.705 total time=  21.8s\n",
      "[CV 4/5] END learning_rate=0.1, max_depth=2, n_estimators=500;, score=0.705 total time=  19.8s\n",
      "[CV 5/5] END learning_rate=0.1, max_depth=2, n_estimators=500;, score=0.705 total time=  19.7s\n",
      "[CV 1/5] END learning_rate=0.1, max_depth=3, n_estimators=100;, score=0.706 total time=   4.3s\n",
      "[CV 2/5] END learning_rate=0.1, max_depth=3, n_estimators=100;, score=0.706 total time=   4.1s\n",
      "[CV 3/5] END learning_rate=0.1, max_depth=3, n_estimators=100;, score=0.705 total time=   5.3s\n",
      "[CV 4/5] END learning_rate=0.1, max_depth=3, n_estimators=100;, score=0.705 total time=   4.1s\n",
      "[CV 5/5] END learning_rate=0.1, max_depth=3, n_estimators=100;, score=0.705 total time=   3.7s\n",
      "[CV 1/5] END learning_rate=0.1, max_depth=3, n_estimators=250;, score=0.706 total time=   9.1s\n",
      "[CV 2/5] END learning_rate=0.1, max_depth=3, n_estimators=250;, score=0.706 total time=  12.8s\n",
      "[CV 3/5] END learning_rate=0.1, max_depth=3, n_estimators=250;, score=0.705 total time=  12.4s\n",
      "[CV 4/5] END learning_rate=0.1, max_depth=3, n_estimators=250;, score=0.705 total time=  13.3s\n",
      "[CV 5/5] END learning_rate=0.1, max_depth=3, n_estimators=250;, score=0.705 total time=  13.5s\n",
      "[CV 1/5] END learning_rate=0.1, max_depth=3, n_estimators=500;, score=0.706 total time=  21.8s\n",
      "[CV 2/5] END learning_rate=0.1, max_depth=3, n_estimators=500;, score=0.706 total time=  17.8s\n",
      "[CV 3/5] END learning_rate=0.1, max_depth=3, n_estimators=500;, score=0.705 total time=  26.2s\n",
      "[CV 4/5] END learning_rate=0.1, max_depth=3, n_estimators=500;, score=0.705 total time=  32.6s\n",
      "[CV 5/5] END learning_rate=0.1, max_depth=3, n_estimators=500;, score=0.705 total time=  24.3s\n",
      "[CV 1/5] END learning_rate=0.1, max_depth=4, n_estimators=100;, score=0.706 total time=   4.1s\n",
      "[CV 2/5] END learning_rate=0.1, max_depth=4, n_estimators=100;, score=0.706 total time=   5.4s\n",
      "[CV 3/5] END learning_rate=0.1, max_depth=4, n_estimators=100;, score=0.705 total time=   4.1s\n",
      "[CV 4/5] END learning_rate=0.1, max_depth=4, n_estimators=100;, score=0.705 total time=   4.0s\n",
      "[CV 5/5] END learning_rate=0.1, max_depth=4, n_estimators=100;, score=0.705 total time=   4.3s\n",
      "[CV 1/5] END learning_rate=0.1, max_depth=4, n_estimators=250;, score=0.706 total time=  12.1s\n",
      "[CV 2/5] END learning_rate=0.1, max_depth=4, n_estimators=250;, score=0.706 total time=  12.4s\n",
      "[CV 3/5] END learning_rate=0.1, max_depth=4, n_estimators=250;, score=0.705 total time=  11.9s\n",
      "[CV 4/5] END learning_rate=0.1, max_depth=4, n_estimators=250;, score=0.705 total time=  14.3s\n",
      "[CV 5/5] END learning_rate=0.1, max_depth=4, n_estimators=250;, score=0.705 total time=  14.7s\n",
      "[CV 1/5] END learning_rate=0.1, max_depth=4, n_estimators=500;, score=0.706 total time=  29.8s\n",
      "[CV 2/5] END learning_rate=0.1, max_depth=4, n_estimators=500;, score=0.706 total time=  30.2s\n",
      "[CV 3/5] END learning_rate=0.1, max_depth=4, n_estimators=500;, score=0.705 total time=  29.2s\n",
      "[CV 4/5] END learning_rate=0.1, max_depth=4, n_estimators=500;, score=0.705 total time=  35.2s\n",
      "[CV 5/5] END learning_rate=0.1, max_depth=4, n_estimators=500;, score=0.705 total time=  41.8s\n",
      "[CV 1/5] END learning_rate=0.1, max_depth=5, n_estimators=100;, score=0.706 total time=   8.1s\n",
      "[CV 2/5] END learning_rate=0.1, max_depth=5, n_estimators=100;, score=0.706 total time=   6.9s\n",
      "[CV 3/5] END learning_rate=0.1, max_depth=5, n_estimators=100;, score=0.705 total time=   7.9s\n",
      "[CV 4/5] END learning_rate=0.1, max_depth=5, n_estimators=100;, score=0.705 total time=   8.4s\n",
      "[CV 5/5] END learning_rate=0.1, max_depth=5, n_estimators=100;, score=0.705 total time=   8.5s\n",
      "[CV 1/5] END learning_rate=0.1, max_depth=5, n_estimators=250;, score=0.706 total time=  14.5s\n",
      "[CV 2/5] END learning_rate=0.1, max_depth=5, n_estimators=250;, score=0.706 total time=  14.0s\n",
      "[CV 3/5] END learning_rate=0.1, max_depth=5, n_estimators=250;, score=0.705 total time=  15.1s\n",
      "[CV 4/5] END learning_rate=0.1, max_depth=5, n_estimators=250;, score=0.705 total time=  14.0s\n",
      "[CV 5/5] END learning_rate=0.1, max_depth=5, n_estimators=250;, score=0.705 total time=  13.9s\n",
      "[CV 1/5] END learning_rate=0.1, max_depth=5, n_estimators=500;, score=0.706 total time=  27.2s\n",
      "[CV 2/5] END learning_rate=0.1, max_depth=5, n_estimators=500;, score=0.706 total time=  27.8s\n",
      "[CV 3/5] END learning_rate=0.1, max_depth=5, n_estimators=500;, score=0.705 total time=  27.9s\n",
      "[CV 4/5] END learning_rate=0.1, max_depth=5, n_estimators=500;, score=0.705 total time=  29.4s\n",
      "[CV 5/5] END learning_rate=0.1, max_depth=5, n_estimators=500;, score=0.705 total time=  29.5s\n",
      "[CV 1/5] END learning_rate=0.05, max_depth=1, n_estimators=100;, score=0.706 total time=   4.0s\n",
      "[CV 2/5] END learning_rate=0.05, max_depth=1, n_estimators=100;, score=0.706 total time=   4.0s\n",
      "[CV 3/5] END learning_rate=0.05, max_depth=1, n_estimators=100;, score=0.705 total time=   4.1s\n",
      "[CV 4/5] END learning_rate=0.05, max_depth=1, n_estimators=100;, score=0.705 total time=   4.0s\n",
      "[CV 5/5] END learning_rate=0.05, max_depth=1, n_estimators=100;, score=0.705 total time=   4.3s\n",
      "[CV 1/5] END learning_rate=0.05, max_depth=1, n_estimators=250;, score=0.706 total time=  12.0s\n",
      "[CV 2/5] END learning_rate=0.05, max_depth=1, n_estimators=250;, score=0.706 total time=  12.6s\n",
      "[CV 3/5] END learning_rate=0.05, max_depth=1, n_estimators=250;, score=0.705 total time=  12.9s\n",
      "[CV 4/5] END learning_rate=0.05, max_depth=1, n_estimators=250;, score=0.705 total time=  13.3s\n",
      "[CV 5/5] END learning_rate=0.05, max_depth=1, n_estimators=250;, score=0.705 total time=  12.4s\n",
      "[CV 1/5] END learning_rate=0.05, max_depth=1, n_estimators=500;, score=0.706 total time=  24.1s\n"
     ]
    },
    {
     "name": "stdout",
     "output_type": "stream",
     "text": [
      "[CV 2/5] END learning_rate=0.05, max_depth=1, n_estimators=500;, score=0.706 total time=  17.9s\n",
      "[CV 3/5] END learning_rate=0.05, max_depth=1, n_estimators=500;, score=0.705 total time=  20.4s\n",
      "[CV 4/5] END learning_rate=0.05, max_depth=1, n_estimators=500;, score=0.705 total time=  24.7s\n",
      "[CV 5/5] END learning_rate=0.05, max_depth=1, n_estimators=500;, score=0.705 total time=  22.8s\n",
      "[CV 1/5] END learning_rate=0.05, max_depth=2, n_estimators=100;, score=0.706 total time=   4.3s\n",
      "[CV 2/5] END learning_rate=0.05, max_depth=2, n_estimators=100;, score=0.706 total time=   4.2s\n",
      "[CV 3/5] END learning_rate=0.05, max_depth=2, n_estimators=100;, score=0.705 total time=   4.2s\n",
      "[CV 4/5] END learning_rate=0.05, max_depth=2, n_estimators=100;, score=0.705 total time=   4.2s\n",
      "[CV 5/5] END learning_rate=0.05, max_depth=2, n_estimators=100;, score=0.705 total time=   4.2s\n",
      "[CV 1/5] END learning_rate=0.05, max_depth=2, n_estimators=250;, score=0.706 total time=  10.9s\n",
      "[CV 2/5] END learning_rate=0.05, max_depth=2, n_estimators=250;, score=0.706 total time=  13.5s\n",
      "[CV 3/5] END learning_rate=0.05, max_depth=2, n_estimators=250;, score=0.705 total time=  10.5s\n",
      "[CV 4/5] END learning_rate=0.05, max_depth=2, n_estimators=250;, score=0.705 total time=  10.6s\n",
      "[CV 5/5] END learning_rate=0.05, max_depth=2, n_estimators=250;, score=0.705 total time=  10.4s\n",
      "[CV 1/5] END learning_rate=0.05, max_depth=2, n_estimators=500;, score=0.706 total time=  20.8s\n",
      "[CV 2/5] END learning_rate=0.05, max_depth=2, n_estimators=500;, score=0.706 total time=  21.0s\n",
      "[CV 3/5] END learning_rate=0.05, max_depth=2, n_estimators=500;, score=0.705 total time=  21.3s\n",
      "[CV 4/5] END learning_rate=0.05, max_depth=2, n_estimators=500;, score=0.705 total time=  20.9s\n",
      "[CV 5/5] END learning_rate=0.05, max_depth=2, n_estimators=500;, score=0.705 total time=  20.9s\n",
      "[CV 1/5] END learning_rate=0.05, max_depth=3, n_estimators=100;, score=0.706 total time=   4.8s\n",
      "[CV 2/5] END learning_rate=0.05, max_depth=3, n_estimators=100;, score=0.706 total time=   4.8s\n",
      "[CV 3/5] END learning_rate=0.05, max_depth=3, n_estimators=100;, score=0.705 total time=   4.8s\n",
      "[CV 4/5] END learning_rate=0.05, max_depth=3, n_estimators=100;, score=0.705 total time=   4.9s\n",
      "[CV 5/5] END learning_rate=0.05, max_depth=3, n_estimators=100;, score=0.705 total time=   4.9s\n",
      "[CV 1/5] END learning_rate=0.05, max_depth=3, n_estimators=250;, score=0.706 total time=  11.9s\n",
      "[CV 2/5] END learning_rate=0.05, max_depth=3, n_estimators=250;, score=0.706 total time=  12.2s\n",
      "[CV 3/5] END learning_rate=0.05, max_depth=3, n_estimators=250;, score=0.705 total time=  13.6s\n",
      "[CV 4/5] END learning_rate=0.05, max_depth=3, n_estimators=250;, score=0.705 total time=  12.3s\n",
      "[CV 5/5] END learning_rate=0.05, max_depth=3, n_estimators=250;, score=0.705 total time=  12.2s\n",
      "[CV 1/5] END learning_rate=0.05, max_depth=3, n_estimators=500;, score=0.706 total time=  23.6s\n",
      "[CV 2/5] END learning_rate=0.05, max_depth=3, n_estimators=500;, score=0.706 total time=  23.6s\n",
      "[CV 3/5] END learning_rate=0.05, max_depth=3, n_estimators=500;, score=0.705 total time=  23.5s\n",
      "[CV 4/5] END learning_rate=0.05, max_depth=3, n_estimators=500;, score=0.705 total time=  25.1s\n",
      "[CV 5/5] END learning_rate=0.05, max_depth=3, n_estimators=500;, score=0.705 total time=  29.6s\n",
      "[CV 1/5] END learning_rate=0.05, max_depth=4, n_estimators=100;, score=0.706 total time=   5.6s\n",
      "[CV 2/5] END learning_rate=0.05, max_depth=4, n_estimators=100;, score=0.706 total time=   5.3s\n",
      "[CV 3/5] END learning_rate=0.05, max_depth=4, n_estimators=100;, score=0.705 total time=   5.2s\n",
      "[CV 4/5] END learning_rate=0.05, max_depth=4, n_estimators=100;, score=0.705 total time=   5.2s\n",
      "[CV 5/5] END learning_rate=0.05, max_depth=4, n_estimators=100;, score=0.705 total time=   5.8s\n",
      "[CV 1/5] END learning_rate=0.05, max_depth=4, n_estimators=250;, score=0.706 total time=  12.7s\n",
      "[CV 2/5] END learning_rate=0.05, max_depth=4, n_estimators=250;, score=0.706 total time=  13.2s\n",
      "[CV 3/5] END learning_rate=0.05, max_depth=4, n_estimators=250;, score=0.705 total time=  13.4s\n",
      "[CV 4/5] END learning_rate=0.05, max_depth=4, n_estimators=250;, score=0.705 total time=  14.1s\n",
      "[CV 5/5] END learning_rate=0.05, max_depth=4, n_estimators=250;, score=0.705 total time=  14.7s\n",
      "[CV 1/5] END learning_rate=0.05, max_depth=4, n_estimators=500;, score=0.706 total time=  26.7s\n",
      "[CV 2/5] END learning_rate=0.05, max_depth=4, n_estimators=500;, score=0.706 total time=  25.8s\n",
      "[CV 3/5] END learning_rate=0.05, max_depth=4, n_estimators=500;, score=0.705 total time=  25.9s\n",
      "[CV 4/5] END learning_rate=0.05, max_depth=4, n_estimators=500;, score=0.705 total time=  26.3s\n",
      "[CV 5/5] END learning_rate=0.05, max_depth=4, n_estimators=500;, score=0.705 total time=  27.5s\n",
      "[CV 1/5] END learning_rate=0.05, max_depth=5, n_estimators=100;, score=0.706 total time=   5.4s\n",
      "[CV 2/5] END learning_rate=0.05, max_depth=5, n_estimators=100;, score=0.706 total time=   5.6s\n",
      "[CV 3/5] END learning_rate=0.05, max_depth=5, n_estimators=100;, score=0.705 total time=   5.5s\n",
      "[CV 4/5] END learning_rate=0.05, max_depth=5, n_estimators=100;, score=0.705 total time=   5.3s\n",
      "[CV 5/5] END learning_rate=0.05, max_depth=5, n_estimators=100;, score=0.705 total time=   5.3s\n",
      "[CV 1/5] END learning_rate=0.05, max_depth=5, n_estimators=250;, score=0.706 total time=  12.6s\n",
      "[CV 2/5] END learning_rate=0.05, max_depth=5, n_estimators=250;, score=0.706 total time=  13.1s\n",
      "[CV 3/5] END learning_rate=0.05, max_depth=5, n_estimators=250;, score=0.705 total time=  13.8s\n",
      "[CV 4/5] END learning_rate=0.05, max_depth=5, n_estimators=250;, score=0.705 total time=  14.0s\n",
      "[CV 5/5] END learning_rate=0.05, max_depth=5, n_estimators=250;, score=0.705 total time=  13.9s\n",
      "[CV 1/5] END learning_rate=0.05, max_depth=5, n_estimators=500;, score=0.706 total time=  27.1s\n",
      "[CV 2/5] END learning_rate=0.05, max_depth=5, n_estimators=500;, score=0.706 total time=  28.1s\n",
      "[CV 3/5] END learning_rate=0.05, max_depth=5, n_estimators=500;, score=0.705 total time=  27.1s\n",
      "[CV 4/5] END learning_rate=0.05, max_depth=5, n_estimators=500;, score=0.705 total time=  27.5s\n",
      "[CV 5/5] END learning_rate=0.05, max_depth=5, n_estimators=500;, score=0.705 total time=  27.8s\n",
      "[CV 1/5] END learning_rate=0.01, max_depth=1, n_estimators=100;, score=0.706 total time=   4.0s\n",
      "[CV 2/5] END learning_rate=0.01, max_depth=1, n_estimators=100;, score=0.706 total time=   4.0s\n",
      "[CV 3/5] END learning_rate=0.01, max_depth=1, n_estimators=100;, score=0.705 total time=   4.0s\n",
      "[CV 4/5] END learning_rate=0.01, max_depth=1, n_estimators=100;, score=0.705 total time=   4.1s\n",
      "[CV 5/5] END learning_rate=0.01, max_depth=1, n_estimators=100;, score=0.705 total time=   4.1s\n",
      "[CV 1/5] END learning_rate=0.01, max_depth=1, n_estimators=250;, score=0.706 total time=  10.0s\n",
      "[CV 2/5] END learning_rate=0.01, max_depth=1, n_estimators=250;, score=0.706 total time=  10.6s\n",
      "[CV 3/5] END learning_rate=0.01, max_depth=1, n_estimators=250;, score=0.705 total time=  10.9s\n",
      "[CV 4/5] END learning_rate=0.01, max_depth=1, n_estimators=250;, score=0.705 total time=  10.7s\n",
      "[CV 5/5] END learning_rate=0.01, max_depth=1, n_estimators=250;, score=0.705 total time=  10.3s\n",
      "[CV 1/5] END learning_rate=0.01, max_depth=1, n_estimators=500;, score=0.706 total time=  20.2s\n",
      "[CV 2/5] END learning_rate=0.01, max_depth=1, n_estimators=500;, score=0.706 total time=  20.3s\n",
      "[CV 3/5] END learning_rate=0.01, max_depth=1, n_estimators=500;, score=0.705 total time=  22.5s\n",
      "[CV 4/5] END learning_rate=0.01, max_depth=1, n_estimators=500;, score=0.705 total time=  20.6s\n",
      "[CV 5/5] END learning_rate=0.01, max_depth=1, n_estimators=500;, score=0.705 total time=  20.0s\n",
      "[CV 1/5] END learning_rate=0.01, max_depth=2, n_estimators=100;, score=0.706 total time=   4.8s\n",
      "[CV 2/5] END learning_rate=0.01, max_depth=2, n_estimators=100;, score=0.706 total time=   4.7s\n",
      "[CV 3/5] END learning_rate=0.01, max_depth=2, n_estimators=100;, score=0.705 total time=   5.6s\n",
      "[CV 4/5] END learning_rate=0.01, max_depth=2, n_estimators=100;, score=0.705 total time=   5.4s\n",
      "[CV 5/5] END learning_rate=0.01, max_depth=2, n_estimators=100;, score=0.705 total time=   7.7s\n",
      "[CV 1/5] END learning_rate=0.01, max_depth=2, n_estimators=250;, score=0.706 total time=  15.4s\n",
      "[CV 2/5] END learning_rate=0.01, max_depth=2, n_estimators=250;, score=0.706 total time=  16.6s\n"
     ]
    },
    {
     "name": "stdout",
     "output_type": "stream",
     "text": [
      "[CV 3/5] END learning_rate=0.01, max_depth=2, n_estimators=250;, score=0.705 total time=  18.2s\n",
      "[CV 4/5] END learning_rate=0.01, max_depth=2, n_estimators=250;, score=0.705 total time=  12.6s\n",
      "[CV 5/5] END learning_rate=0.01, max_depth=2, n_estimators=250;, score=0.705 total time=  12.7s\n",
      "[CV 1/5] END learning_rate=0.01, max_depth=2, n_estimators=500;, score=0.706 total time=  24.8s\n",
      "[CV 2/5] END learning_rate=0.01, max_depth=2, n_estimators=500;, score=0.706 total time=  33.1s\n",
      "[CV 3/5] END learning_rate=0.01, max_depth=2, n_estimators=500;, score=0.705 total time=  32.8s\n",
      "[CV 4/5] END learning_rate=0.01, max_depth=2, n_estimators=500;, score=0.705 total time=  24.5s\n",
      "[CV 5/5] END learning_rate=0.01, max_depth=2, n_estimators=500;, score=0.705 total time=  27.3s\n",
      "[CV 1/5] END learning_rate=0.01, max_depth=3, n_estimators=100;, score=0.706 total time=   5.8s\n",
      "[CV 2/5] END learning_rate=0.01, max_depth=3, n_estimators=100;, score=0.706 total time=   5.5s\n",
      "[CV 3/5] END learning_rate=0.01, max_depth=3, n_estimators=100;, score=0.705 total time=   5.6s\n",
      "[CV 4/5] END learning_rate=0.01, max_depth=3, n_estimators=100;, score=0.705 total time=   6.0s\n",
      "[CV 5/5] END learning_rate=0.01, max_depth=3, n_estimators=100;, score=0.705 total time=   5.8s\n",
      "[CV 1/5] END learning_rate=0.01, max_depth=3, n_estimators=250;, score=0.706 total time=  14.4s\n",
      "[CV 2/5] END learning_rate=0.01, max_depth=3, n_estimators=250;, score=0.706 total time=  13.5s\n",
      "[CV 3/5] END learning_rate=0.01, max_depth=3, n_estimators=250;, score=0.705 total time=  13.2s\n",
      "[CV 4/5] END learning_rate=0.01, max_depth=3, n_estimators=250;, score=0.705 total time=  12.8s\n",
      "[CV 5/5] END learning_rate=0.01, max_depth=3, n_estimators=250;, score=0.705 total time=  13.1s\n",
      "[CV 1/5] END learning_rate=0.01, max_depth=3, n_estimators=500;, score=0.706 total time=  25.0s\n",
      "[CV 2/5] END learning_rate=0.01, max_depth=3, n_estimators=500;, score=0.706 total time=  24.5s\n",
      "[CV 3/5] END learning_rate=0.01, max_depth=3, n_estimators=500;, score=0.705 total time=  24.4s\n",
      "[CV 4/5] END learning_rate=0.01, max_depth=3, n_estimators=500;, score=0.705 total time=  23.9s\n",
      "[CV 5/5] END learning_rate=0.01, max_depth=3, n_estimators=500;, score=0.705 total time=  23.7s\n",
      "[CV 1/5] END learning_rate=0.01, max_depth=4, n_estimators=100;, score=0.706 total time=   4.8s\n",
      "[CV 2/5] END learning_rate=0.01, max_depth=4, n_estimators=100;, score=0.706 total time=   4.9s\n",
      "[CV 3/5] END learning_rate=0.01, max_depth=4, n_estimators=100;, score=0.705 total time=   4.9s\n",
      "[CV 4/5] END learning_rate=0.01, max_depth=4, n_estimators=100;, score=0.705 total time=   4.9s\n",
      "[CV 5/5] END learning_rate=0.01, max_depth=4, n_estimators=100;, score=0.705 total time=   4.9s\n",
      "[CV 1/5] END learning_rate=0.01, max_depth=4, n_estimators=250;, score=0.706 total time=  11.8s\n",
      "[CV 2/5] END learning_rate=0.01, max_depth=4, n_estimators=250;, score=0.706 total time=  12.1s\n",
      "[CV 3/5] END learning_rate=0.01, max_depth=4, n_estimators=250;, score=0.705 total time=  12.1s\n",
      "[CV 4/5] END learning_rate=0.01, max_depth=4, n_estimators=250;, score=0.705 total time=  12.5s\n",
      "[CV 5/5] END learning_rate=0.01, max_depth=4, n_estimators=250;, score=0.705 total time=  12.1s\n",
      "[CV 1/5] END learning_rate=0.01, max_depth=4, n_estimators=500;, score=0.706 total time=  23.4s\n",
      "[CV 2/5] END learning_rate=0.01, max_depth=4, n_estimators=500;, score=0.706 total time=  25.0s\n",
      "[CV 3/5] END learning_rate=0.01, max_depth=4, n_estimators=500;, score=0.705 total time=  24.4s\n",
      "[CV 4/5] END learning_rate=0.01, max_depth=4, n_estimators=500;, score=0.705 total time=  24.7s\n",
      "[CV 5/5] END learning_rate=0.01, max_depth=4, n_estimators=500;, score=0.705 total time=  24.6s\n",
      "[CV 1/5] END learning_rate=0.01, max_depth=5, n_estimators=100;, score=0.706 total time=   4.9s\n",
      "[CV 2/5] END learning_rate=0.01, max_depth=5, n_estimators=100;, score=0.706 total time=   5.1s\n",
      "[CV 3/5] END learning_rate=0.01, max_depth=5, n_estimators=100;, score=0.705 total time=   5.0s\n",
      "[CV 4/5] END learning_rate=0.01, max_depth=5, n_estimators=100;, score=0.705 total time=   5.0s\n",
      "[CV 5/5] END learning_rate=0.01, max_depth=5, n_estimators=100;, score=0.705 total time=   5.0s\n",
      "[CV 1/5] END learning_rate=0.01, max_depth=5, n_estimators=250;, score=0.706 total time=  12.0s\n",
      "[CV 2/5] END learning_rate=0.01, max_depth=5, n_estimators=250;, score=0.706 total time=  12.3s\n",
      "[CV 3/5] END learning_rate=0.01, max_depth=5, n_estimators=250;, score=0.705 total time=  12.3s\n",
      "[CV 4/5] END learning_rate=0.01, max_depth=5, n_estimators=250;, score=0.705 total time=  12.3s\n",
      "[CV 5/5] END learning_rate=0.01, max_depth=5, n_estimators=250;, score=0.705 total time=  12.2s\n",
      "[CV 1/5] END learning_rate=0.01, max_depth=5, n_estimators=500;, score=0.706 total time=  23.7s\n",
      "[CV 2/5] END learning_rate=0.01, max_depth=5, n_estimators=500;, score=0.706 total time=  24.5s\n",
      "[CV 3/5] END learning_rate=0.01, max_depth=5, n_estimators=500;, score=0.705 total time=  24.7s\n",
      "[CV 4/5] END learning_rate=0.01, max_depth=5, n_estimators=500;, score=0.705 total time=  24.6s\n",
      "[CV 5/5] END learning_rate=0.01, max_depth=5, n_estimators=500;, score=0.705 total time=  24.8s\n",
      "[CV 1/5] END learning_rate=1, max_depth=1, n_estimators=100;, score=0.706 total time=   3.8s\n",
      "[CV 2/5] END learning_rate=1, max_depth=1, n_estimators=100;, score=0.706 total time=   3.7s\n",
      "[CV 3/5] END learning_rate=1, max_depth=1, n_estimators=100;, score=0.705 total time=   3.6s\n",
      "[CV 4/5] END learning_rate=1, max_depth=1, n_estimators=100;, score=0.705 total time=   3.6s\n",
      "[CV 5/5] END learning_rate=1, max_depth=1, n_estimators=100;, score=0.705 total time=   3.6s\n",
      "[CV 1/5] END learning_rate=1, max_depth=1, n_estimators=250;, score=0.706 total time=   8.9s\n",
      "[CV 2/5] END learning_rate=1, max_depth=1, n_estimators=250;, score=0.706 total time=   8.9s\n",
      "[CV 3/5] END learning_rate=1, max_depth=1, n_estimators=250;, score=0.705 total time=   9.0s\n",
      "[CV 4/5] END learning_rate=1, max_depth=1, n_estimators=250;, score=0.705 total time=   9.0s\n",
      "[CV 5/5] END learning_rate=1, max_depth=1, n_estimators=250;, score=0.705 total time=   9.0s\n",
      "[CV 1/5] END learning_rate=1, max_depth=1, n_estimators=500;, score=0.706 total time=  18.1s\n",
      "[CV 2/5] END learning_rate=1, max_depth=1, n_estimators=500;, score=0.706 total time=  18.2s\n",
      "[CV 3/5] END learning_rate=1, max_depth=1, n_estimators=500;, score=0.705 total time=  18.8s\n",
      "[CV 4/5] END learning_rate=1, max_depth=1, n_estimators=500;, score=0.705 total time=  18.4s\n",
      "[CV 5/5] END learning_rate=1, max_depth=1, n_estimators=500;, score=0.705 total time=  18.0s\n",
      "[CV 1/5] END learning_rate=1, max_depth=2, n_estimators=100;, score=0.706 total time=   4.3s\n",
      "[CV 2/5] END learning_rate=1, max_depth=2, n_estimators=100;, score=0.706 total time=   4.3s\n",
      "[CV 3/5] END learning_rate=1, max_depth=2, n_estimators=100;, score=0.705 total time=   4.3s\n",
      "[CV 4/5] END learning_rate=1, max_depth=2, n_estimators=100;, score=0.705 total time=   4.4s\n",
      "[CV 5/5] END learning_rate=1, max_depth=2, n_estimators=100;, score=0.705 total time=   4.1s\n",
      "[CV 1/5] END learning_rate=1, max_depth=2, n_estimators=250;, score=0.706 total time=  10.8s\n",
      "[CV 2/5] END learning_rate=1, max_depth=2, n_estimators=250;, score=0.706 total time=  10.7s\n",
      "[CV 3/5] END learning_rate=1, max_depth=2, n_estimators=250;, score=0.705 total time=  10.7s\n",
      "[CV 4/5] END learning_rate=1, max_depth=2, n_estimators=250;, score=0.705 total time=  10.7s\n",
      "[CV 5/5] END learning_rate=1, max_depth=2, n_estimators=250;, score=0.705 total time=  10.8s\n",
      "[CV 1/5] END learning_rate=1, max_depth=2, n_estimators=500;, score=0.706 total time=  21.8s\n",
      "[CV 2/5] END learning_rate=1, max_depth=2, n_estimators=500;, score=0.706 total time=  22.5s\n",
      "[CV 3/5] END learning_rate=1, max_depth=2, n_estimators=500;, score=0.705 total time=  21.8s\n",
      "[CV 4/5] END learning_rate=1, max_depth=2, n_estimators=500;, score=0.705 total time=  23.8s\n",
      "[CV 5/5] END learning_rate=1, max_depth=2, n_estimators=500;, score=0.705 total time=  26.1s\n",
      "[CV 1/5] END learning_rate=1, max_depth=3, n_estimators=100;, score=0.706 total time=   6.5s\n",
      "[CV 2/5] END learning_rate=1, max_depth=3, n_estimators=100;, score=0.706 total time=   5.8s\n",
      "[CV 3/5] END learning_rate=1, max_depth=3, n_estimators=100;, score=0.705 total time=   5.4s\n",
      "[CV 4/5] END learning_rate=1, max_depth=3, n_estimators=100;, score=0.705 total time=   4.7s\n"
     ]
    },
    {
     "name": "stdout",
     "output_type": "stream",
     "text": [
      "[CV 5/5] END learning_rate=1, max_depth=3, n_estimators=100;, score=0.705 total time=   4.2s\n",
      "[CV 1/5] END learning_rate=1, max_depth=3, n_estimators=250;, score=0.706 total time=  10.9s\n",
      "[CV 2/5] END learning_rate=1, max_depth=3, n_estimators=250;, score=0.706 total time=  10.0s\n",
      "[CV 3/5] END learning_rate=1, max_depth=3, n_estimators=250;, score=0.705 total time=  14.8s\n",
      "[CV 4/5] END learning_rate=1, max_depth=3, n_estimators=250;, score=0.705 total time=  17.1s\n",
      "[CV 5/5] END learning_rate=1, max_depth=3, n_estimators=250;, score=0.705 total time=  15.1s\n",
      "[CV 1/5] END learning_rate=1, max_depth=3, n_estimators=500;, score=0.706 total time=  24.3s\n",
      "[CV 2/5] END learning_rate=1, max_depth=3, n_estimators=500;, score=0.706 total time=  27.6s\n",
      "[CV 3/5] END learning_rate=1, max_depth=3, n_estimators=500;, score=0.705 total time=  23.0s\n",
      "[CV 4/5] END learning_rate=1, max_depth=3, n_estimators=500;, score=0.705 total time=  15.7s\n",
      "[CV 5/5] END learning_rate=1, max_depth=3, n_estimators=500;, score=0.705 total time=  18.6s\n",
      "[CV 1/5] END learning_rate=1, max_depth=4, n_estimators=100;, score=0.706 total time=   4.4s\n",
      "[CV 2/5] END learning_rate=1, max_depth=4, n_estimators=100;, score=0.706 total time=   3.5s\n",
      "[CV 3/5] END learning_rate=1, max_depth=4, n_estimators=100;, score=0.705 total time=   3.9s\n",
      "[CV 4/5] END learning_rate=1, max_depth=4, n_estimators=100;, score=0.705 total time=   3.5s\n",
      "[CV 5/5] END learning_rate=1, max_depth=4, n_estimators=100;, score=0.705 total time=   3.5s\n",
      "[CV 1/5] END learning_rate=1, max_depth=4, n_estimators=250;, score=0.706 total time=   8.4s\n",
      "[CV 2/5] END learning_rate=1, max_depth=4, n_estimators=250;, score=0.706 total time=  16.7s\n",
      "[CV 3/5] END learning_rate=1, max_depth=4, n_estimators=250;, score=0.705 total time=  17.1s\n",
      "[CV 4/5] END learning_rate=1, max_depth=4, n_estimators=250;, score=0.705 total time=  13.9s\n",
      "[CV 5/5] END learning_rate=1, max_depth=4, n_estimators=250;, score=0.705 total time=  11.2s\n",
      "[CV 1/5] END learning_rate=1, max_depth=4, n_estimators=500;, score=0.706 total time=  24.3s\n",
      "[CV 2/5] END learning_rate=1, max_depth=4, n_estimators=500;, score=0.706 total time=  29.6s\n",
      "[CV 3/5] END learning_rate=1, max_depth=4, n_estimators=500;, score=0.705 total time=  20.9s\n",
      "[CV 4/5] END learning_rate=1, max_depth=4, n_estimators=500;, score=0.705 total time=  24.4s\n",
      "[CV 5/5] END learning_rate=1, max_depth=4, n_estimators=500;, score=0.705 total time=  21.3s\n",
      "[CV 1/5] END learning_rate=1, max_depth=5, n_estimators=100;, score=0.706 total time=   4.9s\n",
      "[CV 2/5] END learning_rate=1, max_depth=5, n_estimators=100;, score=0.706 total time=   4.1s\n",
      "[CV 3/5] END learning_rate=1, max_depth=5, n_estimators=100;, score=0.705 total time=   4.2s\n",
      "[CV 4/5] END learning_rate=1, max_depth=5, n_estimators=100;, score=0.705 total time=   3.8s\n",
      "[CV 5/5] END learning_rate=1, max_depth=5, n_estimators=100;, score=0.705 total time=   4.1s\n",
      "[CV 1/5] END learning_rate=1, max_depth=5, n_estimators=250;, score=0.706 total time=  11.2s\n",
      "[CV 2/5] END learning_rate=1, max_depth=5, n_estimators=250;, score=0.706 total time=  11.0s\n",
      "[CV 3/5] END learning_rate=1, max_depth=5, n_estimators=250;, score=0.705 total time=  12.0s\n",
      "[CV 4/5] END learning_rate=1, max_depth=5, n_estimators=250;, score=0.705 total time=   9.7s\n",
      "[CV 5/5] END learning_rate=1, max_depth=5, n_estimators=250;, score=0.705 total time=  11.9s\n",
      "[CV 1/5] END learning_rate=1, max_depth=5, n_estimators=500;, score=0.706 total time=  19.7s\n",
      "[CV 2/5] END learning_rate=1, max_depth=5, n_estimators=500;, score=0.706 total time=  21.7s\n",
      "[CV 3/5] END learning_rate=1, max_depth=5, n_estimators=500;, score=0.705 total time=  19.5s\n",
      "[CV 4/5] END learning_rate=1, max_depth=5, n_estimators=500;, score=0.705 total time=  21.5s\n",
      "[CV 5/5] END learning_rate=1, max_depth=5, n_estimators=500;, score=0.705 total time=  22.6s\n",
      "[CV 1/5] END learning_rate=0.5, max_depth=1, n_estimators=100;, score=0.706 total time=   3.0s\n",
      "[CV 2/5] END learning_rate=0.5, max_depth=1, n_estimators=100;, score=0.706 total time=   3.4s\n",
      "[CV 3/5] END learning_rate=0.5, max_depth=1, n_estimators=100;, score=0.705 total time=   3.4s\n",
      "[CV 4/5] END learning_rate=0.5, max_depth=1, n_estimators=100;, score=0.705 total time=   3.9s\n",
      "[CV 5/5] END learning_rate=0.5, max_depth=1, n_estimators=100;, score=0.705 total time=   3.9s\n",
      "[CV 1/5] END learning_rate=0.5, max_depth=1, n_estimators=250;, score=0.706 total time=   8.3s\n",
      "[CV 2/5] END learning_rate=0.5, max_depth=1, n_estimators=250;, score=0.706 total time=   9.4s\n",
      "[CV 3/5] END learning_rate=0.5, max_depth=1, n_estimators=250;, score=0.705 total time=   8.9s\n",
      "[CV 4/5] END learning_rate=0.5, max_depth=1, n_estimators=250;, score=0.705 total time=   8.4s\n",
      "[CV 5/5] END learning_rate=0.5, max_depth=1, n_estimators=250;, score=0.705 total time=   7.0s\n",
      "[CV 1/5] END learning_rate=0.5, max_depth=1, n_estimators=500;, score=0.706 total time=  15.6s\n",
      "[CV 2/5] END learning_rate=0.5, max_depth=1, n_estimators=500;, score=0.706 total time=  15.6s\n",
      "[CV 3/5] END learning_rate=0.5, max_depth=1, n_estimators=500;, score=0.705 total time=  14.9s\n",
      "[CV 4/5] END learning_rate=0.5, max_depth=1, n_estimators=500;, score=0.705 total time=  14.9s\n",
      "[CV 5/5] END learning_rate=0.5, max_depth=1, n_estimators=500;, score=0.705 total time=  16.2s\n",
      "[CV 1/5] END learning_rate=0.5, max_depth=2, n_estimators=100;, score=0.706 total time=   3.8s\n",
      "[CV 2/5] END learning_rate=0.5, max_depth=2, n_estimators=100;, score=0.706 total time=   3.9s\n",
      "[CV 3/5] END learning_rate=0.5, max_depth=2, n_estimators=100;, score=0.705 total time=   3.4s\n",
      "[CV 4/5] END learning_rate=0.5, max_depth=2, n_estimators=100;, score=0.705 total time=   3.3s\n",
      "[CV 5/5] END learning_rate=0.5, max_depth=2, n_estimators=100;, score=0.705 total time=   4.1s\n",
      "[CV 1/5] END learning_rate=0.5, max_depth=2, n_estimators=250;, score=0.706 total time=   9.3s\n",
      "[CV 2/5] END learning_rate=0.5, max_depth=2, n_estimators=250;, score=0.706 total time=   9.9s\n",
      "[CV 3/5] END learning_rate=0.5, max_depth=2, n_estimators=250;, score=0.705 total time=   8.6s\n",
      "[CV 4/5] END learning_rate=0.5, max_depth=2, n_estimators=250;, score=0.705 total time=  10.3s\n",
      "[CV 5/5] END learning_rate=0.5, max_depth=2, n_estimators=250;, score=0.705 total time=   8.2s\n",
      "[CV 1/5] END learning_rate=0.5, max_depth=2, n_estimators=500;, score=0.706 total time=  18.4s\n",
      "[CV 2/5] END learning_rate=0.5, max_depth=2, n_estimators=500;, score=0.706 total time=  20.0s\n",
      "[CV 3/5] END learning_rate=0.5, max_depth=2, n_estimators=500;, score=0.705 total time=  19.9s\n",
      "[CV 4/5] END learning_rate=0.5, max_depth=2, n_estimators=500;, score=0.705 total time=  16.4s\n",
      "[CV 5/5] END learning_rate=0.5, max_depth=2, n_estimators=500;, score=0.705 total time=  17.3s\n",
      "[CV 1/5] END learning_rate=0.5, max_depth=3, n_estimators=100;, score=0.706 total time=   4.2s\n",
      "[CV 2/5] END learning_rate=0.5, max_depth=3, n_estimators=100;, score=0.706 total time=   4.9s\n",
      "[CV 3/5] END learning_rate=0.5, max_depth=3, n_estimators=100;, score=0.705 total time=   4.0s\n",
      "[CV 4/5] END learning_rate=0.5, max_depth=3, n_estimators=100;, score=0.705 total time=   4.6s\n",
      "[CV 5/5] END learning_rate=0.5, max_depth=3, n_estimators=100;, score=0.705 total time=   4.6s\n",
      "[CV 1/5] END learning_rate=0.5, max_depth=3, n_estimators=250;, score=0.706 total time=  10.4s\n",
      "[CV 2/5] END learning_rate=0.5, max_depth=3, n_estimators=250;, score=0.706 total time=  12.0s\n",
      "[CV 3/5] END learning_rate=0.5, max_depth=3, n_estimators=250;, score=0.705 total time=  10.8s\n",
      "[CV 4/5] END learning_rate=0.5, max_depth=3, n_estimators=250;, score=0.705 total time=  11.0s\n",
      "[CV 5/5] END learning_rate=0.5, max_depth=3, n_estimators=250;, score=0.705 total time=  10.4s\n",
      "[CV 1/5] END learning_rate=0.5, max_depth=3, n_estimators=500;, score=0.706 total time=  21.4s\n",
      "[CV 2/5] END learning_rate=0.5, max_depth=3, n_estimators=500;, score=0.706 total time=  22.5s\n",
      "[CV 3/5] END learning_rate=0.5, max_depth=3, n_estimators=500;, score=0.705 total time=  20.1s\n",
      "[CV 4/5] END learning_rate=0.5, max_depth=3, n_estimators=500;, score=0.705 total time=  22.3s\n",
      "[CV 5/5] END learning_rate=0.5, max_depth=3, n_estimators=500;, score=0.705 total time=  21.6s\n",
      "[CV 1/5] END learning_rate=0.5, max_depth=4, n_estimators=100;, score=0.706 total time=   4.8s\n",
      "[CV 2/5] END learning_rate=0.5, max_depth=4, n_estimators=100;, score=0.706 total time=   4.3s\n"
     ]
    },
    {
     "name": "stdout",
     "output_type": "stream",
     "text": [
      "[CV 3/5] END learning_rate=0.5, max_depth=4, n_estimators=100;, score=0.705 total time=   4.0s\n",
      "[CV 4/5] END learning_rate=0.5, max_depth=4, n_estimators=100;, score=0.705 total time=   5.4s\n",
      "[CV 5/5] END learning_rate=0.5, max_depth=4, n_estimators=100;, score=0.705 total time=   4.7s\n",
      "[CV 1/5] END learning_rate=0.5, max_depth=4, n_estimators=250;, score=0.706 total time=  11.2s\n",
      "[CV 2/5] END learning_rate=0.5, max_depth=4, n_estimators=250;, score=0.706 total time=  12.0s\n",
      "[CV 3/5] END learning_rate=0.5, max_depth=4, n_estimators=250;, score=0.705 total time=  10.8s\n",
      "[CV 4/5] END learning_rate=0.5, max_depth=4, n_estimators=250;, score=0.705 total time=  10.8s\n",
      "[CV 5/5] END learning_rate=0.5, max_depth=4, n_estimators=250;, score=0.705 total time=  12.0s\n",
      "[CV 1/5] END learning_rate=0.5, max_depth=4, n_estimators=500;, score=0.706 total time=  22.9s\n",
      "[CV 2/5] END learning_rate=0.5, max_depth=4, n_estimators=500;, score=0.706 total time=  32.9s\n",
      "[CV 3/5] END learning_rate=0.5, max_depth=4, n_estimators=500;, score=0.705 total time=  24.5s\n",
      "[CV 4/5] END learning_rate=0.5, max_depth=4, n_estimators=500;, score=0.705 total time=  28.7s\n",
      "[CV 5/5] END learning_rate=0.5, max_depth=4, n_estimators=500;, score=0.705 total time=  29.9s\n",
      "[CV 1/5] END learning_rate=0.5, max_depth=5, n_estimators=100;, score=0.706 total time=   4.8s\n",
      "[CV 2/5] END learning_rate=0.5, max_depth=5, n_estimators=100;, score=0.706 total time=   4.1s\n",
      "[CV 3/5] END learning_rate=0.5, max_depth=5, n_estimators=100;, score=0.705 total time=   4.7s\n",
      "[CV 4/5] END learning_rate=0.5, max_depth=5, n_estimators=100;, score=0.705 total time=   3.7s\n",
      "[CV 5/5] END learning_rate=0.5, max_depth=5, n_estimators=100;, score=0.705 total time=   5.1s\n",
      "[CV 1/5] END learning_rate=0.5, max_depth=5, n_estimators=250;, score=0.706 total time=  15.7s\n",
      "[CV 2/5] END learning_rate=0.5, max_depth=5, n_estimators=250;, score=0.706 total time=  12.5s\n",
      "[CV 3/5] END learning_rate=0.5, max_depth=5, n_estimators=250;, score=0.705 total time=  11.9s\n",
      "[CV 4/5] END learning_rate=0.5, max_depth=5, n_estimators=250;, score=0.705 total time=  11.5s\n",
      "[CV 5/5] END learning_rate=0.5, max_depth=5, n_estimators=250;, score=0.705 total time=  12.2s\n",
      "[CV 1/5] END learning_rate=0.5, max_depth=5, n_estimators=500;, score=0.706 total time=  24.9s\n",
      "[CV 2/5] END learning_rate=0.5, max_depth=5, n_estimators=500;, score=0.706 total time=  25.1s\n",
      "[CV 3/5] END learning_rate=0.5, max_depth=5, n_estimators=500;, score=0.705 total time=  25.3s\n",
      "[CV 4/5] END learning_rate=0.5, max_depth=5, n_estimators=500;, score=0.705 total time=  23.8s\n",
      "[CV 5/5] END learning_rate=0.5, max_depth=5, n_estimators=500;, score=0.705 total time=  26.3s\n",
      "[CV 1/5] END learning_rate=0.25, max_depth=1, n_estimators=100;, score=0.706 total time=   3.1s\n",
      "[CV 2/5] END learning_rate=0.25, max_depth=1, n_estimators=100;, score=0.706 total time=   2.8s\n",
      "[CV 3/5] END learning_rate=0.25, max_depth=1, n_estimators=100;, score=0.705 total time=   3.9s\n",
      "[CV 4/5] END learning_rate=0.25, max_depth=1, n_estimators=100;, score=0.705 total time=   3.5s\n",
      "[CV 5/5] END learning_rate=0.25, max_depth=1, n_estimators=100;, score=0.705 total time=   3.7s\n",
      "[CV 1/5] END learning_rate=0.25, max_depth=1, n_estimators=250;, score=0.706 total time=   8.1s\n",
      "[CV 2/5] END learning_rate=0.25, max_depth=1, n_estimators=250;, score=0.706 total time=   8.2s\n",
      "[CV 3/5] END learning_rate=0.25, max_depth=1, n_estimators=250;, score=0.705 total time=   7.6s\n",
      "[CV 4/5] END learning_rate=0.25, max_depth=1, n_estimators=250;, score=0.705 total time=   8.3s\n",
      "[CV 5/5] END learning_rate=0.25, max_depth=1, n_estimators=250;, score=0.705 total time=   7.5s\n",
      "[CV 1/5] END learning_rate=0.25, max_depth=1, n_estimators=500;, score=0.706 total time=  17.1s\n",
      "[CV 2/5] END learning_rate=0.25, max_depth=1, n_estimators=500;, score=0.706 total time=  16.7s\n",
      "[CV 3/5] END learning_rate=0.25, max_depth=1, n_estimators=500;, score=0.705 total time=  16.7s\n",
      "[CV 4/5] END learning_rate=0.25, max_depth=1, n_estimators=500;, score=0.705 total time=  16.9s\n",
      "[CV 5/5] END learning_rate=0.25, max_depth=1, n_estimators=500;, score=0.705 total time=  16.9s\n",
      "[CV 1/5] END learning_rate=0.25, max_depth=2, n_estimators=100;, score=0.706 total time=   4.2s\n",
      "[CV 2/5] END learning_rate=0.25, max_depth=2, n_estimators=100;, score=0.706 total time=   3.3s\n",
      "[CV 3/5] END learning_rate=0.25, max_depth=2, n_estimators=100;, score=0.705 total time=   3.4s\n",
      "[CV 4/5] END learning_rate=0.25, max_depth=2, n_estimators=100;, score=0.705 total time=   3.8s\n",
      "[CV 5/5] END learning_rate=0.25, max_depth=2, n_estimators=100;, score=0.705 total time=   3.7s\n",
      "[CV 1/5] END learning_rate=0.25, max_depth=2, n_estimators=250;, score=0.706 total time=   9.2s\n",
      "[CV 2/5] END learning_rate=0.25, max_depth=2, n_estimators=250;, score=0.706 total time=  11.0s\n",
      "[CV 3/5] END learning_rate=0.25, max_depth=2, n_estimators=250;, score=0.705 total time=  10.8s\n",
      "[CV 4/5] END learning_rate=0.25, max_depth=2, n_estimators=250;, score=0.705 total time=   9.8s\n",
      "[CV 5/5] END learning_rate=0.25, max_depth=2, n_estimators=250;, score=0.705 total time=   9.1s\n",
      "[CV 1/5] END learning_rate=0.25, max_depth=2, n_estimators=500;, score=0.706 total time=  19.0s\n",
      "[CV 2/5] END learning_rate=0.25, max_depth=2, n_estimators=500;, score=0.706 total time=  18.5s\n",
      "[CV 3/5] END learning_rate=0.25, max_depth=2, n_estimators=500;, score=0.705 total time=  17.8s\n",
      "[CV 4/5] END learning_rate=0.25, max_depth=2, n_estimators=500;, score=0.705 total time=  19.1s\n",
      "[CV 5/5] END learning_rate=0.25, max_depth=2, n_estimators=500;, score=0.705 total time=  17.9s\n",
      "[CV 1/5] END learning_rate=0.25, max_depth=3, n_estimators=100;, score=0.706 total time=   4.8s\n",
      "[CV 2/5] END learning_rate=0.25, max_depth=3, n_estimators=100;, score=0.706 total time=   4.5s\n",
      "[CV 3/5] END learning_rate=0.25, max_depth=3, n_estimators=100;, score=0.705 total time=   4.3s\n",
      "[CV 4/5] END learning_rate=0.25, max_depth=3, n_estimators=100;, score=0.705 total time=   4.7s\n",
      "[CV 5/5] END learning_rate=0.25, max_depth=3, n_estimators=100;, score=0.705 total time=   4.5s\n",
      "[CV 1/5] END learning_rate=0.25, max_depth=3, n_estimators=250;, score=0.706 total time=  11.0s\n",
      "[CV 2/5] END learning_rate=0.25, max_depth=3, n_estimators=250;, score=0.706 total time=   9.3s\n",
      "[CV 3/5] END learning_rate=0.25, max_depth=3, n_estimators=250;, score=0.705 total time=  10.8s\n",
      "[CV 4/5] END learning_rate=0.25, max_depth=3, n_estimators=250;, score=0.705 total time=  10.8s\n",
      "[CV 5/5] END learning_rate=0.25, max_depth=3, n_estimators=250;, score=0.705 total time=  10.4s\n",
      "[CV 1/5] END learning_rate=0.25, max_depth=3, n_estimators=500;, score=0.706 total time=  22.9s\n",
      "[CV 2/5] END learning_rate=0.25, max_depth=3, n_estimators=500;, score=0.706 total time=  24.4s\n",
      "[CV 3/5] END learning_rate=0.25, max_depth=3, n_estimators=500;, score=0.705 total time=  24.2s\n",
      "[CV 4/5] END learning_rate=0.25, max_depth=3, n_estimators=500;, score=0.705 total time=  20.9s\n",
      "[CV 5/5] END learning_rate=0.25, max_depth=3, n_estimators=500;, score=0.705 total time=  22.3s\n",
      "[CV 1/5] END learning_rate=0.25, max_depth=4, n_estimators=100;, score=0.706 total time=   5.2s\n",
      "[CV 2/5] END learning_rate=0.25, max_depth=4, n_estimators=100;, score=0.706 total time=   5.1s\n",
      "[CV 3/5] END learning_rate=0.25, max_depth=4, n_estimators=100;, score=0.705 total time=   4.6s\n",
      "[CV 4/5] END learning_rate=0.25, max_depth=4, n_estimators=100;, score=0.705 total time=   4.9s\n",
      "[CV 5/5] END learning_rate=0.25, max_depth=4, n_estimators=100;, score=0.705 total time=   4.8s\n",
      "[CV 1/5] END learning_rate=0.25, max_depth=4, n_estimators=250;, score=0.706 total time=  11.0s\n",
      "[CV 2/5] END learning_rate=0.25, max_depth=4, n_estimators=250;, score=0.706 total time=  12.1s\n",
      "[CV 3/5] END learning_rate=0.25, max_depth=4, n_estimators=250;, score=0.705 total time=  11.0s\n",
      "[CV 4/5] END learning_rate=0.25, max_depth=4, n_estimators=250;, score=0.705 total time=  11.1s\n",
      "[CV 5/5] END learning_rate=0.25, max_depth=4, n_estimators=250;, score=0.705 total time=  11.6s\n",
      "[CV 1/5] END learning_rate=0.25, max_depth=4, n_estimators=500;, score=0.706 total time=  21.7s\n",
      "[CV 2/5] END learning_rate=0.25, max_depth=4, n_estimators=500;, score=0.706 total time=  23.4s\n",
      "[CV 3/5] END learning_rate=0.25, max_depth=4, n_estimators=500;, score=0.705 total time=  24.5s\n"
     ]
    },
    {
     "name": "stdout",
     "output_type": "stream",
     "text": [
      "[CV 4/5] END learning_rate=0.25, max_depth=4, n_estimators=500;, score=0.705 total time=  22.5s\n",
      "[CV 5/5] END learning_rate=0.25, max_depth=4, n_estimators=500;, score=0.705 total time=  35.2s\n",
      "[CV 1/5] END learning_rate=0.25, max_depth=5, n_estimators=100;, score=0.706 total time=   5.2s\n",
      "[CV 2/5] END learning_rate=0.25, max_depth=5, n_estimators=100;, score=0.706 total time=   5.0s\n",
      "[CV 3/5] END learning_rate=0.25, max_depth=5, n_estimators=100;, score=0.705 total time=   4.8s\n",
      "[CV 4/5] END learning_rate=0.25, max_depth=5, n_estimators=100;, score=0.705 total time=   5.2s\n",
      "[CV 5/5] END learning_rate=0.25, max_depth=5, n_estimators=100;, score=0.705 total time=   4.4s\n",
      "[CV 1/5] END learning_rate=0.25, max_depth=5, n_estimators=250;, score=0.706 total time=  12.9s\n",
      "[CV 2/5] END learning_rate=0.25, max_depth=5, n_estimators=250;, score=0.706 total time=  18.4s\n",
      "[CV 3/5] END learning_rate=0.25, max_depth=5, n_estimators=250;, score=0.705 total time=  14.8s\n",
      "[CV 4/5] END learning_rate=0.25, max_depth=5, n_estimators=250;, score=0.705 total time=  10.8s\n",
      "[CV 5/5] END learning_rate=0.25, max_depth=5, n_estimators=250;, score=0.705 total time=  12.9s\n",
      "[CV 1/5] END learning_rate=0.25, max_depth=5, n_estimators=500;, score=0.706 total time=  24.6s\n",
      "[CV 2/5] END learning_rate=0.25, max_depth=5, n_estimators=500;, score=0.706 total time=  23.5s\n",
      "[CV 3/5] END learning_rate=0.25, max_depth=5, n_estimators=500;, score=0.705 total time=  23.8s\n",
      "[CV 4/5] END learning_rate=0.25, max_depth=5, n_estimators=500;, score=0.705 total time=  23.0s\n",
      "[CV 5/5] END learning_rate=0.25, max_depth=5, n_estimators=500;, score=0.705 total time=  24.0s\n",
      "[CV 1/5] END learning_rate=0.75, max_depth=1, n_estimators=100;, score=0.706 total time=   3.1s\n",
      "[CV 2/5] END learning_rate=0.75, max_depth=1, n_estimators=100;, score=0.706 total time=   2.2s\n",
      "[CV 3/5] END learning_rate=0.75, max_depth=1, n_estimators=100;, score=0.705 total time=   2.8s\n",
      "[CV 4/5] END learning_rate=0.75, max_depth=1, n_estimators=100;, score=0.705 total time= 8.3min\n",
      "[CV 5/5] END learning_rate=0.75, max_depth=1, n_estimators=100;, score=0.705 total time=   2.4s\n",
      "[CV 1/5] END learning_rate=0.75, max_depth=1, n_estimators=250;, score=0.706 total time=   6.4s\n",
      "[CV 2/5] END learning_rate=0.75, max_depth=1, n_estimators=250;, score=0.706 total time=   7.0s\n",
      "[CV 3/5] END learning_rate=0.75, max_depth=1, n_estimators=250;, score=0.705 total time=   7.7s\n",
      "[CV 4/5] END learning_rate=0.75, max_depth=1, n_estimators=250;, score=0.705 total time= 4.7min\n",
      "[CV 5/5] END learning_rate=0.75, max_depth=1, n_estimators=250;, score=0.705 total time=   7.0s\n",
      "[CV 1/5] END learning_rate=0.75, max_depth=1, n_estimators=500;, score=0.706 total time=  15.0s\n",
      "[CV 2/5] END learning_rate=0.75, max_depth=1, n_estimators=500;, score=0.706 total time= 8.0min\n",
      "[CV 3/5] END learning_rate=0.75, max_depth=1, n_estimators=500;, score=0.705 total time=  12.9s\n",
      "[CV 4/5] END learning_rate=0.75, max_depth=1, n_estimators=500;, score=0.705 total time= 9.1min\n",
      "[CV 5/5] END learning_rate=0.75, max_depth=1, n_estimators=500;, score=0.705 total time=  15.1s\n",
      "[CV 1/5] END learning_rate=0.75, max_depth=2, n_estimators=100;, score=0.706 total time=   3.9s\n",
      "[CV 2/5] END learning_rate=0.75, max_depth=2, n_estimators=100;, score=0.706 total time=   3.0s\n",
      "[CV 3/5] END learning_rate=0.75, max_depth=2, n_estimators=100;, score=0.705 total time=   4.1s\n",
      "[CV 4/5] END learning_rate=0.75, max_depth=2, n_estimators=100;, score=0.705 total time=   3.6s\n",
      "[CV 5/5] END learning_rate=0.75, max_depth=2, n_estimators=100;, score=0.705 total time=   2.9s\n",
      "[CV 1/5] END learning_rate=0.75, max_depth=2, n_estimators=250;, score=0.706 total time=   9.6s\n",
      "[CV 2/5] END learning_rate=0.75, max_depth=2, n_estimators=250;, score=0.706 total time=   8.5s\n",
      "[CV 3/5] END learning_rate=0.75, max_depth=2, n_estimators=250;, score=0.705 total time=  16.6s\n",
      "[CV 4/5] END learning_rate=0.75, max_depth=2, n_estimators=250;, score=0.705 total time=   8.6s\n",
      "[CV 5/5] END learning_rate=0.75, max_depth=2, n_estimators=250;, score=0.705 total time=   9.5s\n",
      "[CV 1/5] END learning_rate=0.75, max_depth=2, n_estimators=500;, score=0.706 total time=  17.4s\n",
      "[CV 2/5] END learning_rate=0.75, max_depth=2, n_estimators=500;, score=0.706 total time=  17.8s\n",
      "[CV 3/5] END learning_rate=0.75, max_depth=2, n_estimators=500;, score=0.705 total time=  16.2s\n",
      "[CV 4/5] END learning_rate=0.75, max_depth=2, n_estimators=500;, score=0.705 total time=  16.0s\n",
      "[CV 5/5] END learning_rate=0.75, max_depth=2, n_estimators=500;, score=0.705 total time=  17.2s\n",
      "[CV 1/5] END learning_rate=0.75, max_depth=3, n_estimators=100;, score=0.706 total time=   4.4s\n",
      "[CV 2/5] END learning_rate=0.75, max_depth=3, n_estimators=100;, score=0.706 total time=   3.4s\n",
      "[CV 3/5] END learning_rate=0.75, max_depth=3, n_estimators=100;, score=0.705 total time=   4.0s\n",
      "[CV 4/5] END learning_rate=0.75, max_depth=3, n_estimators=100;, score=0.705 total time=   4.4s\n",
      "[CV 5/5] END learning_rate=0.75, max_depth=3, n_estimators=100;, score=0.705 total time=   3.9s\n",
      "[CV 1/5] END learning_rate=0.75, max_depth=3, n_estimators=250;, score=0.706 total time=  11.1s\n",
      "[CV 2/5] END learning_rate=0.75, max_depth=3, n_estimators=250;, score=0.706 total time=  10.1s\n",
      "[CV 3/5] END learning_rate=0.75, max_depth=3, n_estimators=250;, score=0.705 total time=  11.0s\n",
      "[CV 4/5] END learning_rate=0.75, max_depth=3, n_estimators=250;, score=0.705 total time=   9.6s\n",
      "[CV 5/5] END learning_rate=0.75, max_depth=3, n_estimators=250;, score=0.705 total time=   9.5s\n",
      "[CV 1/5] END learning_rate=0.75, max_depth=3, n_estimators=500;, score=0.706 total time=  19.2s\n",
      "[CV 2/5] END learning_rate=0.75, max_depth=3, n_estimators=500;, score=0.706 total time=  20.7s\n",
      "[CV 3/5] END learning_rate=0.75, max_depth=3, n_estimators=500;, score=0.705 total time=  19.7s\n",
      "[CV 4/5] END learning_rate=0.75, max_depth=3, n_estimators=500;, score=0.705 total time=  20.4s\n",
      "[CV 5/5] END learning_rate=0.75, max_depth=3, n_estimators=500;, score=0.705 total time=  20.4s\n",
      "[CV 1/5] END learning_rate=0.75, max_depth=4, n_estimators=100;, score=0.706 total time=   3.5s\n",
      "[CV 2/5] END learning_rate=0.75, max_depth=4, n_estimators=100;, score=0.706 total time=   3.8s\n",
      "[CV 3/5] END learning_rate=0.75, max_depth=4, n_estimators=100;, score=0.705 total time=   4.2s\n",
      "[CV 4/5] END learning_rate=0.75, max_depth=4, n_estimators=100;, score=0.705 total time=   4.2s\n",
      "[CV 5/5] END learning_rate=0.75, max_depth=4, n_estimators=100;, score=0.705 total time=   4.6s\n",
      "[CV 1/5] END learning_rate=0.75, max_depth=4, n_estimators=250;, score=0.706 total time=   9.4s\n",
      "[CV 2/5] END learning_rate=0.75, max_depth=4, n_estimators=250;, score=0.706 total time=  11.3s\n",
      "[CV 3/5] END learning_rate=0.75, max_depth=4, n_estimators=250;, score=0.705 total time=  11.6s\n",
      "[CV 4/5] END learning_rate=0.75, max_depth=4, n_estimators=250;, score=0.705 total time=  10.1s\n",
      "[CV 5/5] END learning_rate=0.75, max_depth=4, n_estimators=250;, score=0.705 total time=   9.7s\n",
      "[CV 1/5] END learning_rate=0.75, max_depth=4, n_estimators=500;, score=0.706 total time=  20.4s\n",
      "[CV 2/5] END learning_rate=0.75, max_depth=4, n_estimators=500;, score=0.706 total time=  22.6s\n",
      "[CV 3/5] END learning_rate=0.75, max_depth=4, n_estimators=500;, score=0.705 total time=  20.3s\n",
      "[CV 4/5] END learning_rate=0.75, max_depth=4, n_estimators=500;, score=0.705 total time=  21.4s\n",
      "[CV 5/5] END learning_rate=0.75, max_depth=4, n_estimators=500;, score=0.705 total time=  21.2s\n",
      "[CV 1/5] END learning_rate=0.75, max_depth=5, n_estimators=100;, score=0.706 total time=   3.7s\n",
      "[CV 2/5] END learning_rate=0.75, max_depth=5, n_estimators=100;, score=0.706 total time=   4.2s\n",
      "[CV 3/5] END learning_rate=0.75, max_depth=5, n_estimators=100;, score=0.705 total time=   4.0s\n",
      "[CV 4/5] END learning_rate=0.75, max_depth=5, n_estimators=100;, score=0.705 total time=   4.6s\n",
      "[CV 5/5] END learning_rate=0.75, max_depth=5, n_estimators=100;, score=0.705 total time=   4.7s\n",
      "[CV 1/5] END learning_rate=0.75, max_depth=5, n_estimators=250;, score=0.706 total time=  12.5s\n",
      "[CV 2/5] END learning_rate=0.75, max_depth=5, n_estimators=250;, score=0.706 total time=  17.6s\n",
      "[CV 3/5] END learning_rate=0.75, max_depth=5, n_estimators=250;, score=0.705 total time=  16.0s\n",
      "[CV 4/5] END learning_rate=0.75, max_depth=5, n_estimators=250;, score=0.705 total time=  11.6s\n"
     ]
    },
    {
     "name": "stdout",
     "output_type": "stream",
     "text": [
      "[CV 5/5] END learning_rate=0.75, max_depth=5, n_estimators=250;, score=0.705 total time=  12.1s\n",
      "[CV 1/5] END learning_rate=0.75, max_depth=5, n_estimators=500;, score=0.706 total time=  30.2s\n",
      "[CV 2/5] END learning_rate=0.75, max_depth=5, n_estimators=500;, score=0.706 total time=  25.1s\n",
      "[CV 3/5] END learning_rate=0.75, max_depth=5, n_estimators=500;, score=0.705 total time=  22.9s\n",
      "[CV 4/5] END learning_rate=0.75, max_depth=5, n_estimators=500;, score=0.705 total time=  23.2s\n",
      "[CV 5/5] END learning_rate=0.75, max_depth=5, n_estimators=500;, score=0.705 total time=  19.2s\n"
     ]
    },
    {
     "data": {
      "text/plain": [
       "GridSearchCV(estimator=GradientBoostingClassifier(),\n",
       "             param_grid=[{'learning_rate': [0.1, 0.05, 0.01, 1, 0.5, 0.25,\n",
       "                                            0.75],\n",
       "                          'max_depth': [1, 2, 3, 4, 5],\n",
       "                          'n_estimators': [100, 250, 500]}],\n",
       "             verbose=3)"
      ]
     },
     "execution_count": 7,
     "metadata": {},
     "output_type": "execute_result"
    }
   ],
   "source": [
    "gs24.fit(X_train24, y_train24)"
   ]
  },
  {
   "cell_type": "code",
   "execution_count": 8,
   "id": "de2f7ec9",
   "metadata": {},
   "outputs": [
    {
     "name": "stdout",
     "output_type": "stream",
     "text": [
      "The best parameters found for the 24h DCW:\n",
      "{'learning_rate': 0.1, 'max_depth': 1, 'n_estimators': 100}\n",
      "The best estimator found for the 24h DCW:\n",
      "GradientBoostingClassifier(max_depth=1)\n"
     ]
    }
   ],
   "source": [
    "print(\"The best parameters found for the 24h DCW:\")\n",
    "print(gs24.best_params_)\n",
    "  \n",
    "#PRINT HOW OUR MODEL LOOKS AFTER HYPER-PARAMETER TUNING\n",
    "print(\"The best estimator found for the 24h DCW:\")\n",
    "print(gs24.best_estimator_)"
   ]
  },
  {
   "cell_type": "code",
   "execution_count": 9,
   "id": "3c8a9bd4",
   "metadata": {},
   "outputs": [
    {
     "name": "stdout",
     "output_type": "stream",
     "text": [
      "Fitting 5 folds for each of 105 candidates, totalling 525 fits\n",
      "[CV 1/5] END learning_rate=0.1, max_depth=1, n_estimators=100;, score=0.764 total time=   1.6s\n",
      "[CV 2/5] END learning_rate=0.1, max_depth=1, n_estimators=100;, score=0.764 total time=   1.8s\n",
      "[CV 3/5] END learning_rate=0.1, max_depth=1, n_estimators=100;, score=0.763 total time=   1.5s\n",
      "[CV 4/5] END learning_rate=0.1, max_depth=1, n_estimators=100;, score=0.764 total time=   1.7s\n",
      "[CV 5/5] END learning_rate=0.1, max_depth=1, n_estimators=100;, score=0.764 total time=   1.4s\n",
      "[CV 1/5] END learning_rate=0.1, max_depth=1, n_estimators=250;, score=0.764 total time=   4.2s\n",
      "[CV 2/5] END learning_rate=0.1, max_depth=1, n_estimators=250;, score=0.764 total time=   4.2s\n",
      "[CV 3/5] END learning_rate=0.1, max_depth=1, n_estimators=250;, score=0.763 total time=   3.8s\n",
      "[CV 4/5] END learning_rate=0.1, max_depth=1, n_estimators=250;, score=0.764 total time=   4.9s\n",
      "[CV 5/5] END learning_rate=0.1, max_depth=1, n_estimators=250;, score=0.764 total time=   4.8s\n",
      "[CV 1/5] END learning_rate=0.1, max_depth=1, n_estimators=500;, score=0.764 total time=   8.5s\n",
      "[CV 2/5] END learning_rate=0.1, max_depth=1, n_estimators=500;, score=0.764 total time=   8.2s\n",
      "[CV 3/5] END learning_rate=0.1, max_depth=1, n_estimators=500;, score=0.763 total time=   9.4s\n",
      "[CV 4/5] END learning_rate=0.1, max_depth=1, n_estimators=500;, score=0.764 total time=   8.1s\n",
      "[CV 5/5] END learning_rate=0.1, max_depth=1, n_estimators=500;, score=0.764 total time=  10.2s\n",
      "[CV 1/5] END learning_rate=0.1, max_depth=2, n_estimators=100;, score=0.764 total time=   2.4s\n",
      "[CV 2/5] END learning_rate=0.1, max_depth=2, n_estimators=100;, score=0.764 total time=   2.2s\n",
      "[CV 3/5] END learning_rate=0.1, max_depth=2, n_estimators=100;, score=0.763 total time=   1.9s\n",
      "[CV 4/5] END learning_rate=0.1, max_depth=2, n_estimators=100;, score=0.764 total time=   1.7s\n",
      "[CV 5/5] END learning_rate=0.1, max_depth=2, n_estimators=100;, score=0.764 total time=   1.5s\n",
      "[CV 1/5] END learning_rate=0.1, max_depth=2, n_estimators=250;, score=0.764 total time=   4.7s\n",
      "[CV 2/5] END learning_rate=0.1, max_depth=2, n_estimators=250;, score=0.764 total time=   4.4s\n",
      "[CV 3/5] END learning_rate=0.1, max_depth=2, n_estimators=250;, score=0.763 total time=   4.3s\n",
      "[CV 4/5] END learning_rate=0.1, max_depth=2, n_estimators=250;, score=0.764 total time=   4.5s\n",
      "[CV 5/5] END learning_rate=0.1, max_depth=2, n_estimators=250;, score=0.764 total time=   4.8s\n",
      "[CV 1/5] END learning_rate=0.1, max_depth=2, n_estimators=500;, score=0.764 total time=  10.2s\n",
      "[CV 2/5] END learning_rate=0.1, max_depth=2, n_estimators=500;, score=0.764 total time=  11.7s\n",
      "[CV 3/5] END learning_rate=0.1, max_depth=2, n_estimators=500;, score=0.763 total time=  10.5s\n",
      "[CV 4/5] END learning_rate=0.1, max_depth=2, n_estimators=500;, score=0.764 total time=   9.7s\n",
      "[CV 5/5] END learning_rate=0.1, max_depth=2, n_estimators=500;, score=0.764 total time=   8.5s\n",
      "[CV 1/5] END learning_rate=0.1, max_depth=3, n_estimators=100;, score=0.764 total time=   2.3s\n",
      "[CV 2/5] END learning_rate=0.1, max_depth=3, n_estimators=100;, score=0.764 total time=   2.3s\n",
      "[CV 3/5] END learning_rate=0.1, max_depth=3, n_estimators=100;, score=0.763 total time=   1.9s\n",
      "[CV 4/5] END learning_rate=0.1, max_depth=3, n_estimators=100;, score=0.764 total time=   1.9s\n",
      "[CV 5/5] END learning_rate=0.1, max_depth=3, n_estimators=100;, score=0.764 total time=   2.8s\n",
      "[CV 1/5] END learning_rate=0.1, max_depth=3, n_estimators=250;, score=0.764 total time=   5.8s\n",
      "[CV 2/5] END learning_rate=0.1, max_depth=3, n_estimators=250;, score=0.764 total time=   5.5s\n",
      "[CV 3/5] END learning_rate=0.1, max_depth=3, n_estimators=250;, score=0.763 total time=   4.9s\n",
      "[CV 4/5] END learning_rate=0.1, max_depth=3, n_estimators=250;, score=0.764 total time=   5.6s\n",
      "[CV 5/5] END learning_rate=0.1, max_depth=3, n_estimators=250;, score=0.764 total time=   5.4s\n",
      "[CV 1/5] END learning_rate=0.1, max_depth=3, n_estimators=500;, score=0.764 total time=  10.9s\n",
      "[CV 2/5] END learning_rate=0.1, max_depth=3, n_estimators=500;, score=0.764 total time=  11.6s\n",
      "[CV 3/5] END learning_rate=0.1, max_depth=3, n_estimators=500;, score=0.763 total time=  11.9s\n",
      "[CV 4/5] END learning_rate=0.1, max_depth=3, n_estimators=500;, score=0.764 total time=  12.5s\n",
      "[CV 5/5] END learning_rate=0.1, max_depth=3, n_estimators=500;, score=0.764 total time=  12.1s\n",
      "[CV 1/5] END learning_rate=0.1, max_depth=4, n_estimators=100;, score=0.764 total time=   2.9s\n",
      "[CV 2/5] END learning_rate=0.1, max_depth=4, n_estimators=100;, score=0.764 total time=   2.7s\n",
      "[CV 3/5] END learning_rate=0.1, max_depth=4, n_estimators=100;, score=0.763 total time=   2.4s\n",
      "[CV 4/5] END learning_rate=0.1, max_depth=4, n_estimators=100;, score=0.764 total time=   2.7s\n",
      "[CV 5/5] END learning_rate=0.1, max_depth=4, n_estimators=100;, score=0.764 total time=   2.3s\n",
      "[CV 1/5] END learning_rate=0.1, max_depth=4, n_estimators=250;, score=0.764 total time=   6.2s\n",
      "[CV 2/5] END learning_rate=0.1, max_depth=4, n_estimators=250;, score=0.764 total time=   7.4s\n",
      "[CV 3/5] END learning_rate=0.1, max_depth=4, n_estimators=250;, score=0.763 total time=   5.6s\n",
      "[CV 4/5] END learning_rate=0.1, max_depth=4, n_estimators=250;, score=0.764 total time=   6.9s\n",
      "[CV 5/5] END learning_rate=0.1, max_depth=4, n_estimators=250;, score=0.764 total time=   7.0s\n",
      "[CV 1/5] END learning_rate=0.1, max_depth=4, n_estimators=500;, score=0.764 total time=  12.4s\n",
      "[CV 2/5] END learning_rate=0.1, max_depth=4, n_estimators=500;, score=0.764 total time=  13.8s\n",
      "[CV 3/5] END learning_rate=0.1, max_depth=4, n_estimators=500;, score=0.763 total time=  12.8s\n",
      "[CV 4/5] END learning_rate=0.1, max_depth=4, n_estimators=500;, score=0.764 total time=  13.0s\n",
      "[CV 5/5] END learning_rate=0.1, max_depth=4, n_estimators=500;, score=0.764 total time=  11.7s\n",
      "[CV 1/5] END learning_rate=0.1, max_depth=5, n_estimators=100;, score=0.764 total time=   2.7s\n",
      "[CV 2/5] END learning_rate=0.1, max_depth=5, n_estimators=100;, score=0.764 total time=   3.0s\n",
      "[CV 3/5] END learning_rate=0.1, max_depth=5, n_estimators=100;, score=0.763 total time=   2.3s\n",
      "[CV 4/5] END learning_rate=0.1, max_depth=5, n_estimators=100;, score=0.764 total time=   2.3s\n",
      "[CV 5/5] END learning_rate=0.1, max_depth=5, n_estimators=100;, score=0.764 total time=   3.0s\n",
      "[CV 1/5] END learning_rate=0.1, max_depth=5, n_estimators=250;, score=0.764 total time=   6.5s\n",
      "[CV 2/5] END learning_rate=0.1, max_depth=5, n_estimators=250;, score=0.764 total time=   6.1s\n",
      "[CV 3/5] END learning_rate=0.1, max_depth=5, n_estimators=250;, score=0.763 total time=   5.2s\n",
      "[CV 4/5] END learning_rate=0.1, max_depth=5, n_estimators=250;, score=0.764 total time=   5.6s\n",
      "[CV 5/5] END learning_rate=0.1, max_depth=5, n_estimators=250;, score=0.764 total time=   5.8s\n",
      "[CV 1/5] END learning_rate=0.1, max_depth=5, n_estimators=500;, score=0.764 total time=  11.8s\n",
      "[CV 2/5] END learning_rate=0.1, max_depth=5, n_estimators=500;, score=0.764 total time=  13.1s\n",
      "[CV 3/5] END learning_rate=0.1, max_depth=5, n_estimators=500;, score=0.763 total time=  10.7s\n",
      "[CV 4/5] END learning_rate=0.1, max_depth=5, n_estimators=500;, score=0.764 total time=  11.4s\n",
      "[CV 5/5] END learning_rate=0.1, max_depth=5, n_estimators=500;, score=0.764 total time=  12.3s\n",
      "[CV 1/5] END learning_rate=0.05, max_depth=1, n_estimators=100;, score=0.764 total time=   1.7s\n",
      "[CV 2/5] END learning_rate=0.05, max_depth=1, n_estimators=100;, score=0.764 total time=   2.1s\n",
      "[CV 3/5] END learning_rate=0.05, max_depth=1, n_estimators=100;, score=0.763 total time=   1.9s\n",
      "[CV 4/5] END learning_rate=0.05, max_depth=1, n_estimators=100;, score=0.764 total time=   2.1s\n",
      "[CV 5/5] END learning_rate=0.05, max_depth=1, n_estimators=100;, score=0.764 total time=   1.8s\n",
      "[CV 1/5] END learning_rate=0.05, max_depth=1, n_estimators=250;, score=0.764 total time=   4.2s\n",
      "[CV 2/5] END learning_rate=0.05, max_depth=1, n_estimators=250;, score=0.764 total time=   3.6s\n",
      "[CV 3/5] END learning_rate=0.05, max_depth=1, n_estimators=250;, score=0.763 total time=   4.4s\n",
      "[CV 4/5] END learning_rate=0.05, max_depth=1, n_estimators=250;, score=0.764 total time=   4.3s\n",
      "[CV 5/5] END learning_rate=0.05, max_depth=1, n_estimators=250;, score=0.764 total time=   4.4s\n",
      "[CV 1/5] END learning_rate=0.05, max_depth=1, n_estimators=500;, score=0.764 total time=   9.6s\n"
     ]
    },
    {
     "name": "stdout",
     "output_type": "stream",
     "text": [
      "[CV 2/5] END learning_rate=0.05, max_depth=1, n_estimators=500;, score=0.764 total time=   7.4s\n",
      "[CV 3/5] END learning_rate=0.05, max_depth=1, n_estimators=500;, score=0.763 total time=  10.1s\n",
      "[CV 4/5] END learning_rate=0.05, max_depth=1, n_estimators=500;, score=0.764 total time=   9.5s\n",
      "[CV 5/5] END learning_rate=0.05, max_depth=1, n_estimators=500;, score=0.764 total time=   8.1s\n",
      "[CV 1/5] END learning_rate=0.05, max_depth=2, n_estimators=100;, score=0.764 total time=   1.8s\n",
      "[CV 2/5] END learning_rate=0.05, max_depth=2, n_estimators=100;, score=0.764 total time=   1.7s\n",
      "[CV 3/5] END learning_rate=0.05, max_depth=2, n_estimators=100;, score=0.763 total time=   1.9s\n",
      "[CV 4/5] END learning_rate=0.05, max_depth=2, n_estimators=100;, score=0.764 total time=   2.3s\n",
      "[CV 5/5] END learning_rate=0.05, max_depth=2, n_estimators=100;, score=0.764 total time=   1.7s\n",
      "[CV 1/5] END learning_rate=0.05, max_depth=2, n_estimators=250;, score=0.764 total time=   5.4s\n",
      "[CV 2/5] END learning_rate=0.05, max_depth=2, n_estimators=250;, score=0.764 total time=   4.8s\n",
      "[CV 3/5] END learning_rate=0.05, max_depth=2, n_estimators=250;, score=0.763 total time=   5.3s\n",
      "[CV 4/5] END learning_rate=0.05, max_depth=2, n_estimators=250;, score=0.764 total time=   4.8s\n",
      "[CV 5/5] END learning_rate=0.05, max_depth=2, n_estimators=250;, score=0.764 total time=   4.4s\n",
      "[CV 1/5] END learning_rate=0.05, max_depth=2, n_estimators=500;, score=0.764 total time=   9.9s\n",
      "[CV 2/5] END learning_rate=0.05, max_depth=2, n_estimators=500;, score=0.764 total time=   9.9s\n",
      "[CV 3/5] END learning_rate=0.05, max_depth=2, n_estimators=500;, score=0.763 total time=   9.7s\n",
      "[CV 4/5] END learning_rate=0.05, max_depth=2, n_estimators=500;, score=0.764 total time=  10.3s\n",
      "[CV 5/5] END learning_rate=0.05, max_depth=2, n_estimators=500;, score=0.764 total time=  10.6s\n",
      "[CV 1/5] END learning_rate=0.05, max_depth=3, n_estimators=100;, score=0.764 total time=   2.6s\n",
      "[CV 2/5] END learning_rate=0.05, max_depth=3, n_estimators=100;, score=0.764 total time=   2.3s\n",
      "[CV 3/5] END learning_rate=0.05, max_depth=3, n_estimators=100;, score=0.763 total time=   2.7s\n",
      "[CV 4/5] END learning_rate=0.05, max_depth=3, n_estimators=100;, score=0.764 total time=   2.6s\n",
      "[CV 5/5] END learning_rate=0.05, max_depth=3, n_estimators=100;, score=0.764 total time=   2.7s\n",
      "[CV 1/5] END learning_rate=0.05, max_depth=3, n_estimators=250;, score=0.764 total time=   5.9s\n",
      "[CV 2/5] END learning_rate=0.05, max_depth=3, n_estimators=250;, score=0.764 total time=   6.4s\n",
      "[CV 3/5] END learning_rate=0.05, max_depth=3, n_estimators=250;, score=0.763 total time=   6.7s\n",
      "[CV 4/5] END learning_rate=0.05, max_depth=3, n_estimators=250;, score=0.764 total time=   5.3s\n",
      "[CV 5/5] END learning_rate=0.05, max_depth=3, n_estimators=250;, score=0.764 total time=   6.2s\n",
      "[CV 1/5] END learning_rate=0.05, max_depth=3, n_estimators=500;, score=0.764 total time=  13.8s\n",
      "[CV 2/5] END learning_rate=0.05, max_depth=3, n_estimators=500;, score=0.764 total time=  13.8s\n",
      "[CV 3/5] END learning_rate=0.05, max_depth=3, n_estimators=500;, score=0.763 total time=  16.0s\n",
      "[CV 4/5] END learning_rate=0.05, max_depth=3, n_estimators=500;, score=0.764 total time=  16.7s\n",
      "[CV 5/5] END learning_rate=0.05, max_depth=3, n_estimators=500;, score=0.764 total time=  14.7s\n",
      "[CV 1/5] END learning_rate=0.05, max_depth=4, n_estimators=100;, score=0.764 total time=   2.6s\n",
      "[CV 2/5] END learning_rate=0.05, max_depth=4, n_estimators=100;, score=0.764 total time=   2.7s\n",
      "[CV 3/5] END learning_rate=0.05, max_depth=4, n_estimators=100;, score=0.763 total time=   2.8s\n",
      "[CV 4/5] END learning_rate=0.05, max_depth=4, n_estimators=100;, score=0.764 total time=   2.3s\n",
      "[CV 5/5] END learning_rate=0.05, max_depth=4, n_estimators=100;, score=0.764 total time=   2.9s\n",
      "[CV 1/5] END learning_rate=0.05, max_depth=4, n_estimators=250;, score=0.764 total time=   6.2s\n",
      "[CV 2/5] END learning_rate=0.05, max_depth=4, n_estimators=250;, score=0.764 total time=   7.5s\n",
      "[CV 3/5] END learning_rate=0.05, max_depth=4, n_estimators=250;, score=0.763 total time=   9.8s\n",
      "[CV 4/5] END learning_rate=0.05, max_depth=4, n_estimators=250;, score=0.764 total time=  11.3s\n",
      "[CV 5/5] END learning_rate=0.05, max_depth=4, n_estimators=250;, score=0.764 total time=  10.9s\n",
      "[CV 1/5] END learning_rate=0.05, max_depth=4, n_estimators=500;, score=0.764 total time=  12.6s\n",
      "[CV 2/5] END learning_rate=0.05, max_depth=4, n_estimators=500;, score=0.764 total time=  14.4s\n",
      "[CV 3/5] END learning_rate=0.05, max_depth=4, n_estimators=500;, score=0.763 total time=  14.3s\n",
      "[CV 4/5] END learning_rate=0.05, max_depth=4, n_estimators=500;, score=0.764 total time=  12.9s\n",
      "[CV 5/5] END learning_rate=0.05, max_depth=4, n_estimators=500;, score=0.764 total time=  12.5s\n",
      "[CV 1/5] END learning_rate=0.05, max_depth=5, n_estimators=100;, score=0.764 total time=   3.1s\n",
      "[CV 2/5] END learning_rate=0.05, max_depth=5, n_estimators=100;, score=0.764 total time=   3.0s\n",
      "[CV 3/5] END learning_rate=0.05, max_depth=5, n_estimators=100;, score=0.763 total time=   2.4s\n",
      "[CV 4/5] END learning_rate=0.05, max_depth=5, n_estimators=100;, score=0.764 total time=   2.7s\n",
      "[CV 5/5] END learning_rate=0.05, max_depth=5, n_estimators=100;, score=0.764 total time=   2.5s\n",
      "[CV 1/5] END learning_rate=0.05, max_depth=5, n_estimators=250;, score=0.764 total time=   6.7s\n",
      "[CV 2/5] END learning_rate=0.05, max_depth=5, n_estimators=250;, score=0.764 total time=   6.0s\n",
      "[CV 3/5] END learning_rate=0.05, max_depth=5, n_estimators=250;, score=0.763 total time=   5.9s\n",
      "[CV 4/5] END learning_rate=0.05, max_depth=5, n_estimators=250;, score=0.764 total time=   5.9s\n",
      "[CV 5/5] END learning_rate=0.05, max_depth=5, n_estimators=250;, score=0.764 total time=   7.6s\n",
      "[CV 1/5] END learning_rate=0.05, max_depth=5, n_estimators=500;, score=0.764 total time=  13.4s\n",
      "[CV 2/5] END learning_rate=0.05, max_depth=5, n_estimators=500;, score=0.764 total time=  12.5s\n",
      "[CV 3/5] END learning_rate=0.05, max_depth=5, n_estimators=500;, score=0.763 total time=  10.2s\n",
      "[CV 4/5] END learning_rate=0.05, max_depth=5, n_estimators=500;, score=0.764 total time=  14.4s\n",
      "[CV 5/5] END learning_rate=0.05, max_depth=5, n_estimators=500;, score=0.764 total time=  11.8s\n",
      "[CV 1/5] END learning_rate=0.01, max_depth=1, n_estimators=100;, score=0.764 total time=   1.8s\n",
      "[CV 2/5] END learning_rate=0.01, max_depth=1, n_estimators=100;, score=0.764 total time=   1.6s\n",
      "[CV 3/5] END learning_rate=0.01, max_depth=1, n_estimators=100;, score=0.763 total time=   1.6s\n",
      "[CV 4/5] END learning_rate=0.01, max_depth=1, n_estimators=100;, score=0.764 total time=   1.8s\n",
      "[CV 5/5] END learning_rate=0.01, max_depth=1, n_estimators=100;, score=0.764 total time=   1.6s\n",
      "[CV 1/5] END learning_rate=0.01, max_depth=1, n_estimators=250;, score=0.764 total time=   4.5s\n",
      "[CV 2/5] END learning_rate=0.01, max_depth=1, n_estimators=250;, score=0.764 total time=   4.5s\n",
      "[CV 3/5] END learning_rate=0.01, max_depth=1, n_estimators=250;, score=0.763 total time=   4.9s\n",
      "[CV 4/5] END learning_rate=0.01, max_depth=1, n_estimators=250;, score=0.764 total time=   4.3s\n",
      "[CV 5/5] END learning_rate=0.01, max_depth=1, n_estimators=250;, score=0.764 total time=   4.3s\n",
      "[CV 1/5] END learning_rate=0.01, max_depth=1, n_estimators=500;, score=0.764 total time=   8.1s\n",
      "[CV 2/5] END learning_rate=0.01, max_depth=1, n_estimators=500;, score=0.764 total time=   7.8s\n",
      "[CV 3/5] END learning_rate=0.01, max_depth=1, n_estimators=500;, score=0.763 total time=  10.1s\n",
      "[CV 4/5] END learning_rate=0.01, max_depth=1, n_estimators=500;, score=0.764 total time=   9.0s\n",
      "[CV 5/5] END learning_rate=0.01, max_depth=1, n_estimators=500;, score=0.764 total time=   8.2s\n",
      "[CV 1/5] END learning_rate=0.01, max_depth=2, n_estimators=100;, score=0.764 total time=   1.7s\n",
      "[CV 2/5] END learning_rate=0.01, max_depth=2, n_estimators=100;, score=0.764 total time=   2.2s\n",
      "[CV 3/5] END learning_rate=0.01, max_depth=2, n_estimators=100;, score=0.763 total time=   1.7s\n",
      "[CV 4/5] END learning_rate=0.01, max_depth=2, n_estimators=100;, score=0.764 total time=   2.1s\n",
      "[CV 5/5] END learning_rate=0.01, max_depth=2, n_estimators=100;, score=0.764 total time=   2.2s\n",
      "[CV 1/5] END learning_rate=0.01, max_depth=2, n_estimators=250;, score=0.764 total time=   6.2s\n",
      "[CV 2/5] END learning_rate=0.01, max_depth=2, n_estimators=250;, score=0.764 total time=   5.7s\n"
     ]
    },
    {
     "name": "stdout",
     "output_type": "stream",
     "text": [
      "[CV 3/5] END learning_rate=0.01, max_depth=2, n_estimators=250;, score=0.763 total time=   5.3s\n",
      "[CV 4/5] END learning_rate=0.01, max_depth=2, n_estimators=250;, score=0.764 total time=   4.9s\n",
      "[CV 5/5] END learning_rate=0.01, max_depth=2, n_estimators=250;, score=0.764 total time=   6.5s\n",
      "[CV 1/5] END learning_rate=0.01, max_depth=2, n_estimators=500;, score=0.764 total time=  11.2s\n",
      "[CV 2/5] END learning_rate=0.01, max_depth=2, n_estimators=500;, score=0.764 total time=  10.5s\n",
      "[CV 3/5] END learning_rate=0.01, max_depth=2, n_estimators=500;, score=0.763 total time=  11.7s\n",
      "[CV 4/5] END learning_rate=0.01, max_depth=2, n_estimators=500;, score=0.764 total time=  10.4s\n",
      "[CV 5/5] END learning_rate=0.01, max_depth=2, n_estimators=500;, score=0.764 total time=  10.2s\n",
      "[CV 1/5] END learning_rate=0.01, max_depth=3, n_estimators=100;, score=0.764 total time=   2.5s\n",
      "[CV 2/5] END learning_rate=0.01, max_depth=3, n_estimators=100;, score=0.764 total time=   2.9s\n",
      "[CV 3/5] END learning_rate=0.01, max_depth=3, n_estimators=100;, score=0.763 total time=   2.4s\n",
      "[CV 4/5] END learning_rate=0.01, max_depth=3, n_estimators=100;, score=0.764 total time=   2.5s\n",
      "[CV 5/5] END learning_rate=0.01, max_depth=3, n_estimators=100;, score=0.764 total time=   2.0s\n",
      "[CV 1/5] END learning_rate=0.01, max_depth=3, n_estimators=250;, score=0.764 total time=   6.1s\n",
      "[CV 2/5] END learning_rate=0.01, max_depth=3, n_estimators=250;, score=0.764 total time=   6.9s\n",
      "[CV 3/5] END learning_rate=0.01, max_depth=3, n_estimators=250;, score=0.763 total time=   6.6s\n",
      "[CV 4/5] END learning_rate=0.01, max_depth=3, n_estimators=250;, score=0.764 total time=   6.2s\n",
      "[CV 5/5] END learning_rate=0.01, max_depth=3, n_estimators=250;, score=0.764 total time=   5.1s\n",
      "[CV 1/5] END learning_rate=0.01, max_depth=3, n_estimators=500;, score=0.764 total time=  11.5s\n",
      "[CV 2/5] END learning_rate=0.01, max_depth=3, n_estimators=500;, score=0.764 total time=  13.1s\n",
      "[CV 3/5] END learning_rate=0.01, max_depth=3, n_estimators=500;, score=0.763 total time=  11.2s\n",
      "[CV 4/5] END learning_rate=0.01, max_depth=3, n_estimators=500;, score=0.764 total time=  11.9s\n",
      "[CV 5/5] END learning_rate=0.01, max_depth=3, n_estimators=500;, score=0.764 total time=  13.8s\n",
      "[CV 1/5] END learning_rate=0.01, max_depth=4, n_estimators=100;, score=0.764 total time=   2.9s\n",
      "[CV 2/5] END learning_rate=0.01, max_depth=4, n_estimators=100;, score=0.764 total time=   2.6s\n",
      "[CV 3/5] END learning_rate=0.01, max_depth=4, n_estimators=100;, score=0.763 total time=   2.1s\n",
      "[CV 4/5] END learning_rate=0.01, max_depth=4, n_estimators=100;, score=0.764 total time=   2.3s\n",
      "[CV 5/5] END learning_rate=0.01, max_depth=4, n_estimators=100;, score=0.764 total time=   2.6s\n",
      "[CV 1/5] END learning_rate=0.01, max_depth=4, n_estimators=250;, score=0.764 total time=   6.2s\n",
      "[CV 2/5] END learning_rate=0.01, max_depth=4, n_estimators=250;, score=0.764 total time=   6.3s\n",
      "[CV 3/5] END learning_rate=0.01, max_depth=4, n_estimators=250;, score=0.763 total time=   5.9s\n",
      "[CV 4/5] END learning_rate=0.01, max_depth=4, n_estimators=250;, score=0.764 total time=   6.4s\n",
      "[CV 5/5] END learning_rate=0.01, max_depth=4, n_estimators=250;, score=0.764 total time=   6.9s\n",
      "[CV 1/5] END learning_rate=0.01, max_depth=4, n_estimators=500;, score=0.764 total time=  13.4s\n",
      "[CV 2/5] END learning_rate=0.01, max_depth=4, n_estimators=500;, score=0.764 total time=  12.7s\n",
      "[CV 3/5] END learning_rate=0.01, max_depth=4, n_estimators=500;, score=0.763 total time=  13.8s\n",
      "[CV 4/5] END learning_rate=0.01, max_depth=4, n_estimators=500;, score=0.764 total time=  13.4s\n",
      "[CV 5/5] END learning_rate=0.01, max_depth=4, n_estimators=500;, score=0.764 total time=  11.9s\n",
      "[CV 1/5] END learning_rate=0.01, max_depth=5, n_estimators=100;, score=0.764 total time=   3.1s\n",
      "[CV 2/5] END learning_rate=0.01, max_depth=5, n_estimators=100;, score=0.764 total time=   3.0s\n",
      "[CV 3/5] END learning_rate=0.01, max_depth=5, n_estimators=100;, score=0.763 total time=   2.7s\n",
      "[CV 4/5] END learning_rate=0.01, max_depth=5, n_estimators=100;, score=0.764 total time=   3.1s\n",
      "[CV 5/5] END learning_rate=0.01, max_depth=5, n_estimators=100;, score=0.764 total time=   3.0s\n",
      "[CV 1/5] END learning_rate=0.01, max_depth=5, n_estimators=250;, score=0.764 total time=   6.5s\n",
      "[CV 2/5] END learning_rate=0.01, max_depth=5, n_estimators=250;, score=0.764 total time=   6.4s\n",
      "[CV 3/5] END learning_rate=0.01, max_depth=5, n_estimators=250;, score=0.763 total time=   6.7s\n",
      "[CV 4/5] END learning_rate=0.01, max_depth=5, n_estimators=250;, score=0.764 total time=   7.5s\n",
      "[CV 5/5] END learning_rate=0.01, max_depth=5, n_estimators=250;, score=0.764 total time=   5.1s\n",
      "[CV 1/5] END learning_rate=0.01, max_depth=5, n_estimators=500;, score=0.764 total time=  10.4s\n",
      "[CV 2/5] END learning_rate=0.01, max_depth=5, n_estimators=500;, score=0.764 total time=  13.3s\n",
      "[CV 3/5] END learning_rate=0.01, max_depth=5, n_estimators=500;, score=0.763 total time=  11.3s\n",
      "[CV 4/5] END learning_rate=0.01, max_depth=5, n_estimators=500;, score=0.764 total time=  14.2s\n",
      "[CV 5/5] END learning_rate=0.01, max_depth=5, n_estimators=500;, score=0.764 total time=  14.1s\n",
      "[CV 1/5] END learning_rate=1, max_depth=1, n_estimators=100;, score=0.764 total time=   1.9s\n",
      "[CV 2/5] END learning_rate=1, max_depth=1, n_estimators=100;, score=0.764 total time=   1.9s\n",
      "[CV 3/5] END learning_rate=1, max_depth=1, n_estimators=100;, score=0.763 total time=   1.8s\n",
      "[CV 4/5] END learning_rate=1, max_depth=1, n_estimators=100;, score=0.764 total time=   1.4s\n",
      "[CV 5/5] END learning_rate=1, max_depth=1, n_estimators=100;, score=0.764 total time=   1.8s\n",
      "[CV 1/5] END learning_rate=1, max_depth=1, n_estimators=250;, score=0.764 total time=   4.4s\n",
      "[CV 2/5] END learning_rate=1, max_depth=1, n_estimators=250;, score=0.764 total time=   4.1s\n",
      "[CV 3/5] END learning_rate=1, max_depth=1, n_estimators=250;, score=0.763 total time=   5.2s\n",
      "[CV 4/5] END learning_rate=1, max_depth=1, n_estimators=250;, score=0.764 total time=   4.2s\n",
      "[CV 5/5] END learning_rate=1, max_depth=1, n_estimators=250;, score=0.764 total time=   4.4s\n",
      "[CV 1/5] END learning_rate=1, max_depth=1, n_estimators=500;, score=0.764 total time=   8.9s\n",
      "[CV 2/5] END learning_rate=1, max_depth=1, n_estimators=500;, score=0.764 total time=   8.5s\n",
      "[CV 3/5] END learning_rate=1, max_depth=1, n_estimators=500;, score=0.763 total time=   7.8s\n",
      "[CV 4/5] END learning_rate=1, max_depth=1, n_estimators=500;, score=0.764 total time=   8.5s\n",
      "[CV 5/5] END learning_rate=1, max_depth=1, n_estimators=500;, score=0.764 total time=   8.0s\n",
      "[CV 1/5] END learning_rate=1, max_depth=2, n_estimators=100;, score=0.764 total time=   2.3s\n",
      "[CV 2/5] END learning_rate=1, max_depth=2, n_estimators=100;, score=0.764 total time=   2.4s\n",
      "[CV 3/5] END learning_rate=1, max_depth=2, n_estimators=100;, score=0.763 total time=   1.7s\n",
      "[CV 4/5] END learning_rate=1, max_depth=2, n_estimators=100;, score=0.764 total time=   2.5s\n",
      "[CV 5/5] END learning_rate=1, max_depth=2, n_estimators=100;, score=0.764 total time=   2.6s\n",
      "[CV 1/5] END learning_rate=1, max_depth=2, n_estimators=250;, score=0.764 total time=   4.7s\n",
      "[CV 2/5] END learning_rate=1, max_depth=2, n_estimators=250;, score=0.764 total time=   4.9s\n",
      "[CV 3/5] END learning_rate=1, max_depth=2, n_estimators=250;, score=0.763 total time=   5.0s\n",
      "[CV 4/5] END learning_rate=1, max_depth=2, n_estimators=250;, score=0.764 total time=   5.4s\n",
      "[CV 5/5] END learning_rate=1, max_depth=2, n_estimators=250;, score=0.764 total time=   4.6s\n",
      "[CV 1/5] END learning_rate=1, max_depth=2, n_estimators=500;, score=0.764 total time=  10.4s\n",
      "[CV 2/5] END learning_rate=1, max_depth=2, n_estimators=500;, score=0.764 total time=   9.9s\n",
      "[CV 3/5] END learning_rate=1, max_depth=2, n_estimators=500;, score=0.763 total time=  11.7s\n",
      "[CV 4/5] END learning_rate=1, max_depth=2, n_estimators=500;, score=0.764 total time=   9.9s\n",
      "[CV 5/5] END learning_rate=1, max_depth=2, n_estimators=500;, score=0.764 total time=  12.3s\n",
      "[CV 1/5] END learning_rate=1, max_depth=3, n_estimators=100;, score=0.764 total time=   3.0s\n",
      "[CV 2/5] END learning_rate=1, max_depth=3, n_estimators=100;, score=0.764 total time=   3.0s\n",
      "[CV 3/5] END learning_rate=1, max_depth=3, n_estimators=100;, score=0.763 total time=   3.0s\n",
      "[CV 4/5] END learning_rate=1, max_depth=3, n_estimators=100;, score=0.764 total time=   2.4s\n"
     ]
    },
    {
     "name": "stdout",
     "output_type": "stream",
     "text": [
      "[CV 5/5] END learning_rate=1, max_depth=3, n_estimators=100;, score=0.764 total time=   3.6s\n",
      "[CV 1/5] END learning_rate=1, max_depth=3, n_estimators=250;, score=0.764 total time=   8.8s\n",
      "[CV 2/5] END learning_rate=1, max_depth=3, n_estimators=250;, score=0.764 total time=   6.4s\n",
      "[CV 3/5] END learning_rate=1, max_depth=3, n_estimators=250;, score=0.763 total time=   6.2s\n",
      "[CV 4/5] END learning_rate=1, max_depth=3, n_estimators=250;, score=0.764 total time=   6.1s\n",
      "[CV 5/5] END learning_rate=1, max_depth=3, n_estimators=250;, score=0.764 total time=   6.3s\n",
      "[CV 1/5] END learning_rate=1, max_depth=3, n_estimators=500;, score=0.764 total time=  14.1s\n",
      "[CV 2/5] END learning_rate=1, max_depth=3, n_estimators=500;, score=0.764 total time=  14.6s\n",
      "[CV 3/5] END learning_rate=1, max_depth=3, n_estimators=500;, score=0.763 total time=  12.0s\n",
      "[CV 4/5] END learning_rate=1, max_depth=3, n_estimators=500;, score=0.764 total time=  14.3s\n",
      "[CV 5/5] END learning_rate=1, max_depth=3, n_estimators=500;, score=0.764 total time=  13.8s\n",
      "[CV 1/5] END learning_rate=1, max_depth=4, n_estimators=100;, score=0.764 total time=   3.2s\n",
      "[CV 2/5] END learning_rate=1, max_depth=4, n_estimators=100;, score=0.764 total time=   3.1s\n",
      "[CV 3/5] END learning_rate=1, max_depth=4, n_estimators=100;, score=0.763 total time=   2.2s\n",
      "[CV 4/5] END learning_rate=1, max_depth=4, n_estimators=100;, score=0.764 total time=   2.8s\n",
      "[CV 5/5] END learning_rate=1, max_depth=4, n_estimators=100;, score=0.764 total time=   3.0s\n",
      "[CV 1/5] END learning_rate=1, max_depth=4, n_estimators=250;, score=0.764 total time=   5.4s\n",
      "[CV 2/5] END learning_rate=1, max_depth=4, n_estimators=250;, score=0.764 total time=   5.9s\n",
      "[CV 3/5] END learning_rate=1, max_depth=4, n_estimators=250;, score=0.763 total time=   7.3s\n",
      "[CV 4/5] END learning_rate=1, max_depth=4, n_estimators=250;, score=0.764 total time=   5.9s\n",
      "[CV 5/5] END learning_rate=1, max_depth=4, n_estimators=250;, score=0.764 total time=   6.1s\n",
      "[CV 1/5] END learning_rate=1, max_depth=4, n_estimators=500;, score=0.764 total time=  14.4s\n",
      "[CV 2/5] END learning_rate=1, max_depth=4, n_estimators=500;, score=0.764 total time=  14.6s\n",
      "[CV 3/5] END learning_rate=1, max_depth=4, n_estimators=500;, score=0.763 total time=  12.6s\n",
      "[CV 4/5] END learning_rate=1, max_depth=4, n_estimators=500;, score=0.764 total time=  12.3s\n",
      "[CV 5/5] END learning_rate=1, max_depth=4, n_estimators=500;, score=0.764 total time=  11.8s\n",
      "[CV 1/5] END learning_rate=1, max_depth=5, n_estimators=100;, score=0.764 total time=   2.4s\n",
      "[CV 2/5] END learning_rate=1, max_depth=5, n_estimators=100;, score=0.764 total time=   2.3s\n",
      "[CV 3/5] END learning_rate=1, max_depth=5, n_estimators=100;, score=0.763 total time=   2.5s\n",
      "[CV 4/5] END learning_rate=1, max_depth=5, n_estimators=100;, score=0.764 total time=   2.3s\n",
      "[CV 5/5] END learning_rate=1, max_depth=5, n_estimators=100;, score=0.764 total time=   2.4s\n",
      "[CV 1/5] END learning_rate=1, max_depth=5, n_estimators=250;, score=0.764 total time=   8.8s\n",
      "[CV 2/5] END learning_rate=1, max_depth=5, n_estimators=250;, score=0.764 total time=   8.7s\n",
      "[CV 3/5] END learning_rate=1, max_depth=5, n_estimators=250;, score=0.763 total time=   6.1s\n",
      "[CV 4/5] END learning_rate=1, max_depth=5, n_estimators=250;, score=0.764 total time=   6.3s\n",
      "[CV 5/5] END learning_rate=1, max_depth=5, n_estimators=250;, score=0.764 total time=   6.3s\n",
      "[CV 1/5] END learning_rate=1, max_depth=5, n_estimators=500;, score=0.764 total time=  13.1s\n",
      "[CV 2/5] END learning_rate=1, max_depth=5, n_estimators=500;, score=0.764 total time=  14.6s\n",
      "[CV 3/5] END learning_rate=1, max_depth=5, n_estimators=500;, score=0.763 total time=  13.2s\n",
      "[CV 4/5] END learning_rate=1, max_depth=5, n_estimators=500;, score=0.764 total time=  14.0s\n",
      "[CV 5/5] END learning_rate=1, max_depth=5, n_estimators=500;, score=0.764 total time=  15.3s\n",
      "[CV 1/5] END learning_rate=0.5, max_depth=1, n_estimators=100;, score=0.764 total time=   1.8s\n",
      "[CV 2/5] END learning_rate=0.5, max_depth=1, n_estimators=100;, score=0.764 total time=   1.6s\n",
      "[CV 3/5] END learning_rate=0.5, max_depth=1, n_estimators=100;, score=0.763 total time=   1.6s\n",
      "[CV 4/5] END learning_rate=0.5, max_depth=1, n_estimators=100;, score=0.764 total time=   1.7s\n",
      "[CV 5/5] END learning_rate=0.5, max_depth=1, n_estimators=100;, score=0.764 total time=   2.1s\n",
      "[CV 1/5] END learning_rate=0.5, max_depth=1, n_estimators=250;, score=0.764 total time=   5.1s\n",
      "[CV 2/5] END learning_rate=0.5, max_depth=1, n_estimators=250;, score=0.764 total time=   4.7s\n",
      "[CV 3/5] END learning_rate=0.5, max_depth=1, n_estimators=250;, score=0.763 total time=   4.7s\n",
      "[CV 4/5] END learning_rate=0.5, max_depth=1, n_estimators=250;, score=0.764 total time=   5.3s\n",
      "[CV 5/5] END learning_rate=0.5, max_depth=1, n_estimators=250;, score=0.764 total time=   5.4s\n",
      "[CV 1/5] END learning_rate=0.5, max_depth=1, n_estimators=500;, score=0.764 total time=   9.2s\n",
      "[CV 2/5] END learning_rate=0.5, max_depth=1, n_estimators=500;, score=0.764 total time=   9.1s\n",
      "[CV 3/5] END learning_rate=0.5, max_depth=1, n_estimators=500;, score=0.763 total time=   9.0s\n",
      "[CV 4/5] END learning_rate=0.5, max_depth=1, n_estimators=500;, score=0.764 total time=   9.5s\n",
      "[CV 5/5] END learning_rate=0.5, max_depth=1, n_estimators=500;, score=0.764 total time=   9.1s\n",
      "[CV 1/5] END learning_rate=0.5, max_depth=2, n_estimators=100;, score=0.764 total time=   1.6s\n",
      "[CV 2/5] END learning_rate=0.5, max_depth=2, n_estimators=100;, score=0.764 total time=   2.2s\n",
      "[CV 3/5] END learning_rate=0.5, max_depth=2, n_estimators=100;, score=0.763 total time=   2.1s\n",
      "[CV 4/5] END learning_rate=0.5, max_depth=2, n_estimators=100;, score=0.764 total time=   2.4s\n",
      "[CV 5/5] END learning_rate=0.5, max_depth=2, n_estimators=100;, score=0.764 total time=   2.5s\n",
      "[CV 1/5] END learning_rate=0.5, max_depth=2, n_estimators=250;, score=0.764 total time=   5.8s\n",
      "[CV 2/5] END learning_rate=0.5, max_depth=2, n_estimators=250;, score=0.764 total time=   6.3s\n",
      "[CV 3/5] END learning_rate=0.5, max_depth=2, n_estimators=250;, score=0.763 total time=   5.2s\n",
      "[CV 4/5] END learning_rate=0.5, max_depth=2, n_estimators=250;, score=0.764 total time=   5.4s\n",
      "[CV 5/5] END learning_rate=0.5, max_depth=2, n_estimators=250;, score=0.764 total time=   5.7s\n",
      "[CV 1/5] END learning_rate=0.5, max_depth=2, n_estimators=500;, score=0.764 total time=  13.7s\n",
      "[CV 2/5] END learning_rate=0.5, max_depth=2, n_estimators=500;, score=0.764 total time=  13.4s\n",
      "[CV 3/5] END learning_rate=0.5, max_depth=2, n_estimators=500;, score=0.763 total time=  10.5s\n",
      "[CV 4/5] END learning_rate=0.5, max_depth=2, n_estimators=500;, score=0.764 total time=  10.7s\n",
      "[CV 5/5] END learning_rate=0.5, max_depth=2, n_estimators=500;, score=0.764 total time=  11.1s\n",
      "[CV 1/5] END learning_rate=0.5, max_depth=3, n_estimators=100;, score=0.764 total time=   3.1s\n",
      "[CV 2/5] END learning_rate=0.5, max_depth=3, n_estimators=100;, score=0.764 total time=   2.7s\n",
      "[CV 3/5] END learning_rate=0.5, max_depth=3, n_estimators=100;, score=0.763 total time=   2.8s\n",
      "[CV 4/5] END learning_rate=0.5, max_depth=3, n_estimators=100;, score=0.764 total time=   2.8s\n",
      "[CV 5/5] END learning_rate=0.5, max_depth=3, n_estimators=100;, score=0.764 total time=   2.5s\n",
      "[CV 1/5] END learning_rate=0.5, max_depth=3, n_estimators=250;, score=0.764 total time=   6.2s\n",
      "[CV 2/5] END learning_rate=0.5, max_depth=3, n_estimators=250;, score=0.764 total time=   5.8s\n",
      "[CV 3/5] END learning_rate=0.5, max_depth=3, n_estimators=250;, score=0.763 total time=   5.4s\n",
      "[CV 4/5] END learning_rate=0.5, max_depth=3, n_estimators=250;, score=0.764 total time=   5.4s\n",
      "[CV 5/5] END learning_rate=0.5, max_depth=3, n_estimators=250;, score=0.764 total time=   5.8s\n",
      "[CV 1/5] END learning_rate=0.5, max_depth=3, n_estimators=500;, score=0.764 total time=  11.3s\n",
      "[CV 2/5] END learning_rate=0.5, max_depth=3, n_estimators=500;, score=0.764 total time=  12.2s\n",
      "[CV 3/5] END learning_rate=0.5, max_depth=3, n_estimators=500;, score=0.763 total time=  14.8s\n",
      "[CV 4/5] END learning_rate=0.5, max_depth=3, n_estimators=500;, score=0.764 total time=  13.4s\n",
      "[CV 5/5] END learning_rate=0.5, max_depth=3, n_estimators=500;, score=0.764 total time=  11.3s\n",
      "[CV 1/5] END learning_rate=0.5, max_depth=4, n_estimators=100;, score=0.764 total time=   2.7s\n",
      "[CV 2/5] END learning_rate=0.5, max_depth=4, n_estimators=100;, score=0.764 total time=   2.7s\n"
     ]
    },
    {
     "name": "stdout",
     "output_type": "stream",
     "text": [
      "[CV 3/5] END learning_rate=0.5, max_depth=4, n_estimators=100;, score=0.763 total time=   2.1s\n",
      "[CV 4/5] END learning_rate=0.5, max_depth=4, n_estimators=100;, score=0.764 total time=   2.2s\n",
      "[CV 5/5] END learning_rate=0.5, max_depth=4, n_estimators=100;, score=0.764 total time=   2.1s\n",
      "[CV 1/5] END learning_rate=0.5, max_depth=4, n_estimators=250;, score=0.764 total time=   6.6s\n",
      "[CV 2/5] END learning_rate=0.5, max_depth=4, n_estimators=250;, score=0.764 total time=   7.3s\n",
      "[CV 3/5] END learning_rate=0.5, max_depth=4, n_estimators=250;, score=0.763 total time=   6.3s\n",
      "[CV 4/5] END learning_rate=0.5, max_depth=4, n_estimators=250;, score=0.764 total time=   7.3s\n",
      "[CV 5/5] END learning_rate=0.5, max_depth=4, n_estimators=250;, score=0.764 total time=   7.4s\n",
      "[CV 1/5] END learning_rate=0.5, max_depth=4, n_estimators=500;, score=0.764 total time=  12.7s\n",
      "[CV 2/5] END learning_rate=0.5, max_depth=4, n_estimators=500;, score=0.764 total time=  17.5s\n",
      "[CV 3/5] END learning_rate=0.5, max_depth=4, n_estimators=500;, score=0.763 total time=  12.0s\n",
      "[CV 4/5] END learning_rate=0.5, max_depth=4, n_estimators=500;, score=0.764 total time=  13.6s\n",
      "[CV 5/5] END learning_rate=0.5, max_depth=4, n_estimators=500;, score=0.764 total time=  14.2s\n",
      "[CV 1/5] END learning_rate=0.5, max_depth=5, n_estimators=100;, score=0.764 total time=   2.7s\n",
      "[CV 2/5] END learning_rate=0.5, max_depth=5, n_estimators=100;, score=0.764 total time=   2.4s\n",
      "[CV 3/5] END learning_rate=0.5, max_depth=5, n_estimators=100;, score=0.763 total time=   2.5s\n",
      "[CV 4/5] END learning_rate=0.5, max_depth=5, n_estimators=100;, score=0.764 total time=   2.8s\n",
      "[CV 5/5] END learning_rate=0.5, max_depth=5, n_estimators=100;, score=0.764 total time=   2.2s\n",
      "[CV 1/5] END learning_rate=0.5, max_depth=5, n_estimators=250;, score=0.764 total time=   6.1s\n",
      "[CV 2/5] END learning_rate=0.5, max_depth=5, n_estimators=250;, score=0.764 total time=   6.7s\n",
      "[CV 3/5] END learning_rate=0.5, max_depth=5, n_estimators=250;, score=0.763 total time=   6.1s\n",
      "[CV 4/5] END learning_rate=0.5, max_depth=5, n_estimators=250;, score=0.764 total time=   7.2s\n",
      "[CV 5/5] END learning_rate=0.5, max_depth=5, n_estimators=250;, score=0.764 total time=   7.7s\n",
      "[CV 1/5] END learning_rate=0.5, max_depth=5, n_estimators=500;, score=0.764 total time=  15.3s\n",
      "[CV 2/5] END learning_rate=0.5, max_depth=5, n_estimators=500;, score=0.764 total time=  13.6s\n",
      "[CV 3/5] END learning_rate=0.5, max_depth=5, n_estimators=500;, score=0.763 total time=  12.1s\n",
      "[CV 4/5] END learning_rate=0.5, max_depth=5, n_estimators=500;, score=0.764 total time=  13.3s\n",
      "[CV 5/5] END learning_rate=0.5, max_depth=5, n_estimators=500;, score=0.764 total time=  15.3s\n",
      "[CV 1/5] END learning_rate=0.25, max_depth=1, n_estimators=100;, score=0.764 total time=   1.6s\n",
      "[CV 2/5] END learning_rate=0.25, max_depth=1, n_estimators=100;, score=0.764 total time=   1.6s\n",
      "[CV 3/5] END learning_rate=0.25, max_depth=1, n_estimators=100;, score=0.763 total time=   1.8s\n",
      "[CV 4/5] END learning_rate=0.25, max_depth=1, n_estimators=100;, score=0.764 total time=   1.5s\n",
      "[CV 5/5] END learning_rate=0.25, max_depth=1, n_estimators=100;, score=0.764 total time=   1.9s\n",
      "[CV 1/5] END learning_rate=0.25, max_depth=1, n_estimators=250;, score=0.764 total time=   5.2s\n",
      "[CV 2/5] END learning_rate=0.25, max_depth=1, n_estimators=250;, score=0.764 total time=   5.2s\n",
      "[CV 3/5] END learning_rate=0.25, max_depth=1, n_estimators=250;, score=0.763 total time=   5.4s\n",
      "[CV 4/5] END learning_rate=0.25, max_depth=1, n_estimators=250;, score=0.764 total time=   5.5s\n",
      "[CV 5/5] END learning_rate=0.25, max_depth=1, n_estimators=250;, score=0.764 total time=   4.0s\n",
      "[CV 1/5] END learning_rate=0.25, max_depth=1, n_estimators=500;, score=0.764 total time=   9.3s\n",
      "[CV 2/5] END learning_rate=0.25, max_depth=1, n_estimators=500;, score=0.764 total time=   9.5s\n",
      "[CV 3/5] END learning_rate=0.25, max_depth=1, n_estimators=500;, score=0.763 total time=   8.5s\n",
      "[CV 4/5] END learning_rate=0.25, max_depth=1, n_estimators=500;, score=0.764 total time=   8.4s\n",
      "[CV 5/5] END learning_rate=0.25, max_depth=1, n_estimators=500;, score=0.764 total time=  11.5s\n",
      "[CV 1/5] END learning_rate=0.25, max_depth=2, n_estimators=100;, score=0.764 total time=   3.0s\n",
      "[CV 2/5] END learning_rate=0.25, max_depth=2, n_estimators=100;, score=0.764 total time=   2.8s\n",
      "[CV 3/5] END learning_rate=0.25, max_depth=2, n_estimators=100;, score=0.763 total time=   2.3s\n",
      "[CV 4/5] END learning_rate=0.25, max_depth=2, n_estimators=100;, score=0.764 total time=   2.4s\n",
      "[CV 5/5] END learning_rate=0.25, max_depth=2, n_estimators=100;, score=0.764 total time=   2.6s\n",
      "[CV 1/5] END learning_rate=0.25, max_depth=2, n_estimators=250;, score=0.764 total time=   5.2s\n",
      "[CV 2/5] END learning_rate=0.25, max_depth=2, n_estimators=250;, score=0.764 total time=   4.5s\n",
      "[CV 3/5] END learning_rate=0.25, max_depth=2, n_estimators=250;, score=0.763 total time=   5.8s\n",
      "[CV 4/5] END learning_rate=0.25, max_depth=2, n_estimators=250;, score=0.764 total time=   6.4s\n",
      "[CV 5/5] END learning_rate=0.25, max_depth=2, n_estimators=250;, score=0.764 total time=   5.3s\n",
      "[CV 1/5] END learning_rate=0.25, max_depth=2, n_estimators=500;, score=0.764 total time=  11.3s\n",
      "[CV 2/5] END learning_rate=0.25, max_depth=2, n_estimators=500;, score=0.764 total time=  12.4s\n",
      "[CV 3/5] END learning_rate=0.25, max_depth=2, n_estimators=500;, score=0.763 total time=  10.8s\n",
      "[CV 4/5] END learning_rate=0.25, max_depth=2, n_estimators=500;, score=0.764 total time=  12.6s\n",
      "[CV 5/5] END learning_rate=0.25, max_depth=2, n_estimators=500;, score=0.764 total time=  10.9s\n",
      "[CV 1/5] END learning_rate=0.25, max_depth=3, n_estimators=100;, score=0.764 total time=   2.7s\n",
      "[CV 2/5] END learning_rate=0.25, max_depth=3, n_estimators=100;, score=0.764 total time=   3.0s\n",
      "[CV 3/5] END learning_rate=0.25, max_depth=3, n_estimators=100;, score=0.763 total time=   3.0s\n",
      "[CV 4/5] END learning_rate=0.25, max_depth=3, n_estimators=100;, score=0.764 total time=   3.0s\n",
      "[CV 5/5] END learning_rate=0.25, max_depth=3, n_estimators=100;, score=0.764 total time=   3.0s\n",
      "[CV 1/5] END learning_rate=0.25, max_depth=3, n_estimators=250;, score=0.764 total time=   7.1s\n",
      "[CV 2/5] END learning_rate=0.25, max_depth=3, n_estimators=250;, score=0.764 total time=   6.8s\n",
      "[CV 3/5] END learning_rate=0.25, max_depth=3, n_estimators=250;, score=0.763 total time=   6.2s\n",
      "[CV 4/5] END learning_rate=0.25, max_depth=3, n_estimators=250;, score=0.764 total time=   5.7s\n",
      "[CV 5/5] END learning_rate=0.25, max_depth=3, n_estimators=250;, score=0.764 total time=   5.7s\n",
      "[CV 1/5] END learning_rate=0.25, max_depth=3, n_estimators=500;, score=0.764 total time=  11.5s\n",
      "[CV 2/5] END learning_rate=0.25, max_depth=3, n_estimators=500;, score=0.764 total time=  12.9s\n",
      "[CV 3/5] END learning_rate=0.25, max_depth=3, n_estimators=500;, score=0.763 total time=  10.9s\n",
      "[CV 4/5] END learning_rate=0.25, max_depth=3, n_estimators=500;, score=0.764 total time=  12.9s\n",
      "[CV 5/5] END learning_rate=0.25, max_depth=3, n_estimators=500;, score=0.764 total time=  12.3s\n",
      "[CV 1/5] END learning_rate=0.25, max_depth=4, n_estimators=100;, score=0.764 total time=   2.2s\n",
      "[CV 2/5] END learning_rate=0.25, max_depth=4, n_estimators=100;, score=0.764 total time=   2.6s\n",
      "[CV 3/5] END learning_rate=0.25, max_depth=4, n_estimators=100;, score=0.763 total time=   2.2s\n",
      "[CV 4/5] END learning_rate=0.25, max_depth=4, n_estimators=100;, score=0.764 total time=   2.0s\n",
      "[CV 5/5] END learning_rate=0.25, max_depth=4, n_estimators=100;, score=0.764 total time=   2.1s\n",
      "[CV 1/5] END learning_rate=0.25, max_depth=4, n_estimators=250;, score=0.764 total time=   5.0s\n",
      "[CV 2/5] END learning_rate=0.25, max_depth=4, n_estimators=250;, score=0.764 total time=   5.1s\n",
      "[CV 3/5] END learning_rate=0.25, max_depth=4, n_estimators=250;, score=0.763 total time=   4.8s\n",
      "[CV 4/5] END learning_rate=0.25, max_depth=4, n_estimators=250;, score=0.764 total time=   4.9s\n",
      "[CV 5/5] END learning_rate=0.25, max_depth=4, n_estimators=250;, score=0.764 total time=   5.2s\n",
      "[CV 1/5] END learning_rate=0.25, max_depth=4, n_estimators=500;, score=0.764 total time=  11.8s\n",
      "[CV 2/5] END learning_rate=0.25, max_depth=4, n_estimators=500;, score=0.764 total time=  10.3s\n",
      "[CV 3/5] END learning_rate=0.25, max_depth=4, n_estimators=500;, score=0.763 total time=  10.0s\n"
     ]
    },
    {
     "name": "stdout",
     "output_type": "stream",
     "text": [
      "[CV 4/5] END learning_rate=0.25, max_depth=4, n_estimators=500;, score=0.764 total time=   9.9s\n",
      "[CV 5/5] END learning_rate=0.25, max_depth=4, n_estimators=500;, score=0.764 total time=  10.3s\n",
      "[CV 1/5] END learning_rate=0.25, max_depth=5, n_estimators=100;, score=0.764 total time=   2.8s\n",
      "[CV 2/5] END learning_rate=0.25, max_depth=5, n_estimators=100;, score=0.764 total time=   2.1s\n",
      "[CV 3/5] END learning_rate=0.25, max_depth=5, n_estimators=100;, score=0.763 total time=   1.9s\n",
      "[CV 4/5] END learning_rate=0.25, max_depth=5, n_estimators=100;, score=0.764 total time=   2.3s\n",
      "[CV 5/5] END learning_rate=0.25, max_depth=5, n_estimators=100;, score=0.764 total time=   2.1s\n",
      "[CV 1/5] END learning_rate=0.25, max_depth=5, n_estimators=250;, score=0.764 total time=   5.9s\n",
      "[CV 2/5] END learning_rate=0.25, max_depth=5, n_estimators=250;, score=0.764 total time=   6.7s\n",
      "[CV 3/5] END learning_rate=0.25, max_depth=5, n_estimators=250;, score=0.763 total time=   5.0s\n",
      "[CV 4/5] END learning_rate=0.25, max_depth=5, n_estimators=250;, score=0.764 total time=   5.2s\n",
      "[CV 5/5] END learning_rate=0.25, max_depth=5, n_estimators=250;, score=0.764 total time=   5.7s\n",
      "[CV 1/5] END learning_rate=0.25, max_depth=5, n_estimators=500;, score=0.764 total time=  10.1s\n",
      "[CV 2/5] END learning_rate=0.25, max_depth=5, n_estimators=500;, score=0.764 total time=  10.2s\n",
      "[CV 3/5] END learning_rate=0.25, max_depth=5, n_estimators=500;, score=0.763 total time=  10.2s\n",
      "[CV 4/5] END learning_rate=0.25, max_depth=5, n_estimators=500;, score=0.764 total time=  13.7s\n",
      "[CV 5/5] END learning_rate=0.25, max_depth=5, n_estimators=500;, score=0.764 total time=  14.2s\n",
      "[CV 1/5] END learning_rate=0.75, max_depth=1, n_estimators=100;, score=0.764 total time=   2.1s\n",
      "[CV 2/5] END learning_rate=0.75, max_depth=1, n_estimators=100;, score=0.764 total time=   1.8s\n",
      "[CV 3/5] END learning_rate=0.75, max_depth=1, n_estimators=100;, score=0.763 total time=   2.2s\n",
      "[CV 4/5] END learning_rate=0.75, max_depth=1, n_estimators=100;, score=0.764 total time=   2.2s\n",
      "[CV 5/5] END learning_rate=0.75, max_depth=1, n_estimators=100;, score=0.764 total time=   2.3s\n",
      "[CV 1/5] END learning_rate=0.75, max_depth=1, n_estimators=250;, score=0.764 total time=   3.9s\n",
      "[CV 2/5] END learning_rate=0.75, max_depth=1, n_estimators=250;, score=0.764 total time=   4.0s\n",
      "[CV 3/5] END learning_rate=0.75, max_depth=1, n_estimators=250;, score=0.763 total time=   3.8s\n",
      "[CV 4/5] END learning_rate=0.75, max_depth=1, n_estimators=250;, score=0.764 total time=   4.9s\n",
      "[CV 5/5] END learning_rate=0.75, max_depth=1, n_estimators=250;, score=0.764 total time=   6.0s\n",
      "[CV 1/5] END learning_rate=0.75, max_depth=1, n_estimators=500;, score=0.764 total time=  13.1s\n",
      "[CV 2/5] END learning_rate=0.75, max_depth=1, n_estimators=500;, score=0.764 total time=  12.7s\n",
      "[CV 3/5] END learning_rate=0.75, max_depth=1, n_estimators=500;, score=0.763 total time=  12.4s\n",
      "[CV 4/5] END learning_rate=0.75, max_depth=1, n_estimators=500;, score=0.764 total time=  12.8s\n",
      "[CV 5/5] END learning_rate=0.75, max_depth=1, n_estimators=500;, score=0.764 total time=   9.3s\n",
      "[CV 1/5] END learning_rate=0.75, max_depth=2, n_estimators=100;, score=0.764 total time=   2.5s\n",
      "[CV 2/5] END learning_rate=0.75, max_depth=2, n_estimators=100;, score=0.764 total time=   2.6s\n",
      "[CV 3/5] END learning_rate=0.75, max_depth=2, n_estimators=100;, score=0.763 total time=   2.7s\n",
      "[CV 4/5] END learning_rate=0.75, max_depth=2, n_estimators=100;, score=0.764 total time=   2.6s\n",
      "[CV 5/5] END learning_rate=0.75, max_depth=2, n_estimators=100;, score=0.764 total time=   2.7s\n",
      "[CV 1/5] END learning_rate=0.75, max_depth=2, n_estimators=250;, score=0.764 total time=   6.7s\n",
      "[CV 2/5] END learning_rate=0.75, max_depth=2, n_estimators=250;, score=0.764 total time=   7.4s\n",
      "[CV 3/5] END learning_rate=0.75, max_depth=2, n_estimators=250;, score=0.763 total time=   6.7s\n",
      "[CV 4/5] END learning_rate=0.75, max_depth=2, n_estimators=250;, score=0.764 total time=   4.4s\n",
      "[CV 5/5] END learning_rate=0.75, max_depth=2, n_estimators=250;, score=0.764 total time=   4.0s\n",
      "[CV 1/5] END learning_rate=0.75, max_depth=2, n_estimators=500;, score=0.764 total time=   9.8s\n",
      "[CV 2/5] END learning_rate=0.75, max_depth=2, n_estimators=500;, score=0.764 total time=  13.0s\n",
      "[CV 3/5] END learning_rate=0.75, max_depth=2, n_estimators=500;, score=0.763 total time=  12.8s\n",
      "[CV 4/5] END learning_rate=0.75, max_depth=2, n_estimators=500;, score=0.764 total time=  11.0s\n",
      "[CV 5/5] END learning_rate=0.75, max_depth=2, n_estimators=500;, score=0.764 total time=   8.8s\n",
      "[CV 1/5] END learning_rate=0.75, max_depth=3, n_estimators=100;, score=0.764 total time=   3.0s\n",
      "[CV 2/5] END learning_rate=0.75, max_depth=3, n_estimators=100;, score=0.764 total time=   2.2s\n",
      "[CV 3/5] END learning_rate=0.75, max_depth=3, n_estimators=100;, score=0.763 total time=   2.1s\n",
      "[CV 4/5] END learning_rate=0.75, max_depth=3, n_estimators=100;, score=0.764 total time=   2.0s\n",
      "[CV 5/5] END learning_rate=0.75, max_depth=3, n_estimators=100;, score=0.764 total time=   1.9s\n",
      "[CV 1/5] END learning_rate=0.75, max_depth=3, n_estimators=250;, score=0.764 total time=   4.8s\n",
      "[CV 2/5] END learning_rate=0.75, max_depth=3, n_estimators=250;, score=0.764 total time=   5.4s\n",
      "[CV 3/5] END learning_rate=0.75, max_depth=3, n_estimators=250;, score=0.763 total time=   4.5s\n",
      "[CV 4/5] END learning_rate=0.75, max_depth=3, n_estimators=250;, score=0.764 total time=   5.1s\n",
      "[CV 5/5] END learning_rate=0.75, max_depth=3, n_estimators=250;, score=0.764 total time=   5.1s\n",
      "[CV 1/5] END learning_rate=0.75, max_depth=3, n_estimators=500;, score=0.764 total time=   9.1s\n",
      "[CV 2/5] END learning_rate=0.75, max_depth=3, n_estimators=500;, score=0.764 total time=  11.7s\n",
      "[CV 3/5] END learning_rate=0.75, max_depth=3, n_estimators=500;, score=0.763 total time=  14.7s\n",
      "[CV 4/5] END learning_rate=0.75, max_depth=3, n_estimators=500;, score=0.764 total time=  11.4s\n",
      "[CV 5/5] END learning_rate=0.75, max_depth=3, n_estimators=500;, score=0.764 total time=  10.0s\n",
      "[CV 1/5] END learning_rate=0.75, max_depth=4, n_estimators=100;, score=0.764 total time=   2.0s\n",
      "[CV 2/5] END learning_rate=0.75, max_depth=4, n_estimators=100;, score=0.764 total time=   2.1s\n",
      "[CV 3/5] END learning_rate=0.75, max_depth=4, n_estimators=100;, score=0.763 total time=   1.8s\n",
      "[CV 4/5] END learning_rate=0.75, max_depth=4, n_estimators=100;, score=0.764 total time=   2.4s\n",
      "[CV 5/5] END learning_rate=0.75, max_depth=4, n_estimators=100;, score=0.764 total time=   2.1s\n",
      "[CV 1/5] END learning_rate=0.75, max_depth=4, n_estimators=250;, score=0.764 total time=   5.9s\n",
      "[CV 2/5] END learning_rate=0.75, max_depth=4, n_estimators=250;, score=0.764 total time=   5.9s\n",
      "[CV 3/5] END learning_rate=0.75, max_depth=4, n_estimators=250;, score=0.763 total time=   4.9s\n",
      "[CV 4/5] END learning_rate=0.75, max_depth=4, n_estimators=250;, score=0.764 total time=   5.2s\n",
      "[CV 5/5] END learning_rate=0.75, max_depth=4, n_estimators=250;, score=0.764 total time=   7.3s\n",
      "[CV 1/5] END learning_rate=0.75, max_depth=4, n_estimators=500;, score=0.764 total time=  15.7s\n",
      "[CV 2/5] END learning_rate=0.75, max_depth=4, n_estimators=500;, score=0.764 total time=  12.7s\n",
      "[CV 3/5] END learning_rate=0.75, max_depth=4, n_estimators=500;, score=0.763 total time=   8.9s\n",
      "[CV 4/5] END learning_rate=0.75, max_depth=4, n_estimators=500;, score=0.764 total time=   9.7s\n",
      "[CV 5/5] END learning_rate=0.75, max_depth=4, n_estimators=500;, score=0.764 total time=  10.4s\n",
      "[CV 1/5] END learning_rate=0.75, max_depth=5, n_estimators=100;, score=0.764 total time=   2.1s\n",
      "[CV 2/5] END learning_rate=0.75, max_depth=5, n_estimators=100;, score=0.764 total time=   2.0s\n",
      "[CV 3/5] END learning_rate=0.75, max_depth=5, n_estimators=100;, score=0.763 total time=   2.1s\n",
      "[CV 4/5] END learning_rate=0.75, max_depth=5, n_estimators=100;, score=0.764 total time=   2.2s\n",
      "[CV 5/5] END learning_rate=0.75, max_depth=5, n_estimators=100;, score=0.764 total time=   2.1s\n",
      "[CV 1/5] END learning_rate=0.75, max_depth=5, n_estimators=250;, score=0.764 total time=   5.9s\n",
      "[CV 2/5] END learning_rate=0.75, max_depth=5, n_estimators=250;, score=0.764 total time=   6.4s\n",
      "[CV 3/5] END learning_rate=0.75, max_depth=5, n_estimators=250;, score=0.763 total time=   4.9s\n",
      "[CV 4/5] END learning_rate=0.75, max_depth=5, n_estimators=250;, score=0.764 total time=   5.0s\n"
     ]
    },
    {
     "name": "stdout",
     "output_type": "stream",
     "text": [
      "[CV 5/5] END learning_rate=0.75, max_depth=5, n_estimators=250;, score=0.764 total time=   5.9s\n",
      "[CV 1/5] END learning_rate=0.75, max_depth=5, n_estimators=500;, score=0.764 total time=  14.1s\n",
      "[CV 2/5] END learning_rate=0.75, max_depth=5, n_estimators=500;, score=0.764 total time=  10.5s\n",
      "[CV 3/5] END learning_rate=0.75, max_depth=5, n_estimators=500;, score=0.763 total time=   9.6s\n",
      "[CV 4/5] END learning_rate=0.75, max_depth=5, n_estimators=500;, score=0.764 total time=  10.8s\n",
      "[CV 5/5] END learning_rate=0.75, max_depth=5, n_estimators=500;, score=0.764 total time=   9.9s\n"
     ]
    },
    {
     "data": {
      "text/plain": [
       "GridSearchCV(estimator=GradientBoostingClassifier(),\n",
       "             param_grid=[{'learning_rate': [0.1, 0.05, 0.01, 1, 0.5, 0.25,\n",
       "                                            0.75],\n",
       "                          'max_depth': [1, 2, 3, 4, 5],\n",
       "                          'n_estimators': [100, 250, 500]}],\n",
       "             verbose=3)"
      ]
     },
     "execution_count": 9,
     "metadata": {},
     "output_type": "execute_result"
    }
   ],
   "source": [
    "gs48.fit(X_train48, y_train48)"
   ]
  },
  {
   "cell_type": "code",
   "execution_count": 10,
   "id": "10f21d9c",
   "metadata": {},
   "outputs": [
    {
     "name": "stdout",
     "output_type": "stream",
     "text": [
      "The best parameters found for the 48h DCW:\n",
      "{'learning_rate': 0.1, 'max_depth': 1, 'n_estimators': 100}\n",
      "The best estimator found for the 48h DCW:\n",
      "GradientBoostingClassifier(max_depth=1)\n"
     ]
    }
   ],
   "source": [
    "print(\"The best parameters found for the 48h DCW:\")\n",
    "print(gs48.best_params_)\n",
    "  \n",
    "#PRINT HOW OUR MODEL LOOKS AFTER HYPER-PARAMETER TUNING\n",
    "print(\"The best estimator found for the 48h DCW:\")\n",
    "print(gs48.best_estimator_)"
   ]
  },
  {
   "cell_type": "code",
   "execution_count": 11,
   "id": "4add20a3",
   "metadata": {},
   "outputs": [],
   "source": [
    "best24 = GradientBoostingClassifier(learning_rate = 0.1, max_depth = 1, n_estimators =100)\n",
    "best48 = GradientBoostingClassifier(learning_rate = 0.1, max_depth=1, n_estimators = 100)"
   ]
  },
  {
   "cell_type": "code",
   "execution_count": 12,
   "id": "310cd2f3",
   "metadata": {},
   "outputs": [
    {
     "name": "stderr",
     "output_type": "stream",
     "text": [
      "[Parallel(n_jobs=1)]: Using backend SequentialBackend with 1 concurrent workers.\n",
      "[Parallel(n_jobs=1)]: Done   1 out of   1 | elapsed:    2.8s remaining:    0.0s\n",
      "[Parallel(n_jobs=1)]: Done   2 out of   2 | elapsed:    5.7s remaining:    0.0s\n",
      "[Parallel(n_jobs=1)]: Done   5 out of   5 | elapsed:   13.5s finished\n"
     ]
    }
   ],
   "source": [
    "y_pred24 = cross_val_predict(best24, X24, Y24, cv = 5, verbose = 3)"
   ]
  },
  {
   "cell_type": "code",
   "execution_count": 13,
   "id": "d15f6bb9",
   "metadata": {},
   "outputs": [
    {
     "name": "stderr",
     "output_type": "stream",
     "text": [
      "[Parallel(n_jobs=1)]: Using backend SequentialBackend with 1 concurrent workers.\n",
      "[Parallel(n_jobs=1)]: Done   1 out of   1 | elapsed:    1.5s remaining:    0.0s\n",
      "[Parallel(n_jobs=1)]: Done   2 out of   2 | elapsed:    2.9s remaining:    0.0s\n",
      "[Parallel(n_jobs=1)]: Done   5 out of   5 | elapsed:    7.2s finished\n"
     ]
    }
   ],
   "source": [
    "y_pred48 = cross_val_predict(best48, X48, Y48, cv = 5, verbose = 3)"
   ]
  },
  {
   "cell_type": "code",
   "execution_count": 20,
   "id": "ea8b20da",
   "metadata": {},
   "outputs": [
    {
     "name": "stdout",
     "output_type": "stream",
     "text": [
      "              precision    recall  f1-score   support\n",
      "\n",
      "           0       0.70      1.00      0.83     10761\n",
      "           1       0.00      0.00      0.00      4521\n",
      "\n",
      "    accuracy                           0.70     15282\n",
      "   macro avg       0.35      0.50      0.41     15282\n",
      "weighted avg       0.50      0.70      0.58     15282\n",
      "\n"
     ]
    },
    {
     "name": "stderr",
     "output_type": "stream",
     "text": [
      "/opt/conda/lib/python3.9/site-packages/sklearn/metrics/_classification.py:1248: UndefinedMetricWarning: Precision and F-score are ill-defined and being set to 0.0 in labels with no predicted samples. Use `zero_division` parameter to control this behavior.\n",
      "  _warn_prf(average, modifier, msg_start, len(result))\n",
      "/opt/conda/lib/python3.9/site-packages/sklearn/metrics/_classification.py:1248: UndefinedMetricWarning: Precision and F-score are ill-defined and being set to 0.0 in labels with no predicted samples. Use `zero_division` parameter to control this behavior.\n",
      "  _warn_prf(average, modifier, msg_start, len(result))\n",
      "/opt/conda/lib/python3.9/site-packages/sklearn/metrics/_classification.py:1248: UndefinedMetricWarning: Precision and F-score are ill-defined and being set to 0.0 in labels with no predicted samples. Use `zero_division` parameter to control this behavior.\n",
      "  _warn_prf(average, modifier, msg_start, len(result))\n"
     ]
    }
   ],
   "source": [
    "#CLASSIFICATION REPORT 24H\n",
    "print(classification_report(Y24, y_pred24))"
   ]
  },
  {
   "cell_type": "code",
   "execution_count": 21,
   "id": "f19e17ab",
   "metadata": {},
   "outputs": [
    {
     "name": "stdout",
     "output_type": "stream",
     "text": [
      "0.704161758932077\n"
     ]
    }
   ],
   "source": [
    "print(accuracy_score(Y24, y_pred24))"
   ]
  },
  {
   "cell_type": "code",
   "execution_count": 22,
   "id": "d67cc173",
   "metadata": {},
   "outputs": [
    {
     "name": "stdout",
     "output_type": "stream",
     "text": [
      "0.0\n"
     ]
    },
    {
     "name": "stderr",
     "output_type": "stream",
     "text": [
      "/opt/conda/lib/python3.9/site-packages/sklearn/metrics/_classification.py:1248: UndefinedMetricWarning: Precision is ill-defined and being set to 0.0 due to no predicted samples. Use `zero_division` parameter to control this behavior.\n",
      "  _warn_prf(average, modifier, msg_start, len(result))\n"
     ]
    }
   ],
   "source": [
    "print(precision_score(Y24, y_pred24))"
   ]
  },
  {
   "cell_type": "code",
   "execution_count": 23,
   "id": "77621aa4",
   "metadata": {},
   "outputs": [
    {
     "name": "stdout",
     "output_type": "stream",
     "text": [
      "0.0\n"
     ]
    }
   ],
   "source": [
    "print(recall_score(Y24, y_pred24))"
   ]
  },
  {
   "cell_type": "code",
   "execution_count": 24,
   "id": "39751c08",
   "metadata": {},
   "outputs": [
    {
     "name": "stdout",
     "output_type": "stream",
     "text": [
      "0.0\n"
     ]
    }
   ],
   "source": [
    "print(f1_score(Y24, y_pred24))"
   ]
  },
  {
   "cell_type": "code",
   "execution_count": 25,
   "id": "ce0d2696",
   "metadata": {},
   "outputs": [
    {
     "name": "stdout",
     "output_type": "stream",
     "text": [
      "              precision    recall  f1-score   support\n",
      "\n",
      "           0       0.77      1.00      0.87      6021\n",
      "           1       0.00      0.00      0.00      1841\n",
      "\n",
      "    accuracy                           0.77      7862\n",
      "   macro avg       0.38      0.50      0.43      7862\n",
      "weighted avg       0.59      0.77      0.66      7862\n",
      "\n"
     ]
    },
    {
     "name": "stderr",
     "output_type": "stream",
     "text": [
      "/opt/conda/lib/python3.9/site-packages/sklearn/metrics/_classification.py:1248: UndefinedMetricWarning: Precision and F-score are ill-defined and being set to 0.0 in labels with no predicted samples. Use `zero_division` parameter to control this behavior.\n",
      "  _warn_prf(average, modifier, msg_start, len(result))\n",
      "/opt/conda/lib/python3.9/site-packages/sklearn/metrics/_classification.py:1248: UndefinedMetricWarning: Precision and F-score are ill-defined and being set to 0.0 in labels with no predicted samples. Use `zero_division` parameter to control this behavior.\n",
      "  _warn_prf(average, modifier, msg_start, len(result))\n",
      "/opt/conda/lib/python3.9/site-packages/sklearn/metrics/_classification.py:1248: UndefinedMetricWarning: Precision and F-score are ill-defined and being set to 0.0 in labels with no predicted samples. Use `zero_division` parameter to control this behavior.\n",
      "  _warn_prf(average, modifier, msg_start, len(result))\n"
     ]
    }
   ],
   "source": [
    "#CLASSIFICATION REPORT 48H\n",
    "print(classification_report(Y48, y_pred48))"
   ]
  },
  {
   "cell_type": "code",
   "execution_count": 26,
   "id": "bc589e4c",
   "metadata": {},
   "outputs": [
    {
     "name": "stdout",
     "output_type": "stream",
     "text": [
      "Elapsed time to compute the importances: 0.078 seconds\n"
     ]
    },
    {
     "data": {
      "image/png": "[encoded data removed]",
      "text/plain": [
       "<Figure size 432x288 with 1 Axes>"
      ]
     },
     "metadata": {
      "needs_background": "light"
     },
     "output_type": "display_data"
    }
   ],
   "source": [
    "from sklearn.ensemble import RandomForestClassifier\n",
    "import matplotlib.pyplot as plt\n",
    "\n",
    "#FEATURES SELECTION BASED ON THEIR IMPORTANCE WITH A RANDOM FOREST CLASSIFIER \n",
    "feature_names24 = [f'feature {i}' for i in range(X24.shape[1])]\n",
    "forest = RandomForestClassifier(random_state=0)\n",
    "forest.fit(X_train24, y_train24)\n",
    "\n",
    "import time\n",
    "\n",
    "start_time24 = time.time()\n",
    "importances24 = forest.feature_importances_\n",
    "std = np.std([\n",
    "    tree.feature_importances_ for tree in forest.estimators_], axis=0)\n",
    "elapsed_time24 = time.time() - start_time24\n",
    "\n",
    "print(f\"Elapsed time to compute the importances: \"\n",
    "      f\"{elapsed_time24:.3f} seconds\")\n",
    "\n",
    "forest_importances24 = pd.Series(importances24, index=med24.columns[2:])\n",
    "\n",
    "fig, ax = plt.subplots()\n",
    "forest_importances24.plot.bar(yerr=std, ax=ax)\n",
    "ax.set_title(\"Feature importances using MDI\")\n",
    "ax.set_ylabel(\"Mean decrease in impurity\")\n",
    "fig.tight_layout()\n"
   ]
  },
  {
   "cell_type": "code",
   "execution_count": 27,
   "id": "a0103d6a",
   "metadata": {},
   "outputs": [
    {
     "name": "stdout",
     "output_type": "stream",
     "text": [
      "Feature: 0, Score: 0.00118\n",
      "Feature: 1, Score: 0.02973\n",
      "Feature: 2, Score: 0.86943\n",
      "Feature: 3, Score: 0.09966\n"
     ]
    }
   ],
   "source": [
    "for i,v in enumerate(importances24):\n",
    "    print('Feature: %0d, Score: %.5f' % (i,v))"
   ]
  },
  {
   "cell_type": "code",
   "execution_count": 28,
   "id": "baca7eda",
   "metadata": {},
   "outputs": [
    {
     "name": "stdout",
     "output_type": "stream",
     "text": [
      "Elapsed time to compute the importances: 0.071 seconds\n"
     ]
    },
    {
     "data": {
      "image/png": "[encoded data removed]",
      "text/plain": [
       "<Figure size 432x288 with 1 Axes>"
      ]
     },
     "metadata": {
      "needs_background": "light"
     },
     "output_type": "display_data"
    }
   ],
   "source": [
    "#DO IT FOR THE 48H DCW NOW\n",
    "feature_names48 = [f'feature {i}' for i in range(X48.shape[1])]\n",
    "#forest = RandomForestClassifier(random_state=0)\n",
    "forest.fit(X_train48, y_train48)\n",
    "\n",
    "start_time48 = time.time()\n",
    "importances48 = forest.feature_importances_\n",
    "std = np.std([\n",
    "    tree.feature_importances_ for tree in forest.estimators_], axis=0)\n",
    "elapsed_time48 = time.time() - start_time48\n",
    "\n",
    "print(f\"Elapsed time to compute the importances: \"\n",
    "      f\"{elapsed_time48:.3f} seconds\")\n",
    "\n",
    "forest_importances48 = pd.Series(importances48, index=med48.columns[2:])\n",
    "\n",
    "fig, ax = plt.subplots()\n",
    "forest_importances48.plot.bar(yerr=std, ax=ax)\n",
    "ax.set_title(\"Feature importances using MDI\")\n",
    "ax.set_ylabel(\"Mean decrease in impurity\")\n",
    "fig.tight_layout()\n"
   ]
  },
  {
   "cell_type": "code",
   "execution_count": 29,
   "id": "992f98ee",
   "metadata": {},
   "outputs": [
    {
     "name": "stdout",
     "output_type": "stream",
     "text": [
      "Feature: 0, Score: 0.00261\n",
      "Feature: 1, Score: 0.03066\n",
      "Feature: 2, Score: 0.89231\n",
      "Feature: 3, Score: 0.07441\n"
     ]
    }
   ],
   "source": [
    "for i,v in enumerate(importances48):\n",
    "    print('Feature: %0d, Score: %.5f' % (i,v))"
   ]
  },
  {
   "cell_type": "markdown",
   "id": "b8eb9615",
   "metadata": {},
   "source": [
    "## Try to use the function cross_validate( ) now."
   ]
  },
  {
   "cell_type": "code",
   "execution_count": 33,
   "id": "2b70b76e",
   "metadata": {},
   "outputs": [],
   "source": [
    "#DEFINE THE METRICS \n",
    "scoring=['accuracy','precision','recall', 'roc_auc', 'f1']"
   ]
  },
  {
   "cell_type": "code",
   "execution_count": 34,
   "id": "111a53ed",
   "metadata": {},
   "outputs": [],
   "source": [
    "p24 = Pipeline(steps=[('r', resample), ('m', best24)])\n",
    "\n",
    "scores24 = cross_validate(p24, X24, Y24, scoring = scoring, cv = 5)"
   ]
  },
  {
   "cell_type": "code",
   "execution_count": 35,
   "id": "2ddce223",
   "metadata": {},
   "outputs": [
    {
     "data": {
      "text/plain": [
       "0.6391188491951354"
      ]
     },
     "execution_count": 35,
     "metadata": {},
     "output_type": "execute_result"
    }
   ],
   "source": [
    "scores24['test_accuracy'].mean()"
   ]
  },
  {
   "cell_type": "code",
   "execution_count": 36,
   "id": "2e63ae3b",
   "metadata": {},
   "outputs": [
    {
     "data": {
      "text/plain": [
       "0.42045600030270036"
      ]
     },
     "execution_count": 36,
     "metadata": {},
     "output_type": "execute_result"
    }
   ],
   "source": [
    "scores24['test_precision'].mean()"
   ]
  },
  {
   "cell_type": "code",
   "execution_count": 37,
   "id": "dc3c542d",
   "metadata": {},
   "outputs": [
    {
     "data": {
      "text/plain": [
       "0.5795149855766881"
      ]
     },
     "execution_count": 37,
     "metadata": {},
     "output_type": "execute_result"
    }
   ],
   "source": [
    "scores24['test_recall'].mean()"
   ]
  },
  {
   "cell_type": "code",
   "execution_count": 38,
   "id": "b4425fec",
   "metadata": {},
   "outputs": [
    {
     "data": {
      "text/plain": [
       "0.487233802517239"
      ]
     },
     "execution_count": 38,
     "metadata": {},
     "output_type": "execute_result"
    }
   ],
   "source": [
    "scores24['test_f1'].mean()"
   ]
  },
  {
   "cell_type": "code",
   "execution_count": 39,
   "id": "a06eba04",
   "metadata": {},
   "outputs": [
    {
     "data": {
      "text/plain": [
       "0.6366542836575038"
      ]
     },
     "execution_count": 39,
     "metadata": {},
     "output_type": "execute_result"
    }
   ],
   "source": [
    "scores24['test_roc_auc'].mean()"
   ]
  },
  {
   "cell_type": "code",
   "execution_count": 40,
   "id": "b1b8ac5b",
   "metadata": {},
   "outputs": [],
   "source": [
    "p48 = Pipeline(steps=[('r', resample), ('m', best48)])\n",
    "\n",
    "scores48 = cross_validate(p48, X48, Y48, scoring = scoring, cv = 5)"
   ]
  },
  {
   "cell_type": "code",
   "execution_count": 41,
   "id": "de9edfec",
   "metadata": {},
   "outputs": [
    {
     "data": {
      "text/plain": [
       "0.5909447596123515"
      ]
     },
     "execution_count": 41,
     "metadata": {},
     "output_type": "execute_result"
    }
   ],
   "source": [
    "scores48['test_accuracy'].mean()"
   ]
  },
  {
   "cell_type": "code",
   "execution_count": 42,
   "id": "9b9c5d71",
   "metadata": {},
   "outputs": [
    {
     "data": {
      "text/plain": [
       "0.3151194726890763"
      ]
     },
     "execution_count": 42,
     "metadata": {},
     "output_type": "execute_result"
    }
   ],
   "source": [
    "scores48['test_precision'].mean()"
   ]
  },
  {
   "cell_type": "code",
   "execution_count": 43,
   "id": "971eff3b",
   "metadata": {},
   "outputs": [
    {
     "data": {
      "text/plain": [
       "0.6366059856250736"
      ]
     },
     "execution_count": 43,
     "metadata": {},
     "output_type": "execute_result"
    }
   ],
   "source": [
    "scores48['test_recall'].mean()"
   ]
  },
  {
   "cell_type": "code",
   "execution_count": 44,
   "id": "1859ca56",
   "metadata": {},
   "outputs": [
    {
     "data": {
      "text/plain": [
       "0.4215376173687135"
      ]
     },
     "execution_count": 44,
     "metadata": {},
     "output_type": "execute_result"
    }
   ],
   "source": [
    "scores48['test_f1'].mean()"
   ]
  },
  {
   "cell_type": "code",
   "execution_count": 45,
   "id": "acdd6c80",
   "metadata": {},
   "outputs": [
    {
     "data": {
      "text/plain": [
       "0.6196585867415638"
      ]
     },
     "execution_count": 45,
     "metadata": {},
     "output_type": "execute_result"
    }
   ],
   "source": [
    "scores48['test_roc_auc'].mean()"
   ]
  },
  {
   "cell_type": "markdown",
   "id": "045110d1",
   "metadata": {},
   "source": [
    "Now it should be re-perfomed the calculation of the best feature (?)"
   ]
  },
  {
   "cell_type": "code",
   "execution_count": null,
   "id": "11c32695",
   "metadata": {},
   "outputs": [],
   "source": []
  }
 ],
 "metadata": {
  "kernelspec": {
   "display_name": "Python 3",
   "language": "python",
   "name": "python3"
  },
  "language_info": {
   "codemirror_mode": {
    "name": "ipython",
    "version": 3
   },
   "file_extension": ".py",
   "mimetype": "text/x-python",
   "name": "python",
   "nbconvert_exporter": "python",
   "pygments_lexer": "ipython3",
   "version": "3.9.2"
  }
 },
 "nbformat": 4,
 "nbformat_minor": 5
}
