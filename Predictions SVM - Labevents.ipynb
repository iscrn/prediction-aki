{
 "cells": [
  {
   "cell_type": "code",
   "execution_count": 1,
   "id": "75571103",
   "metadata": {},
   "outputs": [],
   "source": [
    "import numpy as np  # for handling multi-dimensional array operation\n",
    "import pandas as pd  # for reading data from csv \n",
    "import statsmodels.api as sm  # for finding the p-value\n",
    "from sklearn.preprocessing import MinMaxScaler  # for normalization\n",
    "from sklearn.model_selection import train_test_split as tts\n",
    "from sklearn.metrics import accuracy_score \n",
    "from sklearn.metrics import confusion_matrix\n",
    "from sklearn.metrics import roc_curve\n",
    "from sklearn.metrics import roc_auc_score\n",
    "from sklearn.metrics import precision_score\n",
    "from sklearn.metrics import recall_score\n",
    "from sklearn.metrics import classification_report\n",
    "from sklearn.metrics import precision_recall_curve\n",
    "from sklearn.utils import shuffle\n",
    "from sklearn import svm\n",
    "from numpy import mean\n",
    "from sklearn.model_selection import GridSearchCV\n",
    "from imblearn.pipeline import Pipeline\n",
    "from imblearn.pipeline import make_pipeline\n",
    "from imblearn.combine import SMOTETomek\n",
    "from imblearn.under_sampling import TomekLinks\n",
    "from sklearn.model_selection import cross_val_score\n",
    "from sklearn.model_selection import cross_validate\n",
    "from sklearn.model_selection import cross_val_predict\n",
    "from sklearn.metrics import plot_confusion_matrix\n",
    "from sklearn.model_selection import RepeatedStratifiedKFold"
   ]
  },
  {
   "cell_type": "markdown",
   "id": "e9e044f5",
   "metadata": {},
   "source": [
    "## LABEVENTS DATA"
   ]
  },
  {
   "cell_type": "code",
   "execution_count": 2,
   "id": "372476d6",
   "metadata": {},
   "outputs": [],
   "source": [
    "lab24 = pd.read_csv('./lab24.csv')\n",
    "\n",
    "#EXTRACT FEATURES AND LABELS\n",
    "Y24 = lab24['aki_flag'] \n",
    "X24 = lab24.iloc[:,2:] \n",
    "\n",
    "#FILL MISSING WITH MEAN IMPUTATION\n",
    "X24 = X24.fillna(X24.mean())\n",
    "\n",
    "#NORMALIZATION WITH MIN-MAX SCALER 0-1\n",
    "scaler = MinMaxScaler()\n",
    "X24 = scaler.fit_transform(X24)\n",
    "\n",
    "#SPLIT DATASET INTO TRAINING AND TESTING SETS\n",
    "X_train24, X_test24, y_train24, y_test24 = tts(X24, Y24, test_size=0.3, random_state=42)"
   ]
  },
  {
   "cell_type": "code",
   "execution_count": 3,
   "id": "44f10567",
   "metadata": {},
   "outputs": [],
   "source": [
    "lab48 = pd.read_csv('./lab48.csv')\n",
    "\n",
    "Y48 = lab48['aki_flag'] #all rows of 'aki_flag' as LABELS\n",
    "X48 = lab48.iloc[:,2:]  #features\n",
    "\n",
    "#FILL MISSING WITH MEAN IMPUTATION\n",
    "X48 = X48.fillna(X48.mean())\n",
    "\n",
    "#NORMALIZATION WITH MIN-MAX SCALER 0-1\n",
    "X48 = scaler.fit_transform(X48)\n",
    "\n",
    "#SPLIT DATASET INTO TRAINING AND TESTING SETS\n",
    "X_train48, X_test48, y_train48, y_test48 = tts(X48, Y48, test_size=0.3, random_state=42)"
   ]
  },
  {
   "cell_type": "code",
   "execution_count": 4,
   "id": "c343b258",
   "metadata": {},
   "outputs": [],
   "source": [
    "#APPLY THE SMOTE TOMEK-LINKS TECHNIQUE TO COPE WITH CLASS IMBALANCE PROBLEM \n",
    "resample = SMOTETomek(tomek=TomekLinks(sampling_strategy='majority'))\n",
    "\n",
    "#DEFINE THE PARAMETERS TO BE TESTED IN THE GRID SEARCH\n",
    "params = [\n",
    "  {'C': [0.1, 0.5, 0.75, 1, 10 ], 'kernel': ['poly'], 'degree': [1,2,3,4,6]},\n",
    "  {'C': [0.1, 0.5, 0.75, 1, 10 ], 'kernel': ['rbf'], 'gamma': [0.001, 0.01, 0.1, 1]},\n",
    "] "
   ]
  },
  {
   "cell_type": "code",
   "execution_count": 5,
   "id": "3b92b380",
   "metadata": {},
   "outputs": [],
   "source": [
    "gs24 = GridSearchCV(svm.SVC(), params, refit = True, verbose = 3)\n",
    "p24 = Pipeline(steps=[('r', resample), ('gs', gs24)])\n",
    "\n",
    "gs48 = GridSearchCV(svm.SVC(), params, refit = True, verbose = 3)\n",
    "p48 = Pipeline(steps=[('r', resample), ('gs', gs48)])"
   ]
  },
  {
   "cell_type": "markdown",
   "id": "bb18e860",
   "metadata": {},
   "source": [
    "Now fit the grid search and extract the best parameters/estimator to be used fro the prediction "
   ]
  },
  {
   "cell_type": "code",
   "execution_count": 6,
   "id": "91cb787f",
   "metadata": {},
   "outputs": [
    {
     "name": "stdout",
     "output_type": "stream",
     "text": [
      "Fitting 5 folds for each of 45 candidates, totalling 225 fits\n",
      "[CV 1/5] END ......C=0.1, degree=1, kernel=poly;, score=0.705 total time=  56.7s\n",
      "[CV 2/5] END ......C=0.1, degree=1, kernel=poly;, score=0.705 total time= 1.1min\n",
      "[CV 3/5] END ......C=0.1, degree=1, kernel=poly;, score=0.705 total time= 1.4min\n",
      "[CV 4/5] END ......C=0.1, degree=1, kernel=poly;, score=0.705 total time= 1.3min\n",
      "[CV 5/5] END ......C=0.1, degree=1, kernel=poly;, score=0.705 total time= 1.3min\n",
      "[CV 1/5] END ......C=0.1, degree=2, kernel=poly;, score=0.705 total time= 1.5min\n",
      "[CV 2/5] END ......C=0.1, degree=2, kernel=poly;, score=0.705 total time= 1.6min\n",
      "[CV 3/5] END ......C=0.1, degree=2, kernel=poly;, score=0.705 total time= 1.5min\n",
      "[CV 4/5] END ......C=0.1, degree=2, kernel=poly;, score=0.705 total time= 1.6min\n",
      "[CV 5/5] END ......C=0.1, degree=2, kernel=poly;, score=0.705 total time= 1.5min\n",
      "[CV 1/5] END ......C=0.1, degree=3, kernel=poly;, score=0.704 total time= 1.6min\n",
      "[CV 2/5] END ......C=0.1, degree=3, kernel=poly;, score=0.706 total time= 1.6min\n",
      "[CV 3/5] END ......C=0.1, degree=3, kernel=poly;, score=0.704 total time= 1.6min\n",
      "[CV 4/5] END ......C=0.1, degree=3, kernel=poly;, score=0.705 total time= 1.5min\n",
      "[CV 5/5] END ......C=0.1, degree=3, kernel=poly;, score=0.704 total time= 1.6min\n",
      "[CV 1/5] END ......C=0.1, degree=4, kernel=poly;, score=0.710 total time= 1.8min\n",
      "[CV 2/5] END ......C=0.1, degree=4, kernel=poly;, score=0.708 total time= 1.9min\n",
      "[CV 3/5] END ......C=0.1, degree=4, kernel=poly;, score=0.706 total time= 1.7min\n",
      "[CV 4/5] END ......C=0.1, degree=4, kernel=poly;, score=0.706 total time= 1.7min\n",
      "[CV 5/5] END ......C=0.1, degree=4, kernel=poly;, score=0.704 total time= 1.7min\n",
      "[CV 1/5] END ......C=0.1, degree=6, kernel=poly;, score=0.711 total time= 2.4min\n",
      "[CV 2/5] END ......C=0.1, degree=6, kernel=poly;, score=0.710 total time= 2.5min\n",
      "[CV 3/5] END ......C=0.1, degree=6, kernel=poly;, score=0.706 total time= 2.4min\n",
      "[CV 4/5] END ......C=0.1, degree=6, kernel=poly;, score=0.705 total time= 2.4min\n",
      "[CV 5/5] END ......C=0.1, degree=6, kernel=poly;, score=0.708 total time= 2.3min\n",
      "[CV 1/5] END ......C=0.5, degree=1, kernel=poly;, score=0.705 total time= 1.2min\n",
      "[CV 2/5] END ......C=0.5, degree=1, kernel=poly;, score=0.705 total time= 1.1min\n",
      "[CV 3/5] END ......C=0.5, degree=1, kernel=poly;, score=0.705 total time= 1.2min\n",
      "[CV 4/5] END ......C=0.5, degree=1, kernel=poly;, score=0.705 total time= 1.2min\n",
      "[CV 5/5] END ......C=0.5, degree=1, kernel=poly;, score=0.705 total time= 1.2min\n",
      "[CV 1/5] END ......C=0.5, degree=2, kernel=poly;, score=0.705 total time= 1.4min\n",
      "[CV 2/5] END ......C=0.5, degree=2, kernel=poly;, score=0.706 total time= 1.5min\n",
      "[CV 3/5] END ......C=0.5, degree=2, kernel=poly;, score=0.704 total time= 1.4min\n",
      "[CV 4/5] END ......C=0.5, degree=2, kernel=poly;, score=0.705 total time= 1.4min\n",
      "[CV 5/5] END ......C=0.5, degree=2, kernel=poly;, score=0.705 total time= 1.5min\n",
      "[CV 1/5] END ......C=0.5, degree=3, kernel=poly;, score=0.708 total time= 1.6min\n",
      "[CV 2/5] END ......C=0.5, degree=3, kernel=poly;, score=0.707 total time= 1.6min\n",
      "[CV 3/5] END ......C=0.5, degree=3, kernel=poly;, score=0.708 total time= 1.5min\n",
      "[CV 4/5] END ......C=0.5, degree=3, kernel=poly;, score=0.704 total time= 1.5min\n",
      "[CV 5/5] END ......C=0.5, degree=3, kernel=poly;, score=0.703 total time= 1.6min\n",
      "[CV 1/5] END ......C=0.5, degree=4, kernel=poly;, score=0.712 total time= 1.9min\n",
      "[CV 2/5] END ......C=0.5, degree=4, kernel=poly;, score=0.709 total time= 1.9min\n",
      "[CV 3/5] END ......C=0.5, degree=4, kernel=poly;, score=0.705 total time= 1.9min\n",
      "[CV 4/5] END ......C=0.5, degree=4, kernel=poly;, score=0.705 total time= 1.8min\n",
      "[CV 5/5] END ......C=0.5, degree=4, kernel=poly;, score=0.706 total time= 1.9min\n",
      "[CV 1/5] END ......C=0.5, degree=6, kernel=poly;, score=0.712 total time= 4.5min\n",
      "[CV 2/5] END ......C=0.5, degree=6, kernel=poly;, score=0.706 total time= 4.9min\n",
      "[CV 3/5] END ......C=0.5, degree=6, kernel=poly;, score=0.701 total time= 4.8min\n",
      "[CV 4/5] END ......C=0.5, degree=6, kernel=poly;, score=0.698 total time= 4.9min\n",
      "[CV 5/5] END ......C=0.5, degree=6, kernel=poly;, score=0.705 total time= 4.5min\n",
      "[CV 1/5] END .....C=0.75, degree=1, kernel=poly;, score=0.705 total time= 1.3min\n",
      "[CV 2/5] END .....C=0.75, degree=1, kernel=poly;, score=0.705 total time= 1.2min\n",
      "[CV 3/5] END .....C=0.75, degree=1, kernel=poly;, score=0.705 total time= 1.3min\n",
      "[CV 4/5] END .....C=0.75, degree=1, kernel=poly;, score=0.705 total time= 1.3min\n",
      "[CV 5/5] END .....C=0.75, degree=1, kernel=poly;, score=0.705 total time= 1.3min\n",
      "[CV 1/5] END .....C=0.75, degree=2, kernel=poly;, score=0.705 total time= 1.5min\n",
      "[CV 2/5] END .....C=0.75, degree=2, kernel=poly;, score=0.707 total time= 1.6min\n",
      "[CV 3/5] END .....C=0.75, degree=2, kernel=poly;, score=0.705 total time= 1.5min\n",
      "[CV 4/5] END .....C=0.75, degree=2, kernel=poly;, score=0.705 total time= 1.5min\n",
      "[CV 5/5] END .....C=0.75, degree=2, kernel=poly;, score=0.705 total time= 1.6min\n",
      "[CV 1/5] END .....C=0.75, degree=3, kernel=poly;, score=0.709 total time= 1.7min\n",
      "[CV 2/5] END .....C=0.75, degree=3, kernel=poly;, score=0.709 total time= 1.8min\n",
      "[CV 3/5] END .....C=0.75, degree=3, kernel=poly;, score=0.706 total time= 1.7min\n",
      "[CV 4/5] END .....C=0.75, degree=3, kernel=poly;, score=0.704 total time= 1.7min\n",
      "[CV 5/5] END .....C=0.75, degree=3, kernel=poly;, score=0.704 total time= 1.8min\n",
      "[CV 1/5] END .....C=0.75, degree=4, kernel=poly;, score=0.711 total time= 2.2min\n",
      "[CV 2/5] END .....C=0.75, degree=4, kernel=poly;, score=0.709 total time= 2.2min\n",
      "[CV 3/5] END .....C=0.75, degree=4, kernel=poly;, score=0.705 total time= 2.1min\n",
      "[CV 4/5] END .....C=0.75, degree=4, kernel=poly;, score=0.705 total time= 2.1min\n",
      "[CV 5/5] END .....C=0.75, degree=4, kernel=poly;, score=0.708 total time= 2.1min\n",
      "[CV 1/5] END .....C=0.75, degree=6, kernel=poly;, score=0.713 total time= 6.3min\n",
      "[CV 2/5] END .....C=0.75, degree=6, kernel=poly;, score=0.704 total time= 6.2min\n",
      "[CV 3/5] END .....C=0.75, degree=6, kernel=poly;, score=0.705 total time= 6.2min\n",
      "[CV 4/5] END .....C=0.75, degree=6, kernel=poly;, score=0.698 total time= 5.9min\n",
      "[CV 5/5] END .....C=0.75, degree=6, kernel=poly;, score=0.704 total time= 6.2min\n",
      "[CV 1/5] END ........C=1, degree=1, kernel=poly;, score=0.705 total time= 1.4min\n",
      "[CV 2/5] END ........C=1, degree=1, kernel=poly;, score=0.705 total time= 1.2min\n",
      "[CV 3/5] END ........C=1, degree=1, kernel=poly;, score=0.705 total time= 1.4min\n",
      "[CV 4/5] END ........C=1, degree=1, kernel=poly;, score=0.705 total time= 1.4min\n",
      "[CV 5/5] END ........C=1, degree=1, kernel=poly;, score=0.705 total time= 1.4min\n",
      "[CV 1/5] END ........C=1, degree=2, kernel=poly;, score=0.705 total time= 1.6min\n",
      "[CV 2/5] END ........C=1, degree=2, kernel=poly;, score=0.707 total time= 1.7min\n",
      "[CV 3/5] END ........C=1, degree=2, kernel=poly;, score=0.706 total time= 1.5min\n",
      "[CV 4/5] END ........C=1, degree=2, kernel=poly;, score=0.706 total time= 1.6min\n",
      "[CV 5/5] END ........C=1, degree=2, kernel=poly;, score=0.705 total time= 1.6min\n",
      "[CV 1/5] END ........C=1, degree=3, kernel=poly;, score=0.709 total time= 1.9min\n",
      "[CV 2/5] END ........C=1, degree=3, kernel=poly;, score=0.709 total time= 2.0min\n",
      "[CV 3/5] END ........C=1, degree=3, kernel=poly;, score=0.707 total time= 1.8min\n",
      "[CV 4/5] END ........C=1, degree=3, kernel=poly;, score=0.705 total time= 1.9min\n",
      "[CV 5/5] END ........C=1, degree=3, kernel=poly;, score=0.705 total time= 2.0min\n",
      "[CV 1/5] END ........C=1, degree=4, kernel=poly;, score=0.711 total time= 2.5min\n",
      "[CV 2/5] END ........C=1, degree=4, kernel=poly;, score=0.708 total time= 2.7min\n",
      "[CV 3/5] END ........C=1, degree=4, kernel=poly;, score=0.706 total time= 2.4min\n",
      "[CV 4/5] END ........C=1, degree=4, kernel=poly;, score=0.704 total time= 2.5min\n",
      "[CV 5/5] END ........C=1, degree=4, kernel=poly;, score=0.709 total time= 2.1min\n",
      "[CV 1/5] END ........C=1, degree=6, kernel=poly;, score=0.714 total time= 6.3min\n",
      "[CV 2/5] END ........C=1, degree=6, kernel=poly;, score=0.707 total time= 5.9min\n",
      "[CV 3/5] END ........C=1, degree=6, kernel=poly;, score=0.705 total time= 6.2min\n",
      "[CV 4/5] END ........C=1, degree=6, kernel=poly;, score=0.699 total time= 6.1min\n",
      "[CV 5/5] END ........C=1, degree=6, kernel=poly;, score=0.703 total time= 5.9min\n",
      "[CV 1/5] END .......C=10, degree=1, kernel=poly;, score=0.705 total time= 3.9min\n"
     ]
    },
    {
     "name": "stdout",
     "output_type": "stream",
     "text": [
      "[CV 2/5] END .......C=10, degree=1, kernel=poly;, score=0.705 total time= 1.5min\n",
      "[CV 3/5] END .......C=10, degree=1, kernel=poly;, score=0.705 total time= 4.3min\n",
      "[CV 4/5] END .......C=10, degree=1, kernel=poly;, score=0.705 total time= 3.3min\n",
      "[CV 5/5] END .......C=10, degree=1, kernel=poly;, score=0.705 total time= 4.1min\n",
      "[CV 1/5] END .......C=10, degree=2, kernel=poly;, score=0.707 total time= 2.2min\n",
      "[CV 2/5] END .......C=10, degree=2, kernel=poly;, score=0.707 total time= 2.6min\n",
      "[CV 3/5] END .......C=10, degree=2, kernel=poly;, score=0.708 total time= 2.0min\n",
      "[CV 4/5] END .......C=10, degree=2, kernel=poly;, score=0.705 total time= 2.2min\n",
      "[CV 5/5] END .......C=10, degree=2, kernel=poly;, score=0.706 total time= 2.3min\n",
      "[CV 1/5] END .......C=10, degree=3, kernel=poly;, score=0.711 total time= 3.1min\n",
      "[CV 2/5] END .......C=10, degree=3, kernel=poly;, score=0.708 total time= 3.5min\n",
      "[CV 3/5] END .......C=10, degree=3, kernel=poly;, score=0.705 total time= 3.3min\n",
      "[CV 4/5] END .......C=10, degree=3, kernel=poly;, score=0.704 total time= 3.2min\n",
      "[CV 5/5] END .......C=10, degree=3, kernel=poly;, score=0.712 total time= 2.9min\n",
      "[CV 1/5] END .......C=10, degree=4, kernel=poly;, score=0.711 total time= 7.3min\n",
      "[CV 2/5] END .......C=10, degree=4, kernel=poly;, score=0.708 total time= 7.6min\n",
      "[CV 3/5] END .......C=10, degree=4, kernel=poly;, score=0.704 total time= 7.0min\n",
      "[CV 4/5] END .......C=10, degree=4, kernel=poly;, score=0.701 total time= 6.6min\n",
      "[CV 5/5] END .......C=10, degree=4, kernel=poly;, score=0.706 total time= 7.5min\n",
      "[CV 1/5] END .......C=10, degree=6, kernel=poly;, score=0.702 total time=35.5min\n",
      "[CV 2/5] END .......C=10, degree=6, kernel=poly;, score=0.707 total time=38.5min\n",
      "[CV 3/5] END .......C=10, degree=6, kernel=poly;, score=0.697 total time=32.6min\n",
      "[CV 4/5] END .......C=10, degree=6, kernel=poly;, score=0.694 total time=30.4min\n",
      "[CV 5/5] END .......C=10, degree=6, kernel=poly;, score=0.695 total time=27.8min\n",
      "[CV 1/5] END ....C=0.1, gamma=0.001, kernel=rbf;, score=0.705 total time=  56.2s\n",
      "[CV 2/5] END ....C=0.1, gamma=0.001, kernel=rbf;, score=0.705 total time=  59.5s\n",
      "[CV 3/5] END ....C=0.1, gamma=0.001, kernel=rbf;, score=0.705 total time=  56.5s\n",
      "[CV 4/5] END ....C=0.1, gamma=0.001, kernel=rbf;, score=0.705 total time=  56.3s\n",
      "[CV 5/5] END ....C=0.1, gamma=0.001, kernel=rbf;, score=0.705 total time=  56.2s\n",
      "[CV 1/5] END .....C=0.1, gamma=0.01, kernel=rbf;, score=0.705 total time=  57.6s\n",
      "[CV 2/5] END .....C=0.1, gamma=0.01, kernel=rbf;, score=0.705 total time=  57.4s\n",
      "[CV 3/5] END .....C=0.1, gamma=0.01, kernel=rbf;, score=0.705 total time=  57.9s\n",
      "[CV 4/5] END .....C=0.1, gamma=0.01, kernel=rbf;, score=0.705 total time=  58.0s\n",
      "[CV 5/5] END .....C=0.1, gamma=0.01, kernel=rbf;, score=0.705 total time=  57.8s\n",
      "[CV 1/5] END ......C=0.1, gamma=0.1, kernel=rbf;, score=0.705 total time=  59.9s\n",
      "[CV 2/5] END ......C=0.1, gamma=0.1, kernel=rbf;, score=0.705 total time= 1.0min\n",
      "[CV 3/5] END ......C=0.1, gamma=0.1, kernel=rbf;, score=0.705 total time= 1.0min\n",
      "[CV 4/5] END ......C=0.1, gamma=0.1, kernel=rbf;, score=0.705 total time= 1.0min\n",
      "[CV 5/5] END ......C=0.1, gamma=0.1, kernel=rbf;, score=0.705 total time= 1.0min\n",
      "[CV 1/5] END ........C=0.1, gamma=1, kernel=rbf;, score=0.705 total time= 1.1min\n",
      "[CV 2/5] END ........C=0.1, gamma=1, kernel=rbf;, score=0.705 total time= 1.1min\n",
      "[CV 3/5] END ........C=0.1, gamma=1, kernel=rbf;, score=0.705 total time= 1.1min\n",
      "[CV 4/5] END ........C=0.1, gamma=1, kernel=rbf;, score=0.705 total time= 1.1min\n",
      "[CV 5/5] END ........C=0.1, gamma=1, kernel=rbf;, score=0.705 total time= 1.1min\n",
      "[CV 1/5] END ....C=0.5, gamma=0.001, kernel=rbf;, score=0.705 total time=  57.2s\n",
      "[CV 2/5] END ....C=0.5, gamma=0.001, kernel=rbf;, score=0.705 total time=  57.0s\n",
      "[CV 3/5] END ....C=0.5, gamma=0.001, kernel=rbf;, score=0.705 total time=  57.4s\n",
      "[CV 4/5] END ....C=0.5, gamma=0.001, kernel=rbf;, score=0.705 total time=  57.1s\n",
      "[CV 5/5] END ....C=0.5, gamma=0.001, kernel=rbf;, score=0.705 total time=  57.4s\n",
      "[CV 1/5] END .....C=0.5, gamma=0.01, kernel=rbf;, score=0.705 total time=  58.7s\n",
      "[CV 2/5] END .....C=0.5, gamma=0.01, kernel=rbf;, score=0.705 total time=  58.8s\n",
      "[CV 3/5] END .....C=0.5, gamma=0.01, kernel=rbf;, score=0.705 total time=  59.0s\n",
      "[CV 4/5] END .....C=0.5, gamma=0.01, kernel=rbf;, score=0.705 total time=  58.9s\n",
      "[CV 5/5] END .....C=0.5, gamma=0.01, kernel=rbf;, score=0.705 total time=  59.1s\n",
      "[CV 1/5] END ......C=0.5, gamma=0.1, kernel=rbf;, score=0.705 total time= 1.1min\n",
      "[CV 2/5] END ......C=0.5, gamma=0.1, kernel=rbf;, score=0.705 total time= 1.1min\n",
      "[CV 3/5] END ......C=0.5, gamma=0.1, kernel=rbf;, score=0.705 total time= 1.1min\n",
      "[CV 4/5] END ......C=0.5, gamma=0.1, kernel=rbf;, score=0.705 total time= 1.1min\n",
      "[CV 5/5] END ......C=0.5, gamma=0.1, kernel=rbf;, score=0.705 total time= 1.1min\n",
      "[CV 1/5] END ........C=0.5, gamma=1, kernel=rbf;, score=0.705 total time= 1.2min\n",
      "[CV 2/5] END ........C=0.5, gamma=1, kernel=rbf;, score=0.706 total time= 1.2min\n",
      "[CV 3/5] END ........C=0.5, gamma=1, kernel=rbf;, score=0.704 total time= 1.1min\n",
      "[CV 4/5] END ........C=0.5, gamma=1, kernel=rbf;, score=0.706 total time= 1.1min\n",
      "[CV 5/5] END ........C=0.5, gamma=1, kernel=rbf;, score=0.703 total time= 1.1min\n",
      "[CV 1/5] END ...C=0.75, gamma=0.001, kernel=rbf;, score=0.705 total time=  55.8s\n",
      "[CV 2/5] END ...C=0.75, gamma=0.001, kernel=rbf;, score=0.705 total time=  55.8s\n",
      "[CV 3/5] END ...C=0.75, gamma=0.001, kernel=rbf;, score=0.705 total time=  56.1s\n",
      "[CV 4/5] END ...C=0.75, gamma=0.001, kernel=rbf;, score=0.705 total time=  56.0s\n",
      "[CV 5/5] END ...C=0.75, gamma=0.001, kernel=rbf;, score=0.705 total time=  56.2s\n",
      "[CV 1/5] END ....C=0.75, gamma=0.01, kernel=rbf;, score=0.705 total time=  57.4s\n",
      "[CV 2/5] END ....C=0.75, gamma=0.01, kernel=rbf;, score=0.705 total time=  58.8s\n",
      "[CV 3/5] END ....C=0.75, gamma=0.01, kernel=rbf;, score=0.705 total time=  57.7s\n",
      "[CV 4/5] END ....C=0.75, gamma=0.01, kernel=rbf;, score=0.705 total time=  57.8s\n",
      "[CV 5/5] END ....C=0.75, gamma=0.01, kernel=rbf;, score=0.705 total time=  57.8s\n",
      "[CV 1/5] END .....C=0.75, gamma=0.1, kernel=rbf;, score=0.705 total time= 1.1min\n",
      "[CV 2/5] END .....C=0.75, gamma=0.1, kernel=rbf;, score=0.705 total time= 1.1min\n",
      "[CV 3/5] END .....C=0.75, gamma=0.1, kernel=rbf;, score=0.705 total time= 1.1min\n",
      "[CV 4/5] END .....C=0.75, gamma=0.1, kernel=rbf;, score=0.705 total time= 1.1min\n",
      "[CV 5/5] END .....C=0.75, gamma=0.1, kernel=rbf;, score=0.705 total time= 1.1min\n",
      "[CV 1/5] END .......C=0.75, gamma=1, kernel=rbf;, score=0.707 total time= 1.1min\n",
      "[CV 2/5] END .......C=0.75, gamma=1, kernel=rbf;, score=0.707 total time= 1.1min\n",
      "[CV 3/5] END .......C=0.75, gamma=1, kernel=rbf;, score=0.706 total time= 1.1min\n",
      "[CV 4/5] END .......C=0.75, gamma=1, kernel=rbf;, score=0.706 total time= 1.1min\n",
      "[CV 5/5] END .......C=0.75, gamma=1, kernel=rbf;, score=0.703 total time= 1.1min\n",
      "[CV 1/5] END ......C=1, gamma=0.001, kernel=rbf;, score=0.705 total time=  55.8s\n",
      "[CV 2/5] END ......C=1, gamma=0.001, kernel=rbf;, score=0.705 total time=  55.7s\n",
      "[CV 3/5] END ......C=1, gamma=0.001, kernel=rbf;, score=0.705 total time=  56.2s\n",
      "[CV 4/5] END ......C=1, gamma=0.001, kernel=rbf;, score=0.705 total time=  56.1s\n",
      "[CV 5/5] END ......C=1, gamma=0.001, kernel=rbf;, score=0.705 total time=  56.3s\n",
      "[CV 1/5] END .......C=1, gamma=0.01, kernel=rbf;, score=0.705 total time=  57.6s\n",
      "[CV 2/5] END .......C=1, gamma=0.01, kernel=rbf;, score=0.705 total time=  59.0s\n",
      "[CV 3/5] END .......C=1, gamma=0.01, kernel=rbf;, score=0.705 total time=  57.9s\n",
      "[CV 4/5] END .......C=1, gamma=0.01, kernel=rbf;, score=0.705 total time=  58.0s\n",
      "[CV 5/5] END .......C=1, gamma=0.01, kernel=rbf;, score=0.705 total time=  57.8s\n",
      "[CV 1/5] END ........C=1, gamma=0.1, kernel=rbf;, score=0.705 total time= 1.1min\n",
      "[CV 2/5] END ........C=1, gamma=0.1, kernel=rbf;, score=0.705 total time= 1.1min\n",
      "[CV 3/5] END ........C=1, gamma=0.1, kernel=rbf;, score=0.705 total time= 1.1min\n",
      "[CV 4/5] END ........C=1, gamma=0.1, kernel=rbf;, score=0.705 total time= 1.1min\n",
      "[CV 5/5] END ........C=1, gamma=0.1, kernel=rbf;, score=0.705 total time= 1.1min\n",
      "[CV 1/5] END ..........C=1, gamma=1, kernel=rbf;, score=0.707 total time= 1.1min\n",
      "[CV 2/5] END ..........C=1, gamma=1, kernel=rbf;, score=0.708 total time= 1.1min\n",
      "[CV 3/5] END ..........C=1, gamma=1, kernel=rbf;, score=0.706 total time= 1.1min\n"
     ]
    },
    {
     "name": "stdout",
     "output_type": "stream",
     "text": [
      "[CV 4/5] END ..........C=1, gamma=1, kernel=rbf;, score=0.706 total time= 1.1min\n",
      "[CV 5/5] END ..........C=1, gamma=1, kernel=rbf;, score=0.703 total time= 1.1min\n",
      "[CV 1/5] END .....C=10, gamma=0.001, kernel=rbf;, score=0.705 total time= 1.0min\n",
      "[CV 2/5] END .....C=10, gamma=0.001, kernel=rbf;, score=0.705 total time= 1.0min\n",
      "[CV 3/5] END .....C=10, gamma=0.001, kernel=rbf;, score=0.705 total time= 1.0min\n",
      "[CV 4/5] END .....C=10, gamma=0.001, kernel=rbf;, score=0.705 total time=  59.8s\n",
      "[CV 5/5] END .....C=10, gamma=0.001, kernel=rbf;, score=0.705 total time= 1.0min\n",
      "[CV 1/5] END ......C=10, gamma=0.01, kernel=rbf;, score=0.705 total time= 1.1min\n",
      "[CV 2/5] END ......C=10, gamma=0.01, kernel=rbf;, score=0.705 total time= 1.1min\n",
      "[CV 3/5] END ......C=10, gamma=0.01, kernel=rbf;, score=0.705 total time= 1.1min\n",
      "[CV 4/5] END ......C=10, gamma=0.01, kernel=rbf;, score=0.705 total time= 1.1min\n",
      "[CV 5/5] END ......C=10, gamma=0.01, kernel=rbf;, score=0.705 total time= 1.1min\n",
      "[CV 1/5] END .......C=10, gamma=0.1, kernel=rbf;, score=0.705 total time= 1.2min\n",
      "[CV 2/5] END .......C=10, gamma=0.1, kernel=rbf;, score=0.706 total time= 1.3min\n",
      "[CV 3/5] END .......C=10, gamma=0.1, kernel=rbf;, score=0.704 total time= 1.2min\n",
      "[CV 4/5] END .......C=10, gamma=0.1, kernel=rbf;, score=0.705 total time= 1.2min\n",
      "[CV 5/5] END .......C=10, gamma=0.1, kernel=rbf;, score=0.705 total time= 1.2min\n",
      "[CV 1/5] END .........C=10, gamma=1, kernel=rbf;, score=0.711 total time= 1.4min\n",
      "[CV 2/5] END .........C=10, gamma=1, kernel=rbf;, score=0.710 total time= 1.4min\n",
      "[CV 3/5] END .........C=10, gamma=1, kernel=rbf;, score=0.705 total time= 1.3min\n",
      "[CV 4/5] END .........C=10, gamma=1, kernel=rbf;, score=0.708 total time= 1.4min\n",
      "[CV 5/5] END .........C=10, gamma=1, kernel=rbf;, score=0.709 total time= 1.3min\n"
     ]
    },
    {
     "data": {
      "text/plain": [
       "GridSearchCV(estimator=SVC(),\n",
       "             param_grid=[{'C': [0.1, 0.5, 0.75, 1, 10],\n",
       "                          'degree': [1, 2, 3, 4, 6], 'kernel': ['poly']},\n",
       "                         {'C': [0.1, 0.5, 0.75, 1, 10],\n",
       "                          'gamma': [0.001, 0.01, 0.1, 1], 'kernel': ['rbf']}],\n",
       "             verbose=3)"
      ]
     },
     "execution_count": 6,
     "metadata": {},
     "output_type": "execute_result"
    }
   ],
   "source": [
    "gs24.fit(X_train24, y_train24)"
   ]
  },
  {
   "cell_type": "code",
   "execution_count": 7,
   "id": "ad40cdcc",
   "metadata": {},
   "outputs": [
    {
     "name": "stdout",
     "output_type": "stream",
     "text": [
      "The best parameters found for the 24h DCW:\n",
      "{'C': 10, 'gamma': 1, 'kernel': 'rbf'}\n",
      "The best estimator found for the 24h DCW:\n",
      "SVC(C=10, gamma=1)\n"
     ]
    }
   ],
   "source": [
    "print(\"The best parameters found for the 24h DCW:\")\n",
    "print(gs24.best_params_)\n",
    "  \n",
    "#PRINT HOW OUR MODEL LOOKS AFTER HYPER-PARAMETER TUNING\n",
    "print(\"The best estimator found for the 24h DCW:\")\n",
    "print(gs24.best_estimator_)"
   ]
  },
  {
   "cell_type": "code",
   "execution_count": 8,
   "id": "87bbd7f8",
   "metadata": {},
   "outputs": [
    {
     "name": "stdout",
     "output_type": "stream",
     "text": [
      "Fitting 5 folds for each of 45 candidates, totalling 225 fits\n",
      "[CV 1/5] END ......C=0.1, degree=1, kernel=poly;, score=0.764 total time=   9.5s\n",
      "[CV 2/5] END ......C=0.1, degree=1, kernel=poly;, score=0.764 total time=   9.2s\n",
      "[CV 3/5] END ......C=0.1, degree=1, kernel=poly;, score=0.763 total time=   9.4s\n",
      "[CV 4/5] END ......C=0.1, degree=1, kernel=poly;, score=0.764 total time=   9.7s\n",
      "[CV 5/5] END ......C=0.1, degree=1, kernel=poly;, score=0.764 total time=   9.1s\n",
      "[CV 1/5] END ......C=0.1, degree=2, kernel=poly;, score=0.764 total time=  14.5s\n",
      "[CV 2/5] END ......C=0.1, degree=2, kernel=poly;, score=0.764 total time=  15.3s\n",
      "[CV 3/5] END ......C=0.1, degree=2, kernel=poly;, score=0.763 total time=  15.3s\n",
      "[CV 4/5] END ......C=0.1, degree=2, kernel=poly;, score=0.764 total time=  14.5s\n",
      "[CV 5/5] END ......C=0.1, degree=2, kernel=poly;, score=0.764 total time=  15.2s\n",
      "[CV 1/5] END ......C=0.1, degree=3, kernel=poly;, score=0.762 total time=  15.5s\n",
      "[CV 2/5] END ......C=0.1, degree=3, kernel=poly;, score=0.764 total time=  16.4s\n",
      "[CV 3/5] END ......C=0.1, degree=3, kernel=poly;, score=0.763 total time=  17.2s\n",
      "[CV 4/5] END ......C=0.1, degree=3, kernel=poly;, score=0.764 total time=  15.7s\n",
      "[CV 5/5] END ......C=0.1, degree=3, kernel=poly;, score=0.764 total time=  15.7s\n",
      "[CV 1/5] END ......C=0.1, degree=4, kernel=poly;, score=0.763 total time=  17.5s\n",
      "[CV 2/5] END ......C=0.1, degree=4, kernel=poly;, score=0.765 total time=  17.7s\n",
      "[CV 3/5] END ......C=0.1, degree=4, kernel=poly;, score=0.765 total time=  17.6s\n",
      "[CV 4/5] END ......C=0.1, degree=4, kernel=poly;, score=0.760 total time=  16.4s\n",
      "[CV 5/5] END ......C=0.1, degree=4, kernel=poly;, score=0.763 total time=  16.6s\n",
      "[CV 1/5] END ......C=0.1, degree=6, kernel=poly;, score=0.758 total time=  31.9s\n",
      "[CV 2/5] END ......C=0.1, degree=6, kernel=poly;, score=0.760 total time=  31.7s\n",
      "[CV 3/5] END ......C=0.1, degree=6, kernel=poly;, score=0.761 total time=  31.8s\n",
      "[CV 4/5] END ......C=0.1, degree=6, kernel=poly;, score=0.752 total time=  27.9s\n",
      "[CV 5/5] END ......C=0.1, degree=6, kernel=poly;, score=0.761 total time=  26.9s\n",
      "[CV 1/5] END ......C=0.5, degree=1, kernel=poly;, score=0.764 total time=  10.7s\n",
      "[CV 2/5] END ......C=0.5, degree=1, kernel=poly;, score=0.764 total time=  10.5s\n",
      "[CV 3/5] END ......C=0.5, degree=1, kernel=poly;, score=0.763 total time=  10.7s\n",
      "[CV 4/5] END ......C=0.5, degree=1, kernel=poly;, score=0.764 total time=  10.3s\n",
      "[CV 5/5] END ......C=0.5, degree=1, kernel=poly;, score=0.764 total time=  10.4s\n",
      "[CV 1/5] END ......C=0.5, degree=2, kernel=poly;, score=0.764 total time=  17.9s\n",
      "[CV 2/5] END ......C=0.5, degree=2, kernel=poly;, score=0.764 total time=  21.4s\n",
      "[CV 3/5] END ......C=0.5, degree=2, kernel=poly;, score=0.763 total time=  24.0s\n",
      "[CV 4/5] END ......C=0.5, degree=2, kernel=poly;, score=0.764 total time=  17.2s\n",
      "[CV 5/5] END ......C=0.5, degree=2, kernel=poly;, score=0.764 total time=  20.1s\n",
      "[CV 1/5] END ......C=0.5, degree=3, kernel=poly;, score=0.763 total time=  20.7s\n",
      "[CV 2/5] END ......C=0.5, degree=3, kernel=poly;, score=0.766 total time=  20.6s\n",
      "[CV 3/5] END ......C=0.5, degree=3, kernel=poly;, score=0.765 total time=  21.7s\n",
      "[CV 4/5] END ......C=0.5, degree=3, kernel=poly;, score=0.762 total time=  19.3s\n",
      "[CV 5/5] END ......C=0.5, degree=3, kernel=poly;, score=0.764 total time=  19.9s\n",
      "[CV 1/5] END ......C=0.5, degree=4, kernel=poly;, score=0.764 total time=  25.9s\n",
      "[CV 2/5] END ......C=0.5, degree=4, kernel=poly;, score=0.765 total time=  29.8s\n",
      "[CV 3/5] END ......C=0.5, degree=4, kernel=poly;, score=0.767 total time=  24.8s\n",
      "[CV 4/5] END ......C=0.5, degree=4, kernel=poly;, score=0.761 total time=  23.2s\n",
      "[CV 5/5] END ......C=0.5, degree=4, kernel=poly;, score=0.763 total time=  23.3s\n",
      "[CV 1/5] END ......C=0.5, degree=6, kernel=poly;, score=0.743 total time= 1.5min\n",
      "[CV 2/5] END ......C=0.5, degree=6, kernel=poly;, score=0.758 total time= 1.6min\n",
      "[CV 3/5] END ......C=0.5, degree=6, kernel=poly;, score=0.756 total time= 2.0min\n",
      "[CV 4/5] END ......C=0.5, degree=6, kernel=poly;, score=0.742 total time= 1.7min\n",
      "[CV 5/5] END ......C=0.5, degree=6, kernel=poly;, score=0.759 total time= 1.4min\n",
      "[CV 1/5] END .....C=0.75, degree=1, kernel=poly;, score=0.764 total time=  12.8s\n",
      "[CV 2/5] END .....C=0.75, degree=1, kernel=poly;, score=0.764 total time=  12.5s\n",
      "[CV 3/5] END .....C=0.75, degree=1, kernel=poly;, score=0.763 total time=  13.5s\n",
      "[CV 4/5] END .....C=0.75, degree=1, kernel=poly;, score=0.764 total time=  12.4s\n",
      "[CV 5/5] END .....C=0.75, degree=1, kernel=poly;, score=0.764 total time=  12.6s\n",
      "[CV 1/5] END .....C=0.75, degree=2, kernel=poly;, score=0.762 total time=  22.8s\n",
      "[CV 2/5] END .....C=0.75, degree=2, kernel=poly;, score=0.764 total time=  26.0s\n",
      "[CV 3/5] END .....C=0.75, degree=2, kernel=poly;, score=0.763 total time=  31.3s\n",
      "[CV 4/5] END .....C=0.75, degree=2, kernel=poly;, score=0.764 total time=  21.1s\n",
      "[CV 5/5] END .....C=0.75, degree=2, kernel=poly;, score=0.764 total time=  24.1s\n",
      "[CV 1/5] END .....C=0.75, degree=3, kernel=poly;, score=0.763 total time=  26.0s\n",
      "[CV 2/5] END .....C=0.75, degree=3, kernel=poly;, score=0.767 total time=  25.7s\n",
      "[CV 3/5] END .....C=0.75, degree=3, kernel=poly;, score=0.765 total time=  27.7s\n",
      "[CV 4/5] END .....C=0.75, degree=3, kernel=poly;, score=0.761 total time=  25.0s\n",
      "[CV 5/5] END .....C=0.75, degree=3, kernel=poly;, score=0.764 total time=  24.8s\n",
      "[CV 1/5] END .....C=0.75, degree=4, kernel=poly;, score=0.760 total time=  37.3s\n",
      "[CV 2/5] END .....C=0.75, degree=4, kernel=poly;, score=0.761 total time=  35.7s\n",
      "[CV 3/5] END .....C=0.75, degree=4, kernel=poly;, score=0.768 total time=  36.7s\n",
      "[CV 4/5] END .....C=0.75, degree=4, kernel=poly;, score=0.759 total time=  30.8s\n",
      "[CV 5/5] END .....C=0.75, degree=4, kernel=poly;, score=0.763 total time=  27.7s\n",
      "[CV 1/5] END .....C=0.75, degree=6, kernel=poly;, score=0.744 total time= 1.7min\n",
      "[CV 2/5] END .....C=0.75, degree=6, kernel=poly;, score=0.753 total time= 1.8min\n",
      "[CV 3/5] END .....C=0.75, degree=6, kernel=poly;, score=0.753 total time= 1.6min\n",
      "[CV 4/5] END .....C=0.75, degree=6, kernel=poly;, score=0.743 total time= 1.6min\n",
      "[CV 5/5] END .....C=0.75, degree=6, kernel=poly;, score=0.751 total time= 1.7min\n",
      "[CV 1/5] END ........C=1, degree=1, kernel=poly;, score=0.764 total time=  11.8s\n",
      "[CV 2/5] END ........C=1, degree=1, kernel=poly;, score=0.764 total time=  11.9s\n",
      "[CV 3/5] END ........C=1, degree=1, kernel=poly;, score=0.763 total time=  12.0s\n",
      "[CV 4/5] END ........C=1, degree=1, kernel=poly;, score=0.764 total time=  11.0s\n",
      "[CV 5/5] END ........C=1, degree=1, kernel=poly;, score=0.764 total time=  11.8s\n",
      "[CV 1/5] END ........C=1, degree=2, kernel=poly;, score=0.763 total time=  20.8s\n",
      "[CV 2/5] END ........C=1, degree=2, kernel=poly;, score=0.764 total time=  26.7s\n",
      "[CV 3/5] END ........C=1, degree=2, kernel=poly;, score=0.763 total time=  32.6s\n",
      "[CV 4/5] END ........C=1, degree=2, kernel=poly;, score=0.764 total time=  23.9s\n",
      "[CV 5/5] END ........C=1, degree=2, kernel=poly;, score=0.764 total time=  29.0s\n",
      "[CV 1/5] END ........C=1, degree=3, kernel=poly;, score=0.763 total time=  29.9s\n",
      "[CV 2/5] END ........C=1, degree=3, kernel=poly;, score=0.766 total time=  30.3s\n",
      "[CV 3/5] END ........C=1, degree=3, kernel=poly;, score=0.767 total time=  27.1s\n",
      "[CV 4/5] END ........C=1, degree=3, kernel=poly;, score=0.761 total time=  23.6s\n",
      "[CV 5/5] END ........C=1, degree=3, kernel=poly;, score=0.763 total time=  25.0s\n",
      "[CV 1/5] END ........C=1, degree=4, kernel=poly;, score=0.762 total time=  35.3s\n",
      "[CV 2/5] END ........C=1, degree=4, kernel=poly;, score=0.761 total time=  36.5s\n",
      "[CV 3/5] END ........C=1, degree=4, kernel=poly;, score=0.767 total time=  36.5s\n",
      "[CV 4/5] END ........C=1, degree=4, kernel=poly;, score=0.756 total time=  33.0s\n",
      "[CV 5/5] END ........C=1, degree=4, kernel=poly;, score=0.761 total time=  32.7s\n",
      "[CV 1/5] END ........C=1, degree=6, kernel=poly;, score=0.741 total time= 1.9min\n",
      "[CV 2/5] END ........C=1, degree=6, kernel=poly;, score=0.749 total time= 2.3min\n",
      "[CV 3/5] END ........C=1, degree=6, kernel=poly;, score=0.750 total time= 2.1min\n",
      "[CV 4/5] END ........C=1, degree=6, kernel=poly;, score=0.740 total time= 1.8min\n",
      "[CV 5/5] END ........C=1, degree=6, kernel=poly;, score=0.746 total time= 1.8min\n",
      "[CV 1/5] END .......C=10, degree=1, kernel=poly;, score=0.764 total time=  15.5s\n"
     ]
    },
    {
     "name": "stdout",
     "output_type": "stream",
     "text": [
      "[CV 2/5] END .......C=10, degree=1, kernel=poly;, score=0.764 total time=  16.4s\n",
      "[CV 3/5] END .......C=10, degree=1, kernel=poly;, score=0.763 total time=  17.0s\n",
      "[CV 4/5] END .......C=10, degree=1, kernel=poly;, score=0.764 total time=  14.9s\n",
      "[CV 5/5] END .......C=10, degree=1, kernel=poly;, score=0.764 total time=  15.1s\n",
      "[CV 1/5] END .......C=10, degree=2, kernel=poly;, score=0.763 total time=  52.2s\n",
      "[CV 2/5] END .......C=10, degree=2, kernel=poly;, score=0.764 total time= 1.1min\n",
      "[CV 3/5] END .......C=10, degree=2, kernel=poly;, score=0.765 total time= 1.2min\n",
      "[CV 4/5] END .......C=10, degree=2, kernel=poly;, score=0.763 total time=  45.1s\n",
      "[CV 5/5] END .......C=10, degree=2, kernel=poly;, score=0.764 total time= 1.1min\n",
      "[CV 1/5] END .......C=10, degree=3, kernel=poly;, score=0.761 total time= 1.4min\n",
      "[CV 2/5] END .......C=10, degree=3, kernel=poly;, score=0.762 total time= 1.7min\n",
      "[CV 3/5] END .......C=10, degree=3, kernel=poly;, score=0.766 total time= 2.0min\n",
      "[CV 4/5] END .......C=10, degree=3, kernel=poly;, score=0.759 total time= 1.5min\n",
      "[CV 5/5] END .......C=10, degree=3, kernel=poly;, score=0.763 total time= 1.4min\n",
      "[CV 1/5] END .......C=10, degree=4, kernel=poly;, score=0.745 total time= 4.2min\n",
      "[CV 2/5] END .......C=10, degree=4, kernel=poly;, score=0.761 total time= 5.0min\n",
      "[CV 3/5] END .......C=10, degree=4, kernel=poly;, score=0.760 total time= 5.9min\n",
      "[CV 4/5] END .......C=10, degree=4, kernel=poly;, score=0.745 total time= 8.1min\n",
      "[CV 5/5] END .......C=10, degree=4, kernel=poly;, score=0.761 total time= 7.2min\n",
      "[CV 1/5] END .......C=10, degree=6, kernel=poly;, score=0.718 total time=28.9min\n",
      "[CV 2/5] END .......C=10, degree=6, kernel=poly;, score=0.712 total time=26.8min\n",
      "[CV 3/5] END .......C=10, degree=6, kernel=poly;, score=0.729 total time=55.6min\n",
      "[CV 4/5] END .......C=10, degree=6, kernel=poly;, score=0.715 total time=22.1min\n",
      "[CV 5/5] END .......C=10, degree=6, kernel=poly;, score=0.715 total time=24.7min\n",
      "[CV 1/5] END ....C=0.1, gamma=0.001, kernel=rbf;, score=0.764 total time=  24.7s\n",
      "[CV 2/5] END ....C=0.1, gamma=0.001, kernel=rbf;, score=0.764 total time=  26.0s\n",
      "[CV 3/5] END ....C=0.1, gamma=0.001, kernel=rbf;, score=0.763 total time=  27.5s\n",
      "[CV 4/5] END ....C=0.1, gamma=0.001, kernel=rbf;, score=0.764 total time=  24.0s\n",
      "[CV 5/5] END ....C=0.1, gamma=0.001, kernel=rbf;, score=0.764 total time=  32.0s\n",
      "[CV 1/5] END .....C=0.1, gamma=0.01, kernel=rbf;, score=0.764 total time=  29.0s\n",
      "[CV 2/5] END .....C=0.1, gamma=0.01, kernel=rbf;, score=0.764 total time=  27.3s\n",
      "[CV 3/5] END .....C=0.1, gamma=0.01, kernel=rbf;, score=0.763 total time=  29.5s\n",
      "[CV 4/5] END .....C=0.1, gamma=0.01, kernel=rbf;, score=0.764 total time=  27.0s\n",
      "[CV 5/5] END .....C=0.1, gamma=0.01, kernel=rbf;, score=0.764 total time=  29.0s\n",
      "[CV 1/5] END ......C=0.1, gamma=0.1, kernel=rbf;, score=0.764 total time=  30.3s\n",
      "[CV 2/5] END ......C=0.1, gamma=0.1, kernel=rbf;, score=0.764 total time=  28.9s\n",
      "[CV 3/5] END ......C=0.1, gamma=0.1, kernel=rbf;, score=0.763 total time=  21.6s\n",
      "[CV 4/5] END ......C=0.1, gamma=0.1, kernel=rbf;, score=0.764 total time=  23.7s\n",
      "[CV 5/5] END ......C=0.1, gamma=0.1, kernel=rbf;, score=0.764 total time=  32.7s\n",
      "[CV 1/5] END ........C=0.1, gamma=1, kernel=rbf;, score=0.764 total time=  39.4s\n",
      "[CV 2/5] END ........C=0.1, gamma=1, kernel=rbf;, score=0.764 total time=  30.5s\n",
      "[CV 3/5] END ........C=0.1, gamma=1, kernel=rbf;, score=0.763 total time=  29.4s\n",
      "[CV 4/5] END ........C=0.1, gamma=1, kernel=rbf;, score=0.764 total time=  34.1s\n",
      "[CV 5/5] END ........C=0.1, gamma=1, kernel=rbf;, score=0.764 total time=  50.2s\n",
      "[CV 1/5] END ....C=0.5, gamma=0.001, kernel=rbf;, score=0.764 total time=  28.7s\n",
      "[CV 2/5] END ....C=0.5, gamma=0.001, kernel=rbf;, score=0.764 total time=  27.7s\n",
      "[CV 3/5] END ....C=0.5, gamma=0.001, kernel=rbf;, score=0.763 total time=  21.6s\n",
      "[CV 4/5] END ....C=0.5, gamma=0.001, kernel=rbf;, score=0.764 total time=  21.1s\n",
      "[CV 5/5] END ....C=0.5, gamma=0.001, kernel=rbf;, score=0.764 total time=  25.2s\n",
      "[CV 1/5] END .....C=0.5, gamma=0.01, kernel=rbf;, score=0.764 total time=  23.0s\n",
      "[CV 2/5] END .....C=0.5, gamma=0.01, kernel=rbf;, score=0.764 total time=  24.8s\n",
      "[CV 3/5] END .....C=0.5, gamma=0.01, kernel=rbf;, score=0.763 total time=  24.7s\n",
      "[CV 4/5] END .....C=0.5, gamma=0.01, kernel=rbf;, score=0.764 total time=  23.5s\n",
      "[CV 5/5] END .....C=0.5, gamma=0.01, kernel=rbf;, score=0.764 total time=  25.6s\n",
      "[CV 1/5] END ......C=0.5, gamma=0.1, kernel=rbf;, score=0.764 total time=  35.6s\n",
      "[CV 2/5] END ......C=0.5, gamma=0.1, kernel=rbf;, score=0.764 total time=  25.3s\n",
      "[CV 3/5] END ......C=0.5, gamma=0.1, kernel=rbf;, score=0.763 total time=  31.7s\n",
      "[CV 4/5] END ......C=0.5, gamma=0.1, kernel=rbf;, score=0.764 total time=  26.3s\n",
      "[CV 5/5] END ......C=0.5, gamma=0.1, kernel=rbf;, score=0.764 total time=  26.3s\n",
      "[CV 1/5] END ........C=0.5, gamma=1, kernel=rbf;, score=0.764 total time=  31.8s\n",
      "[CV 2/5] END ........C=0.5, gamma=1, kernel=rbf;, score=0.764 total time=  29.6s\n",
      "[CV 3/5] END ........C=0.5, gamma=1, kernel=rbf;, score=0.763 total time=  30.4s\n",
      "[CV 4/5] END ........C=0.5, gamma=1, kernel=rbf;, score=0.764 total time=  28.1s\n",
      "[CV 5/5] END ........C=0.5, gamma=1, kernel=rbf;, score=0.764 total time=  28.6s\n",
      "[CV 1/5] END ...C=0.75, gamma=0.001, kernel=rbf;, score=0.764 total time=  19.1s\n",
      "[CV 2/5] END ...C=0.75, gamma=0.001, kernel=rbf;, score=0.764 total time=  19.4s\n",
      "[CV 3/5] END ...C=0.75, gamma=0.001, kernel=rbf;, score=0.763 total time=  18.9s\n",
      "[CV 4/5] END ...C=0.75, gamma=0.001, kernel=rbf;, score=0.764 total time=  19.7s\n",
      "[CV 5/5] END ...C=0.75, gamma=0.001, kernel=rbf;, score=0.764 total time=  19.0s\n",
      "[CV 1/5] END ....C=0.75, gamma=0.01, kernel=rbf;, score=0.764 total time=  21.6s\n",
      "[CV 2/5] END ....C=0.75, gamma=0.01, kernel=rbf;, score=0.764 total time=  21.3s\n",
      "[CV 3/5] END ....C=0.75, gamma=0.01, kernel=rbf;, score=0.763 total time=  21.1s\n",
      "[CV 4/5] END ....C=0.75, gamma=0.01, kernel=rbf;, score=0.764 total time=  21.1s\n",
      "[CV 5/5] END ....C=0.75, gamma=0.01, kernel=rbf;, score=0.764 total time=  21.9s\n",
      "[CV 1/5] END .....C=0.75, gamma=0.1, kernel=rbf;, score=0.764 total time=  28.5s\n",
      "[CV 2/5] END .....C=0.75, gamma=0.1, kernel=rbf;, score=0.764 total time=  26.3s\n",
      "[CV 3/5] END .....C=0.75, gamma=0.1, kernel=rbf;, score=0.763 total time=  27.3s\n",
      "[CV 4/5] END .....C=0.75, gamma=0.1, kernel=rbf;, score=0.764 total time=  26.9s\n",
      "[CV 5/5] END .....C=0.75, gamma=0.1, kernel=rbf;, score=0.764 total time=  27.2s\n",
      "[CV 1/5] END .......C=0.75, gamma=1, kernel=rbf;, score=0.764 total time=  29.4s\n",
      "[CV 2/5] END .......C=0.75, gamma=1, kernel=rbf;, score=0.765 total time=  30.8s\n",
      "[CV 3/5] END .......C=0.75, gamma=1, kernel=rbf;, score=0.763 total time=  31.7s\n",
      "[CV 4/5] END .......C=0.75, gamma=1, kernel=rbf;, score=0.764 total time=  28.3s\n",
      "[CV 5/5] END .......C=0.75, gamma=1, kernel=rbf;, score=0.764 total time=  29.5s\n",
      "[CV 1/5] END ......C=1, gamma=0.001, kernel=rbf;, score=0.764 total time=  20.1s\n",
      "[CV 2/5] END ......C=1, gamma=0.001, kernel=rbf;, score=0.764 total time=  19.2s\n",
      "[CV 3/5] END ......C=1, gamma=0.001, kernel=rbf;, score=0.763 total time=  19.2s\n",
      "[CV 4/5] END ......C=1, gamma=0.001, kernel=rbf;, score=0.764 total time=  19.5s\n",
      "[CV 5/5] END ......C=1, gamma=0.001, kernel=rbf;, score=0.764 total time=  18.5s\n",
      "[CV 1/5] END .......C=1, gamma=0.01, kernel=rbf;, score=0.764 total time=  21.1s\n",
      "[CV 2/5] END .......C=1, gamma=0.01, kernel=rbf;, score=0.764 total time=  21.4s\n",
      "[CV 3/5] END .......C=1, gamma=0.01, kernel=rbf;, score=0.763 total time=  21.3s\n",
      "[CV 4/5] END .......C=1, gamma=0.01, kernel=rbf;, score=0.764 total time=  20.9s\n",
      "[CV 5/5] END .......C=1, gamma=0.01, kernel=rbf;, score=0.764 total time=  20.8s\n",
      "[CV 1/5] END ........C=1, gamma=0.1, kernel=rbf;, score=0.764 total time=  29.5s\n",
      "[CV 2/5] END ........C=1, gamma=0.1, kernel=rbf;, score=0.764 total time=  28.9s\n",
      "[CV 3/5] END ........C=1, gamma=0.1, kernel=rbf;, score=0.763 total time=  26.5s\n",
      "[CV 4/5] END ........C=1, gamma=0.1, kernel=rbf;, score=0.764 total time=  28.3s\n",
      "[CV 5/5] END ........C=1, gamma=0.1, kernel=rbf;, score=0.764 total time=  26.9s\n",
      "[CV 1/5] END ..........C=1, gamma=1, kernel=rbf;, score=0.765 total time=  30.7s\n",
      "[CV 2/5] END ..........C=1, gamma=1, kernel=rbf;, score=0.764 total time=  31.2s\n",
      "[CV 3/5] END ..........C=1, gamma=1, kernel=rbf;, score=0.763 total time=  32.0s\n"
     ]
    },
    {
     "name": "stdout",
     "output_type": "stream",
     "text": [
      "[CV 4/5] END ..........C=1, gamma=1, kernel=rbf;, score=0.764 total time=  30.4s\n",
      "[CV 5/5] END ..........C=1, gamma=1, kernel=rbf;, score=0.764 total time=  31.2s\n",
      "[CV 1/5] END .....C=10, gamma=0.001, kernel=rbf;, score=0.764 total time=  25.4s\n",
      "[CV 2/5] END .....C=10, gamma=0.001, kernel=rbf;, score=0.764 total time=  26.8s\n",
      "[CV 3/5] END .....C=10, gamma=0.001, kernel=rbf;, score=0.763 total time=  25.6s\n",
      "[CV 4/5] END .....C=10, gamma=0.001, kernel=rbf;, score=0.764 total time=  24.1s\n",
      "[CV 5/5] END .....C=10, gamma=0.001, kernel=rbf;, score=0.764 total time=  25.6s\n",
      "[CV 1/5] END ......C=10, gamma=0.01, kernel=rbf;, score=0.764 total time=  29.6s\n",
      "[CV 2/5] END ......C=10, gamma=0.01, kernel=rbf;, score=0.764 total time=  25.3s\n",
      "[CV 3/5] END ......C=10, gamma=0.01, kernel=rbf;, score=0.763 total time=  26.4s\n",
      "[CV 4/5] END ......C=10, gamma=0.01, kernel=rbf;, score=0.764 total time=  25.5s\n",
      "[CV 5/5] END ......C=10, gamma=0.01, kernel=rbf;, score=0.764 total time=  25.2s\n",
      "[CV 1/5] END .......C=10, gamma=0.1, kernel=rbf;, score=0.764 total time=  39.9s\n",
      "[CV 2/5] END .......C=10, gamma=0.1, kernel=rbf;, score=0.764 total time=  44.9s\n",
      "[CV 3/5] END .......C=10, gamma=0.1, kernel=rbf;, score=0.763 total time=  46.0s\n",
      "[CV 4/5] END .......C=10, gamma=0.1, kernel=rbf;, score=0.764 total time=  37.6s\n",
      "[CV 5/5] END .......C=10, gamma=0.1, kernel=rbf;, score=0.764 total time=  42.2s\n",
      "[CV 1/5] END .........C=10, gamma=1, kernel=rbf;, score=0.765 total time=  37.6s\n",
      "[CV 2/5] END .........C=10, gamma=1, kernel=rbf;, score=0.763 total time=  40.0s\n",
      "[CV 3/5] END .........C=10, gamma=1, kernel=rbf;, score=0.770 total time=  40.4s\n",
      "[CV 4/5] END .........C=10, gamma=1, kernel=rbf;, score=0.765 total time=  39.7s\n",
      "[CV 5/5] END .........C=10, gamma=1, kernel=rbf;, score=0.765 total time=  37.4s\n"
     ]
    },
    {
     "data": {
      "text/plain": [
       "GridSearchCV(estimator=SVC(),\n",
       "             param_grid=[{'C': [0.1, 0.5, 0.75, 1, 10],\n",
       "                          'degree': [1, 2, 3, 4, 6], 'kernel': ['poly']},\n",
       "                         {'C': [0.1, 0.5, 0.75, 1, 10],\n",
       "                          'gamma': [0.001, 0.01, 0.1, 1], 'kernel': ['rbf']}],\n",
       "             verbose=3)"
      ]
     },
     "execution_count": 8,
     "metadata": {},
     "output_type": "execute_result"
    }
   ],
   "source": [
    "gs48.fit(X_train48, y_train48)"
   ]
  },
  {
   "cell_type": "code",
   "execution_count": 9,
   "id": "80978c87",
   "metadata": {},
   "outputs": [
    {
     "name": "stdout",
     "output_type": "stream",
     "text": [
      "The best parameters found for the 48h DCW:\n",
      "{'C': 10, 'gamma': 1, 'kernel': 'rbf'}\n",
      "The best estimator found for the 48h DCW:\n",
      "SVC(C=10, gamma=1)\n"
     ]
    }
   ],
   "source": [
    "print(\"The best parameters found for the 48h DCW:\")\n",
    "print(gs48.best_params_)\n",
    "  \n",
    "#PRINT HOW OUR MODEL LOOKS AFTER HYPER-PARAMETER TUNING\n",
    "print(\"The best estimator found for the 48h DCW:\")\n",
    "print(gs48.best_estimator_)"
   ]
  },
  {
   "cell_type": "code",
   "execution_count": 6,
   "id": "9ff072f2",
   "metadata": {},
   "outputs": [],
   "source": [
    "best24 = svm.SVC(C=10, gamma=1, kernel = 'rbf')\n",
    "best48 = svm.SVC(C = 10, gamma=1, kernel = 'rbf', )"
   ]
  },
  {
   "cell_type": "code",
   "execution_count": 11,
   "id": "cb392f5f",
   "metadata": {},
   "outputs": [
    {
     "name": "stderr",
     "output_type": "stream",
     "text": [
      "[Parallel(n_jobs=1)]: Using backend SequentialBackend with 1 concurrent workers.\n",
      "[Parallel(n_jobs=1)]: Done   1 out of   1 | elapsed:  3.7min remaining:    0.0s\n",
      "[Parallel(n_jobs=1)]: Done   2 out of   2 | elapsed:  7.8min remaining:    0.0s\n",
      "[Parallel(n_jobs=1)]: Done   5 out of   5 | elapsed: 22.2min finished\n"
     ]
    }
   ],
   "source": [
    "y_pred24 = cross_val_predict(best24, X24, Y24, cv = 5, verbose = 3)"
   ]
  },
  {
   "cell_type": "code",
   "execution_count": 12,
   "id": "173f712d",
   "metadata": {},
   "outputs": [
    {
     "name": "stderr",
     "output_type": "stream",
     "text": [
      "[Parallel(n_jobs=1)]: Using backend SequentialBackend with 1 concurrent workers.\n",
      "[Parallel(n_jobs=1)]: Done   1 out of   1 | elapsed:  1.3min remaining:    0.0s\n",
      "[Parallel(n_jobs=1)]: Done   2 out of   2 | elapsed:  3.0min remaining:    0.0s\n",
      "[Parallel(n_jobs=1)]: Done   5 out of   5 | elapsed:  8.4min finished\n"
     ]
    }
   ],
   "source": [
    "y_pred48 = cross_val_predict(best48, X48, Y48, cv = 5, verbose = 3)"
   ]
  },
  {
   "cell_type": "code",
   "execution_count": 13,
   "id": "692e3551",
   "metadata": {},
   "outputs": [
    {
     "name": "stdout",
     "output_type": "stream",
     "text": [
      "              precision    recall  f1-score   support\n",
      "\n",
      "           0       0.71      0.98      0.83     10761\n",
      "           1       0.56      0.07      0.12      4521\n",
      "\n",
      "    accuracy                           0.71     15282\n",
      "   macro avg       0.64      0.52      0.47     15282\n",
      "weighted avg       0.67      0.71      0.62     15282\n",
      "\n"
     ]
    }
   ],
   "source": [
    "#CLASSIFICATION REPORT 24H\n",
    "print(classification_report(Y24, y_pred24))"
   ]
  },
  {
   "cell_type": "code",
   "execution_count": 14,
   "id": "f80c087e",
   "metadata": {},
   "outputs": [
    {
     "name": "stdout",
     "output_type": "stream",
     "text": [
      "              precision    recall  f1-score   support\n",
      "\n",
      "           0       0.77      0.99      0.87      6021\n",
      "           1       0.51      0.04      0.08      1841\n",
      "\n",
      "    accuracy                           0.77      7862\n",
      "   macro avg       0.64      0.51      0.47      7862\n",
      "weighted avg       0.71      0.77      0.68      7862\n",
      "\n"
     ]
    }
   ],
   "source": [
    "#CLASSIFICATION REPORT 48H\n",
    "print(classification_report(Y48, y_pred48))"
   ]
  },
  {
   "cell_type": "code",
   "execution_count": 18,
   "id": "7fe7f751",
   "metadata": {},
   "outputs": [
    {
     "name": "stdout",
     "output_type": "stream",
     "text": [
      "Elapsed time to compute the importances: 0.100 seconds\n"
     ]
    },
    {
     "data": {
      "image/png": "[encoded data removed]",
      "text/plain": [
       "<Figure size 432x288 with 1 Axes>"
      ]
     },
     "metadata": {
      "needs_background": "light"
     },
     "output_type": "display_data"
    }
   ],
   "source": [
    "from sklearn.ensemble import RandomForestClassifier\n",
    "import matplotlib.pyplot as plt\n",
    "\n",
    "#FEATURES SELECTION BASED ON THEIR IMPORTANCE WITH A RANDOM FOREST CLASSIFIER \n",
    "feature_names24 = [f'feature {i}' for i in range(X24.shape[1])]\n",
    "forest = RandomForestClassifier(random_state=0)\n",
    "forest.fit(X_train24, y_train24)\n",
    "\n",
    "import time\n",
    "\n",
    "start_time24 = time.time()\n",
    "importances24 = forest.feature_importances_\n",
    "std = np.std([\n",
    "    tree.feature_importances_ for tree in forest.estimators_], axis=0)\n",
    "elapsed_time24 = time.time() - start_time24\n",
    "\n",
    "print(f\"Elapsed time to compute the importances: \"\n",
    "      f\"{elapsed_time24:.3f} seconds\")\n",
    "\n",
    "forest_importances24 = pd.Series(importances24, index=lab24.columns[2:])\n",
    "\n",
    "fig, ax = plt.subplots()\n",
    "forest_importances24.plot.bar(yerr=std, ax=ax)\n",
    "ax.set_title(\"Feature importances using MDI\")\n",
    "ax.set_ylabel(\"Mean decrease in impurity\")\n",
    "fig.tight_layout()\n"
   ]
  },
  {
   "cell_type": "code",
   "execution_count": 19,
   "id": "89385dab",
   "metadata": {},
   "outputs": [
    {
     "name": "stdout",
     "output_type": "stream",
     "text": [
      "Feature: 0, Score: 0.02791\n",
      "Feature: 1, Score: 0.02308\n",
      "Feature: 2, Score: 0.02437\n",
      "Feature: 3, Score: 0.00669\n",
      "Feature: 4, Score: 0.03211\n",
      "Feature: 5, Score: 0.02930\n",
      "Feature: 6, Score: 0.02979\n",
      "Feature: 7, Score: 0.00616\n",
      "Feature: 8, Score: 0.03040\n",
      "Feature: 9, Score: 0.02684\n",
      "Feature: 10, Score: 0.02570\n",
      "Feature: 11, Score: 0.00954\n",
      "Feature: 12, Score: 0.03338\n",
      "Feature: 13, Score: 0.02894\n",
      "Feature: 14, Score: 0.02666\n",
      "Feature: 15, Score: 0.00634\n",
      "Feature: 16, Score: 0.02416\n",
      "Feature: 17, Score: 0.01773\n",
      "Feature: 18, Score: 0.02099\n",
      "Feature: 19, Score: 0.00898\n",
      "Feature: 20, Score: 0.03581\n",
      "Feature: 21, Score: 0.03523\n",
      "Feature: 22, Score: 0.03678\n",
      "Feature: 23, Score: 0.00976\n",
      "Feature: 24, Score: 0.03290\n",
      "Feature: 25, Score: 0.02904\n",
      "Feature: 26, Score: 0.02910\n",
      "Feature: 27, Score: 0.01995\n",
      "Feature: 28, Score: 0.03707\n",
      "Feature: 29, Score: 0.03689\n",
      "Feature: 30, Score: 0.03793\n",
      "Feature: 31, Score: 0.00968\n",
      "Feature: 32, Score: 0.03536\n",
      "Feature: 33, Score: 0.03471\n",
      "Feature: 34, Score: 0.03547\n",
      "Feature: 35, Score: 0.00831\n",
      "Feature: 36, Score: 0.03098\n",
      "Feature: 37, Score: 0.02977\n",
      "Feature: 38, Score: 0.02863\n",
      "Feature: 39, Score: 0.00755\n"
     ]
    }
   ],
   "source": [
    "for i,v in enumerate(importances24):\n",
    "    print('Feature: %0d, Score: %.5f' % (i,v))"
   ]
  },
  {
   "cell_type": "code",
   "execution_count": 21,
   "id": "aa7285e0",
   "metadata": {},
   "outputs": [
    {
     "name": "stdout",
     "output_type": "stream",
     "text": [
      "Elapsed time to compute the importances: 0.080 seconds\n"
     ]
    },
    {
     "data": {
      "image/png": "[encoded data removed]",
      "text/plain": [
       "<Figure size 432x288 with 1 Axes>"
      ]
     },
     "metadata": {
      "needs_background": "light"
     },
     "output_type": "display_data"
    }
   ],
   "source": [
    "#DO IT FOR THE 48H DCW NOW\n",
    "feature_names48 = [f'feature {i}' for i in range(X48.shape[1])]\n",
    "#forest = RandomForestClassifier(random_state=0)\n",
    "forest.fit(X_train48, y_train48)\n",
    "\n",
    "start_time48 = time.time()\n",
    "importances48 = forest.feature_importances_\n",
    "std = np.std([\n",
    "    tree.feature_importances_ for tree in forest.estimators_], axis=0)\n",
    "elapsed_time48 = time.time() - start_time48\n",
    "\n",
    "print(f\"Elapsed time to compute the importances: \"\n",
    "      f\"{elapsed_time48:.3f} seconds\")\n",
    "\n",
    "forest_importances48 = pd.Series(importances48, index=lab48.columns[2:])\n",
    "\n",
    "fig, ax = plt.subplots()\n",
    "forest_importances48.plot.bar(yerr=std, ax=ax)\n",
    "ax.set_title(\"Feature importances using MDI\")\n",
    "ax.set_ylabel(\"Mean decrease in impurity\")\n",
    "fig.tight_layout()\n"
   ]
  },
  {
   "cell_type": "code",
   "execution_count": 22,
   "id": "b064c824",
   "metadata": {},
   "outputs": [
    {
     "name": "stdout",
     "output_type": "stream",
     "text": [
      "Feature: 0, Score: 0.02890\n",
      "Feature: 1, Score: 0.02305\n",
      "Feature: 2, Score: 0.02286\n",
      "Feature: 3, Score: 0.00902\n",
      "Feature: 4, Score: 0.03268\n",
      "Feature: 5, Score: 0.02715\n",
      "Feature: 6, Score: 0.02974\n",
      "Feature: 7, Score: 0.00896\n",
      "Feature: 8, Score: 0.03247\n",
      "Feature: 9, Score: 0.02620\n",
      "Feature: 10, Score: 0.02520\n",
      "Feature: 11, Score: 0.01257\n",
      "Feature: 12, Score: 0.03446\n",
      "Feature: 13, Score: 0.02369\n",
      "Feature: 14, Score: 0.02694\n",
      "Feature: 15, Score: 0.00863\n",
      "Feature: 16, Score: 0.02577\n",
      "Feature: 17, Score: 0.01710\n",
      "Feature: 18, Score: 0.02029\n",
      "Feature: 19, Score: 0.01311\n",
      "Feature: 20, Score: 0.03285\n",
      "Feature: 21, Score: 0.03436\n",
      "Feature: 22, Score: 0.03305\n",
      "Feature: 23, Score: 0.01262\n",
      "Feature: 24, Score: 0.03131\n",
      "Feature: 25, Score: 0.02544\n",
      "Feature: 26, Score: 0.02659\n",
      "Feature: 27, Score: 0.02493\n",
      "Feature: 28, Score: 0.03560\n",
      "Feature: 29, Score: 0.03489\n",
      "Feature: 30, Score: 0.03259\n",
      "Feature: 31, Score: 0.01332\n",
      "Feature: 32, Score: 0.03405\n",
      "Feature: 33, Score: 0.03642\n",
      "Feature: 34, Score: 0.03314\n",
      "Feature: 35, Score: 0.01170\n",
      "Feature: 36, Score: 0.03104\n",
      "Feature: 37, Score: 0.02803\n",
      "Feature: 38, Score: 0.02749\n",
      "Feature: 39, Score: 0.01179\n"
     ]
    }
   ],
   "source": [
    "for i,v in enumerate(importances48):\n",
    "    print('Feature: %0d, Score: %.5f' % (i,v))"
   ]
  },
  {
   "cell_type": "markdown",
   "id": "71108e09",
   "metadata": {},
   "source": [
    "### Apply the cross_validate( ) function now:"
   ]
  },
  {
   "cell_type": "code",
   "execution_count": 7,
   "id": "9a3a0b96",
   "metadata": {},
   "outputs": [],
   "source": [
    "#DEFINE THE METRICS \n",
    "scoring=['accuracy','precision','recall', 'roc_auc', 'f1']"
   ]
  },
  {
   "cell_type": "code",
   "execution_count": 8,
   "id": "bf68eda4",
   "metadata": {},
   "outputs": [],
   "source": [
    "p24 = Pipeline(steps=[('r', resample), ('m', best24)])\n",
    "\n",
    "scores24 = cross_validate(p24, X24, Y24, scoring = scoring, cv = 5)"
   ]
  },
  {
   "cell_type": "code",
   "execution_count": 9,
   "id": "9b842726",
   "metadata": {},
   "outputs": [
    {
     "data": {
      "text/plain": [
       "0.6343407414448343"
      ]
     },
     "execution_count": 9,
     "metadata": {},
     "output_type": "execute_result"
    }
   ],
   "source": [
    "scores24['test_accuracy'].mean()"
   ]
  },
  {
   "cell_type": "code",
   "execution_count": 10,
   "id": "5be7f771",
   "metadata": {},
   "outputs": [
    {
     "data": {
      "text/plain": [
       "0.4015469113023187"
      ]
     },
     "execution_count": 10,
     "metadata": {},
     "output_type": "execute_result"
    }
   ],
   "source": [
    "scores24['test_precision'].mean()"
   ]
  },
  {
   "cell_type": "code",
   "execution_count": 11,
   "id": "fb19d7b3",
   "metadata": {},
   "outputs": [
    {
     "data": {
      "text/plain": [
       "0.4810856598054075"
      ]
     },
     "execution_count": 11,
     "metadata": {},
     "output_type": "execute_result"
    }
   ],
   "source": [
    "scores24['test_recall'].mean()"
   ]
  },
  {
   "cell_type": "code",
   "execution_count": 12,
   "id": "34b6194f",
   "metadata": {},
   "outputs": [
    {
     "data": {
      "text/plain": [
       "0.4377231710170533"
      ]
     },
     "execution_count": 12,
     "metadata": {},
     "output_type": "execute_result"
    }
   ],
   "source": [
    "scores24['test_f1'].mean()"
   ]
  },
  {
   "cell_type": "code",
   "execution_count": 13,
   "id": "bd6bc37c",
   "metadata": {},
   "outputs": [
    {
     "data": {
      "text/plain": [
       "0.6208475242798951"
      ]
     },
     "execution_count": 13,
     "metadata": {},
     "output_type": "execute_result"
    }
   ],
   "source": [
    "scores24['test_roc_auc'].mean()"
   ]
  },
  {
   "cell_type": "code",
   "execution_count": 14,
   "id": "dd3d3870",
   "metadata": {},
   "outputs": [],
   "source": [
    "p48 = Pipeline(steps=[('r', resample), ('m', best48)])\n",
    "\n",
    "scores48 = cross_validate(p48, X48, Y48, scoring = scoring, cv = 5)"
   ]
  },
  {
   "cell_type": "code",
   "execution_count": 15,
   "id": "6bceb6eb",
   "metadata": {},
   "outputs": [
    {
     "data": {
      "text/plain": [
       "0.6195629491951491"
      ]
     },
     "execution_count": 15,
     "metadata": {},
     "output_type": "execute_result"
    }
   ],
   "source": [
    "scores48['test_accuracy'].mean()"
   ]
  },
  {
   "cell_type": "code",
   "execution_count": 16,
   "id": "5aeeb0d8",
   "metadata": {},
   "outputs": [
    {
     "data": {
      "text/plain": [
       "0.29828460060874606"
      ]
     },
     "execution_count": 16,
     "metadata": {},
     "output_type": "execute_result"
    }
   ],
   "source": [
    "scores48['test_precision'].mean()"
   ]
  },
  {
   "cell_type": "code",
   "execution_count": 17,
   "id": "6fecd660",
   "metadata": {},
   "outputs": [
    {
     "data": {
      "text/plain": [
       "0.46225550842464946"
      ]
     },
     "execution_count": 17,
     "metadata": {},
     "output_type": "execute_result"
    }
   ],
   "source": [
    "scores48['test_recall'].mean()"
   ]
  },
  {
   "cell_type": "code",
   "execution_count": 18,
   "id": "8d71dd7c",
   "metadata": {},
   "outputs": [
    {
     "data": {
      "text/plain": [
       "0.36249293384626824"
      ]
     },
     "execution_count": 18,
     "metadata": {},
     "output_type": "execute_result"
    }
   ],
   "source": [
    "scores48['test_f1'].mean()"
   ]
  },
  {
   "cell_type": "code",
   "execution_count": 19,
   "id": "acc75125",
   "metadata": {},
   "outputs": [
    {
     "data": {
      "text/plain": [
       "0.5772815220103453"
      ]
     },
     "execution_count": 19,
     "metadata": {},
     "output_type": "execute_result"
    }
   ],
   "source": [
    "scores48['test_roc_auc'].mean()"
   ]
  },
  {
   "cell_type": "code",
   "execution_count": null,
   "id": "1ab7fb7d",
   "metadata": {},
   "outputs": [],
   "source": []
  }
 ],
 "metadata": {
  "kernelspec": {
   "display_name": "Python 3",
   "language": "python",
   "name": "python3"
  },
  "language_info": {
   "codemirror_mode": {
    "name": "ipython",
    "version": 3
   },
   "file_extension": ".py",
   "mimetype": "text/x-python",
   "name": "python",
   "nbconvert_exporter": "python",
   "pygments_lexer": "ipython3",
   "version": "3.9.2"
  }
 },
 "nbformat": 4,
 "nbformat_minor": 5
}
